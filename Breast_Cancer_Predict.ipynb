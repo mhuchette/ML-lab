{
 "cells": [
  {
   "cell_type": "markdown",
   "metadata": {},
   "source": [
    "# Machine Learning with Spark ML\n",
    "\n",
    "### In this notebook, we will explore machine learning using Spark ML. We will exploit Spark ML's high-level APIs built on top of DataFrames to create and tune machine learning pipelines. Spark ML Pipelines enable combining multiple algorithms into a single pipeline or workflow. We will utilize Spark ML's feature transformers to convert, modify and scale the features that will be used to develop the machine learning model. Finally, we will evaluate and cross validate our model to demonstrate the process of determining a best fit model and load the results in the database.\n",
    "\n",
    "### We are using machine learning to try to predict diagnoses of breast cancer tumors. We will use data on tumors that have already been diagnosed as benign or malignant a training set for the algorithm .¶"
   ]
  },
  {
   "cell_type": "markdown",
   "metadata": {},
   "source": [
    "## Table of Contents \n",
    "1. [Create Version](#version)\n",
    "2. [Import Libraries](#import)\n",
    "3. [Read from Cloud Object Storage](#read)\n",
    "4. [Transform data](#transform)\n",
    "5. [PixieDust](#pixie)\n",
    "6. [Feature Engineering](#engineer)\n",
    "7. [Define Model](#model)\n",
    "8. [Create pipeline](#pipeline)\n",
    "9. [Train the Model](#train)\n",
    "10. [Evaluate accuracy of the model](#evaluate)\n",
    "11. [Hyperparameter Tuning](#tuning)\n",
    "12. [Choose and Utilize the best-fit model](#best)"
   ]
  },
  {
   "attachments": {},
   "cell_type": "markdown",
   "metadata": {},
   "source": [
    "<a id=\"version\"></a>\n",
    "## Create Version \n",
    "Save a version of the notebook by selecting <b>File</b> > <b>Save Version</b> \n",
    "<img alt=\"IBM Bluemix.Get started now\" src=\"https://raw.githubusercontent.com/jpatter/LMCO/master/Lab-1/images/FileOptions.PNG\" > or by selecting the <b>Versions</b> icon and selecting <b>Save Version</b>. <img alt=\"IBM Bluemix.Get started now\" src=\"https://raw.githubusercontent.com/jpatter/LMCO/master/Lab-1/images/versions-button.png\" ><br>\n",
    "You can have up to ten (10) versions of a notebook.   Notebook versions are saved in a FIFO manner."
   ]
  },
  {
   "cell_type": "markdown",
   "metadata": {},
   "source": [
    "## Ensure Spark is installed and up to date "
   ]
  },
  {
   "cell_type": "code",
   "execution_count": 1,
   "metadata": {},
   "outputs": [
    {
     "name": "stdout",
     "output_type": "stream",
     "text": [
      "The spark version is 2.1.2.\n"
     ]
    }
   ],
   "source": [
    "print('The spark version is {}.'.format(spark.version))"
   ]
  },
  {
   "cell_type": "markdown",
   "metadata": {},
   "source": [
    "<a id=\"import\"></a>\n",
    "## Import the required libraries "
   ]
  },
  {
   "cell_type": "code",
   "execution_count": 2,
   "metadata": {},
   "outputs": [
    {
     "name": "stdout",
     "output_type": "stream",
     "text": [
      "Pixiedust database opened successfully\n"
     ]
    },
    {
     "data": {
      "text/html": [
       "\n",
       "        <div style=\"margin:10px\">\n",
       "            <a href=\"https://github.com/ibm-watson-data-lab/pixiedust\" target=\"_new\">\n",
       "                <img src=\"https://github.com/ibm-watson-data-lab/pixiedust/raw/master/docs/_static/pd_icon32.png\" style=\"float:left;margin-right:10px\"/>\n",
       "            </a>\n",
       "            <span>Pixiedust version 1.1.11</span>\n",
       "        </div>\n",
       "        "
      ],
      "text/plain": [
       "<IPython.core.display.HTML object>"
      ]
     },
     "metadata": {},
     "output_type": "display_data"
    }
   ],
   "source": [
    "#Imports for Spark\n",
    "from pyspark.ml.feature import StringIndexer, IndexToString\n",
    "from pyspark.ml.feature import Bucketizer\n",
    "from pyspark.mllib.linalg import Vectors\n",
    "from pyspark.ml.feature import VectorAssembler\n",
    "from pyspark.ml import Pipeline\n",
    "from pyspark.ml.feature import Normalizer\n",
    "from pyspark.ml.classification import LogisticRegression\n",
    "from pyspark.ml.evaluation import BinaryClassificationEvaluator\n",
    "from pyspark.ml.tuning import ParamGridBuilder, CrossValidator\n",
    "from pyspark.ml.classification import NaiveBayes, DecisionTreeClassifier\n",
    "from pyspark.sql.functions import year\n",
    "from pyspark.ml.tuning import ParamGridBuilder, CrossValidator\n",
    "from pyspark.mllib.tree import DecisionTree, DecisionTreeModel\n",
    "from pyspark.mllib.util import MLUtils\n",
    "\n",
    "# Imports for pixiedust\n",
    "from pixiedust.display import *"
   ]
  },
  {
   "cell_type": "markdown",
   "metadata": {},
   "source": [
    "<a id=\"read\"></a>\n",
    "## Read from Cloud Object Storage"
   ]
  },
  {
   "cell_type": "code",
   "execution_count": 3,
   "metadata": {},
   "outputs": [
    {
     "data": {
      "text/plain": [
       "[Row(id='1', diagnosis='M', radius_mean='17.99', texture_mean='10.38', perimeter_mean='122.8', area_mean='1001', smoothness_mean='0.1184', compactness_mean='0.2776', concavity_mean='0.3001', concave points_mean='0.1471', symmetry_mean='0.2419', fractal_dimension_mean='0.07871', radius_se='1.095', texture_se='0.9053', perimeter_se='8.589', area_se='153.4', smoothness_se='0.006399', compactness_se='0.04904', concavity_se='0.05373', concave points_se='0.01587', symmetry_se='0.03003', fractal_dimension_se='0.006193', radius_worst='25.38', texture_worst='17.33', perimeter_worst='184.6', area_worst='2019', smoothness_worst='0.1622', compactness_worst='0.6656', concavity_worst='0.7119', concave points_worst='0.2654', symmetry_worst='0.4601', fractal_dimension_worst='0.1189'),\n",
       " Row(id='2', diagnosis='M', radius_mean='20.57', texture_mean='17.77', perimeter_mean='132.9', area_mean='1326', smoothness_mean='0.08474', compactness_mean='0.07864', concavity_mean='0.0869', concave points_mean='0.07017', symmetry_mean='0.1812', fractal_dimension_mean='0.05667', radius_se='0.5435', texture_se='0.7339', perimeter_se='3.398', area_se='74.08', smoothness_se='0.005225', compactness_se='0.01308', concavity_se='0.0186', concave points_se='0.0134', symmetry_se='0.01389', fractal_dimension_se='0.003532', radius_worst='24.99', texture_worst='23.41', perimeter_worst='158.8', area_worst='1956', smoothness_worst='0.1238', compactness_worst='0.1866', concavity_worst='0.2416', concave points_worst='0.186', symmetry_worst='0.275', fractal_dimension_worst='0.08902'),\n",
       " Row(id='3', diagnosis='M', radius_mean='19.69', texture_mean='21.25', perimeter_mean='130', area_mean='1203', smoothness_mean='0.1096', compactness_mean='0.1599', concavity_mean='0.1974', concave points_mean='0.1279', symmetry_mean='0.2069', fractal_dimension_mean='0.05999', radius_se='0.7456', texture_se='0.7869', perimeter_se='4.585', area_se='94.03', smoothness_se='0.00615', compactness_se='0.04006', concavity_se='0.03832', concave points_se='0.02058', symmetry_se='0.0225', fractal_dimension_se='0.004571', radius_worst='23.57', texture_worst='25.53', perimeter_worst='152.5', area_worst='1709', smoothness_worst='0.1444', compactness_worst='0.4245', concavity_worst='0.4504', concave points_worst='0.243', symmetry_worst='0.3613', fractal_dimension_worst='0.08758'),\n",
       " Row(id='4', diagnosis='M', radius_mean='11.42', texture_mean='20.38', perimeter_mean='77.58', area_mean='386.1', smoothness_mean='0.1425', compactness_mean='0.2839', concavity_mean='0.2414', concave points_mean='0.1052', symmetry_mean='0.2597', fractal_dimension_mean='0.09744', radius_se='0.4956', texture_se='1.156', perimeter_se='3.445', area_se='27.23', smoothness_se='0.00911', compactness_se='0.07458', concavity_se='0.05661', concave points_se='0.01867', symmetry_se='0.05963', fractal_dimension_se='0.009208', radius_worst='14.91', texture_worst='26.5', perimeter_worst='98.87', area_worst='567.7', smoothness_worst='0.2098', compactness_worst='0.8663', concavity_worst='0.6869', concave points_worst='0.2575', symmetry_worst='0.6638', fractal_dimension_worst='0.173'),\n",
       " Row(id='5', diagnosis='M', radius_mean='20.29', texture_mean='14.34', perimeter_mean='135.1', area_mean='1297', smoothness_mean='0.1003', compactness_mean='0.1328', concavity_mean='0.198', concave points_mean='0.1043', symmetry_mean='0.1809', fractal_dimension_mean='0.05883', radius_se='0.7572', texture_se='0.7813', perimeter_se='5.438', area_se='94.44', smoothness_se='0.01149', compactness_se='0.02461', concavity_se='0.05688', concave points_se='0.01885', symmetry_se='0.01756', fractal_dimension_se='0.005115', radius_worst='22.54', texture_worst='16.67', perimeter_worst='152.2', area_worst='1575', smoothness_worst='0.1374', compactness_worst='0.205', concavity_worst='0.4', concave points_worst='0.1625', symmetry_worst='0.2364', fractal_dimension_worst='0.07678')]"
      ]
     },
     "execution_count": 3,
     "metadata": {},
     "output_type": "execute_result"
    }
   ],
   "source": [
    "# Insert SparkSession DataFrame here\n",
    "# make CERTAIN to rename the default dataframe name to cancer_df\n",
    "import ibmos2spark\n",
    "\n",
    "# @hidden_cell\n",
    "credentials = {\n",
    "    'endpoint': 'https://s3-api.us-geo.objectstorage.service.networklayer.com',\n",
    "    'api_key': '54eK5hQft9uVYbrpsxfWs4Tdgw8sbc8weZndKdj8iwhj',\n",
    "    'service_id': 'iam-ServiceId-e54eecd9-137d-44ca-b6d3-87b14b0ad21a',\n",
    "    'iam_service_endpoint': 'https://iam.ng.bluemix.net/oidc/token'}\n",
    "\n",
    "configuration_name = 'os_af2c2a9305dd4cc6a1ce91fbe599e4bb_configs'\n",
    "cos = ibmos2spark.CloudObjectStorage(sc, credentials, configuration_name, 'bluemix_cos')\n",
    "\n",
    "from pyspark.sql import SparkSession\n",
    "spark = SparkSession.builder.getOrCreate()\n",
    "cancer_df = spark.read\\\n",
    "  .format('org.apache.spark.sql.execution.datasources.csv.CSVFileFormat')\\\n",
    "  .option('header', 'true')\\\n",
    "  .load(cos.url('cancer_data.csv', 'mlproject-donotdelete-pr-rwqegunlryj5yq'))\n",
    "cancer_df.take(5)\n"
   ]
  },
  {
   "cell_type": "markdown",
   "metadata": {},
   "source": [
    "<a id=\"transform\"></a>\n",
    "## Identify labels and features to transform\n",
    "A label is the output of an ML model. Since we are creating a model to predict whether a tumor is malignant or benign our label will be \"diagnosis\".  \n",
    "\n",
    "A feature is an input of the ML model, in this case the columns that we are using to help predict the diagnosis of a tumor. We will need to tranform each feature into a double so that it can be used properly later on to create train and test the model.\n",
    "\n",
    "Spark uses Resilient Distributed Datasets (RDDs) which are immutable, meaning if we need to transform a column of the dataframe we must create a new RDD each time we perform a transformation. We can do so using withColumn() and because each feature must be cast as a double we need to transform each feature column."
   ]
  },
  {
   "cell_type": "code",
   "execution_count": 4,
   "metadata": {
    "pixiedust": {
     "displayParams": {
      "color": "diagnosis",
      "handlerId": "scatterPlot",
      "keyFields": "id",
      "rowCount": "1000",
      "table_showrows": "All",
      "valueFields": "area_mean"
     }
    }
   },
   "outputs": [],
   "source": [
    "df_cols = [\"radius_mean\",\"texture_mean\",\"perimeter_mean\",\"area_mean\",\"smoothness_mean\",\"compactness_mean\",\"concavity_mean\",\"concave points_mean\",\"symmetry_mean\",\"fractal_dimension_mean\",\"radius_se\",\"texture_se\",\"perimeter_se\",\"area_se\",\"smoothness_se\",\"compactness_se\",\"concavity_se\",\"concave points_se\",\"symmetry_se\",\"fractal_dimension_se\",\"radius_worst\",\"texture_worst\",\"perimeter_worst\",\"area_worst\",\"smoothness_worst\",\"compactness_worst\",\"concavity_worst\",\"concave points_worst\",\"symmetry_worst\",\"fractal_dimension_worst\"]\n",
    "\n",
    "dfprev = (cancer_df.withColumn(\"idTemp\", cancer_df[\"id\"]\n",
    "    .cast(\"Double\")).drop(\"id\").withColumnRenamed(\"idTemp\", \"id\"))\n",
    "\n",
    "for df_col in df_cols:\n",
    "    dfnew = (dfprev.withColumn(\"temp\", dfprev[df_col]\n",
    "             .cast(\"Double\")).drop(df_col).withColumnRenamed(\"temp\",df_col))\n",
    "    dfprev = dfnew\n",
    "    \n",
    "cancer_nums = dfprev"
   ]
  },
  {
   "cell_type": "markdown",
   "metadata": {},
   "source": [
    "<a id=\"pixie\"></a>\n",
    "## Using PixieDust \n",
    "We can use PixieDust to explore the data. \n",
    "\n",
    "By clicking the grid we can see a table of the dataframe.\n",
    "\n",
    "If we click the drop down menu symbolized with the graph we can choose to put the data into a scatterplot. We can choose **id** as the key, one of the feature columns (**area_mean**, **perimeter_mean**, etc.) as the value and set the number of rows to display to 1000. We are given a scatterplot of our data points and by choosing the bokeh renderer on the right side, as well as set the color to diagnosis we can see the spread of the different diagnoses.\n",
    "\n",
    "Example: Set the key for the graph to **id**, the value to **area_mean**, and color to diagnosis. The plot provided allows us to infer that most benign tumors have smaller area when compared to malignant tumors. On the far right of the graph we are presented with our unlabeled points and using the trend of the labeled points we can predict which of the unlabeled tumors may be benign and malignant."
   ]
  },
  {
   "cell_type": "code",
   "execution_count": 5,
   "metadata": {
    "pixiedust": {
     "displayParams": {
      "color": "diagnosis",
      "handlerId": "scatterPlot",
      "keyFields": "id",
      "rowCount": "1000",
      "valueFields": "area_mean"
     }
    }
   },
   "outputs": [
    {
     "data": {
      "text/html": [
       "<style type=\"text/css\">.pd_warning{display:none;}</style><div class=\"pd_warning\"><em>Hey, there's something awesome here! To see it, open this notebook outside GitHub, in a viewer like Jupyter</em></div>\n",
       "        <div class=\"pd_save is-viewer-good\" style=\"padding-right:10px;text-align: center;line-height:initial !important;font-size: xx-large;font-weight: 500;color: coral;\">\n",
       "            \n",
       "        </div>\n",
       "    <div id=\"chartFigureabc831f1\" class=\"pd_save is-viewer-good\" style=\"overflow-x:auto\">\n",
       "            \n",
       "                    <script class=\"pd_save\">\n",
       "                    function setChartScript() {\n",
       "                        if (!window.Bokeh) {\n",
       "                            setTimeout(setChartScript, 250)\n",
       "                        } else {\n",
       "                            var d = document.getElementById(\"pd-bkchartdiv-abc831f1\")\n",
       "                            if (d){\n",
       "                                var el = document.createElement('div')\n",
       "                                el.innerHTML = `\n",
       "<script type=\"text/javascript\">\n",
       "    (function() {\n",
       "  var fn = function() {\n",
       "    Bokeh.safely(function() {\n",
       "      (function(root) {\n",
       "        function embed_document(root) {\n",
       "          var docs_json = {\"ec17e431-b300-45e5-b558-40312f8ed49e\":{\"roots\":{\"references\":[{\"attributes\":{\"source\":{\"id\":\"4f0e61fa-b4ba-4304-8ec6-eb2ff44745c2\",\"type\":\"ColumnDataSource\"}},\"id\":\"ee92354e-b328-417b-9faf-da4f9d0f15a3\",\"type\":\"CDSView\"},{\"attributes\":{\"data_source\":{\"id\":\"4f0e61fa-b4ba-4304-8ec6-eb2ff44745c2\",\"type\":\"ColumnDataSource\"},\"glyph\":{\"id\":\"50a41642-ce6f-407f-9a04-bfca70d67414\",\"type\":\"Circle\"},\"hover_glyph\":null,\"muted_glyph\":null,\"nonselection_glyph\":{\"id\":\"63121967-3c57-404d-9f04-8e60580922e9\",\"type\":\"Circle\"},\"selection_glyph\":null,\"view\":{\"id\":\"ee92354e-b328-417b-9faf-da4f9d0f15a3\",\"type\":\"CDSView\"}},\"id\":\"0e1878b8-0c78-4bc9-931c-1b7c0bcedd42\",\"type\":\"GlyphRenderer\"},{\"attributes\":{\"fill_alpha\":{\"value\":0.1},\"fill_color\":{\"value\":\"#1f77b4\"},\"line_alpha\":{\"value\":0.1},\"line_color\":{\"value\":\"#1f77b4\"},\"size\":{\"units\":\"screen\",\"value\":8},\"x\":{\"field\":\"x\"},\"y\":{\"field\":\"y\"}},\"id\":\"2d3f1e91-5b96-4390-a11c-33d7ac3dbacb\",\"type\":\"Circle\"},{\"attributes\":{},\"id\":\"68f61240-757b-42ab-b055-5e850d6e1fb4\",\"type\":\"BasicTicker\"},{\"attributes\":{\"callback\":null,\"column_names\":[\"x\",\"y\"],\"data\":{\"x\":[20.0,21.0,22.0,38.0,47.0,49.0,50.0,51.0,52.0,53.0,56.0,59.0,60.0,61.0,62.0,64.0,67.0,68.0,69.0,70.0,72.0,75.0,77.0,80.0,81.0,82.0,85.0,89.0,90.0,91.0,93.0,94.0,97.0,98.0,99.0,102.0,103.0,104.0,105.0,107.0,108.0,110.0,111.0,112.0,113.0,114.0,115.0,116.0,117.0,121.0,124.0,125.0,126.0,129.0,131.0,134.0,137.0,138.0,140.0,141.0,143.0,144.0,145.0,146.0,148.0,149.0,150.0,151.0,152.0,153.0,154.0,155.0,156.0,158.0,159.0,160.0,161.0,164.0,166.0,167.0,170.0,171.0,174.0,175.0,176.0,177.0,179.0,180.0,184.0,186.0,188.0,189.0,190.0,192.0,193.0,196.0,201.0,205.0,207.0,209.0,210.0,212.0,217.0,218.0,221.0,222.0,223.0,225.0,226.0,227.0,228.0,229.0,232.0,233.0,235.0,236.0,239.0,241.0,242.0,243.0,244.0,246.0,247.0,248.0,249.0,250.0,252.0,267.0,268.0,269.0,270.0,271.0,272.0,274.0,276.0,277.0,279.0,280.0,282.0,285.0,286.0,287.0,288.0,289.0,290.0,291.0,292.0,293.0,294.0,295.0,296.0,297.0,299.0,300.0,302.0,304.0,305.0,306.0,307.0,308.0,309.0,310.0,311.0,312.0,313.0,314.0,315.0,316.0,317.0,319.0,320.0,321.0,323.0,325.0,326.0,327.0,328.0,332.0,333.0,334.0,335.0,337.0,339.0,341.0,342.0,343.0,345.0,346.0,347.0,348.0,349.0,350.0,351.0,355.0,356.0,357.0,358.0,359.0,360.0,361.0,362.0,363.0,364.0,365.0,368.0,372.0,375.0,376.0,377.0,378.0,379.0,381.0,382.0,383.0,384.0,385.0,387.0,388.0,389.0,391.0,392.0,395.0,396.0,397.0,398.0,399.0,400.0,402.0,403.0,404.0,405.0,406.0,407.0,408.0,410.0,411.0,412.0,413.0,414.0,416.0,417.0,419.0,420.0,421.0,422.0,423.0,424.0,425.0,426.0,427.0,428.0,429.0,430.0,432.0,435.0,437.0,438.0,439.0,440.0,441.0,443.0,444.0,446.0,448.0,449.0,451.0,453.0,454.0,455.0,456.0,457.0,458.0,459.0,460.0,463.0,464.0,465.0,466.0,467.0,468.0,470.0,471.0,472.0,473.0,474.0,475.0,476.0,477.0,478.0,479.0,481.0,482.0,483.0,484.0,485.0,486.0,487.0,489.0,491.0,492.0,494.0,495.0,496.0,497.0,498.0],\"y\":[566.3,520.0,273.9,523.8,201.9,449.3,561.0,427.9,571.8,437.6,409.0,527.2,224.5,311.9,221.8,260.9,269.4,394.1,250.5,502.5,244.0,470.9,559.2,506.3,401.5,520.0,443.3,466.1,651.9,662.7,551.7,555.1,451.1,294.5,412.6,143.5,458.7,298.3,336.1,412.5,466.7,396.5,290.2,480.4,629.9,334.2,230.9,438.6,245.2,403.3,640.7,553.5,588.7,674.5,455.8,761.7,423.6,399.8,384.8,288.5,398.0,512.2,355.3,432.8,689.5,640.1,585.0,519.4,203.9,300.2,381.9,538.9,460.3,880.2,448.6,366.8,419.8,464.5,690.2,357.6,685.9,464.1,372.7,349.6,227.2,302.4,526.4,508.8,402.0,317.5,420.3,428.9,463.7,507.4,288.1,516.4,461.0,481.9,295.4,529.4,725.5,428.0,432.2,321.2,568.9,561.3,313.1,546.4,641.2,329.6,684.5,496.4,395.7,386.8,279.6,603.4,623.9,575.3,476.5,389.4,590.0,337.7,541.6,512.2,347.0,406.3,407.4,346.4,561.0,512.2,344.9,632.6,388.0,289.9,435.6,396.6,572.3,587.4,427.3,516.6,489.0,441.0,515.9,394.1,396.0,651.0,687.3,513.7,432.7,492.1,582.7,363.7,633.1,334.2,471.3,334.3,403.1,417.2,537.3,246.3,566.2,530.6,418.7,664.9,504.1,409.1,221.2,481.6,461.4,244.5,477.3,324.2,504.8,457.9,489.9,616.5,446.0,514.0,387.3,390.0,464.4,514.3,310.8,641.2,280.5,373.9,420.3,321.6,445.3,668.7,402.7,426.7,421.0,384.6,485.8,512.0,593.7,241.0,278.6,491.9,546.1,496.6,838.1,552.4,458.4,711.8,579.1,788.5,338.3,562.1,580.6,386.3,372.7,447.8,462.9,541.8,462.0,596.6,392.0,321.6,234.3,446.2,609.1,558.1,508.3,378.2,431.9,442.7,525.2,507.6,469.1,370.0,800.0,514.5,466.1,399.8,373.2,268.8,693.7,433.8,271.2,495.0,380.3,409.7,656.1,408.2,575.3,289.7,307.3,333.6,359.9,381.1,501.3,467.8,673.7,509.2,611.2,592.6,606.5,371.5,585.9,340.9,441.3,674.8,659.7,432.0,442.5,644.2,492.9,557.2,415.1,537.9,520.2,290.9,646.1,412.7,537.3,542.9,536.9,286.3,408.8,289.1,449.9,686.9,465.4,358.9,506.9,618.4,599.4,404.9,455.3,602.9,546.3,571.1,747.2,476.7,666.0,420.5,466.5,992.1,477.3,538.7,680.9,485.6,480.1]}},\"id\":\"f9eedf3b-749d-4511-baf8-7c9bdb12b6ab\",\"type\":\"ColumnDataSource\"},{\"attributes\":{\"items\":[{\"id\":\"18bcc166-976e-4f7e-a2c3-fde07289b2f4\",\"type\":\"LegendItem\"},{\"id\":\"ef73ca90-caca-4296-a93f-b9443f481ce2\",\"type\":\"LegendItem\"},{\"id\":\"89f2744a-82f0-4f26-876c-d09fe159741a\",\"type\":\"LegendItem\"}],\"location\":\"top_left\",\"plot\":{\"id\":\"47c789c5-7371-41ab-9137-48063298699c\",\"subtype\":\"Figure\",\"type\":\"Plot\"}},\"id\":\"2aa0a93f-b686-4511-b174-a06ce9fbd46b\",\"type\":\"Legend\"},{\"attributes\":{\"below\":[{\"id\":\"2c15a8c2-d7ec-4d7e-a56e-07cb59d9c270\",\"type\":\"LinearAxis\"}],\"left\":[{\"id\":\"35398a13-664a-4042-9f40-412b9ed379ff\",\"type\":\"LinearAxis\"}],\"plot_height\":490,\"plot_width\":825,\"renderers\":[{\"id\":\"2c15a8c2-d7ec-4d7e-a56e-07cb59d9c270\",\"type\":\"LinearAxis\"},{\"id\":\"e71120c1-122e-4aaf-8596-09f75c9a88ed\",\"type\":\"Grid\"},{\"id\":\"35398a13-664a-4042-9f40-412b9ed379ff\",\"type\":\"LinearAxis\"},{\"id\":\"78f68b43-0715-465a-ba2d-87407c86cd53\",\"type\":\"Grid\"},{\"id\":\"8d7e48e7-e028-4e73-9e40-a9d07695a807\",\"type\":\"BoxAnnotation\"},{\"id\":\"2aa0a93f-b686-4511-b174-a06ce9fbd46b\",\"type\":\"Legend\"},{\"id\":\"304f08d8-df3f-42ac-973f-19341cc1d07f\",\"type\":\"GlyphRenderer\"},{\"id\":\"fce66194-4551-457b-8a78-939f660acb64\",\"type\":\"GlyphRenderer\"},{\"id\":\"0e1878b8-0c78-4bc9-931c-1b7c0bcedd42\",\"type\":\"GlyphRenderer\"}],\"title\":{\"id\":\"127545c6-65bd-4c65-bb94-71dda09e54d2\",\"type\":\"Title\"},\"toolbar\":{\"id\":\"55585215-b36b-4b44-9e04-05fa504fb368\",\"type\":\"Toolbar\"},\"x_range\":{\"id\":\"45840885-7020-4c4a-a642-ef56730f3268\",\"type\":\"DataRange1d\"},\"x_scale\":{\"id\":\"983057fb-ae70-4897-9d4d-98d4231f60f5\",\"type\":\"LinearScale\"},\"y_range\":{\"id\":\"12c7f1dc-9ac2-4d54-a53b-839dcfbd351d\",\"type\":\"DataRange1d\"},\"y_scale\":{\"id\":\"7fc4f476-45b3-4767-8cbd-dde160c91eaa\",\"type\":\"LinearScale\"}},\"id\":\"47c789c5-7371-41ab-9137-48063298699c\",\"subtype\":\"Figure\",\"type\":\"Plot\"},{\"attributes\":{\"label\":{\"value\":\"B\"},\"renderers\":[{\"id\":\"fce66194-4551-457b-8a78-939f660acb64\",\"type\":\"GlyphRenderer\"}]},\"id\":\"ef73ca90-caca-4296-a93f-b9443f481ce2\",\"type\":\"LegendItem\"},{\"attributes\":{\"callback\":null},\"id\":\"12c7f1dc-9ac2-4d54-a53b-839dcfbd351d\",\"type\":\"DataRange1d\"},{\"attributes\":{\"fill_alpha\":{\"value\":0.5},\"fill_color\":{\"value\":\"#2ca02c\"},\"line_color\":{\"value\":\"#2ca02c\"},\"size\":{\"units\":\"screen\",\"value\":8},\"x\":{\"field\":\"x\"},\"y\":{\"field\":\"y\"}},\"id\":\"50a41642-ce6f-407f-9a04-bfca70d67414\",\"type\":\"Circle\"},{\"attributes\":{\"axis_label\":\"id\",\"formatter\":{\"id\":\"a49d8c8a-a1cc-4897-9808-c14be05d7af2\",\"type\":\"BasicTickFormatter\"},\"plot\":{\"id\":\"47c789c5-7371-41ab-9137-48063298699c\",\"subtype\":\"Figure\",\"type\":\"Plot\"},\"ticker\":{\"id\":\"4018ade7-059e-46ca-b76e-3b298d6b2201\",\"type\":\"BasicTicker\"}},\"id\":\"2c15a8c2-d7ec-4d7e-a56e-07cb59d9c270\",\"type\":\"LinearAxis\"},{\"attributes\":{\"label\":{\"value\":\"U\"},\"renderers\":[{\"id\":\"0e1878b8-0c78-4bc9-931c-1b7c0bcedd42\",\"type\":\"GlyphRenderer\"}]},\"id\":\"89f2744a-82f0-4f26-876c-d09fe159741a\",\"type\":\"LegendItem\"},{\"attributes\":{},\"id\":\"983057fb-ae70-4897-9d4d-98d4231f60f5\",\"type\":\"LinearScale\"},{\"attributes\":{\"callback\":null},\"id\":\"45840885-7020-4c4a-a642-ef56730f3268\",\"type\":\"DataRange1d\"},{\"attributes\":{\"data_source\":{\"id\":\"e35ff422-be8b-447f-803d-9bd289dc5dc1\",\"type\":\"ColumnDataSource\"},\"glyph\":{\"id\":\"925474ec-b038-495d-9e7c-338842298f1d\",\"type\":\"Circle\"},\"hover_glyph\":null,\"muted_glyph\":null,\"nonselection_glyph\":{\"id\":\"2d3f1e91-5b96-4390-a11c-33d7ac3dbacb\",\"type\":\"Circle\"},\"selection_glyph\":null,\"view\":{\"id\":\"057d54e5-ce7d-481e-9267-fc6271d1be7c\",\"type\":\"CDSView\"}},\"id\":\"304f08d8-df3f-42ac-973f-19341cc1d07f\",\"type\":\"GlyphRenderer\"},{\"attributes\":{},\"id\":\"a49d8c8a-a1cc-4897-9808-c14be05d7af2\",\"type\":\"BasicTickFormatter\"},{\"attributes\":{\"plot\":null,\"text\":\"\"},\"id\":\"127545c6-65bd-4c65-bb94-71dda09e54d2\",\"type\":\"Title\"},{\"attributes\":{},\"id\":\"be22e2b2-0291-4b26-82d9-42da9e053f3d\",\"type\":\"SaveTool\"},{\"attributes\":{\"dimension\":1,\"grid_line_alpha\":{\"value\":0.3},\"plot\":{\"id\":\"47c789c5-7371-41ab-9137-48063298699c\",\"subtype\":\"Figure\",\"type\":\"Plot\"},\"ticker\":{\"id\":\"68f61240-757b-42ab-b055-5e850d6e1fb4\",\"type\":\"BasicTicker\"}},\"id\":\"78f68b43-0715-465a-ba2d-87407c86cd53\",\"type\":\"Grid\"},{\"attributes\":{},\"id\":\"398001f7-28be-4e6b-a832-169a467bef8a\",\"type\":\"WheelZoomTool\"},{\"attributes\":{\"axis_label\":\"area_mean\",\"formatter\":{\"id\":\"60d37e3a-1e8c-43dc-a638-9af78a698c90\",\"type\":\"BasicTickFormatter\"},\"plot\":{\"id\":\"47c789c5-7371-41ab-9137-48063298699c\",\"subtype\":\"Figure\",\"type\":\"Plot\"},\"ticker\":{\"id\":\"68f61240-757b-42ab-b055-5e850d6e1fb4\",\"type\":\"BasicTicker\"}},\"id\":\"35398a13-664a-4042-9f40-412b9ed379ff\",\"type\":\"LinearAxis\"},{\"attributes\":{\"source\":{\"id\":\"e35ff422-be8b-447f-803d-9bd289dc5dc1\",\"type\":\"ColumnDataSource\"}},\"id\":\"057d54e5-ce7d-481e-9267-fc6271d1be7c\",\"type\":\"CDSView\"},{\"attributes\":{\"bottom_units\":\"screen\",\"fill_alpha\":{\"value\":0.5},\"fill_color\":{\"value\":\"lightgrey\"},\"left_units\":\"screen\",\"level\":\"overlay\",\"line_alpha\":{\"value\":1.0},\"line_color\":{\"value\":\"black\"},\"line_dash\":[4,4],\"line_width\":{\"value\":2},\"plot\":null,\"render_mode\":\"css\",\"right_units\":\"screen\",\"top_units\":\"screen\"},\"id\":\"8d7e48e7-e028-4e73-9e40-a9d07695a807\",\"type\":\"BoxAnnotation\"},{\"attributes\":{\"fill_alpha\":{\"value\":0.1},\"fill_color\":{\"value\":\"#1f77b4\"},\"line_alpha\":{\"value\":0.1},\"line_color\":{\"value\":\"#1f77b4\"},\"size\":{\"units\":\"screen\",\"value\":8},\"x\":{\"field\":\"x\"},\"y\":{\"field\":\"y\"}},\"id\":\"a96b13ca-6c80-4c53-a389-b799b46d254f\",\"type\":\"Circle\"},{\"attributes\":{\"fill_alpha\":{\"value\":0.1},\"fill_color\":{\"value\":\"#1f77b4\"},\"line_alpha\":{\"value\":0.1},\"line_color\":{\"value\":\"#1f77b4\"},\"size\":{\"units\":\"screen\",\"value\":8},\"x\":{\"field\":\"x\"},\"y\":{\"field\":\"y\"}},\"id\":\"63121967-3c57-404d-9f04-8e60580922e9\",\"type\":\"Circle\"},{\"attributes\":{\"active_drag\":\"auto\",\"active_inspect\":\"auto\",\"active_scroll\":\"auto\",\"active_tap\":\"auto\",\"tools\":[{\"id\":\"690bad8f-d848-4f95-9222-78d2a19353bd\",\"type\":\"PanTool\"},{\"id\":\"398001f7-28be-4e6b-a832-169a467bef8a\",\"type\":\"WheelZoomTool\"},{\"id\":\"48ae23b3-28e1-4e3a-b7b5-eb02e86fc671\",\"type\":\"BoxZoomTool\"},{\"id\":\"be22e2b2-0291-4b26-82d9-42da9e053f3d\",\"type\":\"SaveTool\"},{\"id\":\"e0c5ab4c-83d5-4dd6-8d5f-cec6af70bbdb\",\"type\":\"ResetTool\"},{\"id\":\"e0a6faf9-b4d6-4f4b-bea8-9d802750857a\",\"type\":\"HelpTool\"}]},\"id\":\"55585215-b36b-4b44-9e04-05fa504fb368\",\"type\":\"Toolbar\"},{\"attributes\":{\"callback\":null,\"column_names\":[\"x\",\"y\"],\"data\":{\"x\":[499.0,500.0,501.0,502.0,503.0,504.0,505.0,506.0,507.0,508.0,509.0,510.0,511.0,512.0,513.0,514.0,515.0,516.0,517.0,518.0,519.0,520.0,521.0,522.0,523.0,524.0,525.0,526.0,527.0,528.0,529.0,530.0,531.0,532.0,533.0,534.0,535.0,536.0,537.0,538.0,539.0,540.0,541.0,542.0,543.0,544.0,545.0,546.0,547.0,548.0,549.0,550.0,551.0,552.0,553.0,554.0,555.0,556.0,557.0,558.0,559.0,560.0,561.0,562.0,563.0,564.0,565.0,566.0,567.0,568.0,569.0],\"y\":[1068.0,1320.0,689.4,595.9,476.3,1682.0,248.7,272.5,453.1,366.5,819.8,731.3,426.0,680.7,556.7,658.8,701.9,391.2,1052.0,1214.0,493.1,493.8,257.8,1841.0,388.1,571.0,293.2,221.3,551.1,468.5,594.2,445.2,422.9,416.2,575.5,1299.0,365.6,1308.0,629.8,406.4,178.8,170.4,402.9,656.4,668.6,538.4,584.8,573.2,324.9,320.8,285.7,361.6,360.5,378.4,507.9,264.0,514.3,321.4,311.7,271.3,657.1,403.5,600.4,386.0,716.9,1347.0,1479.0,1261.0,858.1,1265.0,181.0]}},\"id\":\"4f0e61fa-b4ba-4304-8ec6-eb2ff44745c2\",\"type\":\"ColumnDataSource\"},{\"attributes\":{},\"id\":\"7fc4f476-45b3-4767-8cbd-dde160c91eaa\",\"type\":\"LinearScale\"},{\"attributes\":{\"fill_alpha\":{\"value\":0.5},\"fill_color\":{\"value\":\"#1f77b4\"},\"line_color\":{\"value\":\"#1f77b4\"},\"size\":{\"units\":\"screen\",\"value\":8},\"x\":{\"field\":\"x\"},\"y\":{\"field\":\"y\"}},\"id\":\"925474ec-b038-495d-9e7c-338842298f1d\",\"type\":\"Circle\"},{\"attributes\":{\"label\":{\"value\":\"M\"},\"renderers\":[{\"id\":\"304f08d8-df3f-42ac-973f-19341cc1d07f\",\"type\":\"GlyphRenderer\"}]},\"id\":\"18bcc166-976e-4f7e-a2c3-fde07289b2f4\",\"type\":\"LegendItem\"},{\"attributes\":{\"grid_line_alpha\":{\"value\":0.3},\"plot\":{\"id\":\"47c789c5-7371-41ab-9137-48063298699c\",\"subtype\":\"Figure\",\"type\":\"Plot\"},\"ticker\":{\"id\":\"4018ade7-059e-46ca-b76e-3b298d6b2201\",\"type\":\"BasicTicker\"}},\"id\":\"e71120c1-122e-4aaf-8596-09f75c9a88ed\",\"type\":\"Grid\"},{\"attributes\":{},\"id\":\"e0a6faf9-b4d6-4f4b-bea8-9d802750857a\",\"type\":\"HelpTool\"},{\"attributes\":{},\"id\":\"60d37e3a-1e8c-43dc-a638-9af78a698c90\",\"type\":\"BasicTickFormatter\"},{\"attributes\":{\"data_source\":{\"id\":\"f9eedf3b-749d-4511-baf8-7c9bdb12b6ab\",\"type\":\"ColumnDataSource\"},\"glyph\":{\"id\":\"28dd7a02-7893-49c7-afd1-e9dbcf86c734\",\"type\":\"Circle\"},\"hover_glyph\":null,\"muted_glyph\":null,\"nonselection_glyph\":{\"id\":\"a96b13ca-6c80-4c53-a389-b799b46d254f\",\"type\":\"Circle\"},\"selection_glyph\":null,\"view\":{\"id\":\"7573c4bc-7b5b-450c-9ad3-a84d6cb241b5\",\"type\":\"CDSView\"}},\"id\":\"fce66194-4551-457b-8a78-939f660acb64\",\"type\":\"GlyphRenderer\"},{\"attributes\":{},\"id\":\"690bad8f-d848-4f95-9222-78d2a19353bd\",\"type\":\"PanTool\"},{\"attributes\":{\"overlay\":{\"id\":\"8d7e48e7-e028-4e73-9e40-a9d07695a807\",\"type\":\"BoxAnnotation\"}},\"id\":\"48ae23b3-28e1-4e3a-b7b5-eb02e86fc671\",\"type\":\"BoxZoomTool\"},{\"attributes\":{\"fill_alpha\":{\"value\":0.5},\"fill_color\":{\"value\":\"#ff7f0e\"},\"line_color\":{\"value\":\"#ff7f0e\"},\"size\":{\"units\":\"screen\",\"value\":8},\"x\":{\"field\":\"x\"},\"y\":{\"field\":\"y\"}},\"id\":\"28dd7a02-7893-49c7-afd1-e9dbcf86c734\",\"type\":\"Circle\"},{\"attributes\":{\"callback\":null,\"column_names\":[\"x\",\"y\"],\"data\":{\"x\":[1.0,2.0,3.0,4.0,5.0,6.0,7.0,8.0,9.0,10.0,11.0,12.0,13.0,14.0,15.0,16.0,17.0,18.0,19.0,23.0,24.0,25.0,26.0,27.0,28.0,29.0,30.0,31.0,32.0,33.0,34.0,35.0,36.0,37.0,39.0,40.0,41.0,42.0,43.0,44.0,45.0,46.0,48.0,54.0,55.0,57.0,58.0,63.0,65.0,66.0,71.0,73.0,74.0,76.0,78.0,79.0,83.0,84.0,86.0,87.0,88.0,92.0,95.0,96.0,100.0,101.0,106.0,109.0,118.0,119.0,120.0,122.0,123.0,127.0,128.0,130.0,132.0,133.0,135.0,136.0,139.0,142.0,147.0,157.0,162.0,163.0,165.0,168.0,169.0,172.0,173.0,178.0,181.0,182.0,183.0,185.0,187.0,191.0,194.0,195.0,197.0,198.0,199.0,200.0,202.0,203.0,204.0,206.0,208.0,211.0,213.0,214.0,215.0,216.0,219.0,220.0,224.0,230.0,231.0,234.0,237.0,238.0,240.0,245.0,251.0,253.0,254.0,255.0,256.0,257.0,258.0,259.0,260.0,261.0,262.0,263.0,264.0,265.0,266.0,273.0,275.0,278.0,281.0,283.0,284.0,298.0,301.0,303.0,318.0,322.0,324.0,329.0,330.0,331.0,336.0,338.0,340.0,344.0,352.0,353.0,354.0,366.0,367.0,369.0,370.0,371.0,373.0,374.0,380.0,386.0,390.0,393.0,394.0,401.0,409.0,415.0,418.0,431.0,433.0,434.0,436.0,442.0,445.0,447.0,450.0,452.0,461.0,462.0,469.0,480.0,488.0,490.0,493.0],\"y\":[1001.0,1326.0,1203.0,386.1,1297.0,477.1,1040.0,577.9,519.8,475.9,797.8,781.0,1123.0,782.7,578.3,658.8,684.5,798.8,1260.0,704.4,1404.0,904.6,912.7,644.8,1094.0,732.4,955.1,1088.0,440.6,899.3,1162.0,807.2,869.5,633.0,698.8,559.2,563.0,371.1,1104.0,545.2,531.5,1076.0,534.6,1033.0,712.8,1152.0,656.9,645.7,499.0,668.3,1130.0,929.4,584.1,817.7,1006.0,1245.0,1878.0,1132.0,1075.0,648.2,1076.0,728.2,705.6,1264.0,642.5,582.7,530.2,1509.0,682.5,782.6,982.0,1077.0,1761.0,572.6,1138.0,1192.0,748.9,809.8,1075.0,506.3,678.1,813.0,432.0,963.7,1157.0,1214.0,1686.0,886.3,984.6,565.4,736.9,832.9,2250.0,1311.0,766.6,710.6,1041.0,609.9,477.4,671.4,588.9,1024.0,1148.0,642.7,951.6,1685.0,597.8,716.6,904.3,1290.0,2499.0,948.0,610.7,578.9,1230.0,1223.0,761.3,503.2,895.0,1319.0,1670.0,1306.0,920.6,1155.0,1364.0,1206.0,928.2,1169.0,602.4,1207.0,713.3,773.5,744.9,1288.0,933.1,947.8,758.6,928.3,1419.0,1491.0,998.9,1102.0,1138.0,1145.0,805.1,431.1,1217.0,1247.0,1027.0,1274.0,1264.0,813.7,826.8,793.2,918.6,1092.0,1747.0,1194.0,758.6,2010.0,716.6,1293.0,1234.0,1546.0,1482.0,840.4,1386.0,1335.0,361.6,664.7,1174.0,744.7,1407.0,994.0,991.7,719.5,803.1,685.0,1250.0,1110.0,599.5,928.8,990.0,981.6,1384.0,1191.0,930.9,2501.0,980.5,815.8,1167.0,857.6,1007.0]}},\"id\":\"e35ff422-be8b-447f-803d-9bd289dc5dc1\",\"type\":\"ColumnDataSource\"},{\"attributes\":{},\"id\":\"4018ade7-059e-46ca-b76e-3b298d6b2201\",\"type\":\"BasicTicker\"},{\"attributes\":{},\"id\":\"e0c5ab4c-83d5-4dd6-8d5f-cec6af70bbdb\",\"type\":\"ResetTool\"},{\"attributes\":{\"source\":{\"id\":\"f9eedf3b-749d-4511-baf8-7c9bdb12b6ab\",\"type\":\"ColumnDataSource\"}},\"id\":\"7573c4bc-7b5b-450c-9ad3-a84d6cb241b5\",\"type\":\"CDSView\"}],\"root_ids\":[\"47c789c5-7371-41ab-9137-48063298699c\"]},\"title\":\"Bokeh Application\",\"version\":\"0.12.10\"}};\n",
       "          var render_items = [{\"docid\":\"ec17e431-b300-45e5-b558-40312f8ed49e\",\"elementid\":\"fbded6f0-3018-41a0-a3b2-4ecbacc4b156\",\"modelid\":\"47c789c5-7371-41ab-9137-48063298699c\"}];\n",
       "      \n",
       "          root.Bokeh.embed.embed_items(docs_json, render_items);\n",
       "        }\n",
       "      \n",
       "        if (root.Bokeh !== undefined) {\n",
       "          embed_document(root);\n",
       "        } else {\n",
       "          var attempts = 0;\n",
       "          var timer = setInterval(function(root) {\n",
       "            if (root.Bokeh !== undefined) {\n",
       "              embed_document(root);\n",
       "              clearInterval(timer);\n",
       "            }\n",
       "            attempts++;\n",
       "            if (attempts > 100) {\n",
       "              console.log(\"Bokeh: ERROR: Unable to embed document because BokehJS library is missing\")\n",
       "              clearInterval(timer);\n",
       "            }\n",
       "          }, 10, root)\n",
       "        }\n",
       "      })(window);\n",
       "    });\n",
       "  };\n",
       "  if (document.readyState != \"loading\") fn();\n",
       "  else document.addEventListener(\"DOMContentLoaded\", fn);\n",
       "})();\n",
       "\n",
       "<\\/script>`\n",
       "                                var chartscript = el.childNodes[1]\n",
       "                                var s = document.createElement(\"script\")\n",
       "                                s.innerHTML = chartscript.innerHTML\n",
       "                                d.parentNode.insertBefore(s, d)\n",
       "                            }\n",
       "                        }\n",
       "                    }\n",
       "                    if (!window.Bokeh && !window.autoload){\n",
       "                        window.autoload=true;\n",
       "                        \n",
       "(function(root) {\n",
       "  function now() {\n",
       "    return new Date();\n",
       "  }\n",
       "\n",
       "  var force = 1;\n",
       "\n",
       "  if (typeof (root._bokeh_onload_callbacks) === \"undefined\" || force === true) {\n",
       "    root._bokeh_onload_callbacks = [];\n",
       "    root._bokeh_is_loading = undefined;\n",
       "  }\n",
       "\n",
       "  \n",
       "\n",
       "  \n",
       "  if (typeof (root._bokeh_timeout) === \"undefined\" || force === true) {\n",
       "    root._bokeh_timeout = Date.now() + 5000;\n",
       "    root._bokeh_failed_load = false;\n",
       "  }\n",
       "\n",
       "  var NB_LOAD_WARNING = {'data': {'text/html':\n",
       "     \"<div style='background-color: #fdd'>\\n\"+\n",
       "     \"<p>\\n\"+\n",
       "     \"BokehJS does not appear to have successfully loaded. If loading BokehJS from CDN, this \\n\"+\n",
       "     \"may be due to a slow or bad network connection. Possible fixes:\\n\"+\n",
       "     \"</p>\\n\"+\n",
       "     \"<ul>\\n\"+\n",
       "     \"<li>re-rerun `output_notebook()` to attempt to load from CDN again, or</li>\\n\"+\n",
       "     \"<li>use INLINE resources instead, as so:</li>\\n\"+\n",
       "     \"</ul>\\n\"+\n",
       "     \"<code>\\n\"+\n",
       "     \"from bokeh.resources import INLINE\\n\"+\n",
       "     \"output_notebook(resources=INLINE)\\n\"+\n",
       "     \"</code>\\n\"+\n",
       "     \"</div>\"}};\n",
       "\n",
       "  function display_loaded() {\n",
       "    var el = document.getElementById(\"\");\n",
       "    if (el != null) {\n",
       "      el.textContent = \"BokehJS is loading...\";\n",
       "    }\n",
       "    if (root.Bokeh !== undefined) {\n",
       "      if (el != null) {\n",
       "        el.textContent = \"BokehJS \" + root.Bokeh.version + \" successfully loaded.\";\n",
       "      }\n",
       "    } else if (Date.now() < root._bokeh_timeout) {\n",
       "      setTimeout(display_loaded, 100)\n",
       "    }\n",
       "  }\n",
       "\n",
       "\n",
       "  function run_callbacks() {\n",
       "    try {\n",
       "      root._bokeh_onload_callbacks.forEach(function(callback) { callback() });\n",
       "    }\n",
       "    finally {\n",
       "      delete root._bokeh_onload_callbacks\n",
       "    }\n",
       "    console.info(\"Bokeh: all callbacks have finished\");\n",
       "  }\n",
       "\n",
       "  function load_libs(js_urls, callback) {\n",
       "    root._bokeh_onload_callbacks.push(callback);\n",
       "    if (root._bokeh_is_loading > 0) {\n",
       "      console.log(\"Bokeh: BokehJS is being loaded, scheduling callback at\", now());\n",
       "      return null;\n",
       "    }\n",
       "    if (js_urls == null || js_urls.length === 0) {\n",
       "      run_callbacks();\n",
       "      return null;\n",
       "    }\n",
       "    console.log(\"Bokeh: BokehJS not loaded, scheduling load and callback at\", now());\n",
       "    root._bokeh_is_loading = js_urls.length;\n",
       "    for (var i = 0; i < js_urls.length; i++) {\n",
       "      var url = js_urls[i];\n",
       "      var s = document.createElement('script');\n",
       "      s.src = url;\n",
       "      s.async = false;\n",
       "      s.onreadystatechange = s.onload = function() {\n",
       "        root._bokeh_is_loading--;\n",
       "        if (root._bokeh_is_loading === 0) {\n",
       "          console.log(\"Bokeh: all BokehJS libraries loaded\");\n",
       "          run_callbacks()\n",
       "        }\n",
       "      };\n",
       "      s.onerror = function() {\n",
       "        console.warn(\"failed to load library \" + url);\n",
       "      };\n",
       "      console.log(\"Bokeh: injecting script tag for BokehJS library: \", url);\n",
       "      document.getElementsByTagName(\"head\")[0].appendChild(s);\n",
       "    }\n",
       "  };\n",
       "\n",
       "  var js_urls = [\"https://cdn.pydata.org/bokeh/release/bokeh-0.12.10.min.js\", \"https://cdn.pydata.org/bokeh/release/bokeh-widgets-0.12.10.min.js\", \"https://cdn.pydata.org/bokeh/release/bokeh-tables-0.12.10.min.js\", \"https://cdn.pydata.org/bokeh/release/bokeh-gl-0.12.10.min.js\"];\n",
       "\n",
       "  var inline_js = [\n",
       "    function(Bokeh) {\n",
       "      Bokeh.set_log_level(\"info\");\n",
       "    },\n",
       "    function(Bokeh) {\n",
       "      console.log(\"Bokeh: injecting CSS: https://cdn.pydata.org/bokeh/release/bokeh-0.12.10.min.css\");\n",
       "      Bokeh.embed.inject_css(\"https://cdn.pydata.org/bokeh/release/bokeh-0.12.10.min.css\");\n",
       "      console.log(\"Bokeh: injecting CSS: https://cdn.pydata.org/bokeh/release/bokeh-widgets-0.12.10.min.css\");\n",
       "      Bokeh.embed.inject_css(\"https://cdn.pydata.org/bokeh/release/bokeh-widgets-0.12.10.min.css\");\n",
       "      console.log(\"Bokeh: injecting CSS: https://cdn.pydata.org/bokeh/release/bokeh-tables-0.12.10.min.css\");\n",
       "      Bokeh.embed.inject_css(\"https://cdn.pydata.org/bokeh/release/bokeh-tables-0.12.10.min.css\");\n",
       "    }\n",
       "  ];\n",
       "\n",
       "  function run_inline_js() {\n",
       "    \n",
       "    if ((root.Bokeh !== undefined) || (force === true)) {\n",
       "      for (var i = 0; i < inline_js.length; i++) {\n",
       "        inline_js[i].call(root, root.Bokeh);\n",
       "      }} else if (Date.now() < root._bokeh_timeout) {\n",
       "      setTimeout(run_inline_js, 100);\n",
       "    } else if (!root._bokeh_failed_load) {\n",
       "      console.log(\"Bokeh: BokehJS failed to load within specified timeout.\");\n",
       "      root._bokeh_failed_load = true;\n",
       "    } else if (force !== true) {\n",
       "      var cell = $(document.getElementById(\"\")).parents('.cell').data().cell;\n",
       "      cell.output_area.append_execute_result(NB_LOAD_WARNING)\n",
       "    }\n",
       "\n",
       "  }\n",
       "\n",
       "  if (root._bokeh_is_loading === 0) {\n",
       "    console.log(\"Bokeh: BokehJS loaded, going straight to plotting\");\n",
       "    run_inline_js();\n",
       "  } else {\n",
       "    load_libs(js_urls, function() {\n",
       "      console.log(\"Bokeh: BokehJS plotting callback run at\", now());\n",
       "      run_inline_js();\n",
       "    });\n",
       "  }\n",
       "}(window));\n",
       "                    }\n",
       "                    setChartScript()\n",
       "                    </script>\n",
       "                    <script>\n",
       "    (function() {\n",
       "  var fn = function() {\n",
       "    Bokeh.safely(function() {\n",
       "      (function(root) {\n",
       "        function embed_document(root) {\n",
       "          var docs_json = {\"ec17e431-b300-45e5-b558-40312f8ed49e\":{\"roots\":{\"references\":[{\"attributes\":{\"source\":{\"id\":\"4f0e61fa-b4ba-4304-8ec6-eb2ff44745c2\",\"type\":\"ColumnDataSource\"}},\"id\":\"ee92354e-b328-417b-9faf-da4f9d0f15a3\",\"type\":\"CDSView\"},{\"attributes\":{\"data_source\":{\"id\":\"4f0e61fa-b4ba-4304-8ec6-eb2ff44745c2\",\"type\":\"ColumnDataSource\"},\"glyph\":{\"id\":\"50a41642-ce6f-407f-9a04-bfca70d67414\",\"type\":\"Circle\"},\"hover_glyph\":null,\"muted_glyph\":null,\"nonselection_glyph\":{\"id\":\"63121967-3c57-404d-9f04-8e60580922e9\",\"type\":\"Circle\"},\"selection_glyph\":null,\"view\":{\"id\":\"ee92354e-b328-417b-9faf-da4f9d0f15a3\",\"type\":\"CDSView\"}},\"id\":\"0e1878b8-0c78-4bc9-931c-1b7c0bcedd42\",\"type\":\"GlyphRenderer\"},{\"attributes\":{\"fill_alpha\":{\"value\":0.1},\"fill_color\":{\"value\":\"#1f77b4\"},\"line_alpha\":{\"value\":0.1},\"line_color\":{\"value\":\"#1f77b4\"},\"size\":{\"units\":\"screen\",\"value\":8},\"x\":{\"field\":\"x\"},\"y\":{\"field\":\"y\"}},\"id\":\"2d3f1e91-5b96-4390-a11c-33d7ac3dbacb\",\"type\":\"Circle\"},{\"attributes\":{},\"id\":\"68f61240-757b-42ab-b055-5e850d6e1fb4\",\"type\":\"BasicTicker\"},{\"attributes\":{\"callback\":null,\"column_names\":[\"x\",\"y\"],\"data\":{\"x\":[20.0,21.0,22.0,38.0,47.0,49.0,50.0,51.0,52.0,53.0,56.0,59.0,60.0,61.0,62.0,64.0,67.0,68.0,69.0,70.0,72.0,75.0,77.0,80.0,81.0,82.0,85.0,89.0,90.0,91.0,93.0,94.0,97.0,98.0,99.0,102.0,103.0,104.0,105.0,107.0,108.0,110.0,111.0,112.0,113.0,114.0,115.0,116.0,117.0,121.0,124.0,125.0,126.0,129.0,131.0,134.0,137.0,138.0,140.0,141.0,143.0,144.0,145.0,146.0,148.0,149.0,150.0,151.0,152.0,153.0,154.0,155.0,156.0,158.0,159.0,160.0,161.0,164.0,166.0,167.0,170.0,171.0,174.0,175.0,176.0,177.0,179.0,180.0,184.0,186.0,188.0,189.0,190.0,192.0,193.0,196.0,201.0,205.0,207.0,209.0,210.0,212.0,217.0,218.0,221.0,222.0,223.0,225.0,226.0,227.0,228.0,229.0,232.0,233.0,235.0,236.0,239.0,241.0,242.0,243.0,244.0,246.0,247.0,248.0,249.0,250.0,252.0,267.0,268.0,269.0,270.0,271.0,272.0,274.0,276.0,277.0,279.0,280.0,282.0,285.0,286.0,287.0,288.0,289.0,290.0,291.0,292.0,293.0,294.0,295.0,296.0,297.0,299.0,300.0,302.0,304.0,305.0,306.0,307.0,308.0,309.0,310.0,311.0,312.0,313.0,314.0,315.0,316.0,317.0,319.0,320.0,321.0,323.0,325.0,326.0,327.0,328.0,332.0,333.0,334.0,335.0,337.0,339.0,341.0,342.0,343.0,345.0,346.0,347.0,348.0,349.0,350.0,351.0,355.0,356.0,357.0,358.0,359.0,360.0,361.0,362.0,363.0,364.0,365.0,368.0,372.0,375.0,376.0,377.0,378.0,379.0,381.0,382.0,383.0,384.0,385.0,387.0,388.0,389.0,391.0,392.0,395.0,396.0,397.0,398.0,399.0,400.0,402.0,403.0,404.0,405.0,406.0,407.0,408.0,410.0,411.0,412.0,413.0,414.0,416.0,417.0,419.0,420.0,421.0,422.0,423.0,424.0,425.0,426.0,427.0,428.0,429.0,430.0,432.0,435.0,437.0,438.0,439.0,440.0,441.0,443.0,444.0,446.0,448.0,449.0,451.0,453.0,454.0,455.0,456.0,457.0,458.0,459.0,460.0,463.0,464.0,465.0,466.0,467.0,468.0,470.0,471.0,472.0,473.0,474.0,475.0,476.0,477.0,478.0,479.0,481.0,482.0,483.0,484.0,485.0,486.0,487.0,489.0,491.0,492.0,494.0,495.0,496.0,497.0,498.0],\"y\":[566.3,520.0,273.9,523.8,201.9,449.3,561.0,427.9,571.8,437.6,409.0,527.2,224.5,311.9,221.8,260.9,269.4,394.1,250.5,502.5,244.0,470.9,559.2,506.3,401.5,520.0,443.3,466.1,651.9,662.7,551.7,555.1,451.1,294.5,412.6,143.5,458.7,298.3,336.1,412.5,466.7,396.5,290.2,480.4,629.9,334.2,230.9,438.6,245.2,403.3,640.7,553.5,588.7,674.5,455.8,761.7,423.6,399.8,384.8,288.5,398.0,512.2,355.3,432.8,689.5,640.1,585.0,519.4,203.9,300.2,381.9,538.9,460.3,880.2,448.6,366.8,419.8,464.5,690.2,357.6,685.9,464.1,372.7,349.6,227.2,302.4,526.4,508.8,402.0,317.5,420.3,428.9,463.7,507.4,288.1,516.4,461.0,481.9,295.4,529.4,725.5,428.0,432.2,321.2,568.9,561.3,313.1,546.4,641.2,329.6,684.5,496.4,395.7,386.8,279.6,603.4,623.9,575.3,476.5,389.4,590.0,337.7,541.6,512.2,347.0,406.3,407.4,346.4,561.0,512.2,344.9,632.6,388.0,289.9,435.6,396.6,572.3,587.4,427.3,516.6,489.0,441.0,515.9,394.1,396.0,651.0,687.3,513.7,432.7,492.1,582.7,363.7,633.1,334.2,471.3,334.3,403.1,417.2,537.3,246.3,566.2,530.6,418.7,664.9,504.1,409.1,221.2,481.6,461.4,244.5,477.3,324.2,504.8,457.9,489.9,616.5,446.0,514.0,387.3,390.0,464.4,514.3,310.8,641.2,280.5,373.9,420.3,321.6,445.3,668.7,402.7,426.7,421.0,384.6,485.8,512.0,593.7,241.0,278.6,491.9,546.1,496.6,838.1,552.4,458.4,711.8,579.1,788.5,338.3,562.1,580.6,386.3,372.7,447.8,462.9,541.8,462.0,596.6,392.0,321.6,234.3,446.2,609.1,558.1,508.3,378.2,431.9,442.7,525.2,507.6,469.1,370.0,800.0,514.5,466.1,399.8,373.2,268.8,693.7,433.8,271.2,495.0,380.3,409.7,656.1,408.2,575.3,289.7,307.3,333.6,359.9,381.1,501.3,467.8,673.7,509.2,611.2,592.6,606.5,371.5,585.9,340.9,441.3,674.8,659.7,432.0,442.5,644.2,492.9,557.2,415.1,537.9,520.2,290.9,646.1,412.7,537.3,542.9,536.9,286.3,408.8,289.1,449.9,686.9,465.4,358.9,506.9,618.4,599.4,404.9,455.3,602.9,546.3,571.1,747.2,476.7,666.0,420.5,466.5,992.1,477.3,538.7,680.9,485.6,480.1]}},\"id\":\"f9eedf3b-749d-4511-baf8-7c9bdb12b6ab\",\"type\":\"ColumnDataSource\"},{\"attributes\":{\"items\":[{\"id\":\"18bcc166-976e-4f7e-a2c3-fde07289b2f4\",\"type\":\"LegendItem\"},{\"id\":\"ef73ca90-caca-4296-a93f-b9443f481ce2\",\"type\":\"LegendItem\"},{\"id\":\"89f2744a-82f0-4f26-876c-d09fe159741a\",\"type\":\"LegendItem\"}],\"location\":\"top_left\",\"plot\":{\"id\":\"47c789c5-7371-41ab-9137-48063298699c\",\"subtype\":\"Figure\",\"type\":\"Plot\"}},\"id\":\"2aa0a93f-b686-4511-b174-a06ce9fbd46b\",\"type\":\"Legend\"},{\"attributes\":{\"below\":[{\"id\":\"2c15a8c2-d7ec-4d7e-a56e-07cb59d9c270\",\"type\":\"LinearAxis\"}],\"left\":[{\"id\":\"35398a13-664a-4042-9f40-412b9ed379ff\",\"type\":\"LinearAxis\"}],\"plot_height\":490,\"plot_width\":825,\"renderers\":[{\"id\":\"2c15a8c2-d7ec-4d7e-a56e-07cb59d9c270\",\"type\":\"LinearAxis\"},{\"id\":\"e71120c1-122e-4aaf-8596-09f75c9a88ed\",\"type\":\"Grid\"},{\"id\":\"35398a13-664a-4042-9f40-412b9ed379ff\",\"type\":\"LinearAxis\"},{\"id\":\"78f68b43-0715-465a-ba2d-87407c86cd53\",\"type\":\"Grid\"},{\"id\":\"8d7e48e7-e028-4e73-9e40-a9d07695a807\",\"type\":\"BoxAnnotation\"},{\"id\":\"2aa0a93f-b686-4511-b174-a06ce9fbd46b\",\"type\":\"Legend\"},{\"id\":\"304f08d8-df3f-42ac-973f-19341cc1d07f\",\"type\":\"GlyphRenderer\"},{\"id\":\"fce66194-4551-457b-8a78-939f660acb64\",\"type\":\"GlyphRenderer\"},{\"id\":\"0e1878b8-0c78-4bc9-931c-1b7c0bcedd42\",\"type\":\"GlyphRenderer\"}],\"title\":{\"id\":\"127545c6-65bd-4c65-bb94-71dda09e54d2\",\"type\":\"Title\"},\"toolbar\":{\"id\":\"55585215-b36b-4b44-9e04-05fa504fb368\",\"type\":\"Toolbar\"},\"x_range\":{\"id\":\"45840885-7020-4c4a-a642-ef56730f3268\",\"type\":\"DataRange1d\"},\"x_scale\":{\"id\":\"983057fb-ae70-4897-9d4d-98d4231f60f5\",\"type\":\"LinearScale\"},\"y_range\":{\"id\":\"12c7f1dc-9ac2-4d54-a53b-839dcfbd351d\",\"type\":\"DataRange1d\"},\"y_scale\":{\"id\":\"7fc4f476-45b3-4767-8cbd-dde160c91eaa\",\"type\":\"LinearScale\"}},\"id\":\"47c789c5-7371-41ab-9137-48063298699c\",\"subtype\":\"Figure\",\"type\":\"Plot\"},{\"attributes\":{\"label\":{\"value\":\"B\"},\"renderers\":[{\"id\":\"fce66194-4551-457b-8a78-939f660acb64\",\"type\":\"GlyphRenderer\"}]},\"id\":\"ef73ca90-caca-4296-a93f-b9443f481ce2\",\"type\":\"LegendItem\"},{\"attributes\":{\"callback\":null},\"id\":\"12c7f1dc-9ac2-4d54-a53b-839dcfbd351d\",\"type\":\"DataRange1d\"},{\"attributes\":{\"fill_alpha\":{\"value\":0.5},\"fill_color\":{\"value\":\"#2ca02c\"},\"line_color\":{\"value\":\"#2ca02c\"},\"size\":{\"units\":\"screen\",\"value\":8},\"x\":{\"field\":\"x\"},\"y\":{\"field\":\"y\"}},\"id\":\"50a41642-ce6f-407f-9a04-bfca70d67414\",\"type\":\"Circle\"},{\"attributes\":{\"axis_label\":\"id\",\"formatter\":{\"id\":\"a49d8c8a-a1cc-4897-9808-c14be05d7af2\",\"type\":\"BasicTickFormatter\"},\"plot\":{\"id\":\"47c789c5-7371-41ab-9137-48063298699c\",\"subtype\":\"Figure\",\"type\":\"Plot\"},\"ticker\":{\"id\":\"4018ade7-059e-46ca-b76e-3b298d6b2201\",\"type\":\"BasicTicker\"}},\"id\":\"2c15a8c2-d7ec-4d7e-a56e-07cb59d9c270\",\"type\":\"LinearAxis\"},{\"attributes\":{\"label\":{\"value\":\"U\"},\"renderers\":[{\"id\":\"0e1878b8-0c78-4bc9-931c-1b7c0bcedd42\",\"type\":\"GlyphRenderer\"}]},\"id\":\"89f2744a-82f0-4f26-876c-d09fe159741a\",\"type\":\"LegendItem\"},{\"attributes\":{},\"id\":\"983057fb-ae70-4897-9d4d-98d4231f60f5\",\"type\":\"LinearScale\"},{\"attributes\":{\"callback\":null},\"id\":\"45840885-7020-4c4a-a642-ef56730f3268\",\"type\":\"DataRange1d\"},{\"attributes\":{\"data_source\":{\"id\":\"e35ff422-be8b-447f-803d-9bd289dc5dc1\",\"type\":\"ColumnDataSource\"},\"glyph\":{\"id\":\"925474ec-b038-495d-9e7c-338842298f1d\",\"type\":\"Circle\"},\"hover_glyph\":null,\"muted_glyph\":null,\"nonselection_glyph\":{\"id\":\"2d3f1e91-5b96-4390-a11c-33d7ac3dbacb\",\"type\":\"Circle\"},\"selection_glyph\":null,\"view\":{\"id\":\"057d54e5-ce7d-481e-9267-fc6271d1be7c\",\"type\":\"CDSView\"}},\"id\":\"304f08d8-df3f-42ac-973f-19341cc1d07f\",\"type\":\"GlyphRenderer\"},{\"attributes\":{},\"id\":\"a49d8c8a-a1cc-4897-9808-c14be05d7af2\",\"type\":\"BasicTickFormatter\"},{\"attributes\":{\"plot\":null,\"text\":\"\"},\"id\":\"127545c6-65bd-4c65-bb94-71dda09e54d2\",\"type\":\"Title\"},{\"attributes\":{},\"id\":\"be22e2b2-0291-4b26-82d9-42da9e053f3d\",\"type\":\"SaveTool\"},{\"attributes\":{\"dimension\":1,\"grid_line_alpha\":{\"value\":0.3},\"plot\":{\"id\":\"47c789c5-7371-41ab-9137-48063298699c\",\"subtype\":\"Figure\",\"type\":\"Plot\"},\"ticker\":{\"id\":\"68f61240-757b-42ab-b055-5e850d6e1fb4\",\"type\":\"BasicTicker\"}},\"id\":\"78f68b43-0715-465a-ba2d-87407c86cd53\",\"type\":\"Grid\"},{\"attributes\":{},\"id\":\"398001f7-28be-4e6b-a832-169a467bef8a\",\"type\":\"WheelZoomTool\"},{\"attributes\":{\"axis_label\":\"area_mean\",\"formatter\":{\"id\":\"60d37e3a-1e8c-43dc-a638-9af78a698c90\",\"type\":\"BasicTickFormatter\"},\"plot\":{\"id\":\"47c789c5-7371-41ab-9137-48063298699c\",\"subtype\":\"Figure\",\"type\":\"Plot\"},\"ticker\":{\"id\":\"68f61240-757b-42ab-b055-5e850d6e1fb4\",\"type\":\"BasicTicker\"}},\"id\":\"35398a13-664a-4042-9f40-412b9ed379ff\",\"type\":\"LinearAxis\"},{\"attributes\":{\"source\":{\"id\":\"e35ff422-be8b-447f-803d-9bd289dc5dc1\",\"type\":\"ColumnDataSource\"}},\"id\":\"057d54e5-ce7d-481e-9267-fc6271d1be7c\",\"type\":\"CDSView\"},{\"attributes\":{\"bottom_units\":\"screen\",\"fill_alpha\":{\"value\":0.5},\"fill_color\":{\"value\":\"lightgrey\"},\"left_units\":\"screen\",\"level\":\"overlay\",\"line_alpha\":{\"value\":1.0},\"line_color\":{\"value\":\"black\"},\"line_dash\":[4,4],\"line_width\":{\"value\":2},\"plot\":null,\"render_mode\":\"css\",\"right_units\":\"screen\",\"top_units\":\"screen\"},\"id\":\"8d7e48e7-e028-4e73-9e40-a9d07695a807\",\"type\":\"BoxAnnotation\"},{\"attributes\":{\"fill_alpha\":{\"value\":0.1},\"fill_color\":{\"value\":\"#1f77b4\"},\"line_alpha\":{\"value\":0.1},\"line_color\":{\"value\":\"#1f77b4\"},\"size\":{\"units\":\"screen\",\"value\":8},\"x\":{\"field\":\"x\"},\"y\":{\"field\":\"y\"}},\"id\":\"a96b13ca-6c80-4c53-a389-b799b46d254f\",\"type\":\"Circle\"},{\"attributes\":{\"fill_alpha\":{\"value\":0.1},\"fill_color\":{\"value\":\"#1f77b4\"},\"line_alpha\":{\"value\":0.1},\"line_color\":{\"value\":\"#1f77b4\"},\"size\":{\"units\":\"screen\",\"value\":8},\"x\":{\"field\":\"x\"},\"y\":{\"field\":\"y\"}},\"id\":\"63121967-3c57-404d-9f04-8e60580922e9\",\"type\":\"Circle\"},{\"attributes\":{\"active_drag\":\"auto\",\"active_inspect\":\"auto\",\"active_scroll\":\"auto\",\"active_tap\":\"auto\",\"tools\":[{\"id\":\"690bad8f-d848-4f95-9222-78d2a19353bd\",\"type\":\"PanTool\"},{\"id\":\"398001f7-28be-4e6b-a832-169a467bef8a\",\"type\":\"WheelZoomTool\"},{\"id\":\"48ae23b3-28e1-4e3a-b7b5-eb02e86fc671\",\"type\":\"BoxZoomTool\"},{\"id\":\"be22e2b2-0291-4b26-82d9-42da9e053f3d\",\"type\":\"SaveTool\"},{\"id\":\"e0c5ab4c-83d5-4dd6-8d5f-cec6af70bbdb\",\"type\":\"ResetTool\"},{\"id\":\"e0a6faf9-b4d6-4f4b-bea8-9d802750857a\",\"type\":\"HelpTool\"}]},\"id\":\"55585215-b36b-4b44-9e04-05fa504fb368\",\"type\":\"Toolbar\"},{\"attributes\":{\"callback\":null,\"column_names\":[\"x\",\"y\"],\"data\":{\"x\":[499.0,500.0,501.0,502.0,503.0,504.0,505.0,506.0,507.0,508.0,509.0,510.0,511.0,512.0,513.0,514.0,515.0,516.0,517.0,518.0,519.0,520.0,521.0,522.0,523.0,524.0,525.0,526.0,527.0,528.0,529.0,530.0,531.0,532.0,533.0,534.0,535.0,536.0,537.0,538.0,539.0,540.0,541.0,542.0,543.0,544.0,545.0,546.0,547.0,548.0,549.0,550.0,551.0,552.0,553.0,554.0,555.0,556.0,557.0,558.0,559.0,560.0,561.0,562.0,563.0,564.0,565.0,566.0,567.0,568.0,569.0],\"y\":[1068.0,1320.0,689.4,595.9,476.3,1682.0,248.7,272.5,453.1,366.5,819.8,731.3,426.0,680.7,556.7,658.8,701.9,391.2,1052.0,1214.0,493.1,493.8,257.8,1841.0,388.1,571.0,293.2,221.3,551.1,468.5,594.2,445.2,422.9,416.2,575.5,1299.0,365.6,1308.0,629.8,406.4,178.8,170.4,402.9,656.4,668.6,538.4,584.8,573.2,324.9,320.8,285.7,361.6,360.5,378.4,507.9,264.0,514.3,321.4,311.7,271.3,657.1,403.5,600.4,386.0,716.9,1347.0,1479.0,1261.0,858.1,1265.0,181.0]}},\"id\":\"4f0e61fa-b4ba-4304-8ec6-eb2ff44745c2\",\"type\":\"ColumnDataSource\"},{\"attributes\":{},\"id\":\"7fc4f476-45b3-4767-8cbd-dde160c91eaa\",\"type\":\"LinearScale\"},{\"attributes\":{\"fill_alpha\":{\"value\":0.5},\"fill_color\":{\"value\":\"#1f77b4\"},\"line_color\":{\"value\":\"#1f77b4\"},\"size\":{\"units\":\"screen\",\"value\":8},\"x\":{\"field\":\"x\"},\"y\":{\"field\":\"y\"}},\"id\":\"925474ec-b038-495d-9e7c-338842298f1d\",\"type\":\"Circle\"},{\"attributes\":{\"label\":{\"value\":\"M\"},\"renderers\":[{\"id\":\"304f08d8-df3f-42ac-973f-19341cc1d07f\",\"type\":\"GlyphRenderer\"}]},\"id\":\"18bcc166-976e-4f7e-a2c3-fde07289b2f4\",\"type\":\"LegendItem\"},{\"attributes\":{\"grid_line_alpha\":{\"value\":0.3},\"plot\":{\"id\":\"47c789c5-7371-41ab-9137-48063298699c\",\"subtype\":\"Figure\",\"type\":\"Plot\"},\"ticker\":{\"id\":\"4018ade7-059e-46ca-b76e-3b298d6b2201\",\"type\":\"BasicTicker\"}},\"id\":\"e71120c1-122e-4aaf-8596-09f75c9a88ed\",\"type\":\"Grid\"},{\"attributes\":{},\"id\":\"e0a6faf9-b4d6-4f4b-bea8-9d802750857a\",\"type\":\"HelpTool\"},{\"attributes\":{},\"id\":\"60d37e3a-1e8c-43dc-a638-9af78a698c90\",\"type\":\"BasicTickFormatter\"},{\"attributes\":{\"data_source\":{\"id\":\"f9eedf3b-749d-4511-baf8-7c9bdb12b6ab\",\"type\":\"ColumnDataSource\"},\"glyph\":{\"id\":\"28dd7a02-7893-49c7-afd1-e9dbcf86c734\",\"type\":\"Circle\"},\"hover_glyph\":null,\"muted_glyph\":null,\"nonselection_glyph\":{\"id\":\"a96b13ca-6c80-4c53-a389-b799b46d254f\",\"type\":\"Circle\"},\"selection_glyph\":null,\"view\":{\"id\":\"7573c4bc-7b5b-450c-9ad3-a84d6cb241b5\",\"type\":\"CDSView\"}},\"id\":\"fce66194-4551-457b-8a78-939f660acb64\",\"type\":\"GlyphRenderer\"},{\"attributes\":{},\"id\":\"690bad8f-d848-4f95-9222-78d2a19353bd\",\"type\":\"PanTool\"},{\"attributes\":{\"overlay\":{\"id\":\"8d7e48e7-e028-4e73-9e40-a9d07695a807\",\"type\":\"BoxAnnotation\"}},\"id\":\"48ae23b3-28e1-4e3a-b7b5-eb02e86fc671\",\"type\":\"BoxZoomTool\"},{\"attributes\":{\"fill_alpha\":{\"value\":0.5},\"fill_color\":{\"value\":\"#ff7f0e\"},\"line_color\":{\"value\":\"#ff7f0e\"},\"size\":{\"units\":\"screen\",\"value\":8},\"x\":{\"field\":\"x\"},\"y\":{\"field\":\"y\"}},\"id\":\"28dd7a02-7893-49c7-afd1-e9dbcf86c734\",\"type\":\"Circle\"},{\"attributes\":{\"callback\":null,\"column_names\":[\"x\",\"y\"],\"data\":{\"x\":[1.0,2.0,3.0,4.0,5.0,6.0,7.0,8.0,9.0,10.0,11.0,12.0,13.0,14.0,15.0,16.0,17.0,18.0,19.0,23.0,24.0,25.0,26.0,27.0,28.0,29.0,30.0,31.0,32.0,33.0,34.0,35.0,36.0,37.0,39.0,40.0,41.0,42.0,43.0,44.0,45.0,46.0,48.0,54.0,55.0,57.0,58.0,63.0,65.0,66.0,71.0,73.0,74.0,76.0,78.0,79.0,83.0,84.0,86.0,87.0,88.0,92.0,95.0,96.0,100.0,101.0,106.0,109.0,118.0,119.0,120.0,122.0,123.0,127.0,128.0,130.0,132.0,133.0,135.0,136.0,139.0,142.0,147.0,157.0,162.0,163.0,165.0,168.0,169.0,172.0,173.0,178.0,181.0,182.0,183.0,185.0,187.0,191.0,194.0,195.0,197.0,198.0,199.0,200.0,202.0,203.0,204.0,206.0,208.0,211.0,213.0,214.0,215.0,216.0,219.0,220.0,224.0,230.0,231.0,234.0,237.0,238.0,240.0,245.0,251.0,253.0,254.0,255.0,256.0,257.0,258.0,259.0,260.0,261.0,262.0,263.0,264.0,265.0,266.0,273.0,275.0,278.0,281.0,283.0,284.0,298.0,301.0,303.0,318.0,322.0,324.0,329.0,330.0,331.0,336.0,338.0,340.0,344.0,352.0,353.0,354.0,366.0,367.0,369.0,370.0,371.0,373.0,374.0,380.0,386.0,390.0,393.0,394.0,401.0,409.0,415.0,418.0,431.0,433.0,434.0,436.0,442.0,445.0,447.0,450.0,452.0,461.0,462.0,469.0,480.0,488.0,490.0,493.0],\"y\":[1001.0,1326.0,1203.0,386.1,1297.0,477.1,1040.0,577.9,519.8,475.9,797.8,781.0,1123.0,782.7,578.3,658.8,684.5,798.8,1260.0,704.4,1404.0,904.6,912.7,644.8,1094.0,732.4,955.1,1088.0,440.6,899.3,1162.0,807.2,869.5,633.0,698.8,559.2,563.0,371.1,1104.0,545.2,531.5,1076.0,534.6,1033.0,712.8,1152.0,656.9,645.7,499.0,668.3,1130.0,929.4,584.1,817.7,1006.0,1245.0,1878.0,1132.0,1075.0,648.2,1076.0,728.2,705.6,1264.0,642.5,582.7,530.2,1509.0,682.5,782.6,982.0,1077.0,1761.0,572.6,1138.0,1192.0,748.9,809.8,1075.0,506.3,678.1,813.0,432.0,963.7,1157.0,1214.0,1686.0,886.3,984.6,565.4,736.9,832.9,2250.0,1311.0,766.6,710.6,1041.0,609.9,477.4,671.4,588.9,1024.0,1148.0,642.7,951.6,1685.0,597.8,716.6,904.3,1290.0,2499.0,948.0,610.7,578.9,1230.0,1223.0,761.3,503.2,895.0,1319.0,1670.0,1306.0,920.6,1155.0,1364.0,1206.0,928.2,1169.0,602.4,1207.0,713.3,773.5,744.9,1288.0,933.1,947.8,758.6,928.3,1419.0,1491.0,998.9,1102.0,1138.0,1145.0,805.1,431.1,1217.0,1247.0,1027.0,1274.0,1264.0,813.7,826.8,793.2,918.6,1092.0,1747.0,1194.0,758.6,2010.0,716.6,1293.0,1234.0,1546.0,1482.0,840.4,1386.0,1335.0,361.6,664.7,1174.0,744.7,1407.0,994.0,991.7,719.5,803.1,685.0,1250.0,1110.0,599.5,928.8,990.0,981.6,1384.0,1191.0,930.9,2501.0,980.5,815.8,1167.0,857.6,1007.0]}},\"id\":\"e35ff422-be8b-447f-803d-9bd289dc5dc1\",\"type\":\"ColumnDataSource\"},{\"attributes\":{},\"id\":\"4018ade7-059e-46ca-b76e-3b298d6b2201\",\"type\":\"BasicTicker\"},{\"attributes\":{},\"id\":\"e0c5ab4c-83d5-4dd6-8d5f-cec6af70bbdb\",\"type\":\"ResetTool\"},{\"attributes\":{\"source\":{\"id\":\"f9eedf3b-749d-4511-baf8-7c9bdb12b6ab\",\"type\":\"ColumnDataSource\"}},\"id\":\"7573c4bc-7b5b-450c-9ad3-a84d6cb241b5\",\"type\":\"CDSView\"}],\"root_ids\":[\"47c789c5-7371-41ab-9137-48063298699c\"]},\"title\":\"Bokeh Application\",\"version\":\"0.12.10\"}};\n",
       "          var render_items = [{\"docid\":\"ec17e431-b300-45e5-b558-40312f8ed49e\",\"elementid\":\"fbded6f0-3018-41a0-a3b2-4ecbacc4b156\",\"modelid\":\"47c789c5-7371-41ab-9137-48063298699c\"}];\n",
       "      \n",
       "          root.Bokeh.embed.embed_items(docs_json, render_items);\n",
       "        }\n",
       "      \n",
       "        if (root.Bokeh !== undefined) {\n",
       "          embed_document(root);\n",
       "        } else {\n",
       "          var attempts = 0;\n",
       "          var timer = setInterval(function(root) {\n",
       "            if (root.Bokeh !== undefined) {\n",
       "              embed_document(root);\n",
       "              clearInterval(timer);\n",
       "            }\n",
       "            attempts++;\n",
       "            if (attempts > 100) {\n",
       "              console.log(\"Bokeh: ERROR: Unable to embed document because BokehJS library is missing\")\n",
       "              clearInterval(timer);\n",
       "            }\n",
       "          }, 10, root)\n",
       "        }\n",
       "      })(window);\n",
       "    });\n",
       "  };\n",
       "  if (document.readyState != \"loading\") fn();\n",
       "  else document.addEventListener(\"DOMContentLoaded\", fn);\n",
       "})();\n",
       "\n",
       "</script><div style=\"padding:5px\" id=\"pd-bkchartdiv-abc831f1\">\n",
       "<div class=\"bk-root\">\n",
       "    <div id=\"9C0E7848787B4DBC95281A03F41B7E8E\" class=\"bk-plot-layout bk-layout-fixed\" style=\"position: relative; width: 825px; height: 490px;\"><div id=\"F8B145374A46412A99DA756BBEE01AAA\" class=\"bk-toolbar-wrapper\" style=\"left: 795px; top: 5px; width: 30px; height: 485px;\"><div class=\"bk-toolbar-right bk-toolbar-sticky\"><a href=\"https://bokeh.pydata.org/\" target=\"_blank\" class=\"bk-logo bk-logo-small\"></a><div class=\"bk-button-bar\"><div class=\"bk-button-bar-list\" type=\"pan\"><div id=\"8A348C295297472BA427FE0FDC07A3D9\" class=\"bk-toolbar-button bk-active\"><div class=\"bk-btn-icon bk-tool-icon-pan\"></div><span class=\"bk-tip\">Pan</span></div><div id=\"33D2FDCD6CC9446DB21E8D3B11B45399\" class=\"bk-toolbar-button\"><div class=\"bk-btn-icon bk-tool-icon-box-zoom\"></div><span class=\"bk-tip\">Box Zoom</span></div></div><div class=\"bk-button-bar-list\" type=\"scroll\"><div id=\"F751DC7B5D5D403B9449F84210D6024F\" class=\"bk-toolbar-button\"><div class=\"bk-btn-icon bk-tool-icon-wheel-zoom\"></div><span class=\"bk-tip\">Wheel Zoom</span></div></div><div class=\"bk-button-bar-list\" type=\"pinch\"></div><div class=\"bk-button-bar-list\" type=\"tap\"></div><div class=\"bk-button-bar-list\" type=\"press\"></div><div class=\"bk-button-bar-list\" type=\"rotate\"></div><div class=\"bk-button-bar-list\" type=\"actions\"><div id=\"75A2ACAC4C6D49F8A2188279B8E9851A\" class=\"bk-toolbar-button\"><div class=\"bk-btn-icon bk-tool-icon-save\"></div><span class=\"bk-tip\">Save</span></div><div id=\"C7D9C9FE9F3045CF8675CE647DE2567E\" class=\"bk-toolbar-button\"><div class=\"bk-btn-icon bk-tool-icon-reset\"></div><span class=\"bk-tip\">Reset</span></div></div><div class=\"bk-button-bar-list\" type=\"inspectors\"></div><div class=\"bk-button-bar-list\" type=\"help\"><div id=\"70094933133B44039169BAD07635C3AE\" class=\"bk-toolbar-button\"><div class=\"bk-btn-icon bk-tool-icon-help\"></div><span class=\"bk-tip\">Click the question mark to learn more about Bokeh plot tools.</span></div></div></div></div></div><div id=\"C92639E276674962B9054BC73D4FD3C5\" class=\"bk-plot-wrapper\" style=\"position: absolute; left: 0px; top: 0px; width: 825px; height: 490px;\"><div id=\"61D94762276E42A9A38EE73942789595\" class=\"bk-canvas-wrapper\" style=\"touch-action: none; user-select: none; -webkit-user-drag: none; -webkit-tap-highlight-color: rgba(0, 0, 0, 0);\"><div class=\"bk-canvas-events\"></div><div class=\"bk-canvas-overlays\"><div id=\"DB8A5C2A177142BDBD9644CD3478A015\" class=\"bk-shading\" style=\"display: none;\"></div></div><canvas class=\"bk-canvas\"></canvas></div></div></div>\n",
       "</div></div>\n",
       "                    \n",
       "                \n",
       "        </div>"
      ],
      "text/plain": [
       "<IPython.core.display.HTML object>"
      ]
     },
     "metadata": {},
     "output_type": "display_data"
    }
   ],
   "source": [
    "display(cancer_nums)"
   ]
  },
  {
   "cell_type": "markdown",
   "metadata": {},
   "source": [
    "We can also use PixieDust to the composition of the data. \n",
    "Below we group the data by diagnosis so that we can get a count of the number of each diagnosis (M-malignant, B-benign, U-unlabeled). \n",
    "\n",
    "Using the table feature we can see that the data has 305 benign tumors, 193 malignant tumors, and 71 unlabeled tumors. \n",
    "\n",
    "We can also use a pie chart, created using the drop down menu used previously to make the scatterplot above, to see the percentages of each diagnosis."
   ]
  },
  {
   "cell_type": "code",
   "execution_count": 7,
   "metadata": {
    "pixiedust": {
     "displayParams": {
      "aggregation": "SUM",
      "handlerId": "pieChart",
      "keyFields": "diagnosis",
      "rowCount": "1000",
      "valueFields": "count"
     }
    },
    "scrolled": false
   },
   "outputs": [
    {
     "data": {
      "text/html": [
       "<style type=\"text/css\">.pd_warning{display:none;}</style><div class=\"pd_warning\"><em>Hey, there's something awesome here! To see it, open this notebook outside GitHub, in a viewer like Jupyter</em></div>\n",
       "        <div class=\"pd_save is-viewer-good\" style=\"padding-right:10px;text-align: center;line-height:initial !important;font-size: xx-large;font-weight: 500;color: coral;\">\n",
       "            \n",
       "        </div>\n",
       "    <div id=\"chartFigure997bfed5\" class=\"pd_save is-viewer-good\" style=\"overflow-x:auto\">\n",
       "            \n",
       "                    \n",
       "                            <center><img style=\"max-width:initial !important\" src=\"data:image/png;base64,iVBORw0KGgoAAAANSUhEUgAAAikAAAGnCAYAAABywccrAAAABHNCSVQICAgIfAhkiAAAAAlwSFlzAAAOwwAADsMBx2+oZAAAADl0RVh0U29mdHdhcmUAbWF0cGxvdGxpYiB2ZXJzaW9uIDIuMS4wLCBodHRwOi8vbWF0cGxvdGxpYi5vcmcvpW3flQAAIABJREFUeJzs3XeYVNXBBvD3Ti/bey8DLB1BREBQQGmCGsUCIi5ii6IisWHUiJ8lMcQk1kQjFoREsSai0SBYAAFBYWlStsH23menz/3+WEBWkDoz587M+3ueeZY9M+y8o+zuO+eee64ky7IMIiIiIoVRiQ5AREREdCwsKURERKRILClERESkSBrRAYj8QZZleDweuFwu0VGIFE+r1UKtVkOSJNFRiLphSaGQ43Q6ceDAAbS1tYmOQhQ0oqKikJ2dDZ1OJzoK0WESz+6hUCLLMrZt2waNRoP09HTo9Xq+OyQ6DlmW4XA4UFFRAbfbjf79+7OokGKwpFBIsdvt2LVrF/r06QOz2Sw6DlHQsFqt2LNnDxoaGnDhhRdCq9WKjkTEhbMUWg51bpWK/7SJTsWh75m9e/di7dq1gtMQdeFPciIiOsxkMuHAgQOiYxABYEkhIqIjqNVqOBwO0TGIALCkEAmXk5ODxYsXHzU+duxYPPLIIwISKdPYsWMhSRJef/31buM2mw3R0dGQJAlFRUWC0inLof9WkiRBrVYjIyMDd999N8sHBR2egkxhI+fBTwPyPPufnhqQ5/GLx6ID+Fytp/xXMjIysHTpUtx4442Hxz766CNERUUJOeV84JKBAXuuHbN3nNLj58+fjwULFsDj8WD37t2YM2cOIiMj8eSTT/opIZHvcSaFiILGtGnTsHnzZpSVlR0eW7JkCWbNmiUwlTKZzWakpKQgPT0d48ePx5VXXomtW7eKjkV0SlhSiChoREZG4rLLLsOyZcsAAFVVVVi3bh2mT58uOJmylZeXY9WqVRg2bJjoKESnhCWFiIJKfn4+li5dCgBYtmwZpkyZgpiYGMGplGfRokWIiIiA0WhEVlYW0tLS8PDDD4uORXRKWFKIKKhMmDABLS0t2Lx5M5YuXYr8/HzRkRTplltuQUFBAbZt24bPP/8cFRUVmD9/vuhYRKeEJYVIsF9a9Nna2oqoqCgBiZRNrVZj5syZuPfee1FbW4vJkyeLjqRIsbGx6NmzJ/Ly8jBp0iQsXLgQr7zyCmw2m+hoRCeNJYVIsF69eqGgoKDbWHt7O4qKipCXlycolbLNnj0ba9euxYwZM7h9+0nSaDTweDxwOp2ioxCdNJ6CTCTYvHnzMHHiRAwbNgyTJ09Ge3s7nnjiCaSkpGDKlCmi4ynSoEGD0NDQgIiICNFRFMtqtaKmpgayLKOkpARPPvkkRo8ejejoAJ5mTnSGOJNCJNiYMWPw3nvvYenSpRg6dCguueQSaLVarFq1ilejPY74+Hjo9XrRMRTr2WefRWpqKtLT03HVVVehf//+WL58uehYRKeEV0GmkGKz2fDjjz+iX79+MBqNouMQBY1D3zvbt2+Hw+HAbbfdJjoSEWdSiIiISJlYUoiIiEiRWFKIiIhIkVhSiIiISJFYUoiIiEiRWFIopEiSBADwer2CkxAFl0PfMzzhk5SEm7lRSNHr9VCr1SgtLUV6ejr0ev3h4kJER5NlGQ6HA+Xl5fB6vbDb7VCp+P6VlIElhUKKJEno168fDhw4gJKSEtFxiIJGZ2cnqqur4fV6uYkgKQZLCoUcnU6Hnj17orCwEKtWrYLZbIbZbBYdi0ix3G43vF4vPB4P2tvbkZ2dLToSEQCWFApRkiShZ8+eqK+vx4YNG1BTUyM6EpHiybKM7OxsjBkzRnQUIgDcFp9CnNfrRXFxMdra2uB2u0XHIVIsSZJgMpmQnZ2NyMhI0XGIALCkEBERkUJxCTcREREpEksKERERKRJLChERESkSSwoREREpEksKERERKRJLChERESkSSwoREREpEksKERERKRJLChERESkSSwoREREpEksKERERKRJLChERESkSSwoREREpEksKERERKRJLChERESkSSwoREREpEksKERERKRJLChERESkSSwoREREpEksKERERKRJLChERESkSSwoREREpEksKERERKRJLChERESkSSwoREREpEksKERERKRJLChERESkSSwoREREpEksKERERKRJLChERESkSSwoREREpEksKERERKRJLChERESkSSwoREREpEksKERERKRJLChERESkSSwoREREpEksKERERKRJLChERESkSSwoREREpEksKkY+MHTsWkiTh9ddf7zZus9kQHR0NSZJQVFQkKB0RUfBhSSHyoYyMDCxdurTb2EcffYSoqChBiYiIghdLCpEPTZs2DZs3b0ZZWdnhsSVLlmDWrFkCUxERBSeWFCIfioyMxGWXXYZly5YBAKqqqrBu3TpMnz5dcDIiouDDkkLkY/n5+YcP+SxbtgxTpkxBTEyM4FRERMGHJYXIxyZMmICWlhZs3rwZS5cuRX5+vuhIRERBiSWFyMfUajVmzpyJe++9F7W1tZg8ebLoSEREQYklhcgPZs+ejbVr12LGjBnQarWi4xARBSWN6ABEoWjQoEFoaGhARESE6ChEREGLJYXIT+Lj40VHICIKapIsy7LoEEREREQ/xzUpREREpEgsKURERKRILClERESkSFw4S0SnxmUDHO0Hb20//dltB7xeQD7WzXPwo3z0fSotoDUAWhOgNQIaY9fHI2+Hx0yAmj+2iMIFv9uJwpXXC1jrgPZqoL3mp4/WesDe9rMicujzDsDrEptbpQG0ZsAYA5gTAXNC182U8Mufa/RiMxPRaeHZPUShyGUDmkqBtqojSkhV9zLSUdc1wxEO9FGAKR6ISAZisoDYnIO37K6PkWmAike/iZSGJYUoWHm9QMsBoLEYaCwCGgsPfiwGWisA8Fv7pKn1QEwmEJN9RIHJOVhicgFDlOCAROGJJYVI6WzNQP1eoOFQCTl4ayoFPA7R6cKDOQlI6gMk9Tvi1hfQc0dhIn9iSSFSktYKoGYHUL0dqNne9bG1THQqOiapa/YleQCQMvDgbVDX7AsR+QRLCpEo7bVA1Rag8gegcgtQXQB0NopORWfKEA0kDwRSzwIyhwGZI4CoVNGpiIISSwpRIHjcQNVW4MC3QMXmrj+3VYpORYESkwVkjQQyhwNZI4DEvlyoS3QSWFKI/OFQKdm/Fti/Dij/DnB2iE5FSqGP7pplyRrRNdOSPhTQmUSnIlIclhQiX/C4uw7XHColZRtZSujkqbRda1qyRgKWsUDu+V2b1xGFOZYUotMhy13rSUrXHCwl3wHOdtGpKFRoDED2eUDPCUCvCUBCL9GJiIRgSSE6WS4bUPwVsPe/QOFKoKNWdCIKFzHZQM/xXYUl9wJAZxadiCggWFKIjqejDtj7Wdet5GvAbROdiMKdWt+1lqXXhK6ZlqQ+ohMR+Q1LCtHP1e7qmi3Z+3nX6cHcuZWULDoL6HcZMGBa1wJcohDCkkIky12nBu9e0TVj0nJAdCKi0xObA/S/Aug/DUgdJDoN0RljSaHwVbcH2P4OsON9oLVcdBoi34rv2VVWBkzr2sKfKAixpFB4aa8Fdr4PbHuna9t5onCQ2LerrPSfBiT0FJ2G6KSxpFDoc1qB3Z8A25d3LX6VPaITEYmTPBA4awYweCZgihOdhui4WFIoNHk9QMlXwPZ3uwqKyyo6EZGyqPVA30uBoTd0bR5HpEAsKRRa2muBH94AfngTaK8WnYYoOMT3BM6eDQy+DjDHi05DdBhLCoWGso3Apn8AP34MeF2i0xAFJ7UO6HPJwdmVCwBJEp2IwhxLCgUvlx3Y8V5XOeEiWCLfiusBnJ0PDJkFmBNEp6EwxZJCwaf5ALB5MbB1KWBrFp2GKLSpdV1nBY2aByT3F52GwgxLCgUHWQaKvwQ2vQoU/g+QvaITEYWfnhOA0fOBnNGik1CYYEkhZfN6gJ0fAmv/DNTvFp2GiAAg/ZyumZU+lwIqleg0FMJYUkiZPO6u3WDX/gVoKhadhoiOJb4nMPLOrj1XNHrRaSgEsaSQsridQMEyYN1fgZYy0WmI6GREJAPDfw2ccxNgjBGdhkIISwopg8sObFkCfPsc0FYpOg0RnQ5dJHDOHGD0b7ibLfkESwqJ5bQC378OrH8B6KgVnYaIfEEfBZx3FzDyDkBnFp2GghhLConh7AS+exnY8CLQ2Sg6DRH5gzkJuOD+rtkVtVZ0GgpCLCkUWLIMbHsbWP0E0F4lOg0RBUJMNjDuYWDg1TwbiE4JSwoFTulaYOXDQPU20UmISITkAcBFjwJ5k0QnoSDBkkL+11gMrPwdsPdT0UmISAmyzgPGPwZkDRedhBSOJYX8p7MJ+OaPwObXeNE/Ijpa76nA5N8DsTmik5BCsaSQ77mdXRf9W/MnwN4iOg0RKZnGCJx/LzDqbkCjE52GFIYlhXxrz6fAykeAphLRSYgomMT3AqY+A1jGik5CCsKSQr7RVg389z5gzyeikxBRMBtwJTDp90BkiugkpAAsKXRmZBn44U3gi4WAo1V0GiIKBfooYNxDwLm3Aiq16DQkEEsKnb6GImDF3cCBdaKTEFEoShkEXPJXIOMc0UlIEJYUOnUeN/Dts10LY9120WmIKKRJwNn5wITHefHCMMSSQqemcgvw8TygdofoJEQUTiLTgF+9APQcLzoJBRBLCp0cZyfw1VPAxr8Dskd0GiIKV0PnAJOe4oULwwRLCp1Y+Sbgw1uA5v2ikxARdW3+dvnLQPZI0UnIz3ilJ/plXg/w9R+BNy5mQSEixZBbyvHd6g/w9Gd74PJ4RcchP+JMCh1bS3nX7EnZBtFJiIgOc0Xn4hHVXVhe3bWPyoD0KDw3Ywh6JEYITkb+wJJCR9v1UdepxXbue0JEyrEv82pce+ASNDq13caNWjV+d0k/zByeJSgZ+QtLCv3EZQc+fxD44Q3RSYiIDvOYk/C8eR6eK7Mc93GXD07DH6YNglHHDeBCBUsKdWksBt6bDdTw1GIiUo6a9AmYWX0tSjoNJ/X4vOQI/H3WUB7+CREsKQTseB9YMR9wtotOQkQEAJD1kXg7/k48VDLwlP9uhF6DP145CFMHpfohGQUSS0o483qAz38LbHpFdBIiosPakofjhpYbsaU18oy+zpxROXhoSl9o1TyRNVixpIQreyvw3g1A8ZeikxARAQBktR6r027Fr4uGwyP7plgMzY7FSzPPRkr0yR0uImVhSQlHTSXAv2YADXtFJyEiAgDY4/thnmMuVjbE+fxrJ0bqsTj/HJyVyWv/BBuWlHCz/1tg+SzA1iQ6CRERZEmFrRnX4/qSCbB6/HdYxqBV4S/XDMaUgVynEkxYUsLJlqXAp/cAHqfoJEREcEdl4f80d2FpVXpAnk+SgPsm9sYd43oG5PnozLGkhAOvF1j1KLD+BdFJiIgAACUZV2BG+eWoc2hP/GAfu2poBv4wbSAX1AYBlpRQ5+gAPrgZ2PeZ6CRERPAaE/C3qHl45oDY2YwRlji8PGsoYkw6oTno+FhSQllrJfCva4DanaKTkI88vc6BNwtcKGv1wqiVMCpTjWcm6pEX332Hze+rPBj5mhXD09VYd+NPl7R/4hsHnv3OiUgd8NIUA6bm/fQudt5ndmRESXhglD5gr4fCS33ahZhZex0KrUbRUQAAlgQzltx4LjLjTKKj0C/gXFeoaioF3pjMghJiesSq8OIUA3bNjcCX+SaoVcDUf9m6PcbmkjH73zaMzeleXApqPPjb906snGXCH8cbMPvfdngPvkcpqPHgq/1u/GYE31WS78k6M95PewDDSm5WTEEBgJIGK65+eQOK6riRpVKxpISihkLgjSlAS5noJORjV/fXYrxFg9xYFc5KUePxsXoUNXlR2/HT5eoXrHJgcg8NRmV2Lyn7Gr0Yk63G0DQ1pg/QQq0CGjplyLKM2z+147nJBmjVUqBfEoW49qRzMEP1Z9xXMlh0lGOqabPjmlc2YmclL6iqRCwpoaZ2F/DGxUB7legk5Gc2l4w3C1zoHa9CormrXKwuceOLEjeeuujoQzb9ElX4odqLZpuMH6o80KiARJOExVtcyImRcGGuJtAvgUKYrNLim8zbMbh8Pr5riRId57iarE5c+4+N2FTKrRmUhj+VQknVVmDpNO6BEuI+2efCjPdt6HQBefEqfHadCSpJQqtdxs0rbHj7SiMMmqNnRAYkqXHbUC3OXWyFWQssvcKIJpuM369zYO0cM+5bacdHe1wYlanBPy41HPNrEJ0MR2xv3Ou+A58UJoiOctLaHW7kv/4dXp41FGN7J4mOQwdx4WyoKN8ELLsKcHDKMtRZnTKqO2TUdHjx5w1OVLfLWDvHhJtX2JEaIeHp8V3bfz/2tR2rSjzdFs7+3M0f29AvUYWcGBVe/t6JT2eacMsKOwYlq3DPSC6gpVMjQ8LOzJmYUToZVrf6xH9BgXRqFZ6dwU3flIIlJRTsXwf8azrg7BCdhALM6ZER+8d2vH2lEfM+s6Oi7advZ68MyADUErBrrhm9E7r/0thQ7savP7Fjy6/NuH+lA73iVZg7TIdP97nw2lYXPpzOMx7o5Lkj0/EH3Ty8VpkpOsoZU6skPDt9MC49K010lLDHwz3Brmg18M51gNt24sdSSJJlQKMCVl5vgtPz0/jfNjuxscKDt64wIje2+/Izj1fGHf+148UpBmhUEjwy4PJ0FRyXF/DwrQudggMZl2FGxTRU20Pj7DCPV8ZvlhdAr1FhYv8U0XHCGhfOBrN9K4G3r2VBCSMLvrBjQ7kbB1q82FTpwYz3bUgwSRiVqUFevBoDkn66JZklmLQSBiSpofvZWTsvbnKif5IaF2R3vU8ZkaHG0u0u7K734B8/uDAiPTin6imwvMY4vJqyEGOKZoRMQTnE7ZVx59tbsWZfvegoYY0lJViVbwLezQc8DtFJKIDK2ry4+j0b8l7swLTlndBrgNX5JkQbTn6R66G1LH+a8NOak2v6azAwWY0Rr1mhVgF3nhtav3DI9xpTL8BU1yI8tb+36Ch+43R7cevS7/FdSaPoKGGLa1KCUf0+4PVJPIuHiAJO1pqwIvl2zCsaKjpKwEToNVh607kYkhUrOkrYYUkJNm3VwGsTgVZu1EZEgWVNHIzbrbdiTVOM6CgBF2XQ4O1bR6B/WrToKGGFJSWY2Fu7dpLlVvdEFECySoMN6TdiTvEFcHjDd5VAQoQOH80dxWv9BBBLSrBwO4BlVwL714pOQkRhxBnTAw/Kd+HDWm5wBgA9kyLwwe3nIdqoPfGD6YyxpAQDrxd4/wbgx/+ITkJEYUKGhD2Z0zFj/xS0urhbxZFG9YzHm3POhVYdvrNKgcL/wsHg8wUsKEQUMB5zChYlPoWLCy9jQTmGb4sa8fBHO0THCAv816d0a/8CbPqH6BREFCYq0y/G9MprUNHIyyIcz7vfVyA73ow7xvUUHSWk8XCPkhWuAv51NSB7RSchohAn66OxJG4eHivtKzpK0JAk4PkZQ7h9vh+xpChVSznwygXcC4WI/K45ZRRmN83G9rYI0VGCjl6jwge3n4cB6Tw12R+4JkWJ3M6u3WRZUIjIj2SNEZ9lzMfZB+ayoJwmh9uLuf/cglabS3SUkMSSokSfLwCqtohOQUQhzJYwADfpn8HtRedClk/+sgp0tLKmTtz77jbwwITvsaQozbblwPevi05BRCFKltTYnHkjzq5egC8buc27r6zaXYtX1pSIjhFyuCZFSWp/BBZfBLg6RSchohDkis7F71R34p3qVNFRQpJaJeFfNw/HcEu86CghgzMpSmFvA969ngWFiPyiMPMqjGh+jAXFjzxeGXe+vRV17faAPWdOTg4WL1581PjYsWPxyCOPBCyHv7CkKMV/7gAai0SnIKIQ4zEn4dmkJzGhcBoandzK3d/q2x2Y/04B16f4CEuKEmx+Ddj9segURBRiatInYILtaTxbZhEdJaysL27EG9/uFx0jJLCkiNZSDnyxUHQKIgohsj4S/0r7LUYUz0FJp0F0nLC06H97UFLfITpG0GNJEe2T+YCzXXQKIgoRbcnDcSWewUMlA0VHCWt2lxf3vbcNHi8P+5wJlhSRCt4GilaJTkFEIUBW67Eq404MKbsLW1ojRcchAFvKWvDKmmLRMYIaS4ooHXXA/34rOgURhQB7fD/cbnoGNxedB4/MH+tK8uwXhdhb47/Z8qioKLS1tR013traiqioKL89b6DwX7Mon94L2JpFpyCiICZLKmzNnI2hNQ/h83ruzaFETo8X97xbALfHPxeK7dWrFwoKCrqNtbe3o6ioCHl5eX55zkBiSRHhx//wbB4iOiPuqEwsjF2EKwonwerhj3Il21XVhtfWlfrla8+bNw/Lly/HCy+8gMLCQmzZsgX5+flISUnBlClT/PKcgcQdZwOtswl4aThgrROdhIiCVGnm5ZhedgXqHNz3JFiYdGqsvncMUqONPv/aH3/8MZ588kns2bMHERERGD16NP70pz8hOzvb588VaCwpgfbRbcC2t0WnIKIg5DUm4OWou7DoQC/RUeg0XDwgBX+fNVR0jKDCOcJAKt/EgkJEp6U+7UJMdv6RBSWIfbazBmsL60XHCCosKYH0xaOiExBRkJF1ZnyQfj+GldyMfVbfHyqgwHp8xY9+W0QbilhSAmXPf4GyDaJTEFEQ6UgaihmqP+Pe4iGio5CPFNZ1YOnGA6JjBA2WlEDweoDV/yc6BREFCVmlxTeZt2NIxT34riX497qg7v76xT60drpExwgKLCmBUPBPoH6P6BREFAQcsb0xL+IZzC48Hy6vJDoO+UGb3Y1/rOVOtCeDZ/f4m8sGPH820F4lOgkRKZgMCTszZ2Jm6SS0uzWi45CfmXVqrF1wIeLMOtFRFI0zKf628e8sKER0XO7IdDyV8DQuLZzKghImrE4PXv6GsyknwpkUf+psAp4fDNhbRSchIoUqy7gE0yuuQrWd76jDjUGrwpoHxiEp0iA6imJxJsWf1v6ZBYWIjslriMXilIW4oGgmC0qYsru8+NtXnE05Hs6k+EtnE/CXfoDbJjoJESlMU+r5uL4hH7vazaKjkGA6jQpf3zcWaTHcA+dYOJPiLz+8yYJCRN3IWhNWZNyLs0tvZ0EhAIDT7cU/1pSIjqFYLCn+4HEDmxeLTkFECmJNHIzZ2mdwVxGv3ULdvf9DBdrt3DflWFhS/GH3x0BbpegURKQAskqD9Zm34uzK+7CmKUZ0HFKgDocb735fITqGIrGk+MN3L4tOQEQK4Izpgfsi/4SZhWPh8PLHLf2yJev3w+vlEtGf43eNr1VuAcq/E52CiASSIWFP5nQMa1yID2qTRcehIFDW1InVe+pEx1AclhRf2/h30QmISCCPOQWLEp/C5MJfodXFjdno5L2+rlR0BMXhd5AvtdcAuz4SnYKIBKlKn4wZVdegrDH4Nufq3Lse7Vs/gaO6CLKzE1n3/weSSg0AcNaWoHXDu3BU/givwwpNbDqiR14Dc5/Rh/9+x/aVaFmzFDJkxF6Qj4hBEw/f17bpI7haqhE/cW7AX1cw2VDSiN3VbeibyotKHsKZFF/a/Brg5QptonAj66PxVuojOK84H2W24CsoAOB1O2DIOgvRI6466j5nbTHUkfFIuOwBpN74EiIGjkfDx4tgL9sOAPB0tqLpy9eQcOn9SLj0fjStXgxPZ9dGlu72RrRv/RQxF+QH9PUEq+Wby0VHUBTOpPiK1wNsWSI6BREFWEvKechvugHbSyNERzkjEf3HAcDh4tHtvkETun2uPecy2Io3o7PwOxiyBsHdUgNtXAYM2YO67o/PgLulBmpTNJq/XIzokdOhNgT3f59A+WR7FR6Z2hcaNecQAM6k+E7pGqCjVnQKIgoQWWPA5xl3Y8iBO7C9Lfx+AXttbVAZIwEAmthUuNtq4W6rg7u1Du62Omhi02DbXwBPewPMA8cLThs8GjqcWFvUIDqGYnAmxVd2vi86AREFiC1hAO603YbVRXGiowhh3fstXI0VSOg3FgCgNkYhdtxNqF3+KAAg7sJboNIZ0LzqFSRcej/aNn2Ijm2fQxuXgfip90B9sNzQsf17ayXG9U4SHUMRWFJ8we0Adq8QnYKI/EyW1PghIx/Xl1wIm0ctOo4Q9ordaPzvs4i/+C5oY1IOj0f0H3f4kBEAtKx/B4acwZBlL6w7v0TqDS+g7bsP0PrtvxA3/tciogeNlbtqYXW4YdbzVzQP9/iAXPgFr3ZMFOJc0Tn4bcwiXFU4IWwLiqN6H+refwyx426E+eAsyrG4WmrQsf0LxJw/C46KXTBahkKlM8DUZzQcFT8GLnCQsrk8+N+uGtExFIE1zQceavgWP/QbCos+HrnQweJ0wNLeBEvjfsRaG0XHI6IzVJh5FWYcuBSNTq3oKMI4a4tR9+6jiB45HZGDLz7uY5tXvYKY0ddBpTcDXi9kr6frDq/npz/Tcf27oArTzs4QHUM4lpQz5PK68E35N2h3taPaVo9vD92hBpBkRqwuDbnGRFhURlhcHlisLbA0VyKluQISuAUykZJ5TYl4PuJuPFtoER3F7zy2dnja6uFqrgYAOOtKIUmqrkWxrbWoXf47mPqOQUT/cfB0NAMAJK2uq4gcobNwI7yOTkQMuBAAoEvrg7YVixAxcDzat3wCfVqfwL6wILWhuAEdDjciwvyQjyTLMn9TnoF1letw+6rbT/nvmTQm5BiTYNFEwOIBLJ3tyG2tRlbDfmi8bj8kJaJTUZM2ATNrrkVJZ3Due3KqOnasQuN/nz1qPPna38NetgOt37591H3mARchYepvDn/uddlR/fpdSJz2MHSJOYfHm79+Ex0Fn0GbkI2Eyx+EJiI8FxyfqleuH4pJ/VNO/MAQxpJyhh7f8Dje2/eez76eRqVBlikFFm0ULF41LPZOWFprkdO4H0Znp8+eh4iOTdZHYnn8nXiwZKDoKBTmrj03C3+YFt7/DsN7HskHNlRt8OnXc3vdKOmoQMmRgwZASk9EmikJubpYWKCDxWmHpa0Rlsb9iO5s9mkGonDVlnwubmi5CVtKeIosiffNXl5wkCXlDNRYa1DRURGQ55Iho7Ik9ow/AAAgAElEQVSzFpWdtVh3aFADIDkScfosWAwJsKgMsLg8yO1ohqW5AiktlQHJRhTsZLUOX6bdiluLRsAj86RHUoaqVjv21bYjLzl8SzNLyhnYVLNJdAQAQJOjGU2OZnx/5GCsGubEPsg1JcOijkCuR4alsx2WlipkNuyHWuYKeyIAsMf1wW9cc/FZYYLoKERH+XpvHUsKnZ7NNZtFRzguq7sTO9tKsfPIwQhAG5WDbFMKcrVRsHhVP617aSiFwWUTFZcooGRJhW0Zs3BdyURYPZw9IWX6em89br2gh+gYwrCknAGll5Rf4vK6UNRRjqIjBw2AKjMZqcZEWHRxsEALi8MOS3sjchtKEW1rERWXyOfcUZl4QjMPSwrTRUchOq6tZS3weGWoVZLoKEKwpJymqo4qVHaE1poPr+w9vO5l7aFBDYCUKCToc2AxJCBXpYfF5YaloxmWpnIktVYLTEx06kozLsf08itQ5wjfjdkoeNhcHuytaUe/tCjRUYRgSTlNSlmPEigNjiY0OJrQ7VXHaRGZ3A+5xiTkqs2wuL0H171UIr2xjOteSFG8xgS8HHUXFhX1Eh2F6JQUlLewpNCpKagrEB1BEdpdHdju6sD2IwcjAV10LrJNKbBoI7vWvdisyD247kXvtouKS2GqPm0crqudhX0HjKKjEJ2ybeUtmDk8S3QMIVhSTlNhS6HoCIrm9DpR2FGGbv+VjIAqKwXpxiRYdLGwQINchwOW9npY6vcjkhdpJB+TdWZ8lDgX9xQPER2F6LQVlIfvmkCWlNMgyzKKmotO/EA6ilf2oryzBuWdNfjm0KAGQGo0Eg25sOgTkKsywOJ0wWJtgqWxHIltvBoonbqOpKG4pf1mbCiOFh2F6IwU1rXD6nDDHIbX8Qm/V+wDlR2V6HRzi3pfq7c3od7ehO+OHIzXITKlH3KNybCoTV3rXqytXetemsqhkr2i4pJCySot1qbfjJuKR8PlDc8zIii0eGVgR2UrRljiRUcJOJaU01DYzEM9gXTMdS9RgD62B3JMKbBoIpHrlWCxdcDSUoOchlJoPU5RcUkgR2we7vPcgRWFiaKjEPlUYV0HS8qxvPXWW5g+fTr0en23cafTiXfeeQf5+fl+C6dURS081KMEDo8De9sPYO+RgyZAnZ2ODFMycrUxsEANi91+cN1LKcyOdlFxyY9kSNiVORPXlk5Cu5vvvSj0HGiwio4gxAmvgqxWq1FdXY2kpKRu442NjUhKSoLHE36nmT7wzQP4bP9nomPQaUgyJMBiiIdF0sPidMLS0YzchgNI6OCFvIKVOzIdi/R34R8V4Xn2A4WH8X2TsXj2OaJjBNwJ33LIsgxJko4a27BhA+Li4vwWTMl4Zk/wqrM3oM7egI2HBiQAiQZEpfeHxZB0cN2LB7nWNliaK5DeVA4Jx+3xJFB5xiWYUXElKuv1J34wURDb3xieMym/WFJUKhUkSYIkSUhJSTnmYxYsWOC3YEpW1VElOgL5WJuzHQXOdnTb/SYaMMT1RI4pBbmaSFg8gMXeAUtLLbK57kUoryEWb8TehSeK+oiOQhQQZU2d8HplqMJse/xfLClffPEFZFnGxIkT8e677yI2NvbwfVqtFtnZ2cjOzg5ISCXpdHXyzJ4wYvc4sKf9APYcOWgCNNkZyDAlIVcXA4usRg+7DZa2euQ2lMLk6BAVNyw0pZ6P6xvysavULDoKUcA43V5Ut9mRHhNeGxL+Ykm56KKLAAClpaXIzMyESsWrhAJAva1edARSALfsxn5rFfZbq/DVoUEdIKXFI9nYGxZ9HCySvmuzuo4mWBoOIM7aIDJy0JO1JnySdBvuKg6/4/JEQNfiWZaUn8nOzkZDQwM2bdqEuro6eL3d96W48cYb/RZOieo7WVLol8mQUWOrR42tHusPDaoAJJkQoxsIizERuSojLC4PLJ2tsDRVIrWZ615OxJo4GLdbb8Wa4hjRUYiEqe9wiI4QcCcsKcuXL8ecOXOgUqmQkJDQbRGtJElhV1IabHw3TKenxdmKLc5WbDlyMAYwJuQhx5gMiyaia92LrR2WlhpkNuyH1usSFVcRZJUGG9Pn4IbiMXB4OZtL4a3ZGn7r4E5YUh588EEsWLAAjzzyCNRqdSAyKRoP95Cv2dw27G7fj91HDpoBTWQmMo3JsOiiYfGqkeuwwdJa17XuxRn6K/2dMRb8Vr4LHxQmi45CpAgttvB703LCktLY2Ijrr7+eBeUgHu6hQHF73Si1VqLUWonVhwb1gJSegBRjH1j08ciFDhanA5b2Jlga9yPW2igyss/syZyOa/dPRbOLG7MRHdLSyZJylJkzZ+KTTz7BvHnzApFH8ZrsTaIjUJiTIaPaVo9qWz2+PTSoBpBkRqwuDbnGRPQ4tO7F2gJLUwVSWioEJj55HnMK/mKah5cKc0RHIVKcVs6kHC06OhoLFy7EypUrMXDgQGi12m73P/74434Lp0RO7o1BCtbsbEXzz9e9xKpgSuyDXFMyLOoIWDwycjvbYWmpQmbjAWi8blFxu6lKn4wZVdegrNEgOgqRIrV0ht/vnxOWlE2bNmHw4MGwWq3YuHFjt/t+vhNtOHCF+UJGCk6d7k7saivFriMHIwBtVDayTMmwaKOR61XBYu+EpbUWOY37YXQGZj8gWR+FZXF34nfFAwLyfETBimtSjuGrr7460UPCCksKhRKX14XijgoU44jDQQZASk9EmikJubpYWKCDxWmHpa0Rlsb9iO5s9tnzt6SMxA1Nc1BQGuGzr0kUqmzO8LtWHlelnSKWFAoHMmRUdtaisrMW6w4NagAkRyJOnwWLIQEWlQEWlwe5Hc2wNFcgpaXy5L++xoCVKb/GbcXnQpbDb0aW6HQc/3LAoemEJeX8888/7mGdNWvW+DSQ0rGkULhrcjSjydGM748cjFXDfMS6l1yPDEtnG3o0VyGj8QDU8k/vAG3xA3Cn/TasLgrPC5QSnS5PGLaUE5aU8ePHd/vc5XJhx44dWLNmDebOneu3YErl8rCkEB2L1d2JnW2l2HnkYCSgi849uO4lCqkwYZc7G255P8637BeUlCg4xRljAYwRHSOgTlhSFi5ceMzx559/Hjt27PB5IKVzK+RMCKJg4fQ6UdRRjqLDI5sFpiEKXha1BcCdomME1GnvMz116lQsX77cl1mCglrFTe2IiCjwVFL4XRritF6xx+PBkiVLkJiY6Os8imfW8vLwREQUeGop/N4kn/BwT2ZmZreFs7Iso7GxESqVCm+88YZfwykRSwoREYmgU+tERwi4E5aUJ598stvnKpUKiYmJGDZsGOLj4/0WTKlYUoiISIRofbToCAF3wpIye/bsQOQIGhFabjpFRESBF6OPER0h4E5qM7eysjK89NJL2Lt3LwCgT58+mDt3LrKysvwaTolMWpPoCEREFIbCsaSccOHs559/jry8PKxZswYWiwUWiwXffPMNevfujZUrVwYio6JwJoWIiEQIx5JywpmUBQsWYMGCBfi///u/buOPPvoo7r//fkycONFv4ZQoQseSQkREgReOJeWEMyl79+7FrFmzjhq//vrrDx/+CScpphTREYiIKAzFGFhSjpKZmXnMwzorV65EZmamX0IpWXpkuugIREQUhsJxJuWEh3t+97vf4aabbsLatWsxYsQIAMDGjRvxwQcfhOU+KekR6ZAgQUb4XeiJiIjESTWnio4QcCecScnPz8eaNWsgSRLeeustLFmyBJIkYc2aNcc8DBTq9Go9EowJomMQEVEY0aq0SI8Iv5n8E86kfPrpp9BqtXj77be7jf/vf//DZ599hosvvthv4ZQqPSId9bZ60TGIiChMZEZmhuW14044k/LAAw9Alo8+tKFSqfDAAw/4JZTScV0KEREFUk5UjugIQpywpJSUlCAvL++o8V69eqG4uNgvoZQuzZwmOgIREYWRnOgc0RGEOGFJSUpKwvbt248a37p1K+Li4vwSSulyo3NFRyAiojASrjMpJ3Xtnrlz58Lr9WLMmDEAgK+//hrz5s3DnDlz/B5QifrH9xcdgYiIwki4vjk+YUlZuHAhPB4PZs6cCafTCQDQ6/W455578Nhjj/k7nyLlROfArDXD6rKKjkJERGEgXEuKJB9rVewx2O12FBUVQZZl9OrVCwaDwd/ZFG3O53Pwfe33omMQEVGIy47KxidXfCI6hhAndRVkADAYDBgwYIA/swSVAQkDWFKIiMjvBicOFh1BmBMunKVj47oUIiIKhCFJQ0RHEIYl5TT1T2BJISIi/xucxJkUOkWZkZlhebEnIiIKnChdFCzRFtExhGFJOQPnJJ8jOgIREYWwsxLPgiRJomMIw5JyBkamjRQdgYiIQlg4r0cBWFLOyMhUlhQiIvKf4anDRUcQiiXlDGRGZSIzMlN0DCIiCkGJxkQMTBgoOoZQLCln6Pz080VHICKiEDQmc0xYr0cBWFLO2JiMMaIjEBFRCBqXOU50BOFYUs7QsJRhMGlMomMQEVEIMWqMYb8eBWBJOWNatRbnZ/CQDxER+c55aedBr9aLjiEcS4oPXGK5RHQEIiIKITzU04UlxQdGpY9CrD5WdAwiIgoBGpWG6x0PYknxAa1Ki8m5k0XHICKiEDA2YyxiDLzsCsCS4jOXWi4VHYGIiELAFb2uEB1BMVhSfGRg4kDkROWIjkFEREEsyZSEUWmjRMdQDJYUH+ICWiIiOhO/6vErqFVq0TEUgyXFhy7pcQkkhPfugEREdHokSDzU8zMsKT6UHpHOFdlERHRahqUM4/XgfoYlxcfy++eLjkBEREGIsyhHY0nxsWEpw9A3rq/oGEREFESSTEmYlD1JdAzFYUnxg+v7XS86AhERBZH8fvnQqrWiYygOS4ofTM6djCRjkugYREQUBKL10bg672rRMRSJJcUPtCotru17regYREQUBGb0ngGT1iQ6hiKxpPjJ1XlXw6gxio5BREQKZtQYcV3f60THUCyWFD+J1kdjRu8ZomMQEZGCXdHzCsQaeIHaX8KS4kc3DbwJkdpI0TGIiEiBNJIGN/S/QXQMRWNJ8aNofTRuGHCD6BhERKRAl/e6HKkRqaJjKBpLip/N6jsL8YZ40TGIiEhBTBoT7hh8h+gYiseS4mcmrQm3DrpVdAwiIlKQOQPmIMGYIDqG4rGkBMDVeVcjPSJddAwiIlKAJFMSZvefLTpGUGBJCQCtWstpPSIiAgDcOfhOblFxklhSAmSqZSoGxA8QHYOIiATKi83Dr3r+SnSMoMGSEiAqSYXfjfwd1JJadBQiIhLk3nPuhUrir96Txf9SAdQvvh+m954uOgYREQkwNmMszks7T3SMoCLJsiyLDhFOOpwd+NW/f4U6W53oKEREFCAmjQn/ufw/SDGniI4SVDiTEmARugjcf+79omMQEVEA3TH4DhaU08CSIsDknMkYlTZKdAwiIgqAfvH9eBHB08SSIsjDwx+GXq0XHYOIiPxIo9Lg8fMeh1rFkyZOB0uKIJlRmbhryF2iYxARkR/dMvAW9I7rLTpG0GJJESi/Xz6GpwwXHYOIiPwgLzYPtwy6RXSMoMaSIpAkSXhy9JOI1keLjkJERD6kU+nw1OinoFVpRUcJaiwpgqWYU/DoiEdFxyAiIh+655x70Ceuj+gYQY8lRQEm5kzEr3pwm2QiolBwYeaFPJvHR7iZm0JYXVZc9fFVqOioEB2FiIhOU6o5Fe9d+h4P4/sIZ1IUwqw14w/n/4HX9iEiClIaSYNFFyxiQfEhlhQFGZw0GL8Z+hvRMYiI6DTMHTwXg5MGi44RUlhSFGZ2/9mYapkqOgYREZ2CEakjcNPAm0THCDlck6JAdrcd+Z/lY3fTbtFRiIjoBNIj0vGvqf9CnCFOdJSQw5kUBTJoDHhu3HP8B09EpHBmrRkvXPgCf177CUuKQqVGpOKZMc9AI2lERyEiomNQSSosumAResX2Eh0lZLGkKNiwlGG4b9h9omMQEdEx/Obs3+CCjAtExwhpLCkKd13f6zCt1zTRMYiI6AhX9LwCNwy4QXSMkMeFs0HA7XVj3pfzsLZyregoRERh7+yks7F44mJo1bwuj7+xpAQJm9uGm1fejO3120VHISIKW5mRmfjnlH8i1hArOkpY4OGeIGHUGPG3i/4GS7RFdBQiorCUZErCqxNfZUEJIJaUIBKtj8YrE15BsilZdBQiorASq4/FqxNeRXpEuugoYYUlJcikmFPw8viXEaWLEh2FiCgsRGgj8PKEl2GJ4Ux2oLGkBKGesT3x4kUvwqA2iI5CRBTSDGoDXrzoRfSL7yc6Sljiwtkg9m3lt7j7q7vh8DhER6EgVvtRLer/U99tLHJIJLLvzu42Ziu1ofjJYpgsJlge/ukdZd1/6tC4shEqgwpp16chcnDk4fuqllVBG6dF4pRE/74IIj/QqDR4ftzzOD/jfNFRwha3Mw1io9JH4dlxz+LuL++G0+sUHYeCmNFiRNa8rMOfq7TdJ1m9Ti8qXq2AuY8ZsvOn9zW2AzY0fdmEnPtz4Kx1omJxBfo83weSSoLtgA3WPVb0fKxnwF4Hka+oJBWePv9pFhTBeLgnyI1OH43nLnwOOpVOdBQKYpJagjZGe/imNqu73V/zbg0iBkbA1NPUbdxZ64S5txnGHCOih0cDKsDT4YEsy6h6qwqpM1MhaaRAvhSiM6aRNHj6/KcxKWeS6ChhjyUlBIxOH43nL3yea1TotNnL7dgzbw/2LdiHqreq4LF6Dt/X8WMHrLusSL7y6LPK9Gl62A7Y4LF6YNtvg6SSoI5Uo/mbZugSdIjoFxHIl0F0xnQqHf4y9i+4OPdi0VEIXJMSUjZVb8KdX94Jm9smOgoFkfbt7ZBdMnRJOjgbnKh9vxZqsxq5v82F1+ZF0aNFyLwtE6aeJtR+VAvrj9Zua1IaPmtA09dNUOlUSLk2BYYsA4ofK4blIQsaVjag7Yc2mHuZkXZDGlQ6vi8i5TJqjHhu3HMYmTZSdBQ6iCUlxBTUFeD2Vbejw9UhOgoFKUedA4UPFKLHwh5oXNUITbQGKdekAMAxS8rPVb5eCX2aHtoELZq+akLOb3JQ+UYlDJkGJExOCNTLIDolkdpIvDT+JQxJGiI6Ch2Bb2tCzOCkwVg8aTHiDHGio1CQ0ifpoTKp4Kx3wrrHiobPG7Dzxp3YeeNO1H9cj87CTuy8cScc1UefVdZZ1InOkk7ET4hH575ORJ0dBUkjIXpYNDoLOwW8GqITi9XHYvGkxSwoCsSze0JQ//j+WDZlGeaumov9bftFx6Eg42x0wtvphTZBi5z7cyC7f5psbfqyCZ3Fnci4JQPaxO4XV5O9MqqWViHt+jRIagmyV4bs6fq7skeG7OWkLSlPojERr058FT1ieoiOQsfAmZQQlRmZiaUXL8XgxMGio5DC1SyvgXWfFc56Jzp2d6DshTIYexphzDFCn6KHIcNw+KaOVEOlU8GQYYBK0/3HR+OqRujT9DD3NgMATD1MaFnfAnuVHU3fNMHUw3SspycSxhJtwVsXv8WComAsKSEsxhCDxZMWY3zWeNFRSMGcjU6Uv1SOwgcLUbm4EsYcI7LnZUNSnfypw64WFxo/b0TK9JTDY9HnRsOQYUDJEyWQJAlxF/EQJCnH8NThWDplKTIiM0RHoePgwtkw4JW9WLR5Ef65+5+ioxARCTet1zQ8MuIRaFXaEz+YhGJJCSNLdi3Bn7//M2TwfzkRhR8JEu4++27cNPAm0VHoJLGkhJlVB1bh4XUPo9PNMy2IKHwY1Ab8/vzfY0L2BNFR6BSwpIShouYizP96Pg60HRAdhYjI7xKMCXjhwhcwIGGA6Ch0ilhSwlS7sx0PrX0IX1d8LToKEZHfnJV4Fp4Z8wxSzCknfjApDktKGJNlGS9vexl/3/Z3rlMhopAzq+8s3HPOPVwgG8RYUghrKtbgwbUPot3ZLjoKEdEZM2vNePy8xzExZ6LoKHSGWFIIAFDWVoa7v7obRS1FoqMQEZ22njE98dexf0VOdI7oKOQDLCl0mM1tw6LNi/D+vvdFRyEiOmWX9bgMj4x4BEaNUXQU8hGWFDrK6rLVeGz9Y2hxtIiOQkR0Qga1AQ+c+wCuzrtadBTyMZYUOqb6zno8tO4hbKzeKDoKEdEvGhA/AL8///fIjc4VHYX8gCWFfpEsy3jrx7fw3Jbn4PK6RMchIjpMI2lw66BbccugW6BRaUTHIT9hSaET2tO0BwvWLEBJa4noKEREyI3OxR9G/wH9E/qLjkJ+xpJCJ8XutuOvP/wV7+x9B17ZKzoOEYUhCRJm9p2J+WfPh0FjEB2HAoAlhU5JQV0BHlv/GIpbi0VHIaIwkmxKxhOjnsDItJGio1AAsaTQKXN5XHh1x6tYvGMx16oQkV9JkHB13tWYP3Q+InWRouNQgLGk0GkrbinGwvULsa1+m+goRBSCekT3wMLzFmJI0hDRUUgQlhQ6I17Zi3f2vIPntjyHTnen6DhEFAL0aj1uHngzbhpwE7RqXncnnLGkkE/UWGvw1ManeFVlIjojo9JH4eFzH0ZmVKboKKQALCnkU99WfotFmxfxdGUiOiXJpmQsOHcBJmRPEB2FFIQlhXzO7XVj+d7l+FvB39DmbBMdh4gUzKA2IL9/Pm4acBNMWpPoOKQwLCnkNy32FrxY8CLe3/c+PLJHdBwiUhAJEi7tcSnmDZmHZHOy6DikUCwp5Hf7mvdh0aZF+K7mO9FRiEgBzk05F/edcx/6xvcVHYUUjiWFAmZ12Wo8t+U5lLaWio5CRALkROXg3nPuxdjMsaKjUJBgSaGA8ng9+KTkE/x9299R2VEpOg4RBUCsPha3D74dV+ddzYsB0ilhSSEhXF4XPir8CK9sfwV1nXWi4xCRH8ToYzC7/2zM7DOTi2LptLCkkFAOjwPL9yzHaztfQ5O9SXQcIvIBlhPyFZYUUoROVyf+ufufeHPXmzxtmShIsZyQr7GkkKJ0ODvw7r53sezHZai31YuOQ0QnIUYfg/x++ZjZdybMWrPoOBRCWFJIkZweJ1YUr8Cbu97E/rb9ouMQ0TEkmZIws89MzOgzg+WE/IIlhRTNK3vxVdlXeH3X69hev110HCIC0DeuL67vdz0m506GVsULAJL/sKRQ0Pi+5nu8sesNrK1YCxn8Z0sUSBIkXJBxAfL75ePc1HNFx6EwwZJCQaeouQj/3PNPfFryKWxum+g4RCHNoDbgsh6XYVa/WciNzhUdh8IMSwoFrXZnO/5d9G8s37scB9oOiI5DFFLSzGm4Mu9KXJN3DWIMMaLjUJhiSaGgJ8syNlRtwLv73sU35d/ALbtFRyIKShpJgzGZY3BV3lU4L+08qCSV6EgU5lhSKKTUd9bjw8IP8UHhB6i2VouOQxQUMiIycGXelbi85+VIMCaIjkN0GEsKhSSv7MX6qvVYUbwCX5V/xbUrRD+jVWkxLnMcrsq7CiNSR0CSJNGRiI7CkkIhz+qyYtWBVVhRsgKbazbDK3tFRyISZmDCQFycezGmWqYizhAnOg7RcbGkUFipsdbgv6X/xYriFShqKRIdhyggLNEWTMmdgim5U5AZlSk6DtFJY0mhsLWnaQ9WFK/A//b/D7WdtaLjEPlUqjkVk3MnY2ruVPSO6y06DtFpYUmhsCfLMnY27MTqstVYXbaa2/BT0Eo0JuLCrAsxJXcKhiQN4ToTCnosKUQ/U9xSjFUHVmF12WrsbtotOg7RcfWK7YWxGWNxYdaF6B/fn8WEQgpLCtFxVHVUHZ5hKagrgEf2iI5EYU6j0mBo8lCMyxyHsZljkR6RLjoSkd+wpBCdpDZnG76r/g7rq9ZjQ9UGVHZUio5EYSJGH4ORaSMxLnMcRqePRqQuUnQkooBgSSE6Tftb92N91Xqsr1qPzTWb0enuFB2JQoRRY8TZyWdjRMoIjEgbgd6xvXkYh8ISSwqRD7g8LhTUF2B91Xpsqt6EH5t+hNvL7fnp5GhUGgxMGIgRqSMwPHU4BiUOglalFR2LSDiWFCI/sLvt2NGwA1tqt2Br/VZsr9uOdle76FikEDqVDv3i+2FI0hCck3IOzkk+ByatSXQsIsVhSSEKAK/sRWFzIbbUbcHWuq3YWrcVNdYa0bEoQJJMSRiUMAhnJZ6FwUmD0T++P7RqzpQQnQhLCpEgNdYa/Nj4I/Y07cHuxt3Y3bSbm8qFgChdFHrH9cbAhIGHb8nmZNGxiIISSwqRgjTZm7CncQ9+bPqpvJS3l0MGv02VRi2pkRWVhd6xvZEXm4e82Dz0juuNFHOK6GhEIYMlhUjhOpwdKGopQmlrKfa37T/8sby9nItzA0AlqZBsSkZWVBZ6xvQ8XEp6xPSAQWMQHY8opLGkEAUpt9eNivaKo8pLZXslGuwNvNrzKZAgIcWcgqyoLGRFZiE7KhuZkZnIjspGRmQG9Gq96IhEYYklhSgEubwu1HXWobqjGtXWatRYa1Bt/enPNdYadLg6RMcMmFh9LJJMSYdvyaZkJJmSkGhKRHpEOosIkUKxpBCFqQ5nBxrtjWiyN6HJ1oRGeyOa7c1ocbQcvrU52tDiaEGrsxU2lw1Or1N0bBg1RkTqIhGli0K0PhpRuqjuf9ZHIdYQi2RTMhKNiUgyJUGn1omOTUSngSWFiE6ax+uBzW2DzW2D3W1Hp7uz2+c2tw0OjwMe2QMZMmS56+aFt+vPh8YgHz4cpVPrYFAboFProFfrD3888s86tQ5GjRFRuigWDqIwwpJCREREiqQSHYCIiIjoWFhSiIiISJFYUoiIiEiRWFKIiIhIkVhSiIiISJFYUoiIiEiRWFKIwsTYsWMhSRIkSYJarUZGRgbuvvtuOBwO0dGIiI6JJYUojMyfPx/V1dUoKyvDm2++iQ8//BBPPPGE6FhERMekER2AiALHbDYjJSUFAJCeno4rr7wSW7duFZyKiOjYOJNCFKbKy8uxatUqDBs2THQUIqJj4rb4RGFi7NixWL9+PXQ6HTbtPcsAAAF5SURBVDweD+x2OyZMmIBPP/0UWq1WdDwioqNwJoUojNxyyy0oKCjAtm3b8Pnnn6OiogLz588XHYuI6JhYUojCSGxsLHr27Im8vDxMmjQJCxcuxCuvvAKbzSY6GhHRUVhSiMKYRqOBx+OB0+kUHYWI6Cg8u4cojFitVtTU1ECWZZSUlODJJ5/E6NGjER0dLToaEdFRuHCWKEyMHTsW33zzDQBAkiQkJyfjoosuwqJFi5CWliY4HRHR0VhSiIiISJG4JoWIiIgUiSWFiIiIFIklhYiIiBSJJYWIiIgUiSWFiIiIFIklhYiIiBSJJYWIiIgUiSWFiIiIFIklhYiIiBSJJYWIiIgUiSWFiIiIFIklhYiIiBSJJYWIiIgUiSWFiIiIFIklhYiIiBSJJYWIiIgUiSWFiIiIFIklhYiIiBSJJYWIiIgUiSWFiIiIFIklhYiIiP6/3ToWAAAAABjkbz2NHUXRkqQAAEuSAgAsSQoAsCQpAMCSpAAASwFrzC4bHdT73AAAAABJRU5ErkJggg==\" class=\"pd_save\"></center>\n",
       "                        \n",
       "                    \n",
       "                \n",
       "        </div>"
      ],
      "text/plain": [
       "<IPython.core.display.HTML object>"
      ]
     },
     "metadata": {},
     "output_type": "display_data"
    }
   ],
   "source": [
    "cancer = cancer_nums.groupby(\"diagnosis\").count()\n",
    "display(cancer)"
   ]
  },
  {
   "cell_type": "markdown",
   "metadata": {},
   "source": [
    "Because some of our data points are unlabeled we need to filter them out before we train our model."
   ]
  },
  {
   "cell_type": "code",
   "execution_count": 8,
   "metadata": {},
   "outputs": [],
   "source": [
    "LabeledData = cancer_nums.filter(\"diagnosis != 'U'\")"
   ]
  },
  {
   "cell_type": "markdown",
   "metadata": {},
   "source": [
    "<a id=\"engineer\"></a>\n",
    "## Feature Engineering \n",
    "We need to change our label, **diagnosis**, into a form that SparkML can use using StringIndexer. StringIndexer encodes the input column, in our case the diagnosis column, to a column of indices that are representative of the frequency of the input string and are used in training the model.\n",
    "\n",
    "To turn the label back into a human readable form we can use the converter that we define below using IndexToString. IndexToString maps the column of indices back to the original labels of the column."
   ]
  },
  {
   "cell_type": "code",
   "execution_count": 10,
   "metadata": {},
   "outputs": [],
   "source": [
    "labelIndexer = StringIndexer(inputCol=\"diagnosis\", outputCol=\"label\", handleInvalid=\"error\")\n",
    "labelModel = labelIndexer.fit(LabeledData)\n",
    "converter = IndexToString(inputCol=\"prediction\", outputCol=\"predCategory\", labels=labelModel.labels)"
   ]
  },
  {
   "cell_type": "markdown",
   "metadata": {},
   "source": [
    "Now we must put all feature columns into an array using VectorAssembler which combines a list of columns into a single vector column that can be used in training the model."
   ]
  },
  {
   "cell_type": "code",
   "execution_count": 11,
   "metadata": {},
   "outputs": [],
   "source": [
    "vecAssembler = VectorAssembler(inputCols=[\"radius_mean\",\"texture_mean\",\"perimeter_mean\",\"area_mean\",\"smoothness_mean\",\"compactness_mean\",\"concavity_mean\",\"concave points_mean\",\"symmetry_mean\",\"fractal_dimension_mean\",\"radius_se\",\"texture_se\",\"perimeter_se\",\"area_se\",\"smoothness_se\",\"compactness_se\",\"concavity_se\",\"concave points_se\",\"symmetry_se\",\"fractal_dimension_se\",\"radius_worst\",\"texture_worst\",\"perimeter_worst\",\"area_worst\",\"smoothness_worst\",\"compactness_worst\",\"concavity_worst\",\"concave points_worst\",\"symmetry_worst\",\"fractal_dimension_worst\"], outputCol=\"features\")"
   ]
  },
  {
   "cell_type": "markdown",
   "metadata": {},
   "source": [
    "We use a normalizer to normalize each vector to have a standard form to improve the algorithm."
   ]
  },
  {
   "cell_type": "code",
   "execution_count": 12,
   "metadata": {},
   "outputs": [],
   "source": [
    "normalizer = Normalizer(inputCol=\"features\", outputCol=\"normFeatures\", p=1.0)"
   ]
  },
  {
   "cell_type": "markdown",
   "metadata": {},
   "source": [
    "<a id=\"model\"></a>\n",
    "## State the model to be used \n",
    "Next we need to create our logistic regression model that will output its prediction into the **prediction** column.\n",
    "\n",
    "Logistic Regression is often used for models of binary categorical outcome."
   ]
  },
  {
   "cell_type": "code",
   "execution_count": 13,
   "metadata": {},
   "outputs": [],
   "source": [
    "lr = LogisticRegression(maxIter=10, regParam=0.3, elasticNetParam=0.8)"
   ]
  },
  {
   "cell_type": "markdown",
   "metadata": {},
   "source": [
    "<a id=\"pipeline\"></a>\n",
    "## Create a pipeline\n",
    "A pipeline chains together multiple tranformers to specify a specific ML workflow. It is a sequene of pipeline stages that are to be run in a specific order.\n",
    "\n",
    "In our case, we first want to tranform the label into a usable form for the algorithm, then we create a combined vector, normalize the vector, and finally convert the results back into the original label format."
   ]
  },
  {
   "cell_type": "code",
   "execution_count": 14,
   "metadata": {},
   "outputs": [],
   "source": [
    "pipeline = Pipeline(stages=[labelIndexer, vecAssembler, normalizer, lr, converter])"
   ]
  },
  {
   "cell_type": "markdown",
   "metadata": {},
   "source": [
    "<a id=\"train\"></a>\n",
    "## Divide data into a training and testing set \n",
    "We should split the data randomly with 70% going to the training set and 30% going to the testing set."
   ]
  },
  {
   "cell_type": "code",
   "execution_count": 15,
   "metadata": {},
   "outputs": [
    {
     "name": "stdout",
     "output_type": "stream",
     "text": [
      "The number of records in the training data set is 357.\n",
      "The number of rows labeled M is 138.\n",
      "The number of rows labeled B is 219.\n",
      "\n",
      "The number of records in the test data set is 141.\n",
      "The number of rows labeled M is 55.\n",
      "The number of rows labeled B is 86.\n"
     ]
    }
   ],
   "source": [
    "train, test = LabeledData.randomSplit([70.0,30.0], seed=1)\n",
    "train.cache()\n",
    "test.cache()\n",
    "print('The number of records in the training data set is {}.'.format(train.count()))\n",
    "print('The number of rows labeled M is {}.'.format(train.filter(train['diagnosis'] == \"M\").count()))\n",
    "print('The number of rows labeled B is {}.'.format(train.filter(train['diagnosis'] == \"B\").count()))\n",
    "\n",
    "print()\n",
    "\n",
    "print('The number of records in the test data set is {}.'.format(test.count()))\n",
    "print('The number of rows labeled M is {}.'.format(test.filter(train['diagnosis'] == \"M\").count()))\n",
    "print('The number of rows labeled B is {}.'.format(test.filter(train['diagnosis'] == \"B\").count()))"
   ]
  },
  {
   "cell_type": "markdown",
   "metadata": {},
   "source": [
    "## Fit the model and make predictions \n",
    "Next, we need to fit the pipeline to the model and make predictions using the model."
   ]
  },
  {
   "cell_type": "code",
   "execution_count": 16,
   "metadata": {},
   "outputs": [
    {
     "data": {
      "text/plain": [
       "141"
      ]
     },
     "execution_count": 16,
     "metadata": {},
     "output_type": "execute_result"
    }
   ],
   "source": [
    "model = pipeline.fit(train)\n",
    "predictions = model.transform(test)\n",
    "predictions.count()"
   ]
  },
  {
   "cell_type": "markdown",
   "metadata": {},
   "source": [
    "<a id=\"evaluate\"></a>\n",
    "## Evaluate the accuracy of the model \n",
    "We can use the Reciever Operator Characteristic (ROC) curve for binary classifiers which assess the models diagnositc ability. The ROC is useful for comparing models and choosing the best one for the data. An ROC value close to 1 performs very well, whereas a model with an ROC value close to 0.5 is as good as flipping a coin."
   ]
  },
  {
   "cell_type": "code",
   "execution_count": 17,
   "metadata": {},
   "outputs": [
    {
     "name": "stdout",
     "output_type": "stream",
     "text": [
      "Area under the ROC curve = 0.9890063424947146.\n"
     ]
    }
   ],
   "source": [
    "evaluator = BinaryClassificationEvaluator().setLabelCol(\"label\").setMetricName(\"areaUnderROC\")\n",
    "print('Area under the ROC curve = {}.'.format(evaluator.evaluate(predictions)))"
   ]
  },
  {
   "cell_type": "code",
   "execution_count": null,
   "metadata": {},
   "outputs": [],
   "source": [
    "# UnlabeledData=cancer_nums.filter(\"diagnosis == 'U'\")"
   ]
  },
  {
   "cell_type": "code",
   "execution_count": null,
   "metadata": {},
   "outputs": [],
   "source": [
    "# newPreds = model.transform(UnlabeledData)"
   ]
  },
  {
   "cell_type": "code",
   "execution_count": null,
   "metadata": {
    "pixiedust": {
     "displayParams": {
      "handlerId": "tableView"
     }
    },
    "scrolled": true
   },
   "outputs": [],
   "source": [
    "# newPreds.select(\"id\",\"prediction\",\"predCategory\",\"radius_mean\",\"texture_mean\",\"perimeter_mean\",\"area_mean\",\"smoothness_mean\",\"compactness_mean\",\"concavity_mean\",\"concave points_mean\",\"symmetry_mean\",\"fractal_dimension_mean\",\"radius_se\",\"texture_se\",\"perimeter_se\",\"area_se\",\"smoothness_se\",\"compactness_se\",\"concavity_se\",\"concave points_se\",\"symmetry_se\",\"fractal_dimension_se\",\"radius_worst\",\"texture_worst\",\"perimeter_worst\",\"area_worst\",\"smoothness_worst\",\"compactness_worst\",\"concavity_worst\",\"concave points_worst\",\"symmetry_worst\",\"fractal_dimension_worst\").show()"
   ]
  },
  {
   "cell_type": "code",
   "execution_count": null,
   "metadata": {},
   "outputs": [],
   "source": [
    "# print('The number of records in the unlabeled data set is {}.'.format(newPreds.count()))\n",
    "# print('The number of rows predicted to be malignant is {}.'.format(newPreds.filter(newPreds['predCategory'] == \"M\").count()))\n",
    "# print('The number of rows predicted to be benign is {}.'.format(newPreds.filter(newPreds['predCategory'] == \"B\").count()))"
   ]
  },
  {
   "cell_type": "markdown",
   "metadata": {},
   "source": [
    "<a id=\"tuning\"></a>\n",
    "## Hyperparameter Tuning\n",
    "We can use model selection tools that:\n",
    "\n",
    "1. Split the data into training and test datasets\n",
    "2. For each (training, test) pair, they iterate through the set of ParamMaps\n",
    "3. For each ParamMap, they fit the pipeline using those parameters, get a fitted Model, and evaluate the Model’s performance\n",
    "4. Select the Model found using the best-performing set of parameters\n",
    "\n",
    "To tune our model we will use cross-validation.\n",
    "A CrossValidator splits the dataset into folds which are used as separate training and testing datasets. We will use 10 folds, so the CrossValidator will generate 10 dataset pairs for training and testing datasets. It will use the average evaluation of the 10 models found using each dataset pair to identify the best ParamMap and re-fit the pipeline using the best ParamMap for the entire dataset."
   ]
  },
  {
   "cell_type": "code",
   "execution_count": 18,
   "metadata": {},
   "outputs": [],
   "source": [
    "paramGrid = (ParamGridBuilder().addGrid(lr.elasticNetParam, [0, 0.5, 1.0])\n",
    "                 .addGrid(normalizer.p, [1.0, 2.0]).build())"
   ]
  },
  {
   "cell_type": "code",
   "execution_count": 19,
   "metadata": {},
   "outputs": [],
   "source": [
    "cv = CrossValidator().setEstimator(pipeline).setEvaluator(evaluator).setEstimatorParamMaps(paramGrid).setNumFolds(10)"
   ]
  },
  {
   "cell_type": "code",
   "execution_count": 20,
   "metadata": {},
   "outputs": [
    {
     "name": "stdout",
     "output_type": "stream",
     "text": [
      "Area under the ROC curve for best fitted model = 0.9947145877378436.\n"
     ]
    }
   ],
   "source": [
    "cvModel = cv.fit(train)\n",
    "print('Area under the ROC curve for best fitted model = {}.'.format(evaluator.evaluate(cvModel.transform(test))))"
   ]
  },
  {
   "cell_type": "markdown",
   "metadata": {},
   "source": [
    "Our cross-validated model was 0.58% better at predicting diagnosis than our original model so we will use the new model for our predictions. "
   ]
  },
  {
   "cell_type": "code",
   "execution_count": 21,
   "metadata": {},
   "outputs": [
    {
     "name": "stdout",
     "output_type": "stream",
     "text": [
      "Area under the ROC curve for non-tuned model = 0.9890063424947146.\n",
      "Area under the ROC curve for best fitted model = 0.9947145877378436.\n",
      "Improvement = 0.58%\n"
     ]
    }
   ],
   "source": [
    "print('Area under the ROC curve for non-tuned model = {}.'.format(evaluator.evaluate(predictions)))\n",
    "print('Area under the ROC curve for best fitted model = {}.'.format(evaluator.evaluate(cvModel.transform(test))))\n",
    "print('Improvement = {0:0.2f}%'.format((evaluator.evaluate(cvModel.transform(test)) - evaluator.evaluate(predictions)) *100 / evaluator.evaluate(predictions)))"
   ]
  },
  {
   "cell_type": "markdown",
   "metadata": {},
   "source": [
    "<a id=\"best\"></a>\n",
    "## Finalizing and making predictions using the best model\n",
    "First we must filter out the data points that are not already labeled so that we can make predictions on diagnoses."
   ]
  },
  {
   "cell_type": "code",
   "execution_count": 27,
   "metadata": {},
   "outputs": [],
   "source": [
    "UnlabeledData=cancer_nums.filter(\"diagnosis == 'U'\")"
   ]
  },
  {
   "cell_type": "code",
   "execution_count": 23,
   "metadata": {},
   "outputs": [],
   "source": [
    "newPreds = cvModel.transform(UnlabeledData)"
   ]
  },
  {
   "cell_type": "code",
   "execution_count": 25,
   "metadata": {},
   "outputs": [
    {
     "name": "stdout",
     "output_type": "stream",
     "text": [
      "+-----+----------+------------+-----------+------------+--------------+---------+---------------+----------------+--------------+-------------------+-------------+----------------------+---------+----------+------------+-------+-------------+--------------+------------+-----------------+-----------+--------------------+------------+-------------+---------------+----------+----------------+-----------------+---------------+--------------------+--------------+-----------------------+\n",
      "|   id|prediction|predCategory|radius_mean|texture_mean|perimeter_mean|area_mean|smoothness_mean|compactness_mean|concavity_mean|concave points_mean|symmetry_mean|fractal_dimension_mean|radius_se|texture_se|perimeter_se|area_se|smoothness_se|compactness_se|concavity_se|concave points_se|symmetry_se|fractal_dimension_se|radius_worst|texture_worst|perimeter_worst|area_worst|smoothness_worst|compactness_worst|concavity_worst|concave points_worst|symmetry_worst|fractal_dimension_worst|\n",
      "+-----+----------+------------+-----------+------------+--------------+---------+---------------+----------------+--------------+-------------------+-------------+----------------------+---------+----------+------------+-------+-------------+--------------+------------+-----------------+-----------+--------------------+------------+-------------+---------------+----------+----------------+-----------------+---------------+--------------------+--------------+-----------------------+\n",
      "|499.0|       1.0|           M|      18.49|       17.52|         121.3|   1068.0|         0.1012|          0.1317|        0.1491|            0.09183|       0.1832|               0.06697|   0.7923|     1.045|       4.851|  95.77|     0.007974|       0.03214|     0.04435|          0.01573|    0.01617|            0.005255|       22.75|        22.88|          146.4|    1600.0|          0.1412|           0.3089|         0.3533|              0.1663|         0.251|                0.09445|\n",
      "|500.0|       1.0|           M|      20.59|       21.24|         137.8|   1320.0|         0.1085|          0.1644|        0.2188|             0.1121|       0.1848|               0.06222|   0.5904|     1.216|       4.206|  75.09|     0.006666|       0.02791|     0.04062|          0.01479|    0.01117|            0.003727|       23.86|        30.76|          163.2|    1760.0|          0.1464|           0.3597|         0.5179|              0.2113|         0.248|                0.08999|\n",
      "|501.0|       0.0|           B|      15.04|       16.74|         98.73|    689.4|        0.09883|          0.1364|       0.07721|            0.06142|       0.1668|               0.06869|    0.372|    0.8423|       2.304|  34.84|     0.004123|       0.01819|     0.01996|          0.01004|    0.01055|            0.003237|       16.76|        20.43|          109.7|     856.9|          0.1135|           0.2176|         0.1856|              0.1018|        0.2177|                0.08549|\n",
      "|502.0|       1.0|           M|      13.82|       24.49|         92.33|    595.9|         0.1162|          0.1681|        0.1357|            0.06759|       0.2275|               0.07237|   0.4751|     1.528|       2.974|  39.05|      0.00968|       0.03856|     0.03476|          0.01616|    0.02434|            0.006995|       16.01|        32.94|          106.0|     788.0|          0.1794|           0.3966|         0.3381|              0.1521|        0.3651|                 0.1183|\n",
      "|503.0|       0.0|           B|      12.54|       16.32|         81.25|    476.3|         0.1158|          0.1085|       0.05928|            0.03279|       0.1943|               0.06612|   0.2577|     1.095|       1.566|  18.49|     0.009702|       0.01567|     0.02575|          0.01161|    0.02801|             0.00248|       13.57|         21.4|          86.67|     552.0|           0.158|           0.1751|         0.1889|             0.08411|        0.3155|                0.07538|\n",
      "|504.0|       1.0|           M|      23.09|       19.83|         152.1|   1682.0|        0.09342|          0.1275|        0.1676|             0.1003|       0.1505|               0.05484|    1.291|    0.7452|       9.635|  180.2|     0.005753|       0.03356|     0.03976|          0.02156|    0.02201|            0.002897|       30.79|        23.87|          211.5|    2782.0|          0.1199|           0.3625|         0.3794|              0.2264|        0.2908|                0.07277|\n",
      "|505.0|       0.0|           B|      9.268|       12.87|         61.49|    248.7|         0.1634|          0.2239|        0.0973|            0.05252|       0.2378|               0.09502|   0.4076|     1.093|       3.014|  20.04|     0.009783|       0.04542|     0.03483|          0.02188|    0.02542|             0.01045|       10.28|        16.38|          69.05|     300.2|          0.1902|           0.3441|         0.2099|              0.1025|        0.3038|                 0.1252|\n",
      "|506.0|       0.0|           B|      9.676|       13.14|         64.12|    272.5|         0.1255|          0.2204|        0.1188|            0.07038|       0.2057|               0.09575|   0.2744|      1.39|       1.787|  17.67|      0.02177|       0.04888|     0.05189|           0.0145|    0.02632|             0.01148|        10.6|        18.04|          69.47|     328.1|          0.2006|           0.3663|         0.2913|              0.1075|        0.2848|                 0.1364|\n",
      "|507.0|       0.0|           B|      12.22|       20.04|         79.47|    453.1|         0.1096|          0.1152|       0.08175|            0.02166|       0.2124|               0.06894|   0.1811|    0.7959|      0.9857|  12.58|     0.006272|       0.02198|     0.03966|         0.009894|     0.0132|            0.003813|       13.16|        24.17|          85.13|     515.3|          0.1402|           0.2315|         0.3535|             0.08088|        0.2709|                0.08839|\n",
      "|508.0|       0.0|           B|      11.06|       17.12|         71.25|    366.5|         0.1194|          0.1071|       0.04063|            0.04268|       0.1954|               0.07976|   0.1779|      1.03|       1.318|   12.3|      0.01262|       0.02348|       0.018|          0.01285|     0.0222|            0.008313|       11.69|        20.74|          76.08|     411.1|          0.1662|           0.2031|         0.1256|             0.09514|         0.278|                 0.1168|\n",
      "|509.0|       0.0|           B|       16.3|        15.7|         104.7|    819.8|        0.09427|         0.06712|       0.05526|            0.04563|       0.1711|               0.05657|   0.2067|    0.4706|       1.146|  20.67|     0.007394|       0.01203|      0.0247|          0.01431|    0.01344|            0.002569|       17.32|        17.76|          109.8|     928.2|          0.1354|           0.1361|         0.1947|              0.1357|          0.23|                 0.0723|\n",
      "|510.0|       1.0|           M|      15.46|       23.95|         103.8|    731.3|         0.1183|           0.187|         0.203|             0.0852|       0.1807|               0.07083|   0.3331|     1.961|       2.937|  32.52|     0.009538|        0.0494|     0.06019|          0.02041|    0.02105|               0.006|       17.11|        36.33|          117.7|     909.4|          0.1732|           0.4967|         0.5911|              0.2163|        0.3013|                 0.1067|\n",
      "|511.0|       0.0|           B|      11.74|       14.69|         76.31|    426.0|        0.08099|         0.09661|       0.06726|            0.02639|       0.1499|               0.06758|   0.1924|    0.6417|       1.345|  13.04|     0.006982|       0.03916|     0.04017|          0.01528|     0.0226|            0.006822|       12.45|         17.6|          81.25|     473.8|          0.1073|           0.2793|          0.269|              0.1056|        0.2604|                0.09879|\n",
      "|512.0|       0.0|           B|      14.81|        14.7|         94.66|    680.7|        0.08472|         0.05016|       0.03416|            0.02541|       0.1659|               0.05348|   0.2182|    0.6232|       1.677|  20.72|     0.006708|       0.01197|     0.01482|          0.01056|     0.0158|            0.001779|       15.61|        17.58|          101.7|     760.2|          0.1139|           0.1011|         0.1101|             0.07955|        0.2334|                0.06142|\n",
      "|513.0|       1.0|           M|       13.4|       20.52|         88.64|    556.7|         0.1106|          0.1469|        0.1445|            0.08172|       0.2116|               0.07325|   0.3906|    0.9306|       3.093|  33.67|     0.005414|       0.02265|     0.03452|          0.01334|    0.01705|            0.004005|       16.41|        29.66|          113.3|     844.4|          0.1574|           0.3856|         0.5106|              0.2051|        0.3585|                 0.1109|\n",
      "|514.0|       0.0|           B|      14.58|       13.66|         94.29|    658.8|        0.09832|         0.08918|       0.08222|            0.04349|       0.1739|                0.0564|   0.4165|    0.6237|       2.561|  37.11|     0.004953|       0.01812|     0.03035|         0.008648|    0.01539|            0.002281|       16.76|        17.24|          108.5|     862.0|          0.1223|           0.1928|         0.2492|             0.09186|        0.2626|                0.07048|\n",
      "|515.0|       0.0|           B|      15.05|       19.07|         97.26|    701.9|        0.09215|         0.08597|       0.07486|            0.04335|       0.1561|               0.05915|    0.386|     1.198|        2.63|  38.49|     0.004952|        0.0163|     0.02967|         0.009423|    0.01152|            0.001718|       17.58|        28.06|          113.8|     967.0|          0.1246|           0.2101|         0.2866|               0.112|        0.2282|                0.06954|\n",
      "|516.0|       0.0|           B|      11.34|       18.61|         72.76|    391.2|         0.1049|         0.08499|       0.04302|            0.02594|       0.1927|               0.06211|    0.243|      1.01|       1.491|  18.19|     0.008577|       0.01641|     0.02099|          0.01107|    0.02434|            0.001217|       12.47|        23.03|          79.15|     478.6|          0.1483|           0.1574|         0.1624|             0.08542|         0.306|                0.06783|\n",
      "|517.0|       1.0|           M|      18.31|       20.58|         120.8|   1052.0|         0.1068|          0.1248|        0.1569|            0.09451|        0.186|               0.05941|   0.5449|    0.9225|       3.218|  67.36|     0.006176|       0.01877|     0.02913|          0.01046|    0.01559|            0.002725|       21.86|         26.2|          142.2|    1493.0|          0.1492|           0.2536|         0.3759|               0.151|        0.3074|                0.07863|\n",
      "|518.0|       1.0|           M|      19.89|       20.26|         130.5|   1214.0|         0.1037|           0.131|        0.1411|            0.09431|       0.1802|               0.06188|   0.5079|    0.8737|       3.654|   59.7|     0.005089|       0.02303|     0.03052|          0.01178|    0.01057|            0.003391|       23.73|        25.23|          160.5|    1646.0|          0.1417|           0.3309|         0.4185|              0.1613|        0.2549|                0.09136|\n",
      "+-----+----------+------------+-----------+------------+--------------+---------+---------------+----------------+--------------+-------------------+-------------+----------------------+---------+----------+------------+-------+-------------+--------------+------------+-----------------+-----------+--------------------+------------+-------------+---------------+----------+----------------+-----------------+---------------+--------------------+--------------+-----------------------+\n",
      "only showing top 20 rows\n",
      "\n"
     ]
    }
   ],
   "source": [
    "newPreds.select(\"id\",\"prediction\",\"predCategory\",\"radius_mean\",\"texture_mean\",\"perimeter_mean\",\"area_mean\",\"smoothness_mean\",\"compactness_mean\",\"concavity_mean\",\"concave points_mean\",\"symmetry_mean\",\"fractal_dimension_mean\",\"radius_se\",\"texture_se\",\"perimeter_se\",\"area_se\",\"smoothness_se\",\"compactness_se\",\"concavity_se\",\"concave points_se\",\"symmetry_se\",\"fractal_dimension_se\",\"radius_worst\",\"texture_worst\",\"perimeter_worst\",\"area_worst\",\"smoothness_worst\",\"compactness_worst\",\"concavity_worst\",\"concave points_worst\",\"symmetry_worst\",\"fractal_dimension_worst\").show()"
   ]
  },
  {
   "cell_type": "code",
   "execution_count": 26,
   "metadata": {
    "scrolled": true
   },
   "outputs": [
    {
     "name": "stdout",
     "output_type": "stream",
     "text": [
      "The number of records in the unlabeled data set is 71.\n",
      "The number of rows labeled malignant is 18.\n",
      "The number of rows labeled benign is 53.\n"
     ]
    }
   ],
   "source": [
    "print('The number of records in the unlabeled data set is {}.'.format(newPreds.count()))\n",
    "print('The number of rows labeled malignant is {}.'.format(newPreds.filter(newPreds['predCategory'] == \"M\").count()))\n",
    "print('The number of rows labeled benign is {}.'.format(newPreds.filter(newPreds['predCategory'] == \"B\").count()))"
   ]
  },
  {
   "cell_type": "code",
   "execution_count": null,
   "metadata": {},
   "outputs": [],
   "source": []
  }
 ],
 "metadata": {
  "kernelspec": {
   "display_name": "Python 3.5 with Spark 2.1",
   "language": "python",
   "name": "python3-spark21"
  },
  "language_info": {
   "codemirror_mode": {
    "name": "ipython",
    "version": 3
   },
   "file_extension": ".py",
   "mimetype": "text/x-python",
   "name": "python",
   "nbconvert_exporter": "python",
   "pygments_lexer": "ipython3",
   "version": "3.5.4"
  }
 },
 "nbformat": 4,
 "nbformat_minor": 1
}
