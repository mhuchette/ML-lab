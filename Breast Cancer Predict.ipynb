{
 "cells": [
  {
   "cell_type": "markdown",
   "metadata": {},
   "source": [
    "# Machine Learning with Spark ML\n",
    "\n",
    "### In this notebook, we will explore machine learning using Spark ML. We will exploit Spark ML's high-level APIs built on top of DataFrames to create and tune machine learning pipelines. Spark ML Pipelines enable combining multiple algorithms into a single pipeline or workflow. We will utilize Spark ML's feature transformers to convert, modify and scale the features that will be used to develop the machine learning model. Finally, we will evaluate and cross validate our model to demonstrate the process of determining a best fit model and load the results in the database.\n",
    "\n",
    "### We are using machine learning to try to predict diagnoses of breast cancer tumors. We will use data on tumors that have already been diagnosed as benign or malignant as a training set for the algorithm .¶"
   ]
  },
  {
   "cell_type": "markdown",
   "metadata": {},
   "source": [
    "## Table of Contents \n",
    "1. [Create Version](#version)\n",
    "2. [Import Libraries](#import)\n",
    "3. [Read from Cloud Object Storage](#read)\n",
    "4. [Transform data](#transform)\n",
    "5. [PixieDust](#pixie)\n",
    "6. [Feature Engineering](#engineer)\n",
    "7. [Define model](#model)\n",
    "8. [Create pipeline](#pipeline)\n",
    "9. [Train model](#train)\n",
    "10. [Evaluate accuracy](#evaluate)\n",
    "11. [Hyperparameter Tuning](#tuning)\n",
    "12. [Choose and Utilize the best-fit model](#best)\n",
    "13. [Save Results to Cloud Object Storage](#credentials)"
   ]
  },
  {
   "cell_type": "markdown",
   "metadata": {},
   "source": [
    "<a id=\"version\"></a>\n",
    "## Create Version \n",
    "Save a version of the notebook by selecting <b>File</b> > <b>Save Version</b> \n",
    "<img alt=\"IBM Bluemix.Get started now\" src=\"https://raw.githubusercontent.com/jpatter/LMCO/master/Lab-1/images/FileOptions.PNG\" > or by selecting the <b>Versions</b> icon and selecting <b>Save Version</b>. <img alt=\"IBM Bluemix.Get started now\" src=\"https://raw.githubusercontent.com/jpatter/LMCO/master/Lab-1/images/versions-button.png\" ><br>\n",
    "You can have up to ten (10) versions of a notebook.   Notebook versions are saved in a FIFO manner."
   ]
  },
  {
   "cell_type": "markdown",
   "metadata": {},
   "source": [
    "## Ensure Spark is installed and up to date "
   ]
  },
  {
   "cell_type": "code",
   "execution_count": 1,
   "metadata": {},
   "outputs": [
    {
     "name": "stdout",
     "output_type": "stream",
     "text": [
      "The spark version is 2.1.2.\n"
     ]
    }
   ],
   "source": [
    "print('The spark version is {}.'.format(spark.version))"
   ]
  },
  {
   "cell_type": "markdown",
   "metadata": {},
   "source": [
    "<a id=\"import\"></a>\n",
    "## Import the required libraries "
   ]
  },
  {
   "cell_type": "code",
   "execution_count": 2,
   "metadata": {},
   "outputs": [
    {
     "name": "stdout",
     "output_type": "stream",
     "text": [
      "Pixiedust database opened successfully\n"
     ]
    },
    {
     "data": {
      "text/html": [
       "\n",
       "        <div style=\"margin:10px\">\n",
       "            <a href=\"https://github.com/ibm-watson-data-lab/pixiedust\" target=\"_new\">\n",
       "                <img src=\"https://github.com/ibm-watson-data-lab/pixiedust/raw/master/docs/_static/pd_icon32.png\" style=\"float:left;margin-right:10px\"/>\n",
       "            </a>\n",
       "            <span>Pixiedust version 1.1.11</span>\n",
       "        </div>\n",
       "        "
      ],
      "text/plain": [
       "<IPython.core.display.HTML object>"
      ]
     },
     "metadata": {},
     "output_type": "display_data"
    }
   ],
   "source": [
    "#Imports for Spark\n",
    "from pyspark.ml.feature import StringIndexer, IndexToString\n",
    "from pyspark.ml.feature import Bucketizer\n",
    "from pyspark.mllib.linalg import Vectors\n",
    "from pyspark.ml.feature import VectorAssembler\n",
    "from pyspark.ml import Pipeline\n",
    "from pyspark.ml.feature import Normalizer\n",
    "from pyspark.ml.classification import LogisticRegression\n",
    "from pyspark.ml.evaluation import BinaryClassificationEvaluator\n",
    "from pyspark.ml.tuning import ParamGridBuilder, CrossValidator\n",
    "from pyspark.ml.classification import NaiveBayes, DecisionTreeClassifier\n",
    "from pyspark.sql.functions import year\n",
    "from pyspark.ml.tuning import ParamGridBuilder, CrossValidator\n",
    "from pyspark.mllib.tree import DecisionTree, DecisionTreeModel\n",
    "from pyspark.mllib.util import MLUtils\n",
    "\n",
    "# Imports for pixiedust\n",
    "from pixiedust.display import *"
   ]
  },
  {
   "cell_type": "markdown",
   "metadata": {},
   "source": [
    "<a id=\"read\"></a>\n",
    "## Read from Cloud Object Storage"
   ]
  },
  {
   "cell_type": "code",
   "execution_count": 3,
   "metadata": {},
   "outputs": [
    {
     "data": {
      "text/plain": [
       "[Row(id='1', diagnosis='M', radius_mean='17.99', texture_mean='10.38', perimeter_mean='122.8', area_mean='1001', smoothness_mean='0.1184', compactness_mean='0.2776', concavity_mean='0.3001', concave points_mean='0.1471', symmetry_mean='0.2419', fractal_dimension_mean='0.07871', radius_se='1.095', texture_se='0.9053', perimeter_se='8.589', area_se='153.4', smoothness_se='0.006399', compactness_se='0.04904', concavity_se='0.05373', concave points_se='0.01587', symmetry_se='0.03003', fractal_dimension_se='0.006193', radius_worst='25.38', texture_worst='17.33', perimeter_worst='184.6', area_worst='2019', smoothness_worst='0.1622', compactness_worst='0.6656', concavity_worst='0.7119', concave points_worst='0.2654', symmetry_worst='0.4601', fractal_dimension_worst='0.1189'),\n",
       " Row(id='2', diagnosis='M', radius_mean='20.57', texture_mean='17.77', perimeter_mean='132.9', area_mean='1326', smoothness_mean='0.08474', compactness_mean='0.07864', concavity_mean='0.0869', concave points_mean='0.07017', symmetry_mean='0.1812', fractal_dimension_mean='0.05667', radius_se='0.5435', texture_se='0.7339', perimeter_se='3.398', area_se='74.08', smoothness_se='0.005225', compactness_se='0.01308', concavity_se='0.0186', concave points_se='0.0134', symmetry_se='0.01389', fractal_dimension_se='0.003532', radius_worst='24.99', texture_worst='23.41', perimeter_worst='158.8', area_worst='1956', smoothness_worst='0.1238', compactness_worst='0.1866', concavity_worst='0.2416', concave points_worst='0.186', symmetry_worst='0.275', fractal_dimension_worst='0.08902'),\n",
       " Row(id='3', diagnosis='M', radius_mean='19.69', texture_mean='21.25', perimeter_mean='130', area_mean='1203', smoothness_mean='0.1096', compactness_mean='0.1599', concavity_mean='0.1974', concave points_mean='0.1279', symmetry_mean='0.2069', fractal_dimension_mean='0.05999', radius_se='0.7456', texture_se='0.7869', perimeter_se='4.585', area_se='94.03', smoothness_se='0.00615', compactness_se='0.04006', concavity_se='0.03832', concave points_se='0.02058', symmetry_se='0.0225', fractal_dimension_se='0.004571', radius_worst='23.57', texture_worst='25.53', perimeter_worst='152.5', area_worst='1709', smoothness_worst='0.1444', compactness_worst='0.4245', concavity_worst='0.4504', concave points_worst='0.243', symmetry_worst='0.3613', fractal_dimension_worst='0.08758'),\n",
       " Row(id='4', diagnosis='M', radius_mean='11.42', texture_mean='20.38', perimeter_mean='77.58', area_mean='386.1', smoothness_mean='0.1425', compactness_mean='0.2839', concavity_mean='0.2414', concave points_mean='0.1052', symmetry_mean='0.2597', fractal_dimension_mean='0.09744', radius_se='0.4956', texture_se='1.156', perimeter_se='3.445', area_se='27.23', smoothness_se='0.00911', compactness_se='0.07458', concavity_se='0.05661', concave points_se='0.01867', symmetry_se='0.05963', fractal_dimension_se='0.009208', radius_worst='14.91', texture_worst='26.5', perimeter_worst='98.87', area_worst='567.7', smoothness_worst='0.2098', compactness_worst='0.8663', concavity_worst='0.6869', concave points_worst='0.2575', symmetry_worst='0.6638', fractal_dimension_worst='0.173'),\n",
       " Row(id='5', diagnosis='M', radius_mean='20.29', texture_mean='14.34', perimeter_mean='135.1', area_mean='1297', smoothness_mean='0.1003', compactness_mean='0.1328', concavity_mean='0.198', concave points_mean='0.1043', symmetry_mean='0.1809', fractal_dimension_mean='0.05883', radius_se='0.7572', texture_se='0.7813', perimeter_se='5.438', area_se='94.44', smoothness_se='0.01149', compactness_se='0.02461', concavity_se='0.05688', concave points_se='0.01885', symmetry_se='0.01756', fractal_dimension_se='0.005115', radius_worst='22.54', texture_worst='16.67', perimeter_worst='152.2', area_worst='1575', smoothness_worst='0.1374', compactness_worst='0.205', concavity_worst='0.4', concave points_worst='0.1625', symmetry_worst='0.2364', fractal_dimension_worst='0.07678')]"
      ]
     },
     "execution_count": 3,
     "metadata": {},
     "output_type": "execute_result"
    }
   ],
   "source": [
    "# Insert SparkSession DataFrame here\n",
    "# make CERTAIN to rename the default dataframe name to cancer_df\n",
    "import ibmos2spark\n",
    "\n",
    "# @hidden_cell\n",
    "credentials = {\n",
    "    'endpoint': 'https://s3-api.us-geo.objectstorage.service.networklayer.com',\n",
    "    'api_key': '54eK5hQft9uVYbrpsxfWs4Tdgw8sbc8weZndKdj8iwhj',\n",
    "    'service_id': 'iam-ServiceId-e54eecd9-137d-44ca-b6d3-87b14b0ad21a',\n",
    "    'iam_service_endpoint': 'https://iam.ng.bluemix.net/oidc/token'}\n",
    "\n",
    "configuration_name = 'os_af2c2a9305dd4cc6a1ce91fbe599e4bb_configs'\n",
    "cos = ibmos2spark.CloudObjectStorage(sc, credentials, configuration_name, 'bluemix_cos')\n",
    "\n",
    "from pyspark.sql import SparkSession\n",
    "spark = SparkSession.builder.getOrCreate()\n",
    "cancer_df = spark.read\\\n",
    "  .format('org.apache.spark.sql.execution.datasources.csv.CSVFileFormat')\\\n",
    "  .option('header', 'true')\\\n",
    "  .load(cos.url('cancer_data.csv', 'mlproject-donotdelete-pr-rwqegunlryj5yq'))\n",
    "cancer_df.take(5)\n"
   ]
  },
  {
   "cell_type": "markdown",
   "metadata": {},
   "source": [
    "<a id=\"transform\"></a>\n",
    "## Identify labels and features to transform\n",
    "A label is the output of an ML model. Since we are creating a model to predict whether a tumor is malignant or benign our label will be **diagnosis**.  \n",
    "\n",
    "A feature is an input of the ML model, in this case the columns that we are using to help predict the diagnosis of a tumor. We will need to tranform each feature into a double so that it can be used properly later on to create, train and test the model.\n",
    "\n",
    "Spark uses Resilient Distributed Datasets (RDDs) which are immutable, meaning if we need to transform a column of the dataframe we must create a new RDD each time we perform a transformation. We can do so using withColumn() and because each feature must be cast as a double we need to transform each feature column."
   ]
  },
  {
   "cell_type": "code",
   "execution_count": 4,
   "metadata": {
    "pixiedust": {
     "displayParams": {
      "color": "diagnosis",
      "handlerId": "scatterPlot",
      "keyFields": "id",
      "rowCount": "1000",
      "table_showrows": "All",
      "valueFields": "area_mean"
     }
    }
   },
   "outputs": [],
   "source": [
    "df_cols = [\"radius_mean\",\"texture_mean\",\"perimeter_mean\",\"area_mean\",\"smoothness_mean\",\"compactness_mean\",\"concavity_mean\",\"concave points_mean\",\"symmetry_mean\",\"fractal_dimension_mean\",\"radius_se\",\"texture_se\",\"perimeter_se\",\"area_se\",\"smoothness_se\",\"compactness_se\",\"concavity_se\",\"concave points_se\",\"symmetry_se\",\"fractal_dimension_se\",\"radius_worst\",\"texture_worst\",\"perimeter_worst\",\"area_worst\",\"smoothness_worst\",\"compactness_worst\",\"concavity_worst\",\"concave points_worst\",\"symmetry_worst\",\"fractal_dimension_worst\"]\n",
    "\n",
    "dfprev = (cancer_df.withColumn(\"idTemp\", cancer_df[\"id\"]\n",
    "    .cast(\"Double\")).drop(\"id\").withColumnRenamed(\"idTemp\", \"id\"))\n",
    "\n",
    "for df_col in df_cols:\n",
    "    dfnew = (dfprev.withColumn(\"temp\", dfprev[df_col]\n",
    "             .cast(\"Double\")).drop(df_col).withColumnRenamed(\"temp\",df_col))\n",
    "    dfprev = dfnew\n",
    "    \n",
    "cancer_nums = dfprev"
   ]
  },
  {
   "cell_type": "markdown",
   "metadata": {},
   "source": [
    "<a id=\"pixie\"></a>\n",
    "## Using PixieDust \n",
    "We can use PixieDust to explore the data. \n",
    "\n",
    "By clicking the grid icon in the output of the cell below we can see a table of the dataframe.\n",
    "\n",
    "If we click the drop down menu (next to the grid icon), symbolized with the graph, we can choose to put the data into a scatterplot. We can choose **id** as the key, one of the feature columns (**area_mean**, **perimeter_mean**, etc.) as the value and set the number of rows to display to 1000. We are given a scatterplot of our data points and by choosing the bokeh renderer on the right side, as well as set the color to diagnosis we can see the spread of the different diagnoses.\n",
    "\n",
    "Example: Set the key for the graph to **id**, the value to **area_mean**, and color to diagnosis. The plot provided allows us to infer that most benign tumors have smaller mean area when compared to malignant tumors. On the far right of the graph we are presented with our unlabeled points (green points) and using the trend of the labeled points we can predict which of the unlabeled tumors may be benign and malignant."
   ]
  },
  {
   "cell_type": "code",
   "execution_count": 5,
   "metadata": {
    "pixiedust": {
     "displayParams": {
      "color": "diagnosis",
      "handlerId": "scatterPlot",
      "keyFields": "id",
      "rowCount": "1000",
      "valueFields": "area_mean"
     }
    }
   },
   "outputs": [
    {
     "data": {
      "text/html": [
       "<style type=\"text/css\">.pd_warning{display:none;}</style><div class=\"pd_warning\"><em>Hey, there's something awesome here! To see it, open this notebook outside GitHub, in a viewer like Jupyter</em></div>\n",
       "        <div class=\"pd_save is-viewer-good\" style=\"padding-right:10px;text-align: center;line-height:initial !important;font-size: xx-large;font-weight: 500;color: coral;\">\n",
       "            \n",
       "        </div>\n",
       "    <div id=\"chartFigurebcb347fc\" class=\"pd_save is-viewer-good\" style=\"overflow-x:auto\">\n",
       "            \n",
       "                    <script class=\"pd_save\">\n",
       "                    function setChartScript() {\n",
       "                        if (!window.Bokeh) {\n",
       "                            setTimeout(setChartScript, 250)\n",
       "                        } else {\n",
       "                            var d = document.getElementById(\"pd-bkchartdiv-bcb347fc\")\n",
       "                            if (d){\n",
       "                                var el = document.createElement('div')\n",
       "                                el.innerHTML = `\n",
       "<script type=\"text/javascript\">\n",
       "    (function() {\n",
       "  var fn = function() {\n",
       "    Bokeh.safely(function() {\n",
       "      (function(root) {\n",
       "        function embed_document(root) {\n",
       "          var docs_json = {\"d545a79a-2976-4a03-acd9-2b26bb677e66\":{\"roots\":{\"references\":[{\"attributes\":{},\"id\":\"4ecb447b-9e04-4ec1-8242-3bbc095850e4\",\"type\":\"BasicTickFormatter\"},{\"attributes\":{},\"id\":\"5a03dedc-1899-4a75-909a-019426bd1ad3\",\"type\":\"LinearScale\"},{\"attributes\":{\"source\":{\"id\":\"31b7e92f-732f-4578-a1d3-f4b584f1a014\",\"type\":\"ColumnDataSource\"}},\"id\":\"021bf131-3b06-4cd1-b979-ea61e219bd67\",\"type\":\"CDSView\"},{\"attributes\":{\"bottom_units\":\"screen\",\"fill_alpha\":{\"value\":0.5},\"fill_color\":{\"value\":\"lightgrey\"},\"left_units\":\"screen\",\"level\":\"overlay\",\"line_alpha\":{\"value\":1.0},\"line_color\":{\"value\":\"black\"},\"line_dash\":[4,4],\"line_width\":{\"value\":2},\"plot\":null,\"render_mode\":\"css\",\"right_units\":\"screen\",\"top_units\":\"screen\"},\"id\":\"1423ca0c-3b87-460d-aae5-dbc76d9be76e\",\"type\":\"BoxAnnotation\"},{\"attributes\":{\"active_drag\":\"auto\",\"active_inspect\":\"auto\",\"active_scroll\":\"auto\",\"active_tap\":\"auto\",\"tools\":[{\"id\":\"ac30e033-8062-4010-9a1f-d9caa275a2da\",\"type\":\"PanTool\"},{\"id\":\"c787b2ab-db74-4e4d-a202-48e4fe7078e9\",\"type\":\"WheelZoomTool\"},{\"id\":\"26e58f2b-4bab-4521-8d8d-3b082603eaef\",\"type\":\"BoxZoomTool\"},{\"id\":\"6ba3c908-5c6f-495a-bed4-733988cd373f\",\"type\":\"SaveTool\"},{\"id\":\"f757858a-0a38-46d5-9a38-cb89a8641bea\",\"type\":\"ResetTool\"},{\"id\":\"8c4016d3-e521-49d1-9c13-4b17f48f6b22\",\"type\":\"HelpTool\"}]},\"id\":\"f153e328-7dc3-4939-b842-6a5a250530f9\",\"type\":\"Toolbar\"},{\"attributes\":{},\"id\":\"6ba3c908-5c6f-495a-bed4-733988cd373f\",\"type\":\"SaveTool\"},{\"attributes\":{},\"id\":\"ac30e033-8062-4010-9a1f-d9caa275a2da\",\"type\":\"PanTool\"},{\"attributes\":{\"data_source\":{\"id\":\"da05fb23-5a23-4e1e-b84d-76c67c8f3759\",\"type\":\"ColumnDataSource\"},\"glyph\":{\"id\":\"e3f95296-f954-4e78-9636-1d60d29caa78\",\"type\":\"Circle\"},\"hover_glyph\":null,\"muted_glyph\":null,\"nonselection_glyph\":{\"id\":\"ed529ee6-5782-4c98-850d-db0dc7ea95f6\",\"type\":\"Circle\"},\"selection_glyph\":null,\"view\":{\"id\":\"bd206359-e36d-429e-bef9-fc1d52f6273b\",\"type\":\"CDSView\"}},\"id\":\"900ec01d-f00f-48ed-8277-ea1ab1d73156\",\"type\":\"GlyphRenderer\"},{\"attributes\":{\"label\":{\"value\":\"U\"},\"renderers\":[{\"id\":\"c60cb854-48a6-4d46-8b92-1a04b6071687\",\"type\":\"GlyphRenderer\"}]},\"id\":\"54379333-2624-49c5-b76e-497c2a34ce32\",\"type\":\"LegendItem\"},{\"attributes\":{},\"id\":\"c787b2ab-db74-4e4d-a202-48e4fe7078e9\",\"type\":\"WheelZoomTool\"},{\"attributes\":{\"grid_line_alpha\":{\"value\":0.3},\"plot\":{\"id\":\"9eac0f20-afda-4f73-9292-ba2548fdd35e\",\"subtype\":\"Figure\",\"type\":\"Plot\"},\"ticker\":{\"id\":\"0373b0b1-9489-4852-a36a-b00ae0970ed0\",\"type\":\"BasicTicker\"}},\"id\":\"124a5a48-038b-48ee-a463-e7ad4a39c886\",\"type\":\"Grid\"},{\"attributes\":{},\"id\":\"9d80775f-7efc-4f44-96c3-89ae7dbf51bb\",\"type\":\"BasicTickFormatter\"},{\"attributes\":{\"callback\":null,\"column_names\":[\"x\",\"y\"],\"data\":{\"x\":[1.0,2.0,3.0,4.0,5.0,6.0,7.0,8.0,9.0,10.0,11.0,12.0,13.0,14.0,15.0,16.0,17.0,18.0,19.0,23.0,24.0,25.0,26.0,27.0,28.0,29.0,30.0,31.0,32.0,33.0,34.0,35.0,36.0,37.0,39.0,40.0,41.0,42.0,43.0,44.0,45.0,46.0,48.0,54.0,55.0,57.0,58.0,63.0,65.0,66.0,71.0,73.0,74.0,76.0,78.0,79.0,83.0,84.0,86.0,87.0,88.0,92.0,95.0,96.0,100.0,101.0,106.0,109.0,118.0,119.0,120.0,122.0,123.0,127.0,128.0,130.0,132.0,133.0,135.0,136.0,139.0,142.0,147.0,157.0,162.0,163.0,165.0,168.0,169.0,172.0,173.0,178.0,181.0,182.0,183.0,185.0,187.0,191.0,194.0,195.0,197.0,198.0,199.0,200.0,202.0,203.0,204.0,206.0,208.0,211.0,213.0,214.0,215.0,216.0,219.0,220.0,224.0,230.0,231.0,234.0,237.0,238.0,240.0,245.0,251.0,253.0,254.0,255.0,256.0,257.0,258.0,259.0,260.0,261.0,262.0,263.0,264.0,265.0,266.0,273.0,275.0,278.0,281.0,283.0,284.0,298.0,301.0,303.0,318.0,322.0,324.0,329.0,330.0,331.0,336.0,338.0,340.0,344.0,352.0,353.0,354.0,366.0,367.0,369.0,370.0,371.0,373.0,374.0,380.0,386.0,390.0,393.0,394.0,401.0,409.0,415.0,418.0,431.0,433.0,434.0,436.0,442.0,445.0,447.0,450.0,452.0,461.0,462.0,469.0,480.0,488.0,490.0,493.0],\"y\":[1001.0,1326.0,1203.0,386.1,1297.0,477.1,1040.0,577.9,519.8,475.9,797.8,781.0,1123.0,782.7,578.3,658.8,684.5,798.8,1260.0,704.4,1404.0,904.6,912.7,644.8,1094.0,732.4,955.1,1088.0,440.6,899.3,1162.0,807.2,869.5,633.0,698.8,559.2,563.0,371.1,1104.0,545.2,531.5,1076.0,534.6,1033.0,712.8,1152.0,656.9,645.7,499.0,668.3,1130.0,929.4,584.1,817.7,1006.0,1245.0,1878.0,1132.0,1075.0,648.2,1076.0,728.2,705.6,1264.0,642.5,582.7,530.2,1509.0,682.5,782.6,982.0,1077.0,1761.0,572.6,1138.0,1192.0,748.9,809.8,1075.0,506.3,678.1,813.0,432.0,963.7,1157.0,1214.0,1686.0,886.3,984.6,565.4,736.9,832.9,2250.0,1311.0,766.6,710.6,1041.0,609.9,477.4,671.4,588.9,1024.0,1148.0,642.7,951.6,1685.0,597.8,716.6,904.3,1290.0,2499.0,948.0,610.7,578.9,1230.0,1223.0,761.3,503.2,895.0,1319.0,1670.0,1306.0,920.6,1155.0,1364.0,1206.0,928.2,1169.0,602.4,1207.0,713.3,773.5,744.9,1288.0,933.1,947.8,758.6,928.3,1419.0,1491.0,998.9,1102.0,1138.0,1145.0,805.1,431.1,1217.0,1247.0,1027.0,1274.0,1264.0,813.7,826.8,793.2,918.6,1092.0,1747.0,1194.0,758.6,2010.0,716.6,1293.0,1234.0,1546.0,1482.0,840.4,1386.0,1335.0,361.6,664.7,1174.0,744.7,1407.0,994.0,991.7,719.5,803.1,685.0,1250.0,1110.0,599.5,928.8,990.0,981.6,1384.0,1191.0,930.9,2501.0,980.5,815.8,1167.0,857.6,1007.0]}},\"id\":\"a3e29b1a-fd69-45d9-8a94-748eb563e595\",\"type\":\"ColumnDataSource\"},{\"attributes\":{},\"id\":\"210f5d15-a562-40c3-99e5-2f1e6e243c97\",\"type\":\"LinearScale\"},{\"attributes\":{\"fill_alpha\":{\"value\":0.5},\"fill_color\":{\"value\":\"#ff7f0e\"},\"line_color\":{\"value\":\"#ff7f0e\"},\"size\":{\"units\":\"screen\",\"value\":8},\"x\":{\"field\":\"x\"},\"y\":{\"field\":\"y\"}},\"id\":\"e3f95296-f954-4e78-9636-1d60d29caa78\",\"type\":\"Circle\"},{\"attributes\":{\"data_source\":{\"id\":\"31b7e92f-732f-4578-a1d3-f4b584f1a014\",\"type\":\"ColumnDataSource\"},\"glyph\":{\"id\":\"4ff1dceb-f0ce-47cc-9861-e628d90cb716\",\"type\":\"Circle\"},\"hover_glyph\":null,\"muted_glyph\":null,\"nonselection_glyph\":{\"id\":\"70cf7cfa-1b2d-41d6-938e-738b8d6f0912\",\"type\":\"Circle\"},\"selection_glyph\":null,\"view\":{\"id\":\"021bf131-3b06-4cd1-b979-ea61e219bd67\",\"type\":\"CDSView\"}},\"id\":\"c60cb854-48a6-4d46-8b92-1a04b6071687\",\"type\":\"GlyphRenderer\"},{\"attributes\":{\"axis_label\":\"id\",\"formatter\":{\"id\":\"9d80775f-7efc-4f44-96c3-89ae7dbf51bb\",\"type\":\"BasicTickFormatter\"},\"plot\":{\"id\":\"9eac0f20-afda-4f73-9292-ba2548fdd35e\",\"subtype\":\"Figure\",\"type\":\"Plot\"},\"ticker\":{\"id\":\"0373b0b1-9489-4852-a36a-b00ae0970ed0\",\"type\":\"BasicTicker\"}},\"id\":\"a31dccde-6a27-4f7d-abad-d65093422d17\",\"type\":\"LinearAxis\"},{\"attributes\":{\"plot\":null,\"text\":\"\"},\"id\":\"0ba9d6a5-fd39-4a0a-97d0-f6b79be612aa\",\"type\":\"Title\"},{\"attributes\":{\"below\":[{\"id\":\"a31dccde-6a27-4f7d-abad-d65093422d17\",\"type\":\"LinearAxis\"}],\"left\":[{\"id\":\"a3d685d4-c849-4c12-8ff7-383656edc1cb\",\"type\":\"LinearAxis\"}],\"plot_height\":490,\"plot_width\":806,\"renderers\":[{\"id\":\"a31dccde-6a27-4f7d-abad-d65093422d17\",\"type\":\"LinearAxis\"},{\"id\":\"124a5a48-038b-48ee-a463-e7ad4a39c886\",\"type\":\"Grid\"},{\"id\":\"a3d685d4-c849-4c12-8ff7-383656edc1cb\",\"type\":\"LinearAxis\"},{\"id\":\"277bbc7a-921a-4713-884a-bb028ea3e004\",\"type\":\"Grid\"},{\"id\":\"1423ca0c-3b87-460d-aae5-dbc76d9be76e\",\"type\":\"BoxAnnotation\"},{\"id\":\"531535a2-a10c-4e1c-9813-d76b9dde6ede\",\"type\":\"Legend\"},{\"id\":\"41014db6-1244-4899-bc50-ac1ecc13e195\",\"type\":\"GlyphRenderer\"},{\"id\":\"900ec01d-f00f-48ed-8277-ea1ab1d73156\",\"type\":\"GlyphRenderer\"},{\"id\":\"c60cb854-48a6-4d46-8b92-1a04b6071687\",\"type\":\"GlyphRenderer\"}],\"title\":{\"id\":\"0ba9d6a5-fd39-4a0a-97d0-f6b79be612aa\",\"type\":\"Title\"},\"toolbar\":{\"id\":\"f153e328-7dc3-4939-b842-6a5a250530f9\",\"type\":\"Toolbar\"},\"x_range\":{\"id\":\"bcd51d36-2b0a-43ad-8de3-ecffe540e15f\",\"type\":\"DataRange1d\"},\"x_scale\":{\"id\":\"210f5d15-a562-40c3-99e5-2f1e6e243c97\",\"type\":\"LinearScale\"},\"y_range\":{\"id\":\"bbe7ec03-0525-4d2c-9dfd-5b264f116180\",\"type\":\"DataRange1d\"},\"y_scale\":{\"id\":\"5a03dedc-1899-4a75-909a-019426bd1ad3\",\"type\":\"LinearScale\"}},\"id\":\"9eac0f20-afda-4f73-9292-ba2548fdd35e\",\"subtype\":\"Figure\",\"type\":\"Plot\"},{\"attributes\":{\"label\":{\"value\":\"B\"},\"renderers\":[{\"id\":\"900ec01d-f00f-48ed-8277-ea1ab1d73156\",\"type\":\"GlyphRenderer\"}]},\"id\":\"2e9187f6-8169-4ef1-816c-e7ab75794979\",\"type\":\"LegendItem\"},{\"attributes\":{},\"id\":\"0373b0b1-9489-4852-a36a-b00ae0970ed0\",\"type\":\"BasicTicker\"},{\"attributes\":{\"callback\":null},\"id\":\"bcd51d36-2b0a-43ad-8de3-ecffe540e15f\",\"type\":\"DataRange1d\"},{\"attributes\":{\"label\":{\"value\":\"M\"},\"renderers\":[{\"id\":\"41014db6-1244-4899-bc50-ac1ecc13e195\",\"type\":\"GlyphRenderer\"}]},\"id\":\"a16984c1-c9d6-4414-bf01-c65d31f4015c\",\"type\":\"LegendItem\"},{\"attributes\":{\"callback\":null,\"column_names\":[\"x\",\"y\"],\"data\":{\"x\":[499.0,500.0,501.0,502.0,503.0,504.0,505.0,506.0,507.0,508.0,509.0,510.0,511.0,512.0,513.0,514.0,515.0,516.0,517.0,518.0,519.0,520.0,521.0,522.0,523.0,524.0,525.0,526.0,527.0,528.0,529.0,530.0,531.0,532.0,533.0,534.0,535.0,536.0,537.0,538.0,539.0,540.0,541.0,542.0,543.0,544.0,545.0,546.0,547.0,548.0,549.0,550.0,551.0,552.0,553.0,554.0,555.0,556.0,557.0,558.0,559.0,560.0,561.0,562.0,563.0,564.0,565.0,566.0,567.0,568.0,569.0],\"y\":[1068.0,1320.0,689.4,595.9,476.3,1682.0,248.7,272.5,453.1,366.5,819.8,731.3,426.0,680.7,556.7,658.8,701.9,391.2,1052.0,1214.0,493.1,493.8,257.8,1841.0,388.1,571.0,293.2,221.3,551.1,468.5,594.2,445.2,422.9,416.2,575.5,1299.0,365.6,1308.0,629.8,406.4,178.8,170.4,402.9,656.4,668.6,538.4,584.8,573.2,324.9,320.8,285.7,361.6,360.5,378.4,507.9,264.0,514.3,321.4,311.7,271.3,657.1,403.5,600.4,386.0,716.9,1347.0,1479.0,1261.0,858.1,1265.0,181.0]}},\"id\":\"31b7e92f-732f-4578-a1d3-f4b584f1a014\",\"type\":\"ColumnDataSource\"},{\"attributes\":{\"callback\":null},\"id\":\"bbe7ec03-0525-4d2c-9dfd-5b264f116180\",\"type\":\"DataRange1d\"},{\"attributes\":{\"overlay\":{\"id\":\"1423ca0c-3b87-460d-aae5-dbc76d9be76e\",\"type\":\"BoxAnnotation\"}},\"id\":\"26e58f2b-4bab-4521-8d8d-3b082603eaef\",\"type\":\"BoxZoomTool\"},{\"attributes\":{\"dimension\":1,\"grid_line_alpha\":{\"value\":0.3},\"plot\":{\"id\":\"9eac0f20-afda-4f73-9292-ba2548fdd35e\",\"subtype\":\"Figure\",\"type\":\"Plot\"},\"ticker\":{\"id\":\"c01fc9ff-c81c-48d4-ad73-f29c3dcabf47\",\"type\":\"BasicTicker\"}},\"id\":\"277bbc7a-921a-4713-884a-bb028ea3e004\",\"type\":\"Grid\"},{\"attributes\":{},\"id\":\"c01fc9ff-c81c-48d4-ad73-f29c3dcabf47\",\"type\":\"BasicTicker\"},{\"attributes\":{\"source\":{\"id\":\"a3e29b1a-fd69-45d9-8a94-748eb563e595\",\"type\":\"ColumnDataSource\"}},\"id\":\"12c83b5d-1d0f-44a6-9251-500470e2883f\",\"type\":\"CDSView\"},{\"attributes\":{\"source\":{\"id\":\"da05fb23-5a23-4e1e-b84d-76c67c8f3759\",\"type\":\"ColumnDataSource\"}},\"id\":\"bd206359-e36d-429e-bef9-fc1d52f6273b\",\"type\":\"CDSView\"},{\"attributes\":{},\"id\":\"f757858a-0a38-46d5-9a38-cb89a8641bea\",\"type\":\"ResetTool\"},{\"attributes\":{\"fill_alpha\":{\"value\":0.5},\"fill_color\":{\"value\":\"#2ca02c\"},\"line_color\":{\"value\":\"#2ca02c\"},\"size\":{\"units\":\"screen\",\"value\":8},\"x\":{\"field\":\"x\"},\"y\":{\"field\":\"y\"}},\"id\":\"4ff1dceb-f0ce-47cc-9861-e628d90cb716\",\"type\":\"Circle\"},{\"attributes\":{\"items\":[{\"id\":\"a16984c1-c9d6-4414-bf01-c65d31f4015c\",\"type\":\"LegendItem\"},{\"id\":\"2e9187f6-8169-4ef1-816c-e7ab75794979\",\"type\":\"LegendItem\"},{\"id\":\"54379333-2624-49c5-b76e-497c2a34ce32\",\"type\":\"LegendItem\"}],\"location\":\"top_left\",\"plot\":{\"id\":\"9eac0f20-afda-4f73-9292-ba2548fdd35e\",\"subtype\":\"Figure\",\"type\":\"Plot\"}},\"id\":\"531535a2-a10c-4e1c-9813-d76b9dde6ede\",\"type\":\"Legend\"},{\"attributes\":{\"callback\":null,\"column_names\":[\"x\",\"y\"],\"data\":{\"x\":[20.0,21.0,22.0,38.0,47.0,49.0,50.0,51.0,52.0,53.0,56.0,59.0,60.0,61.0,62.0,64.0,67.0,68.0,69.0,70.0,72.0,75.0,77.0,80.0,81.0,82.0,85.0,89.0,90.0,91.0,93.0,94.0,97.0,98.0,99.0,102.0,103.0,104.0,105.0,107.0,108.0,110.0,111.0,112.0,113.0,114.0,115.0,116.0,117.0,121.0,124.0,125.0,126.0,129.0,131.0,134.0,137.0,138.0,140.0,141.0,143.0,144.0,145.0,146.0,148.0,149.0,150.0,151.0,152.0,153.0,154.0,155.0,156.0,158.0,159.0,160.0,161.0,164.0,166.0,167.0,170.0,171.0,174.0,175.0,176.0,177.0,179.0,180.0,184.0,186.0,188.0,189.0,190.0,192.0,193.0,196.0,201.0,205.0,207.0,209.0,210.0,212.0,217.0,218.0,221.0,222.0,223.0,225.0,226.0,227.0,228.0,229.0,232.0,233.0,235.0,236.0,239.0,241.0,242.0,243.0,244.0,246.0,247.0,248.0,249.0,250.0,252.0,267.0,268.0,269.0,270.0,271.0,272.0,274.0,276.0,277.0,279.0,280.0,282.0,285.0,286.0,287.0,288.0,289.0,290.0,291.0,292.0,293.0,294.0,295.0,296.0,297.0,299.0,300.0,302.0,304.0,305.0,306.0,307.0,308.0,309.0,310.0,311.0,312.0,313.0,314.0,315.0,316.0,317.0,319.0,320.0,321.0,323.0,325.0,326.0,327.0,328.0,332.0,333.0,334.0,335.0,337.0,339.0,341.0,342.0,343.0,345.0,346.0,347.0,348.0,349.0,350.0,351.0,355.0,356.0,357.0,358.0,359.0,360.0,361.0,362.0,363.0,364.0,365.0,368.0,372.0,375.0,376.0,377.0,378.0,379.0,381.0,382.0,383.0,384.0,385.0,387.0,388.0,389.0,391.0,392.0,395.0,396.0,397.0,398.0,399.0,400.0,402.0,403.0,404.0,405.0,406.0,407.0,408.0,410.0,411.0,412.0,413.0,414.0,416.0,417.0,419.0,420.0,421.0,422.0,423.0,424.0,425.0,426.0,427.0,428.0,429.0,430.0,432.0,435.0,437.0,438.0,439.0,440.0,441.0,443.0,444.0,446.0,448.0,449.0,451.0,453.0,454.0,455.0,456.0,457.0,458.0,459.0,460.0,463.0,464.0,465.0,466.0,467.0,468.0,470.0,471.0,472.0,473.0,474.0,475.0,476.0,477.0,478.0,479.0,481.0,482.0,483.0,484.0,485.0,486.0,487.0,489.0,491.0,492.0,494.0,495.0,496.0,497.0,498.0],\"y\":[566.3,520.0,273.9,523.8,201.9,449.3,561.0,427.9,571.8,437.6,409.0,527.2,224.5,311.9,221.8,260.9,269.4,394.1,250.5,502.5,244.0,470.9,559.2,506.3,401.5,520.0,443.3,466.1,651.9,662.7,551.7,555.1,451.1,294.5,412.6,143.5,458.7,298.3,336.1,412.5,466.7,396.5,290.2,480.4,629.9,334.2,230.9,438.6,245.2,403.3,640.7,553.5,588.7,674.5,455.8,761.7,423.6,399.8,384.8,288.5,398.0,512.2,355.3,432.8,689.5,640.1,585.0,519.4,203.9,300.2,381.9,538.9,460.3,880.2,448.6,366.8,419.8,464.5,690.2,357.6,685.9,464.1,372.7,349.6,227.2,302.4,526.4,508.8,402.0,317.5,420.3,428.9,463.7,507.4,288.1,516.4,461.0,481.9,295.4,529.4,725.5,428.0,432.2,321.2,568.9,561.3,313.1,546.4,641.2,329.6,684.5,496.4,395.7,386.8,279.6,603.4,623.9,575.3,476.5,389.4,590.0,337.7,541.6,512.2,347.0,406.3,407.4,346.4,561.0,512.2,344.9,632.6,388.0,289.9,435.6,396.6,572.3,587.4,427.3,516.6,489.0,441.0,515.9,394.1,396.0,651.0,687.3,513.7,432.7,492.1,582.7,363.7,633.1,334.2,471.3,334.3,403.1,417.2,537.3,246.3,566.2,530.6,418.7,664.9,504.1,409.1,221.2,481.6,461.4,244.5,477.3,324.2,504.8,457.9,489.9,616.5,446.0,514.0,387.3,390.0,464.4,514.3,310.8,641.2,280.5,373.9,420.3,321.6,445.3,668.7,402.7,426.7,421.0,384.6,485.8,512.0,593.7,241.0,278.6,491.9,546.1,496.6,838.1,552.4,458.4,711.8,579.1,788.5,338.3,562.1,580.6,386.3,372.7,447.8,462.9,541.8,462.0,596.6,392.0,321.6,234.3,446.2,609.1,558.1,508.3,378.2,431.9,442.7,525.2,507.6,469.1,370.0,800.0,514.5,466.1,399.8,373.2,268.8,693.7,433.8,271.2,495.0,380.3,409.7,656.1,408.2,575.3,289.7,307.3,333.6,359.9,381.1,501.3,467.8,673.7,509.2,611.2,592.6,606.5,371.5,585.9,340.9,441.3,674.8,659.7,432.0,442.5,644.2,492.9,557.2,415.1,537.9,520.2,290.9,646.1,412.7,537.3,542.9,536.9,286.3,408.8,289.1,449.9,686.9,465.4,358.9,506.9,618.4,599.4,404.9,455.3,602.9,546.3,571.1,747.2,476.7,666.0,420.5,466.5,992.1,477.3,538.7,680.9,485.6,480.1]}},\"id\":\"da05fb23-5a23-4e1e-b84d-76c67c8f3759\",\"type\":\"ColumnDataSource\"},{\"attributes\":{\"fill_alpha\":{\"value\":0.5},\"fill_color\":{\"value\":\"#1f77b4\"},\"line_color\":{\"value\":\"#1f77b4\"},\"size\":{\"units\":\"screen\",\"value\":8},\"x\":{\"field\":\"x\"},\"y\":{\"field\":\"y\"}},\"id\":\"6dffb909-17b5-4b33-8ac8-23e62991286c\",\"type\":\"Circle\"},{\"attributes\":{\"fill_alpha\":{\"value\":0.1},\"fill_color\":{\"value\":\"#1f77b4\"},\"line_alpha\":{\"value\":0.1},\"line_color\":{\"value\":\"#1f77b4\"},\"size\":{\"units\":\"screen\",\"value\":8},\"x\":{\"field\":\"x\"},\"y\":{\"field\":\"y\"}},\"id\":\"ed529ee6-5782-4c98-850d-db0dc7ea95f6\",\"type\":\"Circle\"},{\"attributes\":{\"fill_alpha\":{\"value\":0.1},\"fill_color\":{\"value\":\"#1f77b4\"},\"line_alpha\":{\"value\":0.1},\"line_color\":{\"value\":\"#1f77b4\"},\"size\":{\"units\":\"screen\",\"value\":8},\"x\":{\"field\":\"x\"},\"y\":{\"field\":\"y\"}},\"id\":\"70cf7cfa-1b2d-41d6-938e-738b8d6f0912\",\"type\":\"Circle\"},{\"attributes\":{\"fill_alpha\":{\"value\":0.1},\"fill_color\":{\"value\":\"#1f77b4\"},\"line_alpha\":{\"value\":0.1},\"line_color\":{\"value\":\"#1f77b4\"},\"size\":{\"units\":\"screen\",\"value\":8},\"x\":{\"field\":\"x\"},\"y\":{\"field\":\"y\"}},\"id\":\"d92f193a-c454-4c5d-b0cf-f876e1e3dc6a\",\"type\":\"Circle\"},{\"attributes\":{},\"id\":\"8c4016d3-e521-49d1-9c13-4b17f48f6b22\",\"type\":\"HelpTool\"},{\"attributes\":{\"data_source\":{\"id\":\"a3e29b1a-fd69-45d9-8a94-748eb563e595\",\"type\":\"ColumnDataSource\"},\"glyph\":{\"id\":\"6dffb909-17b5-4b33-8ac8-23e62991286c\",\"type\":\"Circle\"},\"hover_glyph\":null,\"muted_glyph\":null,\"nonselection_glyph\":{\"id\":\"d92f193a-c454-4c5d-b0cf-f876e1e3dc6a\",\"type\":\"Circle\"},\"selection_glyph\":null,\"view\":{\"id\":\"12c83b5d-1d0f-44a6-9251-500470e2883f\",\"type\":\"CDSView\"}},\"id\":\"41014db6-1244-4899-bc50-ac1ecc13e195\",\"type\":\"GlyphRenderer\"},{\"attributes\":{\"axis_label\":\"area_mean\",\"formatter\":{\"id\":\"4ecb447b-9e04-4ec1-8242-3bbc095850e4\",\"type\":\"BasicTickFormatter\"},\"plot\":{\"id\":\"9eac0f20-afda-4f73-9292-ba2548fdd35e\",\"subtype\":\"Figure\",\"type\":\"Plot\"},\"ticker\":{\"id\":\"c01fc9ff-c81c-48d4-ad73-f29c3dcabf47\",\"type\":\"BasicTicker\"}},\"id\":\"a3d685d4-c849-4c12-8ff7-383656edc1cb\",\"type\":\"LinearAxis\"}],\"root_ids\":[\"9eac0f20-afda-4f73-9292-ba2548fdd35e\"]},\"title\":\"Bokeh Application\",\"version\":\"0.12.10\"}};\n",
       "          var render_items = [{\"docid\":\"d545a79a-2976-4a03-acd9-2b26bb677e66\",\"elementid\":\"81f17bb1-945c-43b1-8ca3-738e9323f772\",\"modelid\":\"9eac0f20-afda-4f73-9292-ba2548fdd35e\"}];\n",
       "      \n",
       "          root.Bokeh.embed.embed_items(docs_json, render_items);\n",
       "        }\n",
       "      \n",
       "        if (root.Bokeh !== undefined) {\n",
       "          embed_document(root);\n",
       "        } else {\n",
       "          var attempts = 0;\n",
       "          var timer = setInterval(function(root) {\n",
       "            if (root.Bokeh !== undefined) {\n",
       "              embed_document(root);\n",
       "              clearInterval(timer);\n",
       "            }\n",
       "            attempts++;\n",
       "            if (attempts > 100) {\n",
       "              console.log(\"Bokeh: ERROR: Unable to embed document because BokehJS library is missing\")\n",
       "              clearInterval(timer);\n",
       "            }\n",
       "          }, 10, root)\n",
       "        }\n",
       "      })(window);\n",
       "    });\n",
       "  };\n",
       "  if (document.readyState != \"loading\") fn();\n",
       "  else document.addEventListener(\"DOMContentLoaded\", fn);\n",
       "})();\n",
       "\n",
       "<\\/script>`\n",
       "                                var chartscript = el.childNodes[1]\n",
       "                                var s = document.createElement(\"script\")\n",
       "                                s.innerHTML = chartscript.innerHTML\n",
       "                                d.parentNode.insertBefore(s, d)\n",
       "                            }\n",
       "                        }\n",
       "                    }\n",
       "                    if (!window.Bokeh && !window.autoload){\n",
       "                        window.autoload=true;\n",
       "                        \n",
       "(function(root) {\n",
       "  function now() {\n",
       "    return new Date();\n",
       "  }\n",
       "\n",
       "  var force = 1;\n",
       "\n",
       "  if (typeof (root._bokeh_onload_callbacks) === \"undefined\" || force === true) {\n",
       "    root._bokeh_onload_callbacks = [];\n",
       "    root._bokeh_is_loading = undefined;\n",
       "  }\n",
       "\n",
       "  \n",
       "\n",
       "  \n",
       "  if (typeof (root._bokeh_timeout) === \"undefined\" || force === true) {\n",
       "    root._bokeh_timeout = Date.now() + 5000;\n",
       "    root._bokeh_failed_load = false;\n",
       "  }\n",
       "\n",
       "  var NB_LOAD_WARNING = {'data': {'text/html':\n",
       "     \"<div style='background-color: #fdd'>\\n\"+\n",
       "     \"<p>\\n\"+\n",
       "     \"BokehJS does not appear to have successfully loaded. If loading BokehJS from CDN, this \\n\"+\n",
       "     \"may be due to a slow or bad network connection. Possible fixes:\\n\"+\n",
       "     \"</p>\\n\"+\n",
       "     \"<ul>\\n\"+\n",
       "     \"<li>re-rerun `output_notebook()` to attempt to load from CDN again, or</li>\\n\"+\n",
       "     \"<li>use INLINE resources instead, as so:</li>\\n\"+\n",
       "     \"</ul>\\n\"+\n",
       "     \"<code>\\n\"+\n",
       "     \"from bokeh.resources import INLINE\\n\"+\n",
       "     \"output_notebook(resources=INLINE)\\n\"+\n",
       "     \"</code>\\n\"+\n",
       "     \"</div>\"}};\n",
       "\n",
       "  function display_loaded() {\n",
       "    var el = document.getElementById(\"\");\n",
       "    if (el != null) {\n",
       "      el.textContent = \"BokehJS is loading...\";\n",
       "    }\n",
       "    if (root.Bokeh !== undefined) {\n",
       "      if (el != null) {\n",
       "        el.textContent = \"BokehJS \" + root.Bokeh.version + \" successfully loaded.\";\n",
       "      }\n",
       "    } else if (Date.now() < root._bokeh_timeout) {\n",
       "      setTimeout(display_loaded, 100)\n",
       "    }\n",
       "  }\n",
       "\n",
       "\n",
       "  function run_callbacks() {\n",
       "    try {\n",
       "      root._bokeh_onload_callbacks.forEach(function(callback) { callback() });\n",
       "    }\n",
       "    finally {\n",
       "      delete root._bokeh_onload_callbacks\n",
       "    }\n",
       "    console.info(\"Bokeh: all callbacks have finished\");\n",
       "  }\n",
       "\n",
       "  function load_libs(js_urls, callback) {\n",
       "    root._bokeh_onload_callbacks.push(callback);\n",
       "    if (root._bokeh_is_loading > 0) {\n",
       "      console.log(\"Bokeh: BokehJS is being loaded, scheduling callback at\", now());\n",
       "      return null;\n",
       "    }\n",
       "    if (js_urls == null || js_urls.length === 0) {\n",
       "      run_callbacks();\n",
       "      return null;\n",
       "    }\n",
       "    console.log(\"Bokeh: BokehJS not loaded, scheduling load and callback at\", now());\n",
       "    root._bokeh_is_loading = js_urls.length;\n",
       "    for (var i = 0; i < js_urls.length; i++) {\n",
       "      var url = js_urls[i];\n",
       "      var s = document.createElement('script');\n",
       "      s.src = url;\n",
       "      s.async = false;\n",
       "      s.onreadystatechange = s.onload = function() {\n",
       "        root._bokeh_is_loading--;\n",
       "        if (root._bokeh_is_loading === 0) {\n",
       "          console.log(\"Bokeh: all BokehJS libraries loaded\");\n",
       "          run_callbacks()\n",
       "        }\n",
       "      };\n",
       "      s.onerror = function() {\n",
       "        console.warn(\"failed to load library \" + url);\n",
       "      };\n",
       "      console.log(\"Bokeh: injecting script tag for BokehJS library: \", url);\n",
       "      document.getElementsByTagName(\"head\")[0].appendChild(s);\n",
       "    }\n",
       "  };\n",
       "\n",
       "  var js_urls = [\"https://cdn.pydata.org/bokeh/release/bokeh-0.12.10.min.js\", \"https://cdn.pydata.org/bokeh/release/bokeh-widgets-0.12.10.min.js\", \"https://cdn.pydata.org/bokeh/release/bokeh-tables-0.12.10.min.js\", \"https://cdn.pydata.org/bokeh/release/bokeh-gl-0.12.10.min.js\"];\n",
       "\n",
       "  var inline_js = [\n",
       "    function(Bokeh) {\n",
       "      Bokeh.set_log_level(\"info\");\n",
       "    },\n",
       "    function(Bokeh) {\n",
       "      console.log(\"Bokeh: injecting CSS: https://cdn.pydata.org/bokeh/release/bokeh-0.12.10.min.css\");\n",
       "      Bokeh.embed.inject_css(\"https://cdn.pydata.org/bokeh/release/bokeh-0.12.10.min.css\");\n",
       "      console.log(\"Bokeh: injecting CSS: https://cdn.pydata.org/bokeh/release/bokeh-widgets-0.12.10.min.css\");\n",
       "      Bokeh.embed.inject_css(\"https://cdn.pydata.org/bokeh/release/bokeh-widgets-0.12.10.min.css\");\n",
       "      console.log(\"Bokeh: injecting CSS: https://cdn.pydata.org/bokeh/release/bokeh-tables-0.12.10.min.css\");\n",
       "      Bokeh.embed.inject_css(\"https://cdn.pydata.org/bokeh/release/bokeh-tables-0.12.10.min.css\");\n",
       "    }\n",
       "  ];\n",
       "\n",
       "  function run_inline_js() {\n",
       "    \n",
       "    if ((root.Bokeh !== undefined) || (force === true)) {\n",
       "      for (var i = 0; i < inline_js.length; i++) {\n",
       "        inline_js[i].call(root, root.Bokeh);\n",
       "      }} else if (Date.now() < root._bokeh_timeout) {\n",
       "      setTimeout(run_inline_js, 100);\n",
       "    } else if (!root._bokeh_failed_load) {\n",
       "      console.log(\"Bokeh: BokehJS failed to load within specified timeout.\");\n",
       "      root._bokeh_failed_load = true;\n",
       "    } else if (force !== true) {\n",
       "      var cell = $(document.getElementById(\"\")).parents('.cell').data().cell;\n",
       "      cell.output_area.append_execute_result(NB_LOAD_WARNING)\n",
       "    }\n",
       "\n",
       "  }\n",
       "\n",
       "  if (root._bokeh_is_loading === 0) {\n",
       "    console.log(\"Bokeh: BokehJS loaded, going straight to plotting\");\n",
       "    run_inline_js();\n",
       "  } else {\n",
       "    load_libs(js_urls, function() {\n",
       "      console.log(\"Bokeh: BokehJS plotting callback run at\", now());\n",
       "      run_inline_js();\n",
       "    });\n",
       "  }\n",
       "}(window));\n",
       "                    }\n",
       "                    setChartScript()\n",
       "                    </script>\n",
       "                    <script>\n",
       "    (function() {\n",
       "  var fn = function() {\n",
       "    Bokeh.safely(function() {\n",
       "      (function(root) {\n",
       "        function embed_document(root) {\n",
       "          var docs_json = {\"d545a79a-2976-4a03-acd9-2b26bb677e66\":{\"roots\":{\"references\":[{\"attributes\":{},\"id\":\"4ecb447b-9e04-4ec1-8242-3bbc095850e4\",\"type\":\"BasicTickFormatter\"},{\"attributes\":{},\"id\":\"5a03dedc-1899-4a75-909a-019426bd1ad3\",\"type\":\"LinearScale\"},{\"attributes\":{\"source\":{\"id\":\"31b7e92f-732f-4578-a1d3-f4b584f1a014\",\"type\":\"ColumnDataSource\"}},\"id\":\"021bf131-3b06-4cd1-b979-ea61e219bd67\",\"type\":\"CDSView\"},{\"attributes\":{\"bottom_units\":\"screen\",\"fill_alpha\":{\"value\":0.5},\"fill_color\":{\"value\":\"lightgrey\"},\"left_units\":\"screen\",\"level\":\"overlay\",\"line_alpha\":{\"value\":1.0},\"line_color\":{\"value\":\"black\"},\"line_dash\":[4,4],\"line_width\":{\"value\":2},\"plot\":null,\"render_mode\":\"css\",\"right_units\":\"screen\",\"top_units\":\"screen\"},\"id\":\"1423ca0c-3b87-460d-aae5-dbc76d9be76e\",\"type\":\"BoxAnnotation\"},{\"attributes\":{\"active_drag\":\"auto\",\"active_inspect\":\"auto\",\"active_scroll\":\"auto\",\"active_tap\":\"auto\",\"tools\":[{\"id\":\"ac30e033-8062-4010-9a1f-d9caa275a2da\",\"type\":\"PanTool\"},{\"id\":\"c787b2ab-db74-4e4d-a202-48e4fe7078e9\",\"type\":\"WheelZoomTool\"},{\"id\":\"26e58f2b-4bab-4521-8d8d-3b082603eaef\",\"type\":\"BoxZoomTool\"},{\"id\":\"6ba3c908-5c6f-495a-bed4-733988cd373f\",\"type\":\"SaveTool\"},{\"id\":\"f757858a-0a38-46d5-9a38-cb89a8641bea\",\"type\":\"ResetTool\"},{\"id\":\"8c4016d3-e521-49d1-9c13-4b17f48f6b22\",\"type\":\"HelpTool\"}]},\"id\":\"f153e328-7dc3-4939-b842-6a5a250530f9\",\"type\":\"Toolbar\"},{\"attributes\":{},\"id\":\"6ba3c908-5c6f-495a-bed4-733988cd373f\",\"type\":\"SaveTool\"},{\"attributes\":{},\"id\":\"ac30e033-8062-4010-9a1f-d9caa275a2da\",\"type\":\"PanTool\"},{\"attributes\":{\"data_source\":{\"id\":\"da05fb23-5a23-4e1e-b84d-76c67c8f3759\",\"type\":\"ColumnDataSource\"},\"glyph\":{\"id\":\"e3f95296-f954-4e78-9636-1d60d29caa78\",\"type\":\"Circle\"},\"hover_glyph\":null,\"muted_glyph\":null,\"nonselection_glyph\":{\"id\":\"ed529ee6-5782-4c98-850d-db0dc7ea95f6\",\"type\":\"Circle\"},\"selection_glyph\":null,\"view\":{\"id\":\"bd206359-e36d-429e-bef9-fc1d52f6273b\",\"type\":\"CDSView\"}},\"id\":\"900ec01d-f00f-48ed-8277-ea1ab1d73156\",\"type\":\"GlyphRenderer\"},{\"attributes\":{\"label\":{\"value\":\"U\"},\"renderers\":[{\"id\":\"c60cb854-48a6-4d46-8b92-1a04b6071687\",\"type\":\"GlyphRenderer\"}]},\"id\":\"54379333-2624-49c5-b76e-497c2a34ce32\",\"type\":\"LegendItem\"},{\"attributes\":{},\"id\":\"c787b2ab-db74-4e4d-a202-48e4fe7078e9\",\"type\":\"WheelZoomTool\"},{\"attributes\":{\"grid_line_alpha\":{\"value\":0.3},\"plot\":{\"id\":\"9eac0f20-afda-4f73-9292-ba2548fdd35e\",\"subtype\":\"Figure\",\"type\":\"Plot\"},\"ticker\":{\"id\":\"0373b0b1-9489-4852-a36a-b00ae0970ed0\",\"type\":\"BasicTicker\"}},\"id\":\"124a5a48-038b-48ee-a463-e7ad4a39c886\",\"type\":\"Grid\"},{\"attributes\":{},\"id\":\"9d80775f-7efc-4f44-96c3-89ae7dbf51bb\",\"type\":\"BasicTickFormatter\"},{\"attributes\":{\"callback\":null,\"column_names\":[\"x\",\"y\"],\"data\":{\"x\":[1.0,2.0,3.0,4.0,5.0,6.0,7.0,8.0,9.0,10.0,11.0,12.0,13.0,14.0,15.0,16.0,17.0,18.0,19.0,23.0,24.0,25.0,26.0,27.0,28.0,29.0,30.0,31.0,32.0,33.0,34.0,35.0,36.0,37.0,39.0,40.0,41.0,42.0,43.0,44.0,45.0,46.0,48.0,54.0,55.0,57.0,58.0,63.0,65.0,66.0,71.0,73.0,74.0,76.0,78.0,79.0,83.0,84.0,86.0,87.0,88.0,92.0,95.0,96.0,100.0,101.0,106.0,109.0,118.0,119.0,120.0,122.0,123.0,127.0,128.0,130.0,132.0,133.0,135.0,136.0,139.0,142.0,147.0,157.0,162.0,163.0,165.0,168.0,169.0,172.0,173.0,178.0,181.0,182.0,183.0,185.0,187.0,191.0,194.0,195.0,197.0,198.0,199.0,200.0,202.0,203.0,204.0,206.0,208.0,211.0,213.0,214.0,215.0,216.0,219.0,220.0,224.0,230.0,231.0,234.0,237.0,238.0,240.0,245.0,251.0,253.0,254.0,255.0,256.0,257.0,258.0,259.0,260.0,261.0,262.0,263.0,264.0,265.0,266.0,273.0,275.0,278.0,281.0,283.0,284.0,298.0,301.0,303.0,318.0,322.0,324.0,329.0,330.0,331.0,336.0,338.0,340.0,344.0,352.0,353.0,354.0,366.0,367.0,369.0,370.0,371.0,373.0,374.0,380.0,386.0,390.0,393.0,394.0,401.0,409.0,415.0,418.0,431.0,433.0,434.0,436.0,442.0,445.0,447.0,450.0,452.0,461.0,462.0,469.0,480.0,488.0,490.0,493.0],\"y\":[1001.0,1326.0,1203.0,386.1,1297.0,477.1,1040.0,577.9,519.8,475.9,797.8,781.0,1123.0,782.7,578.3,658.8,684.5,798.8,1260.0,704.4,1404.0,904.6,912.7,644.8,1094.0,732.4,955.1,1088.0,440.6,899.3,1162.0,807.2,869.5,633.0,698.8,559.2,563.0,371.1,1104.0,545.2,531.5,1076.0,534.6,1033.0,712.8,1152.0,656.9,645.7,499.0,668.3,1130.0,929.4,584.1,817.7,1006.0,1245.0,1878.0,1132.0,1075.0,648.2,1076.0,728.2,705.6,1264.0,642.5,582.7,530.2,1509.0,682.5,782.6,982.0,1077.0,1761.0,572.6,1138.0,1192.0,748.9,809.8,1075.0,506.3,678.1,813.0,432.0,963.7,1157.0,1214.0,1686.0,886.3,984.6,565.4,736.9,832.9,2250.0,1311.0,766.6,710.6,1041.0,609.9,477.4,671.4,588.9,1024.0,1148.0,642.7,951.6,1685.0,597.8,716.6,904.3,1290.0,2499.0,948.0,610.7,578.9,1230.0,1223.0,761.3,503.2,895.0,1319.0,1670.0,1306.0,920.6,1155.0,1364.0,1206.0,928.2,1169.0,602.4,1207.0,713.3,773.5,744.9,1288.0,933.1,947.8,758.6,928.3,1419.0,1491.0,998.9,1102.0,1138.0,1145.0,805.1,431.1,1217.0,1247.0,1027.0,1274.0,1264.0,813.7,826.8,793.2,918.6,1092.0,1747.0,1194.0,758.6,2010.0,716.6,1293.0,1234.0,1546.0,1482.0,840.4,1386.0,1335.0,361.6,664.7,1174.0,744.7,1407.0,994.0,991.7,719.5,803.1,685.0,1250.0,1110.0,599.5,928.8,990.0,981.6,1384.0,1191.0,930.9,2501.0,980.5,815.8,1167.0,857.6,1007.0]}},\"id\":\"a3e29b1a-fd69-45d9-8a94-748eb563e595\",\"type\":\"ColumnDataSource\"},{\"attributes\":{},\"id\":\"210f5d15-a562-40c3-99e5-2f1e6e243c97\",\"type\":\"LinearScale\"},{\"attributes\":{\"fill_alpha\":{\"value\":0.5},\"fill_color\":{\"value\":\"#ff7f0e\"},\"line_color\":{\"value\":\"#ff7f0e\"},\"size\":{\"units\":\"screen\",\"value\":8},\"x\":{\"field\":\"x\"},\"y\":{\"field\":\"y\"}},\"id\":\"e3f95296-f954-4e78-9636-1d60d29caa78\",\"type\":\"Circle\"},{\"attributes\":{\"data_source\":{\"id\":\"31b7e92f-732f-4578-a1d3-f4b584f1a014\",\"type\":\"ColumnDataSource\"},\"glyph\":{\"id\":\"4ff1dceb-f0ce-47cc-9861-e628d90cb716\",\"type\":\"Circle\"},\"hover_glyph\":null,\"muted_glyph\":null,\"nonselection_glyph\":{\"id\":\"70cf7cfa-1b2d-41d6-938e-738b8d6f0912\",\"type\":\"Circle\"},\"selection_glyph\":null,\"view\":{\"id\":\"021bf131-3b06-4cd1-b979-ea61e219bd67\",\"type\":\"CDSView\"}},\"id\":\"c60cb854-48a6-4d46-8b92-1a04b6071687\",\"type\":\"GlyphRenderer\"},{\"attributes\":{\"axis_label\":\"id\",\"formatter\":{\"id\":\"9d80775f-7efc-4f44-96c3-89ae7dbf51bb\",\"type\":\"BasicTickFormatter\"},\"plot\":{\"id\":\"9eac0f20-afda-4f73-9292-ba2548fdd35e\",\"subtype\":\"Figure\",\"type\":\"Plot\"},\"ticker\":{\"id\":\"0373b0b1-9489-4852-a36a-b00ae0970ed0\",\"type\":\"BasicTicker\"}},\"id\":\"a31dccde-6a27-4f7d-abad-d65093422d17\",\"type\":\"LinearAxis\"},{\"attributes\":{\"plot\":null,\"text\":\"\"},\"id\":\"0ba9d6a5-fd39-4a0a-97d0-f6b79be612aa\",\"type\":\"Title\"},{\"attributes\":{\"below\":[{\"id\":\"a31dccde-6a27-4f7d-abad-d65093422d17\",\"type\":\"LinearAxis\"}],\"left\":[{\"id\":\"a3d685d4-c849-4c12-8ff7-383656edc1cb\",\"type\":\"LinearAxis\"}],\"plot_height\":490,\"plot_width\":806,\"renderers\":[{\"id\":\"a31dccde-6a27-4f7d-abad-d65093422d17\",\"type\":\"LinearAxis\"},{\"id\":\"124a5a48-038b-48ee-a463-e7ad4a39c886\",\"type\":\"Grid\"},{\"id\":\"a3d685d4-c849-4c12-8ff7-383656edc1cb\",\"type\":\"LinearAxis\"},{\"id\":\"277bbc7a-921a-4713-884a-bb028ea3e004\",\"type\":\"Grid\"},{\"id\":\"1423ca0c-3b87-460d-aae5-dbc76d9be76e\",\"type\":\"BoxAnnotation\"},{\"id\":\"531535a2-a10c-4e1c-9813-d76b9dde6ede\",\"type\":\"Legend\"},{\"id\":\"41014db6-1244-4899-bc50-ac1ecc13e195\",\"type\":\"GlyphRenderer\"},{\"id\":\"900ec01d-f00f-48ed-8277-ea1ab1d73156\",\"type\":\"GlyphRenderer\"},{\"id\":\"c60cb854-48a6-4d46-8b92-1a04b6071687\",\"type\":\"GlyphRenderer\"}],\"title\":{\"id\":\"0ba9d6a5-fd39-4a0a-97d0-f6b79be612aa\",\"type\":\"Title\"},\"toolbar\":{\"id\":\"f153e328-7dc3-4939-b842-6a5a250530f9\",\"type\":\"Toolbar\"},\"x_range\":{\"id\":\"bcd51d36-2b0a-43ad-8de3-ecffe540e15f\",\"type\":\"DataRange1d\"},\"x_scale\":{\"id\":\"210f5d15-a562-40c3-99e5-2f1e6e243c97\",\"type\":\"LinearScale\"},\"y_range\":{\"id\":\"bbe7ec03-0525-4d2c-9dfd-5b264f116180\",\"type\":\"DataRange1d\"},\"y_scale\":{\"id\":\"5a03dedc-1899-4a75-909a-019426bd1ad3\",\"type\":\"LinearScale\"}},\"id\":\"9eac0f20-afda-4f73-9292-ba2548fdd35e\",\"subtype\":\"Figure\",\"type\":\"Plot\"},{\"attributes\":{\"label\":{\"value\":\"B\"},\"renderers\":[{\"id\":\"900ec01d-f00f-48ed-8277-ea1ab1d73156\",\"type\":\"GlyphRenderer\"}]},\"id\":\"2e9187f6-8169-4ef1-816c-e7ab75794979\",\"type\":\"LegendItem\"},{\"attributes\":{},\"id\":\"0373b0b1-9489-4852-a36a-b00ae0970ed0\",\"type\":\"BasicTicker\"},{\"attributes\":{\"callback\":null},\"id\":\"bcd51d36-2b0a-43ad-8de3-ecffe540e15f\",\"type\":\"DataRange1d\"},{\"attributes\":{\"label\":{\"value\":\"M\"},\"renderers\":[{\"id\":\"41014db6-1244-4899-bc50-ac1ecc13e195\",\"type\":\"GlyphRenderer\"}]},\"id\":\"a16984c1-c9d6-4414-bf01-c65d31f4015c\",\"type\":\"LegendItem\"},{\"attributes\":{\"callback\":null,\"column_names\":[\"x\",\"y\"],\"data\":{\"x\":[499.0,500.0,501.0,502.0,503.0,504.0,505.0,506.0,507.0,508.0,509.0,510.0,511.0,512.0,513.0,514.0,515.0,516.0,517.0,518.0,519.0,520.0,521.0,522.0,523.0,524.0,525.0,526.0,527.0,528.0,529.0,530.0,531.0,532.0,533.0,534.0,535.0,536.0,537.0,538.0,539.0,540.0,541.0,542.0,543.0,544.0,545.0,546.0,547.0,548.0,549.0,550.0,551.0,552.0,553.0,554.0,555.0,556.0,557.0,558.0,559.0,560.0,561.0,562.0,563.0,564.0,565.0,566.0,567.0,568.0,569.0],\"y\":[1068.0,1320.0,689.4,595.9,476.3,1682.0,248.7,272.5,453.1,366.5,819.8,731.3,426.0,680.7,556.7,658.8,701.9,391.2,1052.0,1214.0,493.1,493.8,257.8,1841.0,388.1,571.0,293.2,221.3,551.1,468.5,594.2,445.2,422.9,416.2,575.5,1299.0,365.6,1308.0,629.8,406.4,178.8,170.4,402.9,656.4,668.6,538.4,584.8,573.2,324.9,320.8,285.7,361.6,360.5,378.4,507.9,264.0,514.3,321.4,311.7,271.3,657.1,403.5,600.4,386.0,716.9,1347.0,1479.0,1261.0,858.1,1265.0,181.0]}},\"id\":\"31b7e92f-732f-4578-a1d3-f4b584f1a014\",\"type\":\"ColumnDataSource\"},{\"attributes\":{\"callback\":null},\"id\":\"bbe7ec03-0525-4d2c-9dfd-5b264f116180\",\"type\":\"DataRange1d\"},{\"attributes\":{\"overlay\":{\"id\":\"1423ca0c-3b87-460d-aae5-dbc76d9be76e\",\"type\":\"BoxAnnotation\"}},\"id\":\"26e58f2b-4bab-4521-8d8d-3b082603eaef\",\"type\":\"BoxZoomTool\"},{\"attributes\":{\"dimension\":1,\"grid_line_alpha\":{\"value\":0.3},\"plot\":{\"id\":\"9eac0f20-afda-4f73-9292-ba2548fdd35e\",\"subtype\":\"Figure\",\"type\":\"Plot\"},\"ticker\":{\"id\":\"c01fc9ff-c81c-48d4-ad73-f29c3dcabf47\",\"type\":\"BasicTicker\"}},\"id\":\"277bbc7a-921a-4713-884a-bb028ea3e004\",\"type\":\"Grid\"},{\"attributes\":{},\"id\":\"c01fc9ff-c81c-48d4-ad73-f29c3dcabf47\",\"type\":\"BasicTicker\"},{\"attributes\":{\"source\":{\"id\":\"a3e29b1a-fd69-45d9-8a94-748eb563e595\",\"type\":\"ColumnDataSource\"}},\"id\":\"12c83b5d-1d0f-44a6-9251-500470e2883f\",\"type\":\"CDSView\"},{\"attributes\":{\"source\":{\"id\":\"da05fb23-5a23-4e1e-b84d-76c67c8f3759\",\"type\":\"ColumnDataSource\"}},\"id\":\"bd206359-e36d-429e-bef9-fc1d52f6273b\",\"type\":\"CDSView\"},{\"attributes\":{},\"id\":\"f757858a-0a38-46d5-9a38-cb89a8641bea\",\"type\":\"ResetTool\"},{\"attributes\":{\"fill_alpha\":{\"value\":0.5},\"fill_color\":{\"value\":\"#2ca02c\"},\"line_color\":{\"value\":\"#2ca02c\"},\"size\":{\"units\":\"screen\",\"value\":8},\"x\":{\"field\":\"x\"},\"y\":{\"field\":\"y\"}},\"id\":\"4ff1dceb-f0ce-47cc-9861-e628d90cb716\",\"type\":\"Circle\"},{\"attributes\":{\"items\":[{\"id\":\"a16984c1-c9d6-4414-bf01-c65d31f4015c\",\"type\":\"LegendItem\"},{\"id\":\"2e9187f6-8169-4ef1-816c-e7ab75794979\",\"type\":\"LegendItem\"},{\"id\":\"54379333-2624-49c5-b76e-497c2a34ce32\",\"type\":\"LegendItem\"}],\"location\":\"top_left\",\"plot\":{\"id\":\"9eac0f20-afda-4f73-9292-ba2548fdd35e\",\"subtype\":\"Figure\",\"type\":\"Plot\"}},\"id\":\"531535a2-a10c-4e1c-9813-d76b9dde6ede\",\"type\":\"Legend\"},{\"attributes\":{\"callback\":null,\"column_names\":[\"x\",\"y\"],\"data\":{\"x\":[20.0,21.0,22.0,38.0,47.0,49.0,50.0,51.0,52.0,53.0,56.0,59.0,60.0,61.0,62.0,64.0,67.0,68.0,69.0,70.0,72.0,75.0,77.0,80.0,81.0,82.0,85.0,89.0,90.0,91.0,93.0,94.0,97.0,98.0,99.0,102.0,103.0,104.0,105.0,107.0,108.0,110.0,111.0,112.0,113.0,114.0,115.0,116.0,117.0,121.0,124.0,125.0,126.0,129.0,131.0,134.0,137.0,138.0,140.0,141.0,143.0,144.0,145.0,146.0,148.0,149.0,150.0,151.0,152.0,153.0,154.0,155.0,156.0,158.0,159.0,160.0,161.0,164.0,166.0,167.0,170.0,171.0,174.0,175.0,176.0,177.0,179.0,180.0,184.0,186.0,188.0,189.0,190.0,192.0,193.0,196.0,201.0,205.0,207.0,209.0,210.0,212.0,217.0,218.0,221.0,222.0,223.0,225.0,226.0,227.0,228.0,229.0,232.0,233.0,235.0,236.0,239.0,241.0,242.0,243.0,244.0,246.0,247.0,248.0,249.0,250.0,252.0,267.0,268.0,269.0,270.0,271.0,272.0,274.0,276.0,277.0,279.0,280.0,282.0,285.0,286.0,287.0,288.0,289.0,290.0,291.0,292.0,293.0,294.0,295.0,296.0,297.0,299.0,300.0,302.0,304.0,305.0,306.0,307.0,308.0,309.0,310.0,311.0,312.0,313.0,314.0,315.0,316.0,317.0,319.0,320.0,321.0,323.0,325.0,326.0,327.0,328.0,332.0,333.0,334.0,335.0,337.0,339.0,341.0,342.0,343.0,345.0,346.0,347.0,348.0,349.0,350.0,351.0,355.0,356.0,357.0,358.0,359.0,360.0,361.0,362.0,363.0,364.0,365.0,368.0,372.0,375.0,376.0,377.0,378.0,379.0,381.0,382.0,383.0,384.0,385.0,387.0,388.0,389.0,391.0,392.0,395.0,396.0,397.0,398.0,399.0,400.0,402.0,403.0,404.0,405.0,406.0,407.0,408.0,410.0,411.0,412.0,413.0,414.0,416.0,417.0,419.0,420.0,421.0,422.0,423.0,424.0,425.0,426.0,427.0,428.0,429.0,430.0,432.0,435.0,437.0,438.0,439.0,440.0,441.0,443.0,444.0,446.0,448.0,449.0,451.0,453.0,454.0,455.0,456.0,457.0,458.0,459.0,460.0,463.0,464.0,465.0,466.0,467.0,468.0,470.0,471.0,472.0,473.0,474.0,475.0,476.0,477.0,478.0,479.0,481.0,482.0,483.0,484.0,485.0,486.0,487.0,489.0,491.0,492.0,494.0,495.0,496.0,497.0,498.0],\"y\":[566.3,520.0,273.9,523.8,201.9,449.3,561.0,427.9,571.8,437.6,409.0,527.2,224.5,311.9,221.8,260.9,269.4,394.1,250.5,502.5,244.0,470.9,559.2,506.3,401.5,520.0,443.3,466.1,651.9,662.7,551.7,555.1,451.1,294.5,412.6,143.5,458.7,298.3,336.1,412.5,466.7,396.5,290.2,480.4,629.9,334.2,230.9,438.6,245.2,403.3,640.7,553.5,588.7,674.5,455.8,761.7,423.6,399.8,384.8,288.5,398.0,512.2,355.3,432.8,689.5,640.1,585.0,519.4,203.9,300.2,381.9,538.9,460.3,880.2,448.6,366.8,419.8,464.5,690.2,357.6,685.9,464.1,372.7,349.6,227.2,302.4,526.4,508.8,402.0,317.5,420.3,428.9,463.7,507.4,288.1,516.4,461.0,481.9,295.4,529.4,725.5,428.0,432.2,321.2,568.9,561.3,313.1,546.4,641.2,329.6,684.5,496.4,395.7,386.8,279.6,603.4,623.9,575.3,476.5,389.4,590.0,337.7,541.6,512.2,347.0,406.3,407.4,346.4,561.0,512.2,344.9,632.6,388.0,289.9,435.6,396.6,572.3,587.4,427.3,516.6,489.0,441.0,515.9,394.1,396.0,651.0,687.3,513.7,432.7,492.1,582.7,363.7,633.1,334.2,471.3,334.3,403.1,417.2,537.3,246.3,566.2,530.6,418.7,664.9,504.1,409.1,221.2,481.6,461.4,244.5,477.3,324.2,504.8,457.9,489.9,616.5,446.0,514.0,387.3,390.0,464.4,514.3,310.8,641.2,280.5,373.9,420.3,321.6,445.3,668.7,402.7,426.7,421.0,384.6,485.8,512.0,593.7,241.0,278.6,491.9,546.1,496.6,838.1,552.4,458.4,711.8,579.1,788.5,338.3,562.1,580.6,386.3,372.7,447.8,462.9,541.8,462.0,596.6,392.0,321.6,234.3,446.2,609.1,558.1,508.3,378.2,431.9,442.7,525.2,507.6,469.1,370.0,800.0,514.5,466.1,399.8,373.2,268.8,693.7,433.8,271.2,495.0,380.3,409.7,656.1,408.2,575.3,289.7,307.3,333.6,359.9,381.1,501.3,467.8,673.7,509.2,611.2,592.6,606.5,371.5,585.9,340.9,441.3,674.8,659.7,432.0,442.5,644.2,492.9,557.2,415.1,537.9,520.2,290.9,646.1,412.7,537.3,542.9,536.9,286.3,408.8,289.1,449.9,686.9,465.4,358.9,506.9,618.4,599.4,404.9,455.3,602.9,546.3,571.1,747.2,476.7,666.0,420.5,466.5,992.1,477.3,538.7,680.9,485.6,480.1]}},\"id\":\"da05fb23-5a23-4e1e-b84d-76c67c8f3759\",\"type\":\"ColumnDataSource\"},{\"attributes\":{\"fill_alpha\":{\"value\":0.5},\"fill_color\":{\"value\":\"#1f77b4\"},\"line_color\":{\"value\":\"#1f77b4\"},\"size\":{\"units\":\"screen\",\"value\":8},\"x\":{\"field\":\"x\"},\"y\":{\"field\":\"y\"}},\"id\":\"6dffb909-17b5-4b33-8ac8-23e62991286c\",\"type\":\"Circle\"},{\"attributes\":{\"fill_alpha\":{\"value\":0.1},\"fill_color\":{\"value\":\"#1f77b4\"},\"line_alpha\":{\"value\":0.1},\"line_color\":{\"value\":\"#1f77b4\"},\"size\":{\"units\":\"screen\",\"value\":8},\"x\":{\"field\":\"x\"},\"y\":{\"field\":\"y\"}},\"id\":\"ed529ee6-5782-4c98-850d-db0dc7ea95f6\",\"type\":\"Circle\"},{\"attributes\":{\"fill_alpha\":{\"value\":0.1},\"fill_color\":{\"value\":\"#1f77b4\"},\"line_alpha\":{\"value\":0.1},\"line_color\":{\"value\":\"#1f77b4\"},\"size\":{\"units\":\"screen\",\"value\":8},\"x\":{\"field\":\"x\"},\"y\":{\"field\":\"y\"}},\"id\":\"70cf7cfa-1b2d-41d6-938e-738b8d6f0912\",\"type\":\"Circle\"},{\"attributes\":{\"fill_alpha\":{\"value\":0.1},\"fill_color\":{\"value\":\"#1f77b4\"},\"line_alpha\":{\"value\":0.1},\"line_color\":{\"value\":\"#1f77b4\"},\"size\":{\"units\":\"screen\",\"value\":8},\"x\":{\"field\":\"x\"},\"y\":{\"field\":\"y\"}},\"id\":\"d92f193a-c454-4c5d-b0cf-f876e1e3dc6a\",\"type\":\"Circle\"},{\"attributes\":{},\"id\":\"8c4016d3-e521-49d1-9c13-4b17f48f6b22\",\"type\":\"HelpTool\"},{\"attributes\":{\"data_source\":{\"id\":\"a3e29b1a-fd69-45d9-8a94-748eb563e595\",\"type\":\"ColumnDataSource\"},\"glyph\":{\"id\":\"6dffb909-17b5-4b33-8ac8-23e62991286c\",\"type\":\"Circle\"},\"hover_glyph\":null,\"muted_glyph\":null,\"nonselection_glyph\":{\"id\":\"d92f193a-c454-4c5d-b0cf-f876e1e3dc6a\",\"type\":\"Circle\"},\"selection_glyph\":null,\"view\":{\"id\":\"12c83b5d-1d0f-44a6-9251-500470e2883f\",\"type\":\"CDSView\"}},\"id\":\"41014db6-1244-4899-bc50-ac1ecc13e195\",\"type\":\"GlyphRenderer\"},{\"attributes\":{\"axis_label\":\"area_mean\",\"formatter\":{\"id\":\"4ecb447b-9e04-4ec1-8242-3bbc095850e4\",\"type\":\"BasicTickFormatter\"},\"plot\":{\"id\":\"9eac0f20-afda-4f73-9292-ba2548fdd35e\",\"subtype\":\"Figure\",\"type\":\"Plot\"},\"ticker\":{\"id\":\"c01fc9ff-c81c-48d4-ad73-f29c3dcabf47\",\"type\":\"BasicTicker\"}},\"id\":\"a3d685d4-c849-4c12-8ff7-383656edc1cb\",\"type\":\"LinearAxis\"}],\"root_ids\":[\"9eac0f20-afda-4f73-9292-ba2548fdd35e\"]},\"title\":\"Bokeh Application\",\"version\":\"0.12.10\"}};\n",
       "          var render_items = [{\"docid\":\"d545a79a-2976-4a03-acd9-2b26bb677e66\",\"elementid\":\"81f17bb1-945c-43b1-8ca3-738e9323f772\",\"modelid\":\"9eac0f20-afda-4f73-9292-ba2548fdd35e\"}];\n",
       "      \n",
       "          root.Bokeh.embed.embed_items(docs_json, render_items);\n",
       "        }\n",
       "      \n",
       "        if (root.Bokeh !== undefined) {\n",
       "          embed_document(root);\n",
       "        } else {\n",
       "          var attempts = 0;\n",
       "          var timer = setInterval(function(root) {\n",
       "            if (root.Bokeh !== undefined) {\n",
       "              embed_document(root);\n",
       "              clearInterval(timer);\n",
       "            }\n",
       "            attempts++;\n",
       "            if (attempts > 100) {\n",
       "              console.log(\"Bokeh: ERROR: Unable to embed document because BokehJS library is missing\")\n",
       "              clearInterval(timer);\n",
       "            }\n",
       "          }, 10, root)\n",
       "        }\n",
       "      })(window);\n",
       "    });\n",
       "  };\n",
       "  if (document.readyState != \"loading\") fn();\n",
       "  else document.addEventListener(\"DOMContentLoaded\", fn);\n",
       "})();\n",
       "\n",
       "</script><div style=\"padding:5px\" id=\"pd-bkchartdiv-bcb347fc\">\n",
       "<div class=\"bk-root\">\n",
       "    <div id=\"99250D3ADABE464CA8E469110E3AF472\" class=\"bk-plot-layout bk-layout-fixed\" style=\"position: relative; width: 806px; height: 490px;\"><div id=\"DB59F435176B430D8661018430A8AD0E\" class=\"bk-toolbar-wrapper\" style=\"left: 776px; top: 5px; width: 30px; height: 485px;\"><div class=\"bk-toolbar-right bk-toolbar-sticky\"><a href=\"https://bokeh.pydata.org/\" target=\"_blank\" class=\"bk-logo bk-logo-small\"></a><div class=\"bk-button-bar\"><div class=\"bk-button-bar-list\" type=\"pan\"><div id=\"D1A41DC37987419F99B0CA8CBB6C3D74\" class=\"bk-toolbar-button bk-active\"><div class=\"bk-btn-icon bk-tool-icon-pan\"></div><span class=\"bk-tip\">Pan</span></div><div id=\"496103D5427340129A0D3B78518C616B\" class=\"bk-toolbar-button\"><div class=\"bk-btn-icon bk-tool-icon-box-zoom\"></div><span class=\"bk-tip\">Box Zoom</span></div></div><div class=\"bk-button-bar-list\" type=\"scroll\"><div id=\"B968F97D63EE4A6CBE6EC41E328F60D2\" class=\"bk-toolbar-button\"><div class=\"bk-btn-icon bk-tool-icon-wheel-zoom\"></div><span class=\"bk-tip\">Wheel Zoom</span></div></div><div class=\"bk-button-bar-list\" type=\"pinch\"></div><div class=\"bk-button-bar-list\" type=\"tap\"></div><div class=\"bk-button-bar-list\" type=\"press\"></div><div class=\"bk-button-bar-list\" type=\"rotate\"></div><div class=\"bk-button-bar-list\" type=\"actions\"><div id=\"0A24503066804E3C98341A5F57FE4BEA\" class=\"bk-toolbar-button\"><div class=\"bk-btn-icon bk-tool-icon-save\"></div><span class=\"bk-tip\">Save</span></div><div id=\"23943C598BFC4AA5A04A5BE5A4CE97C2\" class=\"bk-toolbar-button\"><div class=\"bk-btn-icon bk-tool-icon-reset\"></div><span class=\"bk-tip\">Reset</span></div></div><div class=\"bk-button-bar-list\" type=\"inspectors\"></div><div class=\"bk-button-bar-list\" type=\"help\"><div id=\"F1207F526C2F4587BC5C8A8788F9FBA0\" class=\"bk-toolbar-button\"><div class=\"bk-btn-icon bk-tool-icon-help\"></div><span class=\"bk-tip\">Click the question mark to learn more about Bokeh plot tools.</span></div></div></div></div></div><div id=\"885F97ACC6AC486EB61741C40083776E\" class=\"bk-plot-wrapper\" style=\"position: absolute; left: 0px; top: 0px; width: 806px; height: 490px;\"><div id=\"36BB36C2B77B467CA5FD47EFCBF3EDF4\" class=\"bk-canvas-wrapper\" style=\"touch-action: none; user-select: none; -webkit-user-drag: none; -webkit-tap-highlight-color: rgba(0, 0, 0, 0);\"><div class=\"bk-canvas-events\"></div><div class=\"bk-canvas-overlays\"><div id=\"66D43F37A20B4C8FB7F08A01DE828B65\" class=\"bk-shading\" style=\"display: none;\"></div></div><canvas class=\"bk-canvas\"></canvas></div></div></div>\n",
       "</div></div>\n",
       "                    \n",
       "                \n",
       "        </div>"
      ],
      "text/plain": [
       "<IPython.core.display.HTML object>"
      ]
     },
     "metadata": {},
     "output_type": "display_data"
    }
   ],
   "source": [
    "display(cancer_nums)"
   ]
  },
  {
   "cell_type": "markdown",
   "metadata": {},
   "source": [
    "We can also use PixieDust to observe the composition of the data. \n",
    "Below we group the data by diagnosis so that we can get a count of the number of each diagnosis (M-malignant, B-benign, U-unlabeled). \n",
    "\n",
    "Using the table feature we can see that the data has 305 benign tumors, 193 malignant tumors, and 71 unlabeled tumors. \n",
    "\n",
    "We can also use a pie chart, created using the drop down menu used previously to make the scatterplot above, to see the percentages of each diagnosis."
   ]
  },
  {
   "cell_type": "code",
   "execution_count": 6,
   "metadata": {
    "pixiedust": {
     "displayParams": {
      "aggregation": "SUM",
      "handlerId": "pieChart",
      "keyFields": "diagnosis",
      "rowCount": "1000",
      "valueFields": "count"
     }
    },
    "scrolled": false
   },
   "outputs": [
    {
     "data": {
      "text/html": [
       "<style type=\"text/css\">.pd_warning{display:none;}</style><div class=\"pd_warning\"><em>Hey, there's something awesome here! To see it, open this notebook outside GitHub, in a viewer like Jupyter</em></div>\n",
       "        <div class=\"pd_save is-viewer-good\" style=\"padding-right:10px;text-align: center;line-height:initial !important;font-size: xx-large;font-weight: 500;color: coral;\">\n",
       "            \n",
       "        </div>\n",
       "    <div id=\"chartFigurec8239cf4\" class=\"pd_save is-viewer-good\" style=\"overflow-x:auto\">\n",
       "            \n",
       "                    \n",
       "                            <center><img style=\"max-width:initial !important\" src=\"data:image/png;base64,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\" class=\"pd_save\"></center>\n",
       "                        \n",
       "                    \n",
       "                \n",
       "        </div>"
      ],
      "text/plain": [
       "<IPython.core.display.HTML object>"
      ]
     },
     "metadata": {},
     "output_type": "display_data"
    }
   ],
   "source": [
    "cancer = cancer_nums.groupby(\"diagnosis\").count()\n",
    "display(cancer)"
   ]
  },
  {
   "cell_type": "markdown",
   "metadata": {},
   "source": [
    "Because some of our data points are unlabeled we need to filter them out before we train our model."
   ]
  },
  {
   "cell_type": "code",
   "execution_count": 7,
   "metadata": {},
   "outputs": [],
   "source": [
    "LabeledData = cancer_nums.filter(\"diagnosis != 'U'\")"
   ]
  },
  {
   "cell_type": "markdown",
   "metadata": {},
   "source": [
    "<a id=\"engineer\"></a>\n",
    "## Feature Engineering \n",
    "We need to change our label, **diagnosis**, into a form that SparkML can use. We can do so by using StringIndexer which encodes the input column, in our case the diagnosis column, to a column of indices that are representative of the frequency of the input string.\n",
    "\n",
    "To turn the label back into a human readable form we can use the converter that we define below using IndexToString. IndexToString maps the column of indices back to the original labels of the column."
   ]
  },
  {
   "cell_type": "code",
   "execution_count": 8,
   "metadata": {},
   "outputs": [],
   "source": [
    "labelIndexer = StringIndexer(inputCol=\"diagnosis\", outputCol=\"label\", handleInvalid=\"error\")\n",
    "labelModel = labelIndexer.fit(LabeledData)\n",
    "converter = IndexToString(inputCol=\"prediction\", outputCol=\"predCategory\", labels=labelModel.labels)"
   ]
  },
  {
   "cell_type": "markdown",
   "metadata": {},
   "source": [
    "Now we must put all feature columns into an array using VectorAssembler which combines a list of columns into a single vector column that can be used in training the model."
   ]
  },
  {
   "cell_type": "code",
   "execution_count": 9,
   "metadata": {},
   "outputs": [],
   "source": [
    "vecAssembler = VectorAssembler(inputCols=[\"radius_mean\",\"texture_mean\",\"perimeter_mean\",\"area_mean\",\"smoothness_mean\",\"compactness_mean\",\"concavity_mean\",\"concave points_mean\",\"symmetry_mean\",\"fractal_dimension_mean\",\"radius_se\",\"texture_se\",\"perimeter_se\",\"area_se\",\"smoothness_se\",\"compactness_se\",\"concavity_se\",\"concave points_se\",\"symmetry_se\",\"fractal_dimension_se\",\"radius_worst\",\"texture_worst\",\"perimeter_worst\",\"area_worst\",\"smoothness_worst\",\"compactness_worst\",\"concavity_worst\",\"concave points_worst\",\"symmetry_worst\",\"fractal_dimension_worst\"], outputCol=\"features\")"
   ]
  },
  {
   "cell_type": "markdown",
   "metadata": {},
   "source": [
    "We use a normalizer to normalize each vector to have a standard form to improve the algorithm."
   ]
  },
  {
   "cell_type": "code",
   "execution_count": 10,
   "metadata": {},
   "outputs": [],
   "source": [
    "normalizer = Normalizer(inputCol=\"features\", outputCol=\"normFeatures\", p=1.0)"
   ]
  },
  {
   "cell_type": "markdown",
   "metadata": {},
   "source": [
    "<a id=\"model\"></a>\n",
    "## State the model to be used \n",
    "Next we need to create our logistic regression model that will output its prediction into the **prediction** column.\n",
    "\n",
    "Logistic Regression is often used for models of binary categorical outcome."
   ]
  },
  {
   "cell_type": "code",
   "execution_count": 11,
   "metadata": {},
   "outputs": [],
   "source": [
    "lr = LogisticRegression(maxIter=10, regParam=0.3, elasticNetParam=0.8)"
   ]
  },
  {
   "cell_type": "markdown",
   "metadata": {},
   "source": [
    "<a id=\"pipeline\"></a>\n",
    "## Create a pipeline\n",
    "A pipeline chains together multiple tranformers to specify a specific ML workflow. It is a sequene of pipeline stages that are to be run in a specific order.\n",
    "\n",
    "In our case, we first want to tranform the label into a usable form for the algorithm, then we create a combined vector, normalize the vector, and finally convert the results back into the original label format."
   ]
  },
  {
   "cell_type": "code",
   "execution_count": 12,
   "metadata": {},
   "outputs": [],
   "source": [
    "pipeline = Pipeline(stages=[labelIndexer, vecAssembler, normalizer, lr, converter])"
   ]
  },
  {
   "cell_type": "markdown",
   "metadata": {},
   "source": [
    "<a id=\"train\"></a>\n",
    "## Divide data into a training and testing set \n",
    "We should split the data randomly with 70% going to the training set and 30% going to the testing set."
   ]
  },
  {
   "cell_type": "code",
   "execution_count": 14,
   "metadata": {},
   "outputs": [
    {
     "name": "stdout",
     "output_type": "stream",
     "text": [
      "The number of records in the training data set is 357.\n",
      "The number of rows labeled M is 138.\n",
      "The number of rows labeled B is 219.\n",
      "\n",
      "The number of records in the test data set is 141.\n",
      "The number of rows labeled M is 55.\n",
      "The number of rows labeled B is 86.\n"
     ]
    }
   ],
   "source": [
    "train, test = LabeledData.randomSplit([70.0,30.0], seed=1)\n",
    "train.cache()\n",
    "test.cache()\n",
    "print('The number of records in the training data set is {}.'.format(train.count()))\n",
    "print('The number of rows labeled M is {}.'.format(train.filter(train['diagnosis'] == \"M\").count()))\n",
    "print('The number of rows labeled B is {}.'.format(train.filter(train['diagnosis'] == \"B\").count()))\n",
    "\n",
    "print()\n",
    "\n",
    "print('The number of records in the test data set is {}.'.format(test.count()))\n",
    "print('The number of rows labeled M is {}.'.format(test.filter(train['diagnosis'] == \"M\").count()))\n",
    "print('The number of rows labeled B is {}.'.format(test.filter(train['diagnosis'] == \"B\").count()))"
   ]
  },
  {
   "cell_type": "markdown",
   "metadata": {},
   "source": [
    "## Fit the model and make predictions \n",
    "Next, we need to fit the pipeline to the model and make predictions using the model."
   ]
  },
  {
   "cell_type": "code",
   "execution_count": 15,
   "metadata": {},
   "outputs": [
    {
     "data": {
      "text/plain": [
       "141"
      ]
     },
     "execution_count": 15,
     "metadata": {},
     "output_type": "execute_result"
    }
   ],
   "source": [
    "model = pipeline.fit(train)\n",
    "predictions = model.transform(test)\n",
    "predictions.count()"
   ]
  },
  {
   "cell_type": "markdown",
   "metadata": {},
   "source": [
    "<a id=\"evaluate\"></a>\n",
    "## Evaluate the accuracy of the model \n",
    "We can use the Reciever Operator Characteristic (ROC) curve for binary classifiers which assess the models diagnositc ability. The ROC is useful for comparing models and choosing the best one for the data. An ROC value close to 1 performs very well, whereas a model with an ROC value close to 0.5 is as good as flipping a coin."
   ]
  },
  {
   "cell_type": "code",
   "execution_count": 16,
   "metadata": {},
   "outputs": [
    {
     "name": "stdout",
     "output_type": "stream",
     "text": [
      "Area under the ROC curve = 0.9890063424947146.\n"
     ]
    }
   ],
   "source": [
    "evaluator = BinaryClassificationEvaluator().setLabelCol(\"label\").setMetricName(\"areaUnderROC\")\n",
    "print('Area under the ROC curve = {}.'.format(evaluator.evaluate(predictions)))"
   ]
  },
  {
   "cell_type": "markdown",
   "metadata": {},
   "source": [
    "<a id=\"tuning\"></a>\n",
    "## Hyperparameter Tuning\n",
    "To find the best possible model we can use model selection tools that:\n",
    "\n",
    "1. Split the data into training and testing datasets\n",
    "2. For each (training, test) pair, they iterate through the set of ParamMaps\n",
    "3. For each ParamMap, they fit the pipeline using those parameters, get a fitted Model, and evaluate the Model’s performance\n",
    "4. Select the Model found using the best-performing set of parameters\n",
    "\n",
    "To tune our model we will use cross-validation.\n",
    "A CrossValidator splits the dataset into folds which are used as separate training and testing datasets. We will use 10 folds, so the CrossValidator will generate 10 dataset pairs for training and testing. It will use the average evaluation of the 10 models found using each dataset pair to identify the best ParamMap and re-fit the pipeline using the best ParamMap for the entire dataset."
   ]
  },
  {
   "cell_type": "code",
   "execution_count": 17,
   "metadata": {},
   "outputs": [],
   "source": [
    "paramGrid = (ParamGridBuilder().addGrid(lr.elasticNetParam, [0, 0.5, 1.0])\n",
    "                 .addGrid(normalizer.p, [1.0, 2.0]).build())"
   ]
  },
  {
   "cell_type": "code",
   "execution_count": 18,
   "metadata": {},
   "outputs": [],
   "source": [
    "cv = CrossValidator().setEstimator(pipeline).setEvaluator(evaluator).setEstimatorParamMaps(paramGrid).setNumFolds(10)"
   ]
  },
  {
   "cell_type": "code",
   "execution_count": 19,
   "metadata": {},
   "outputs": [
    {
     "name": "stdout",
     "output_type": "stream",
     "text": [
      "Area under the ROC curve for best fitted model = 0.9947145877378436.\n"
     ]
    }
   ],
   "source": [
    "cvModel = cv.fit(train)\n",
    "print('Area under the ROC curve for best fitted model = {}.'.format(evaluator.evaluate(cvModel.transform(test))))"
   ]
  },
  {
   "cell_type": "markdown",
   "metadata": {},
   "source": [
    "Our cross-validated model was 0.58% better at predicting a diagnosis than our original model so we will use the new model for our final predictions. "
   ]
  },
  {
   "cell_type": "code",
   "execution_count": 20,
   "metadata": {},
   "outputs": [
    {
     "name": "stdout",
     "output_type": "stream",
     "text": [
      "Area under the ROC curve for non-tuned model = 0.9890063424947146.\n",
      "Area under the ROC curve for best fitted model = 0.9947145877378436.\n",
      "Improvement = 0.58%\n"
     ]
    }
   ],
   "source": [
    "print('Area under the ROC curve for non-tuned model = {}.'.format(evaluator.evaluate(predictions)))\n",
    "print('Area under the ROC curve for best fitted model = {}.'.format(evaluator.evaluate(cvModel.transform(test))))\n",
    "print('Improvement = {0:0.2f}%'.format((evaluator.evaluate(cvModel.transform(test)) - evaluator.evaluate(predictions)) *100 / evaluator.evaluate(predictions)))"
   ]
  },
  {
   "cell_type": "markdown",
   "metadata": {},
   "source": [
    "<a id=\"best\"></a>\n",
    "## Finalizing and making predictions using the best model\n",
    "First we must filter out the data points that unlabeled so that we can make predictions on diagnoses for those points."
   ]
  },
  {
   "cell_type": "code",
   "execution_count": 21,
   "metadata": {},
   "outputs": [],
   "source": [
    "UnlabeledData=cancer_nums.filter(\"diagnosis == 'U'\")"
   ]
  },
  {
   "cell_type": "code",
   "execution_count": 22,
   "metadata": {},
   "outputs": [],
   "source": [
    "newPreds = cvModel.transform(UnlabeledData)"
   ]
  },
  {
   "cell_type": "code",
   "execution_count": 23,
   "metadata": {},
   "outputs": [
    {
     "name": "stdout",
     "output_type": "stream",
     "text": [
      "+-----+----------+------------+-----------+------------+--------------+---------+---------------+----------------+--------------+-------------------+-------------+----------------------+---------+----------+------------+-------+-------------+--------------+------------+-----------------+-----------+--------------------+------------+-------------+---------------+----------+----------------+-----------------+---------------+--------------------+--------------+-----------------------+\n",
      "|   id|prediction|predCategory|radius_mean|texture_mean|perimeter_mean|area_mean|smoothness_mean|compactness_mean|concavity_mean|concave points_mean|symmetry_mean|fractal_dimension_mean|radius_se|texture_se|perimeter_se|area_se|smoothness_se|compactness_se|concavity_se|concave points_se|symmetry_se|fractal_dimension_se|radius_worst|texture_worst|perimeter_worst|area_worst|smoothness_worst|compactness_worst|concavity_worst|concave points_worst|symmetry_worst|fractal_dimension_worst|\n",
      "+-----+----------+------------+-----------+------------+--------------+---------+---------------+----------------+--------------+-------------------+-------------+----------------------+---------+----------+------------+-------+-------------+--------------+------------+-----------------+-----------+--------------------+------------+-------------+---------------+----------+----------------+-----------------+---------------+--------------------+--------------+-----------------------+\n",
      "|499.0|       1.0|           M|      18.49|       17.52|         121.3|   1068.0|         0.1012|          0.1317|        0.1491|            0.09183|       0.1832|               0.06697|   0.7923|     1.045|       4.851|  95.77|     0.007974|       0.03214|     0.04435|          0.01573|    0.01617|            0.005255|       22.75|        22.88|          146.4|    1600.0|          0.1412|           0.3089|         0.3533|              0.1663|         0.251|                0.09445|\n",
      "|500.0|       1.0|           M|      20.59|       21.24|         137.8|   1320.0|         0.1085|          0.1644|        0.2188|             0.1121|       0.1848|               0.06222|   0.5904|     1.216|       4.206|  75.09|     0.006666|       0.02791|     0.04062|          0.01479|    0.01117|            0.003727|       23.86|        30.76|          163.2|    1760.0|          0.1464|           0.3597|         0.5179|              0.2113|         0.248|                0.08999|\n",
      "|501.0|       0.0|           B|      15.04|       16.74|         98.73|    689.4|        0.09883|          0.1364|       0.07721|            0.06142|       0.1668|               0.06869|    0.372|    0.8423|       2.304|  34.84|     0.004123|       0.01819|     0.01996|          0.01004|    0.01055|            0.003237|       16.76|        20.43|          109.7|     856.9|          0.1135|           0.2176|         0.1856|              0.1018|        0.2177|                0.08549|\n",
      "|502.0|       1.0|           M|      13.82|       24.49|         92.33|    595.9|         0.1162|          0.1681|        0.1357|            0.06759|       0.2275|               0.07237|   0.4751|     1.528|       2.974|  39.05|      0.00968|       0.03856|     0.03476|          0.01616|    0.02434|            0.006995|       16.01|        32.94|          106.0|     788.0|          0.1794|           0.3966|         0.3381|              0.1521|        0.3651|                 0.1183|\n",
      "|503.0|       0.0|           B|      12.54|       16.32|         81.25|    476.3|         0.1158|          0.1085|       0.05928|            0.03279|       0.1943|               0.06612|   0.2577|     1.095|       1.566|  18.49|     0.009702|       0.01567|     0.02575|          0.01161|    0.02801|             0.00248|       13.57|         21.4|          86.67|     552.0|           0.158|           0.1751|         0.1889|             0.08411|        0.3155|                0.07538|\n",
      "|504.0|       1.0|           M|      23.09|       19.83|         152.1|   1682.0|        0.09342|          0.1275|        0.1676|             0.1003|       0.1505|               0.05484|    1.291|    0.7452|       9.635|  180.2|     0.005753|       0.03356|     0.03976|          0.02156|    0.02201|            0.002897|       30.79|        23.87|          211.5|    2782.0|          0.1199|           0.3625|         0.3794|              0.2264|        0.2908|                0.07277|\n",
      "|505.0|       0.0|           B|      9.268|       12.87|         61.49|    248.7|         0.1634|          0.2239|        0.0973|            0.05252|       0.2378|               0.09502|   0.4076|     1.093|       3.014|  20.04|     0.009783|       0.04542|     0.03483|          0.02188|    0.02542|             0.01045|       10.28|        16.38|          69.05|     300.2|          0.1902|           0.3441|         0.2099|              0.1025|        0.3038|                 0.1252|\n",
      "|506.0|       0.0|           B|      9.676|       13.14|         64.12|    272.5|         0.1255|          0.2204|        0.1188|            0.07038|       0.2057|               0.09575|   0.2744|      1.39|       1.787|  17.67|      0.02177|       0.04888|     0.05189|           0.0145|    0.02632|             0.01148|        10.6|        18.04|          69.47|     328.1|          0.2006|           0.3663|         0.2913|              0.1075|        0.2848|                 0.1364|\n",
      "|507.0|       0.0|           B|      12.22|       20.04|         79.47|    453.1|         0.1096|          0.1152|       0.08175|            0.02166|       0.2124|               0.06894|   0.1811|    0.7959|      0.9857|  12.58|     0.006272|       0.02198|     0.03966|         0.009894|     0.0132|            0.003813|       13.16|        24.17|          85.13|     515.3|          0.1402|           0.2315|         0.3535|             0.08088|        0.2709|                0.08839|\n",
      "|508.0|       0.0|           B|      11.06|       17.12|         71.25|    366.5|         0.1194|          0.1071|       0.04063|            0.04268|       0.1954|               0.07976|   0.1779|      1.03|       1.318|   12.3|      0.01262|       0.02348|       0.018|          0.01285|     0.0222|            0.008313|       11.69|        20.74|          76.08|     411.1|          0.1662|           0.2031|         0.1256|             0.09514|         0.278|                 0.1168|\n",
      "|509.0|       0.0|           B|       16.3|        15.7|         104.7|    819.8|        0.09427|         0.06712|       0.05526|            0.04563|       0.1711|               0.05657|   0.2067|    0.4706|       1.146|  20.67|     0.007394|       0.01203|      0.0247|          0.01431|    0.01344|            0.002569|       17.32|        17.76|          109.8|     928.2|          0.1354|           0.1361|         0.1947|              0.1357|          0.23|                 0.0723|\n",
      "|510.0|       1.0|           M|      15.46|       23.95|         103.8|    731.3|         0.1183|           0.187|         0.203|             0.0852|       0.1807|               0.07083|   0.3331|     1.961|       2.937|  32.52|     0.009538|        0.0494|     0.06019|          0.02041|    0.02105|               0.006|       17.11|        36.33|          117.7|     909.4|          0.1732|           0.4967|         0.5911|              0.2163|        0.3013|                 0.1067|\n",
      "|511.0|       0.0|           B|      11.74|       14.69|         76.31|    426.0|        0.08099|         0.09661|       0.06726|            0.02639|       0.1499|               0.06758|   0.1924|    0.6417|       1.345|  13.04|     0.006982|       0.03916|     0.04017|          0.01528|     0.0226|            0.006822|       12.45|         17.6|          81.25|     473.8|          0.1073|           0.2793|          0.269|              0.1056|        0.2604|                0.09879|\n",
      "|512.0|       0.0|           B|      14.81|        14.7|         94.66|    680.7|        0.08472|         0.05016|       0.03416|            0.02541|       0.1659|               0.05348|   0.2182|    0.6232|       1.677|  20.72|     0.006708|       0.01197|     0.01482|          0.01056|     0.0158|            0.001779|       15.61|        17.58|          101.7|     760.2|          0.1139|           0.1011|         0.1101|             0.07955|        0.2334|                0.06142|\n",
      "|513.0|       1.0|           M|       13.4|       20.52|         88.64|    556.7|         0.1106|          0.1469|        0.1445|            0.08172|       0.2116|               0.07325|   0.3906|    0.9306|       3.093|  33.67|     0.005414|       0.02265|     0.03452|          0.01334|    0.01705|            0.004005|       16.41|        29.66|          113.3|     844.4|          0.1574|           0.3856|         0.5106|              0.2051|        0.3585|                 0.1109|\n",
      "|514.0|       0.0|           B|      14.58|       13.66|         94.29|    658.8|        0.09832|         0.08918|       0.08222|            0.04349|       0.1739|                0.0564|   0.4165|    0.6237|       2.561|  37.11|     0.004953|       0.01812|     0.03035|         0.008648|    0.01539|            0.002281|       16.76|        17.24|          108.5|     862.0|          0.1223|           0.1928|         0.2492|             0.09186|        0.2626|                0.07048|\n",
      "|515.0|       0.0|           B|      15.05|       19.07|         97.26|    701.9|        0.09215|         0.08597|       0.07486|            0.04335|       0.1561|               0.05915|    0.386|     1.198|        2.63|  38.49|     0.004952|        0.0163|     0.02967|         0.009423|    0.01152|            0.001718|       17.58|        28.06|          113.8|     967.0|          0.1246|           0.2101|         0.2866|               0.112|        0.2282|                0.06954|\n",
      "|516.0|       0.0|           B|      11.34|       18.61|         72.76|    391.2|         0.1049|         0.08499|       0.04302|            0.02594|       0.1927|               0.06211|    0.243|      1.01|       1.491|  18.19|     0.008577|       0.01641|     0.02099|          0.01107|    0.02434|            0.001217|       12.47|        23.03|          79.15|     478.6|          0.1483|           0.1574|         0.1624|             0.08542|         0.306|                0.06783|\n",
      "|517.0|       1.0|           M|      18.31|       20.58|         120.8|   1052.0|         0.1068|          0.1248|        0.1569|            0.09451|        0.186|               0.05941|   0.5449|    0.9225|       3.218|  67.36|     0.006176|       0.01877|     0.02913|          0.01046|    0.01559|            0.002725|       21.86|         26.2|          142.2|    1493.0|          0.1492|           0.2536|         0.3759|               0.151|        0.3074|                0.07863|\n",
      "|518.0|       1.0|           M|      19.89|       20.26|         130.5|   1214.0|         0.1037|           0.131|        0.1411|            0.09431|       0.1802|               0.06188|   0.5079|    0.8737|       3.654|   59.7|     0.005089|       0.02303|     0.03052|          0.01178|    0.01057|            0.003391|       23.73|        25.23|          160.5|    1646.0|          0.1417|           0.3309|         0.4185|              0.1613|        0.2549|                0.09136|\n",
      "+-----+----------+------------+-----------+------------+--------------+---------+---------------+----------------+--------------+-------------------+-------------+----------------------+---------+----------+------------+-------+-------------+--------------+------------+-----------------+-----------+--------------------+------------+-------------+---------------+----------+----------------+-----------------+---------------+--------------------+--------------+-----------------------+\n",
      "only showing top 20 rows\n",
      "\n"
     ]
    }
   ],
   "source": [
    "newPreds.select(\"id\",\"prediction\",\"predCategory\",\"radius_mean\",\"texture_mean\",\"perimeter_mean\",\"area_mean\",\"smoothness_mean\",\"compactness_mean\",\"concavity_mean\",\"concave points_mean\",\"symmetry_mean\",\"fractal_dimension_mean\",\"radius_se\",\"texture_se\",\"perimeter_se\",\"area_se\",\"smoothness_se\",\"compactness_se\",\"concavity_se\",\"concave points_se\",\"symmetry_se\",\"fractal_dimension_se\",\"radius_worst\",\"texture_worst\",\"perimeter_worst\",\"area_worst\",\"smoothness_worst\",\"compactness_worst\",\"concavity_worst\",\"concave points_worst\",\"symmetry_worst\",\"fractal_dimension_worst\").show()"
   ]
  },
  {
   "cell_type": "markdown",
   "metadata": {},
   "source": [
    "Below we can see the overall predictions for diagnoses"
   ]
  },
  {
   "cell_type": "code",
   "execution_count": 24,
   "metadata": {
    "scrolled": true
   },
   "outputs": [
    {
     "name": "stdout",
     "output_type": "stream",
     "text": [
      "The number of records in the unlabeled data set is 71.\n",
      "The number of rows labeled malignant is 18.\n",
      "The number of rows labeled benign is 53.\n"
     ]
    }
   ],
   "source": [
    "print('The number of records in the unlabeled data set is {}.'.format(newPreds.count()))\n",
    "print('The number of rows labeled malignant is {}.'.format(newPreds.filter(newPreds['predCategory'] == \"M\").count()))\n",
    "print('The number of rows labeled benign is {}.'.format(newPreds.filter(newPreds['predCategory'] == \"B\").count()))"
   ]
  },
  {
   "cell_type": "markdown",
   "metadata": {},
   "source": [
    "<a id=\"credentials\"></a>\n",
    "## Insert the object storage credentials\n",
    "\n",
    "Click on the cell below, then on the notebook toolbar, click the box of 1's and 0's, which is the <b>Find and Add Data</b> icon.\n",
    "\n",
    "<img alt=\"IBM Bluemix.Get started now\" src=\"https://raw.githubusercontent.com/bleonardb3/WatsonStudio/master/Lab-1/images/onezeroicon.png\" >\n",
    "\n",
    "Under the cancer_data.csv file, click <b>Insert to code</b> then select the <b>Insert Credentials</b> link to have a credentials dictionary added to the notebook.  \n",
    "\n",
    "\n",
    "\n",
    "Connecting to Cloud Object Storage requires the following information which are provided by the credentials dictionary inserted. \n",
    "\n",
    "    IBM_API_KEY\n",
    "    IAM_SERVICE_ID\n",
    "    ENDPOINT\n",
    "    IBM_AUTH_ENDPOINT\n",
    "\n",
    "We will upload the results file to the same bucket that contains the cancer_data.csv file.  \n",
    "   \n",
    "The @hidden_cell directive tells DSX not to export credentials when sharing."
   ]
  },
  {
   "cell_type": "code",
   "execution_count": 25,
   "metadata": {},
   "outputs": [],
   "source": [
    "# Insert object storage credentials below\n",
    "# Make sure the name that is used is credentials. If credentials_1 is shown, please change to credentials. \n",
    "# @hidden_cell\n",
    "# The following code contains the credentials for a file in your IBM Cloud Object Storage.\n",
    "# You might want to remove those credentials before you share your notebook.\n",
    "credentials = {\n",
    "    'IBM_API_KEY_ID': '54eK5hQft9uVYbrpsxfWs4Tdgw8sbc8weZndKdj8iwhj',\n",
    "    'IAM_SERVICE_ID': 'iam-ServiceId-e54eecd9-137d-44ca-b6d3-87b14b0ad21a',\n",
    "    'ENDPOINT': 'https://s3-api.us-geo.objectstorage.service.networklayer.com',\n",
    "    'IBM_AUTH_ENDPOINT': 'https://iam.ng.bluemix.net/oidc/token',\n",
    "    'BUCKET': 'mlproject-donotdelete-pr-rwqegunlryj5yq',\n",
    "    'FILE': 'cancer_data.csv'\n",
    "}\n"
   ]
  },
  {
   "cell_type": "code",
   "execution_count": 26,
   "metadata": {},
   "outputs": [],
   "source": [
    "valuesToWrite= newPreds.select(\"id\",  \"predCategory\",\"diagnosis\").toPandas().to_csv(path_or_buf=\"cancer_results.csv\",index=False)"
   ]
  },
  {
   "cell_type": "code",
   "execution_count": 27,
   "metadata": {},
   "outputs": [],
   "source": [
    "import ibm_boto3\n",
    "from ibm_botocore.client import Config\n",
    "service_endpoint=credentials['ENDPOINT']\n",
    "auth_endpoint=credentials['IBM_AUTH_ENDPOINT']\n",
    "cos = ibm_boto3.client('s3',\n",
    "                      ibm_api_key_id=credentials['IBM_API_KEY_ID'],\n",
    "                      ibm_service_instance_id=credentials['IAM_SERVICE_ID'],\n",
    "                      ibm_auth_endpoint=auth_endpoint,\n",
    "                      config=Config(signature_version='oauth'),\n",
    "                      endpoint_url=service_endpoint)"
   ]
  },
  {
   "cell_type": "code",
   "execution_count": 28,
   "metadata": {},
   "outputs": [],
   "source": [
    "file=\"cancer_results.csv\"\n",
    "bucket = credentials['BUCKET']\n",
    "cos.upload_file(Filename=file, Bucket=bucket, Key=file)"
   ]
  },
  {
   "cell_type": "markdown",
   "metadata": {},
   "source": [
    "Now we can look in our Cloud Object Storage on the IBM Cloud for the results of our predictions. Within the bucket specified for this project (found in credentials inserted 4 cells above), we can find a .csv file that contains the results of our models prediction and we are able to state whether a tumor is benign or malignant with confidence."
   ]
  },
  {
   "cell_type": "code",
   "execution_count": null,
   "metadata": {},
   "outputs": [],
   "source": []
  }
 ],
 "metadata": {
  "kernelspec": {
   "display_name": "Python 3.5 with Spark 2.1",
   "language": "python",
   "name": "python3-spark21"
  },
  "language_info": {
   "codemirror_mode": {
    "name": "ipython",
    "version": 3
   },
   "file_extension": ".py",
   "mimetype": "text/x-python",
   "name": "python",
   "nbconvert_exporter": "python",
   "pygments_lexer": "ipython3",
   "version": "3.5.4"
  }
 },
 "nbformat": 4,
 "nbformat_minor": 1
}
