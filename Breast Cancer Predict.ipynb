{
 "cells": [
  {
   "cell_type": "markdown",
   "metadata": {},
   "source": [
    "# Machine Learning with Spark ML\n",
    "\n",
    "### In this notebook, we will explore machine learning using Spark ML. We will exploit Spark ML's high-level APIs built on top of DataFrames to create and tune machine learning pipelines. Spark ML Pipelines enable combining multiple algorithms into a single pipeline or workflow. We will utilize Spark ML's feature transformers to convert, modify and scale the features that will be used to develop the machine learning model. Finally, we will evaluate and cross validate our model to demonstrate the process of determining a best fit model and load the results in the database.\n",
    "\n",
    "### We are using machine learning to try to predict diagnoses of breast cancer tumors. We will use data on tumors that have already been diagnosed as benign or malignant as a training set for the algorithm .¶"
   ]
  },
  {
   "cell_type": "markdown",
   "metadata": {},
   "source": [
    "## Table of Contents \n",
    "1. [Create Version](#version)\n",
    "2. [Import Libraries](#import)\n",
    "3. [Read from Cloud Object Storage](#read)\n",
    "4. [Transform data](#transform)\n",
    "5. [PixieDust](#pixie)\n",
    "6. [Feature Engineering](#engineer)\n",
    "7. [Define model](#model)\n",
    "8. [Create pipeline](#pipeline)\n",
    "9. [Train model](#train)\n",
    "10. [Evaluate accuracy](#evaluate)\n",
    "11. [Hyperparameter Tuning](#tuning)\n",
    "12. [Choose and Utilize the best-fit model](#best)\n",
    "13. [Save Results to Cloud Object Storage](#credentials)"
   ]
  },
  {
   "cell_type": "markdown",
   "metadata": {},
   "source": [
    "<a id=\"version\"></a>\n",
    "## Create Version \n",
    "Save a version of the notebook by selecting <b>File</b> > <b>Save Version</b> \n",
    "<img alt=\"IBM Bluemix.Get started now\" src=\"https://raw.githubusercontent.com/jpatter/LMCO/master/Lab-1/images/FileOptions.PNG\" > or by selecting the <b>Versions</b> icon and selecting <b>Save Version</b>. <img alt=\"IBM Bluemix.Get started now\" src=\"https://raw.githubusercontent.com/jpatter/LMCO/master/Lab-1/images/versions-button.png\" ><br>\n",
    "You can have up to ten (10) versions of a notebook.   Notebook versions are saved in a FIFO manner."
   ]
  },
  {
   "cell_type": "markdown",
   "metadata": {},
   "source": [
    "## Ensure Spark is installed and up to date "
   ]
  },
  {
   "cell_type": "code",
   "execution_count": 1,
   "metadata": {},
   "outputs": [
    {
     "name": "stdout",
     "output_type": "stream",
     "text": [
      "The spark version is 2.1.2.\n"
     ]
    }
   ],
   "source": [
    "print('The spark version is {}.'.format(spark.version))"
   ]
  },
  {
   "cell_type": "markdown",
   "metadata": {},
   "source": [
    "<a id=\"import\"></a>\n",
    "## Import the required libraries "
   ]
  },
  {
   "cell_type": "code",
   "execution_count": 2,
   "metadata": {},
   "outputs": [
    {
     "name": "stdout",
     "output_type": "stream",
     "text": [
      "Pixiedust database opened successfully\n"
     ]
    },
    {
     "data": {
      "text/html": [
       "\n",
       "        <div style=\"margin:10px\">\n",
       "            <a href=\"https://github.com/ibm-watson-data-lab/pixiedust\" target=\"_new\">\n",
       "                <img src=\"https://github.com/ibm-watson-data-lab/pixiedust/raw/master/docs/_static/pd_icon32.png\" style=\"float:left;margin-right:10px\"/>\n",
       "            </a>\n",
       "            <span>Pixiedust version 1.1.11</span>\n",
       "        </div>\n",
       "        "
      ],
      "text/plain": [
       "<IPython.core.display.HTML object>"
      ]
     },
     "metadata": {},
     "output_type": "display_data"
    }
   ],
   "source": [
    "#Imports for Spark\n",
    "from pyspark.ml.feature import StringIndexer, IndexToString\n",
    "from pyspark.ml.feature import Bucketizer\n",
    "from pyspark.mllib.linalg import Vectors\n",
    "from pyspark.ml.feature import VectorAssembler\n",
    "from pyspark.ml import Pipeline\n",
    "from pyspark.ml.feature import Normalizer\n",
    "from pyspark.ml.classification import LogisticRegression\n",
    "from pyspark.ml.evaluation import BinaryClassificationEvaluator\n",
    "from pyspark.ml.tuning import ParamGridBuilder, CrossValidator\n",
    "from pyspark.ml.classification import NaiveBayes, DecisionTreeClassifier\n",
    "from pyspark.sql.functions import year\n",
    "from pyspark.ml.tuning import ParamGridBuilder, CrossValidator\n",
    "from pyspark.mllib.tree import DecisionTree, DecisionTreeModel\n",
    "from pyspark.mllib.util import MLUtils\n",
    "\n",
    "# Imports for pixiedust\n",
    "from pixiedust.display import *"
   ]
  },
  {
   "cell_type": "markdown",
   "metadata": {},
   "source": [
    "<a id=\"read\"></a>\n",
    "## Read from Cloud Object Storage\n",
    "Click on the cell below, then on the notebook toolbar, click the box of 1's and 0's, which is the <b>Find and Add Data</b> icon.\n",
    "\n",
    "<img alt=\"IBM Bluemix.Get started now\" src=\"https://raw.githubusercontent.com/bleonardb3/WatsonStudio/master/Lab-1/images/onezeroicon.png\" >\n",
    "\n",
    "Select the Files view then click on **Insert to code**, then click on **Insert SparkSession DataFrame**.\n",
    "\n",
    "Rename the dataframe to **cancer_df**."
   ]
  },
  {
   "cell_type": "code",
   "execution_count": 3,
   "metadata": {},
   "outputs": [
    {
     "data": {
      "text/plain": [
       "[Row(id='1', diagnosis='M', radius_mean='17.99', texture_mean='10.38', perimeter_mean='122.8', area_mean='1001', smoothness_mean='0.1184', compactness_mean='0.2776', concavity_mean='0.3001', concave points_mean='0.1471', symmetry_mean='0.2419', fractal_dimension_mean='0.07871', radius_se='1.095', texture_se='0.9053', perimeter_se='8.589', area_se='153.4', smoothness_se='0.006399', compactness_se='0.04904', concavity_se='0.05373', concave points_se='0.01587', symmetry_se='0.03003', fractal_dimension_se='0.006193', radius_worst='25.38', texture_worst='17.33', perimeter_worst='184.6', area_worst='2019', smoothness_worst='0.1622', compactness_worst='0.6656', concavity_worst='0.7119', concave points_worst='0.2654', symmetry_worst='0.4601', fractal_dimension_worst='0.1189'),\n",
       " Row(id='2', diagnosis='M', radius_mean='20.57', texture_mean='17.77', perimeter_mean='132.9', area_mean='1326', smoothness_mean='0.08474', compactness_mean='0.07864', concavity_mean='0.0869', concave points_mean='0.07017', symmetry_mean='0.1812', fractal_dimension_mean='0.05667', radius_se='0.5435', texture_se='0.7339', perimeter_se='3.398', area_se='74.08', smoothness_se='0.005225', compactness_se='0.01308', concavity_se='0.0186', concave points_se='0.0134', symmetry_se='0.01389', fractal_dimension_se='0.003532', radius_worst='24.99', texture_worst='23.41', perimeter_worst='158.8', area_worst='1956', smoothness_worst='0.1238', compactness_worst='0.1866', concavity_worst='0.2416', concave points_worst='0.186', symmetry_worst='0.275', fractal_dimension_worst='0.08902'),\n",
       " Row(id='3', diagnosis='M', radius_mean='19.69', texture_mean='21.25', perimeter_mean='130', area_mean='1203', smoothness_mean='0.1096', compactness_mean='0.1599', concavity_mean='0.1974', concave points_mean='0.1279', symmetry_mean='0.2069', fractal_dimension_mean='0.05999', radius_se='0.7456', texture_se='0.7869', perimeter_se='4.585', area_se='94.03', smoothness_se='0.00615', compactness_se='0.04006', concavity_se='0.03832', concave points_se='0.02058', symmetry_se='0.0225', fractal_dimension_se='0.004571', radius_worst='23.57', texture_worst='25.53', perimeter_worst='152.5', area_worst='1709', smoothness_worst='0.1444', compactness_worst='0.4245', concavity_worst='0.4504', concave points_worst='0.243', symmetry_worst='0.3613', fractal_dimension_worst='0.08758'),\n",
       " Row(id='4', diagnosis='M', radius_mean='11.42', texture_mean='20.38', perimeter_mean='77.58', area_mean='386.1', smoothness_mean='0.1425', compactness_mean='0.2839', concavity_mean='0.2414', concave points_mean='0.1052', symmetry_mean='0.2597', fractal_dimension_mean='0.09744', radius_se='0.4956', texture_se='1.156', perimeter_se='3.445', area_se='27.23', smoothness_se='0.00911', compactness_se='0.07458', concavity_se='0.05661', concave points_se='0.01867', symmetry_se='0.05963', fractal_dimension_se='0.009208', radius_worst='14.91', texture_worst='26.5', perimeter_worst='98.87', area_worst='567.7', smoothness_worst='0.2098', compactness_worst='0.8663', concavity_worst='0.6869', concave points_worst='0.2575', symmetry_worst='0.6638', fractal_dimension_worst='0.173'),\n",
       " Row(id='5', diagnosis='M', radius_mean='20.29', texture_mean='14.34', perimeter_mean='135.1', area_mean='1297', smoothness_mean='0.1003', compactness_mean='0.1328', concavity_mean='0.198', concave points_mean='0.1043', symmetry_mean='0.1809', fractal_dimension_mean='0.05883', radius_se='0.7572', texture_se='0.7813', perimeter_se='5.438', area_se='94.44', smoothness_se='0.01149', compactness_se='0.02461', concavity_se='0.05688', concave points_se='0.01885', symmetry_se='0.01756', fractal_dimension_se='0.005115', radius_worst='22.54', texture_worst='16.67', perimeter_worst='152.2', area_worst='1575', smoothness_worst='0.1374', compactness_worst='0.205', concavity_worst='0.4', concave points_worst='0.1625', symmetry_worst='0.2364', fractal_dimension_worst='0.07678')]"
      ]
     },
     "execution_count": 3,
     "metadata": {},
     "output_type": "execute_result"
    }
   ],
   "source": [
    "# Insert SparkSession DataFrame here\n",
    "# make CERTAIN to rename the default dataframe name to cancer_df\n",
    "import ibmos2spark\n",
    "\n",
    "# @hidden_cell\n",
    "credentials = {\n",
    "    'endpoint': 'https://s3-api.us-geo.objectstorage.service.networklayer.com',\n",
    "    'api_key': '54eK5hQft9uVYbrpsxfWs4Tdgw8sbc8weZndKdj8iwhj',\n",
    "    'service_id': 'iam-ServiceId-e54eecd9-137d-44ca-b6d3-87b14b0ad21a',\n",
    "    'iam_service_endpoint': 'https://iam.ng.bluemix.net/oidc/token'}\n",
    "\n",
    "configuration_name = 'os_af2c2a9305dd4cc6a1ce91fbe599e4bb_configs'\n",
    "cos = ibmos2spark.CloudObjectStorage(sc, credentials, configuration_name, 'bluemix_cos')\n",
    "\n",
    "from pyspark.sql import SparkSession\n",
    "spark = SparkSession.builder.getOrCreate()\n",
    "cancer_df = spark.read\\\n",
    "  .format('org.apache.spark.sql.execution.datasources.csv.CSVFileFormat')\\\n",
    "  .option('header', 'true')\\\n",
    "  .load(cos.url('cancer_data.csv', 'mlproject-donotdelete-pr-rwqegunlryj5yq'))\n",
    "cancer_df.take(5)\n"
   ]
  },
  {
   "cell_type": "markdown",
   "metadata": {},
   "source": [
    "<a id=\"transform\"></a>\n",
    "## Identify labels and features to transform\n",
    "A label is the output of an ML model. Since we are creating a model to predict whether a tumor is malignant or benign our label will be **diagnosis**.  \n",
    "\n",
    "A feature is an input of the ML model, in this case, the columns that we are using to help predict the diagnosis of a tumor (area, smoothness, etc). We will need to tranform each feature into a double so that it can be used properly later on to create, train and test the model.\n",
    "\n",
    "Spark uses Resilient Distributed Datasets (RDDs) which are immutable, meaning if we need to transform a column of the dataframe we must create a new RDD each time we perform a transformation. We can do so using withColumn() and because each feature must be cast as a double we need to transform each feature column."
   ]
  },
  {
   "cell_type": "code",
   "execution_count": 4,
   "metadata": {
    "pixiedust": {
     "displayParams": {
      "color": "diagnosis",
      "handlerId": "scatterPlot",
      "keyFields": "id",
      "rowCount": "1000",
      "table_showrows": "All",
      "valueFields": "area_mean"
     }
    }
   },
   "outputs": [],
   "source": [
    "df_cols = [\"radius_mean\",\"texture_mean\",\"perimeter_mean\",\"area_mean\",\"smoothness_mean\",\"compactness_mean\",\"concavity_mean\",\"concave points_mean\",\"symmetry_mean\",\"fractal_dimension_mean\",\"radius_se\",\"texture_se\",\"perimeter_se\",\"area_se\",\"smoothness_se\",\"compactness_se\",\"concavity_se\",\"concave points_se\",\"symmetry_se\",\"fractal_dimension_se\",\"radius_worst\",\"texture_worst\",\"perimeter_worst\",\"area_worst\",\"smoothness_worst\",\"compactness_worst\",\"concavity_worst\",\"concave points_worst\",\"symmetry_worst\",\"fractal_dimension_worst\"]\n",
    "\n",
    "dfprev = (cancer_df.withColumn(\"idTemp\", cancer_df[\"id\"]\n",
    "    .cast(\"Double\")).drop(\"id\").withColumnRenamed(\"idTemp\", \"id\"))\n",
    "\n",
    "for df_col in df_cols:\n",
    "    dfnew = (dfprev.withColumn(\"temp\", dfprev[df_col]\n",
    "             .cast(\"Double\")).drop(df_col).withColumnRenamed(\"temp\",df_col))\n",
    "    dfprev = dfnew\n",
    "    \n",
    "cancer_nums = dfprev"
   ]
  },
  {
   "cell_type": "markdown",
   "metadata": {},
   "source": [
    "<a id=\"pixie\"></a>\n",
    "## Using PixieDust \n",
    "We can use PixieDust to explore the data. PixieDust is an open source tool to add visualizations to Jupyter Notebooks and simplifies the visual options of python.\n",
    "\n",
    "By clicking the grid icon in the output of the cell below we can see a table of the dataframe.\n",
    "\n",
    "If we click the drop down menu (next to the grid icon), symbolized with the graph, we can choose to put the data into a scatterplot. We can choose **id** as the key, one of the feature columns (**area_mean**, **perimeter_mean**, etc.) as the value and set the number of rows to display to 1000. We are given a scatterplot of our data points and by choosing the bokeh renderer on the right side and setting the color to diagnosis we can see the spread of the different diagnoses.\n",
    "\n",
    "Example: Set the key for the graph to **id**, the value to **area_mean**, and color to diagnosis. The plot provided allows us to infer that most benign tumors have smaller mean area when compared to malignant tumors. On the far right of the graph we are presented with our unlabeled points (green points) and using the trend of the labeled points we can predict which of the unlabeled tumors may be benign and malignant."
   ]
  },
  {
   "cell_type": "code",
   "execution_count": 5,
   "metadata": {
    "pixiedust": {
     "displayParams": {
      "color": "diagnosis",
      "handlerId": "scatterPlot",
      "keyFields": "id",
      "rowCount": "1000",
      "valueFields": "area_mean"
     }
    }
   },
   "outputs": [
    {
     "data": {
      "text/html": [
       "<style type=\"text/css\">.pd_warning{display:none;}</style><div class=\"pd_warning\"><em>Hey, there's something awesome here! To see it, open this notebook outside GitHub, in a viewer like Jupyter</em></div>\n",
       "        <div class=\"pd_save is-viewer-good\" style=\"padding-right:10px;text-align: center;line-height:initial !important;font-size: xx-large;font-weight: 500;color: coral;\">\n",
       "            \n",
       "        </div>\n",
       "    <div id=\"chartFigurede9824f7\" class=\"pd_save is-viewer-good\" style=\"overflow-x:auto\">\n",
       "            \n",
       "                    <script class=\"pd_save\">\n",
       "                    function setChartScript() {\n",
       "                        if (!window.Bokeh) {\n",
       "                            setTimeout(setChartScript, 250)\n",
       "                        } else {\n",
       "                            var d = document.getElementById(\"pd-bkchartdiv-de9824f7\")\n",
       "                            if (d){\n",
       "                                var el = document.createElement('div')\n",
       "                                el.innerHTML = `\n",
       "<script type=\"text/javascript\">\n",
       "    (function() {\n",
       "  var fn = function() {\n",
       "    Bokeh.safely(function() {\n",
       "      (function(root) {\n",
       "        function embed_document(root) {\n",
       "          var docs_json = {\"a412791f-ab07-4297-b661-8f17b58ea315\":{\"roots\":{\"references\":[{\"attributes\":{\"bottom_units\":\"screen\",\"fill_alpha\":{\"value\":0.5},\"fill_color\":{\"value\":\"lightgrey\"},\"left_units\":\"screen\",\"level\":\"overlay\",\"line_alpha\":{\"value\":1.0},\"line_color\":{\"value\":\"black\"},\"line_dash\":[4,4],\"line_width\":{\"value\":2},\"plot\":null,\"render_mode\":\"css\",\"right_units\":\"screen\",\"top_units\":\"screen\"},\"id\":\"f59b2e77-7cc9-4b13-825c-2ea3910d155e\",\"type\":\"BoxAnnotation\"},{\"attributes\":{\"fill_alpha\":{\"value\":0.5},\"fill_color\":{\"value\":\"#2ca02c\"},\"line_color\":{\"value\":\"#2ca02c\"},\"size\":{\"units\":\"screen\",\"value\":8},\"x\":{\"field\":\"x\"},\"y\":{\"field\":\"y\"}},\"id\":\"b0ca289f-0f98-4bba-9840-ecaaa65dae78\",\"type\":\"Circle\"},{\"attributes\":{},\"id\":\"b589dad9-6964-413f-8330-72a55930118b\",\"type\":\"BasicTickFormatter\"},{\"attributes\":{},\"id\":\"be24b74e-3f91-4db8-a0db-6491f348393c\",\"type\":\"BasicTicker\"},{\"attributes\":{\"data_source\":{\"id\":\"06671877-2b3e-4ff0-adc4-f23aa7565692\",\"type\":\"ColumnDataSource\"},\"glyph\":{\"id\":\"a82ac95e-3ecd-4065-93ac-4b54c736dc6e\",\"type\":\"Circle\"},\"hover_glyph\":null,\"muted_glyph\":null,\"nonselection_glyph\":{\"id\":\"8729902f-f0ab-4c86-b23f-dadcbc2fd367\",\"type\":\"Circle\"},\"selection_glyph\":null,\"view\":{\"id\":\"561269c6-5ae1-46c7-8e31-b8832664e244\",\"type\":\"CDSView\"}},\"id\":\"bf0f1419-b6be-4315-bff1-f4b4d05ba5ca\",\"type\":\"GlyphRenderer\"},{\"attributes\":{},\"id\":\"b9490e74-42dd-41d4-88da-7db39ca99458\",\"type\":\"ResetTool\"},{\"attributes\":{\"fill_alpha\":{\"value\":0.1},\"fill_color\":{\"value\":\"#1f77b4\"},\"line_alpha\":{\"value\":0.1},\"line_color\":{\"value\":\"#1f77b4\"},\"size\":{\"units\":\"screen\",\"value\":8},\"x\":{\"field\":\"x\"},\"y\":{\"field\":\"y\"}},\"id\":\"2c5f1511-e891-4cb0-8803-7498ee3fbfec\",\"type\":\"Circle\"},{\"attributes\":{\"data_source\":{\"id\":\"39d82ce0-0ba9-4dbb-ac74-dcaeaba909cf\",\"type\":\"ColumnDataSource\"},\"glyph\":{\"id\":\"1d76d7f5-fa60-4dbc-84a5-72b7ba123c51\",\"type\":\"Circle\"},\"hover_glyph\":null,\"muted_glyph\":null,\"nonselection_glyph\":{\"id\":\"2c5f1511-e891-4cb0-8803-7498ee3fbfec\",\"type\":\"Circle\"},\"selection_glyph\":null,\"view\":{\"id\":\"a99b3776-35f6-4617-b655-e072b99bcab4\",\"type\":\"CDSView\"}},\"id\":\"097c6788-9c3b-42be-a6d5-4467b5f9a400\",\"type\":\"GlyphRenderer\"},{\"attributes\":{},\"id\":\"eacd6ccf-c8d9-4206-98b4-38f6b590d194\",\"type\":\"WheelZoomTool\"},{\"attributes\":{},\"id\":\"2f453ec2-67f3-4cbc-9796-2a14c704932f\",\"type\":\"BasicTickFormatter\"},{\"attributes\":{},\"id\":\"276d15a4-8407-46cc-8268-0beab99a69cf\",\"type\":\"LinearScale\"},{\"attributes\":{},\"id\":\"1ba67376-61b8-461c-aa4e-706cd0ab2eb5\",\"type\":\"LinearScale\"},{\"attributes\":{},\"id\":\"26839069-f236-461f-aefd-65290aadee98\",\"type\":\"BasicTicker\"},{\"attributes\":{},\"id\":\"5df3dfd0-989c-4587-9de3-da4a313ff7fb\",\"type\":\"SaveTool\"},{\"attributes\":{\"fill_alpha\":{\"value\":0.5},\"fill_color\":{\"value\":\"#ff7f0e\"},\"line_color\":{\"value\":\"#ff7f0e\"},\"size\":{\"units\":\"screen\",\"value\":8},\"x\":{\"field\":\"x\"},\"y\":{\"field\":\"y\"}},\"id\":\"1d76d7f5-fa60-4dbc-84a5-72b7ba123c51\",\"type\":\"Circle\"},{\"attributes\":{\"callback\":null,\"column_names\":[\"x\",\"y\"],\"data\":{\"x\":[20.0,21.0,22.0,38.0,47.0,49.0,50.0,51.0,52.0,53.0,56.0,59.0,60.0,61.0,62.0,64.0,67.0,68.0,69.0,70.0,72.0,75.0,77.0,80.0,81.0,82.0,85.0,89.0,90.0,91.0,93.0,94.0,97.0,98.0,99.0,102.0,103.0,104.0,105.0,107.0,108.0,110.0,111.0,112.0,113.0,114.0,115.0,116.0,117.0,121.0,124.0,125.0,126.0,129.0,131.0,134.0,137.0,138.0,140.0,141.0,143.0,144.0,145.0,146.0,148.0,149.0,150.0,151.0,152.0,153.0,154.0,155.0,156.0,158.0,159.0,160.0,161.0,164.0,166.0,167.0,170.0,171.0,174.0,175.0,176.0,177.0,179.0,180.0,184.0,186.0,188.0,189.0,190.0,192.0,193.0,196.0,201.0,205.0,207.0,209.0,210.0,212.0,217.0,218.0,221.0,222.0,223.0,225.0,226.0,227.0,228.0,229.0,232.0,233.0,235.0,236.0,239.0,241.0,242.0,243.0,244.0,246.0,247.0,248.0,249.0,250.0,252.0,267.0,268.0,269.0,270.0,271.0,272.0,274.0,276.0,277.0,279.0,280.0,282.0,285.0,286.0,287.0,288.0,289.0,290.0,291.0,292.0,293.0,294.0,295.0,296.0,297.0,299.0,300.0,302.0,304.0,305.0,306.0,307.0,308.0,309.0,310.0,311.0,312.0,313.0,314.0,315.0,316.0,317.0,319.0,320.0,321.0,323.0,325.0,326.0,327.0,328.0,332.0,333.0,334.0,335.0,337.0,339.0,341.0,342.0,343.0,345.0,346.0,347.0,348.0,349.0,350.0,351.0,355.0,356.0,357.0,358.0,359.0,360.0,361.0,362.0,363.0,364.0,365.0,368.0,372.0,375.0,376.0,377.0,378.0,379.0,381.0,382.0,383.0,384.0,385.0,387.0,388.0,389.0,391.0,392.0,395.0,396.0,397.0,398.0,399.0,400.0,402.0,403.0,404.0,405.0,406.0,407.0,408.0,410.0,411.0,412.0,413.0,414.0,416.0,417.0,419.0,420.0,421.0,422.0,423.0,424.0,425.0,426.0,427.0,428.0,429.0,430.0,432.0,435.0,437.0,438.0,439.0,440.0,441.0,443.0,444.0,446.0,448.0,449.0,451.0,453.0,454.0,455.0,456.0,457.0,458.0,459.0,460.0,463.0,464.0,465.0,466.0,467.0,468.0,470.0,471.0,472.0,473.0,474.0,475.0,476.0,477.0,478.0,479.0,481.0,482.0,483.0,484.0,485.0,486.0,487.0,489.0,491.0,492.0,494.0,495.0,496.0,497.0,498.0],\"y\":[566.3,520.0,273.9,523.8,201.9,449.3,561.0,427.9,571.8,437.6,409.0,527.2,224.5,311.9,221.8,260.9,269.4,394.1,250.5,502.5,244.0,470.9,559.2,506.3,401.5,520.0,443.3,466.1,651.9,662.7,551.7,555.1,451.1,294.5,412.6,143.5,458.7,298.3,336.1,412.5,466.7,396.5,290.2,480.4,629.9,334.2,230.9,438.6,245.2,403.3,640.7,553.5,588.7,674.5,455.8,761.7,423.6,399.8,384.8,288.5,398.0,512.2,355.3,432.8,689.5,640.1,585.0,519.4,203.9,300.2,381.9,538.9,460.3,880.2,448.6,366.8,419.8,464.5,690.2,357.6,685.9,464.1,372.7,349.6,227.2,302.4,526.4,508.8,402.0,317.5,420.3,428.9,463.7,507.4,288.1,516.4,461.0,481.9,295.4,529.4,725.5,428.0,432.2,321.2,568.9,561.3,313.1,546.4,641.2,329.6,684.5,496.4,395.7,386.8,279.6,603.4,623.9,575.3,476.5,389.4,590.0,337.7,541.6,512.2,347.0,406.3,407.4,346.4,561.0,512.2,344.9,632.6,388.0,289.9,435.6,396.6,572.3,587.4,427.3,516.6,489.0,441.0,515.9,394.1,396.0,651.0,687.3,513.7,432.7,492.1,582.7,363.7,633.1,334.2,471.3,334.3,403.1,417.2,537.3,246.3,566.2,530.6,418.7,664.9,504.1,409.1,221.2,481.6,461.4,244.5,477.3,324.2,504.8,457.9,489.9,616.5,446.0,514.0,387.3,390.0,464.4,514.3,310.8,641.2,280.5,373.9,420.3,321.6,445.3,668.7,402.7,426.7,421.0,384.6,485.8,512.0,593.7,241.0,278.6,491.9,546.1,496.6,838.1,552.4,458.4,711.8,579.1,788.5,338.3,562.1,580.6,386.3,372.7,447.8,462.9,541.8,462.0,596.6,392.0,321.6,234.3,446.2,609.1,558.1,508.3,378.2,431.9,442.7,525.2,507.6,469.1,370.0,800.0,514.5,466.1,399.8,373.2,268.8,693.7,433.8,271.2,495.0,380.3,409.7,656.1,408.2,575.3,289.7,307.3,333.6,359.9,381.1,501.3,467.8,673.7,509.2,611.2,592.6,606.5,371.5,585.9,340.9,441.3,674.8,659.7,432.0,442.5,644.2,492.9,557.2,415.1,537.9,520.2,290.9,646.1,412.7,537.3,542.9,536.9,286.3,408.8,289.1,449.9,686.9,465.4,358.9,506.9,618.4,599.4,404.9,455.3,602.9,546.3,571.1,747.2,476.7,666.0,420.5,466.5,992.1,477.3,538.7,680.9,485.6,480.1]}},\"id\":\"39d82ce0-0ba9-4dbb-ac74-dcaeaba909cf\",\"type\":\"ColumnDataSource\"},{\"attributes\":{\"items\":[{\"id\":\"3b3774b3-072d-40cd-abbd-deaca3a0ec17\",\"type\":\"LegendItem\"},{\"id\":\"80c8752d-4cd1-4602-8cf8-334de590bf59\",\"type\":\"LegendItem\"},{\"id\":\"f6b2b45b-5ce2-4c38-ae53-8b4574be84b2\",\"type\":\"LegendItem\"}],\"location\":\"top_left\",\"plot\":{\"id\":\"f6b9ce0e-671e-44ef-906d-e82635dd1122\",\"subtype\":\"Figure\",\"type\":\"Plot\"}},\"id\":\"6adf621f-c92d-41d9-bef1-a4efdf605df7\",\"type\":\"Legend\"},{\"attributes\":{\"axis_label\":\"area_mean\",\"formatter\":{\"id\":\"b589dad9-6964-413f-8330-72a55930118b\",\"type\":\"BasicTickFormatter\"},\"plot\":{\"id\":\"f6b9ce0e-671e-44ef-906d-e82635dd1122\",\"subtype\":\"Figure\",\"type\":\"Plot\"},\"ticker\":{\"id\":\"be24b74e-3f91-4db8-a0db-6491f348393c\",\"type\":\"BasicTicker\"}},\"id\":\"69dea204-31d5-416c-a38a-c0992b9d2f99\",\"type\":\"LinearAxis\"},{\"attributes\":{\"label\":{\"value\":\"U\"},\"renderers\":[{\"id\":\"45446081-e0e6-46bf-b8fe-9207fc7b426f\",\"type\":\"GlyphRenderer\"}]},\"id\":\"f6b2b45b-5ce2-4c38-ae53-8b4574be84b2\",\"type\":\"LegendItem\"},{\"attributes\":{\"grid_line_alpha\":{\"value\":0.3},\"plot\":{\"id\":\"f6b9ce0e-671e-44ef-906d-e82635dd1122\",\"subtype\":\"Figure\",\"type\":\"Plot\"},\"ticker\":{\"id\":\"26839069-f236-461f-aefd-65290aadee98\",\"type\":\"BasicTicker\"}},\"id\":\"432b7f76-6abe-43e8-9b3f-8e1e41fb08b1\",\"type\":\"Grid\"},{\"attributes\":{\"callback\":null,\"column_names\":[\"x\",\"y\"],\"data\":{\"x\":[499.0,500.0,501.0,502.0,503.0,504.0,505.0,506.0,507.0,508.0,509.0,510.0,511.0,512.0,513.0,514.0,515.0,516.0,517.0,518.0,519.0,520.0,521.0,522.0,523.0,524.0,525.0,526.0,527.0,528.0,529.0,530.0,531.0,532.0,533.0,534.0,535.0,536.0,537.0,538.0,539.0,540.0,541.0,542.0,543.0,544.0,545.0,546.0,547.0,548.0,549.0,550.0,551.0,552.0,553.0,554.0,555.0,556.0,557.0,558.0,559.0,560.0,561.0,562.0,563.0,564.0,565.0,566.0,567.0,568.0,569.0],\"y\":[1068.0,1320.0,689.4,595.9,476.3,1682.0,248.7,272.5,453.1,366.5,819.8,731.3,426.0,680.7,556.7,658.8,701.9,391.2,1052.0,1214.0,493.1,493.8,257.8,1841.0,388.1,571.0,293.2,221.3,551.1,468.5,594.2,445.2,422.9,416.2,575.5,1299.0,365.6,1308.0,629.8,406.4,178.8,170.4,402.9,656.4,668.6,538.4,584.8,573.2,324.9,320.8,285.7,361.6,360.5,378.4,507.9,264.0,514.3,321.4,311.7,271.3,657.1,403.5,600.4,386.0,716.9,1347.0,1479.0,1261.0,858.1,1265.0,181.0]}},\"id\":\"a016c892-f6c5-493e-a621-2647383b80ad\",\"type\":\"ColumnDataSource\"},{\"attributes\":{\"data_source\":{\"id\":\"a016c892-f6c5-493e-a621-2647383b80ad\",\"type\":\"ColumnDataSource\"},\"glyph\":{\"id\":\"b0ca289f-0f98-4bba-9840-ecaaa65dae78\",\"type\":\"Circle\"},\"hover_glyph\":null,\"muted_glyph\":null,\"nonselection_glyph\":{\"id\":\"ffecbf6a-c567-4366-aa11-ec36c454acf7\",\"type\":\"Circle\"},\"selection_glyph\":null,\"view\":{\"id\":\"9a39ccec-3248-4e96-898b-486f03d9b88c\",\"type\":\"CDSView\"}},\"id\":\"45446081-e0e6-46bf-b8fe-9207fc7b426f\",\"type\":\"GlyphRenderer\"},{\"attributes\":{\"source\":{\"id\":\"39d82ce0-0ba9-4dbb-ac74-dcaeaba909cf\",\"type\":\"ColumnDataSource\"}},\"id\":\"a99b3776-35f6-4617-b655-e072b99bcab4\",\"type\":\"CDSView\"},{\"attributes\":{},\"id\":\"fbd78345-8d1e-43e4-ac5d-f9ac1d3c4e31\",\"type\":\"HelpTool\"},{\"attributes\":{\"source\":{\"id\":\"06671877-2b3e-4ff0-adc4-f23aa7565692\",\"type\":\"ColumnDataSource\"}},\"id\":\"561269c6-5ae1-46c7-8e31-b8832664e244\",\"type\":\"CDSView\"},{\"attributes\":{\"below\":[{\"id\":\"a08f02ca-d9b6-40ec-bf15-212916f5b6b3\",\"type\":\"LinearAxis\"}],\"left\":[{\"id\":\"69dea204-31d5-416c-a38a-c0992b9d2f99\",\"type\":\"LinearAxis\"}],\"plot_height\":490,\"plot_width\":996,\"renderers\":[{\"id\":\"a08f02ca-d9b6-40ec-bf15-212916f5b6b3\",\"type\":\"LinearAxis\"},{\"id\":\"432b7f76-6abe-43e8-9b3f-8e1e41fb08b1\",\"type\":\"Grid\"},{\"id\":\"69dea204-31d5-416c-a38a-c0992b9d2f99\",\"type\":\"LinearAxis\"},{\"id\":\"8101dcbf-e87f-45d3-9d0d-77dd505a830c\",\"type\":\"Grid\"},{\"id\":\"f59b2e77-7cc9-4b13-825c-2ea3910d155e\",\"type\":\"BoxAnnotation\"},{\"id\":\"6adf621f-c92d-41d9-bef1-a4efdf605df7\",\"type\":\"Legend\"},{\"id\":\"bf0f1419-b6be-4315-bff1-f4b4d05ba5ca\",\"type\":\"GlyphRenderer\"},{\"id\":\"097c6788-9c3b-42be-a6d5-4467b5f9a400\",\"type\":\"GlyphRenderer\"},{\"id\":\"45446081-e0e6-46bf-b8fe-9207fc7b426f\",\"type\":\"GlyphRenderer\"}],\"title\":{\"id\":\"451b9c58-3684-4bf5-b093-9b2120131a57\",\"type\":\"Title\"},\"toolbar\":{\"id\":\"15395c40-0f4f-42a6-ae65-29eeb83bcafa\",\"type\":\"Toolbar\"},\"x_range\":{\"id\":\"d78c745a-f595-4cb4-9aa1-64813682afe0\",\"type\":\"DataRange1d\"},\"x_scale\":{\"id\":\"1ba67376-61b8-461c-aa4e-706cd0ab2eb5\",\"type\":\"LinearScale\"},\"y_range\":{\"id\":\"d9b4a34e-13af-4604-903f-8c53bf75dbc9\",\"type\":\"DataRange1d\"},\"y_scale\":{\"id\":\"276d15a4-8407-46cc-8268-0beab99a69cf\",\"type\":\"LinearScale\"}},\"id\":\"f6b9ce0e-671e-44ef-906d-e82635dd1122\",\"subtype\":\"Figure\",\"type\":\"Plot\"},{\"attributes\":{\"callback\":null},\"id\":\"d78c745a-f595-4cb4-9aa1-64813682afe0\",\"type\":\"DataRange1d\"},{\"attributes\":{\"active_drag\":\"auto\",\"active_inspect\":\"auto\",\"active_scroll\":\"auto\",\"active_tap\":\"auto\",\"tools\":[{\"id\":\"71e11ad3-4652-41fd-8777-53565770c6c0\",\"type\":\"PanTool\"},{\"id\":\"eacd6ccf-c8d9-4206-98b4-38f6b590d194\",\"type\":\"WheelZoomTool\"},{\"id\":\"45214951-1d24-47c5-b70d-2bde157909cf\",\"type\":\"BoxZoomTool\"},{\"id\":\"5df3dfd0-989c-4587-9de3-da4a313ff7fb\",\"type\":\"SaveTool\"},{\"id\":\"b9490e74-42dd-41d4-88da-7db39ca99458\",\"type\":\"ResetTool\"},{\"id\":\"fbd78345-8d1e-43e4-ac5d-f9ac1d3c4e31\",\"type\":\"HelpTool\"}]},\"id\":\"15395c40-0f4f-42a6-ae65-29eeb83bcafa\",\"type\":\"Toolbar\"},{\"attributes\":{\"dimension\":1,\"grid_line_alpha\":{\"value\":0.3},\"plot\":{\"id\":\"f6b9ce0e-671e-44ef-906d-e82635dd1122\",\"subtype\":\"Figure\",\"type\":\"Plot\"},\"ticker\":{\"id\":\"be24b74e-3f91-4db8-a0db-6491f348393c\",\"type\":\"BasicTicker\"}},\"id\":\"8101dcbf-e87f-45d3-9d0d-77dd505a830c\",\"type\":\"Grid\"},{\"attributes\":{\"label\":{\"value\":\"B\"},\"renderers\":[{\"id\":\"097c6788-9c3b-42be-a6d5-4467b5f9a400\",\"type\":\"GlyphRenderer\"}]},\"id\":\"80c8752d-4cd1-4602-8cf8-334de590bf59\",\"type\":\"LegendItem\"},{\"attributes\":{\"source\":{\"id\":\"a016c892-f6c5-493e-a621-2647383b80ad\",\"type\":\"ColumnDataSource\"}},\"id\":\"9a39ccec-3248-4e96-898b-486f03d9b88c\",\"type\":\"CDSView\"},{\"attributes\":{\"label\":{\"value\":\"M\"},\"renderers\":[{\"id\":\"bf0f1419-b6be-4315-bff1-f4b4d05ba5ca\",\"type\":\"GlyphRenderer\"}]},\"id\":\"3b3774b3-072d-40cd-abbd-deaca3a0ec17\",\"type\":\"LegendItem\"},{\"attributes\":{\"overlay\":{\"id\":\"f59b2e77-7cc9-4b13-825c-2ea3910d155e\",\"type\":\"BoxAnnotation\"}},\"id\":\"45214951-1d24-47c5-b70d-2bde157909cf\",\"type\":\"BoxZoomTool\"},{\"attributes\":{\"fill_alpha\":{\"value\":0.5},\"fill_color\":{\"value\":\"#1f77b4\"},\"line_color\":{\"value\":\"#1f77b4\"},\"size\":{\"units\":\"screen\",\"value\":8},\"x\":{\"field\":\"x\"},\"y\":{\"field\":\"y\"}},\"id\":\"a82ac95e-3ecd-4065-93ac-4b54c736dc6e\",\"type\":\"Circle\"},{\"attributes\":{\"fill_alpha\":{\"value\":0.1},\"fill_color\":{\"value\":\"#1f77b4\"},\"line_alpha\":{\"value\":0.1},\"line_color\":{\"value\":\"#1f77b4\"},\"size\":{\"units\":\"screen\",\"value\":8},\"x\":{\"field\":\"x\"},\"y\":{\"field\":\"y\"}},\"id\":\"ffecbf6a-c567-4366-aa11-ec36c454acf7\",\"type\":\"Circle\"},{\"attributes\":{\"fill_alpha\":{\"value\":0.1},\"fill_color\":{\"value\":\"#1f77b4\"},\"line_alpha\":{\"value\":0.1},\"line_color\":{\"value\":\"#1f77b4\"},\"size\":{\"units\":\"screen\",\"value\":8},\"x\":{\"field\":\"x\"},\"y\":{\"field\":\"y\"}},\"id\":\"8729902f-f0ab-4c86-b23f-dadcbc2fd367\",\"type\":\"Circle\"},{\"attributes\":{\"plot\":null,\"text\":\"\"},\"id\":\"451b9c58-3684-4bf5-b093-9b2120131a57\",\"type\":\"Title\"},{\"attributes\":{\"callback\":null,\"column_names\":[\"x\",\"y\"],\"data\":{\"x\":[1.0,2.0,3.0,4.0,5.0,6.0,7.0,8.0,9.0,10.0,11.0,12.0,13.0,14.0,15.0,16.0,17.0,18.0,19.0,23.0,24.0,25.0,26.0,27.0,28.0,29.0,30.0,31.0,32.0,33.0,34.0,35.0,36.0,37.0,39.0,40.0,41.0,42.0,43.0,44.0,45.0,46.0,48.0,54.0,55.0,57.0,58.0,63.0,65.0,66.0,71.0,73.0,74.0,76.0,78.0,79.0,83.0,84.0,86.0,87.0,88.0,92.0,95.0,96.0,100.0,101.0,106.0,109.0,118.0,119.0,120.0,122.0,123.0,127.0,128.0,130.0,132.0,133.0,135.0,136.0,139.0,142.0,147.0,157.0,162.0,163.0,165.0,168.0,169.0,172.0,173.0,178.0,181.0,182.0,183.0,185.0,187.0,191.0,194.0,195.0,197.0,198.0,199.0,200.0,202.0,203.0,204.0,206.0,208.0,211.0,213.0,214.0,215.0,216.0,219.0,220.0,224.0,230.0,231.0,234.0,237.0,238.0,240.0,245.0,251.0,253.0,254.0,255.0,256.0,257.0,258.0,259.0,260.0,261.0,262.0,263.0,264.0,265.0,266.0,273.0,275.0,278.0,281.0,283.0,284.0,298.0,301.0,303.0,318.0,322.0,324.0,329.0,330.0,331.0,336.0,338.0,340.0,344.0,352.0,353.0,354.0,366.0,367.0,369.0,370.0,371.0,373.0,374.0,380.0,386.0,390.0,393.0,394.0,401.0,409.0,415.0,418.0,431.0,433.0,434.0,436.0,442.0,445.0,447.0,450.0,452.0,461.0,462.0,469.0,480.0,488.0,490.0,493.0],\"y\":[1001.0,1326.0,1203.0,386.1,1297.0,477.1,1040.0,577.9,519.8,475.9,797.8,781.0,1123.0,782.7,578.3,658.8,684.5,798.8,1260.0,704.4,1404.0,904.6,912.7,644.8,1094.0,732.4,955.1,1088.0,440.6,899.3,1162.0,807.2,869.5,633.0,698.8,559.2,563.0,371.1,1104.0,545.2,531.5,1076.0,534.6,1033.0,712.8,1152.0,656.9,645.7,499.0,668.3,1130.0,929.4,584.1,817.7,1006.0,1245.0,1878.0,1132.0,1075.0,648.2,1076.0,728.2,705.6,1264.0,642.5,582.7,530.2,1509.0,682.5,782.6,982.0,1077.0,1761.0,572.6,1138.0,1192.0,748.9,809.8,1075.0,506.3,678.1,813.0,432.0,963.7,1157.0,1214.0,1686.0,886.3,984.6,565.4,736.9,832.9,2250.0,1311.0,766.6,710.6,1041.0,609.9,477.4,671.4,588.9,1024.0,1148.0,642.7,951.6,1685.0,597.8,716.6,904.3,1290.0,2499.0,948.0,610.7,578.9,1230.0,1223.0,761.3,503.2,895.0,1319.0,1670.0,1306.0,920.6,1155.0,1364.0,1206.0,928.2,1169.0,602.4,1207.0,713.3,773.5,744.9,1288.0,933.1,947.8,758.6,928.3,1419.0,1491.0,998.9,1102.0,1138.0,1145.0,805.1,431.1,1217.0,1247.0,1027.0,1274.0,1264.0,813.7,826.8,793.2,918.6,1092.0,1747.0,1194.0,758.6,2010.0,716.6,1293.0,1234.0,1546.0,1482.0,840.4,1386.0,1335.0,361.6,664.7,1174.0,744.7,1407.0,994.0,991.7,719.5,803.1,685.0,1250.0,1110.0,599.5,928.8,990.0,981.6,1384.0,1191.0,930.9,2501.0,980.5,815.8,1167.0,857.6,1007.0]}},\"id\":\"06671877-2b3e-4ff0-adc4-f23aa7565692\",\"type\":\"ColumnDataSource\"},{\"attributes\":{},\"id\":\"71e11ad3-4652-41fd-8777-53565770c6c0\",\"type\":\"PanTool\"},{\"attributes\":{\"callback\":null},\"id\":\"d9b4a34e-13af-4604-903f-8c53bf75dbc9\",\"type\":\"DataRange1d\"},{\"attributes\":{\"axis_label\":\"id\",\"formatter\":{\"id\":\"2f453ec2-67f3-4cbc-9796-2a14c704932f\",\"type\":\"BasicTickFormatter\"},\"plot\":{\"id\":\"f6b9ce0e-671e-44ef-906d-e82635dd1122\",\"subtype\":\"Figure\",\"type\":\"Plot\"},\"ticker\":{\"id\":\"26839069-f236-461f-aefd-65290aadee98\",\"type\":\"BasicTicker\"}},\"id\":\"a08f02ca-d9b6-40ec-bf15-212916f5b6b3\",\"type\":\"LinearAxis\"}],\"root_ids\":[\"f6b9ce0e-671e-44ef-906d-e82635dd1122\"]},\"title\":\"Bokeh Application\",\"version\":\"0.12.10\"}};\n",
       "          var render_items = [{\"docid\":\"a412791f-ab07-4297-b661-8f17b58ea315\",\"elementid\":\"ef71392e-ece6-4fca-99ac-23511eba3333\",\"modelid\":\"f6b9ce0e-671e-44ef-906d-e82635dd1122\"}];\n",
       "      \n",
       "          root.Bokeh.embed.embed_items(docs_json, render_items);\n",
       "        }\n",
       "      \n",
       "        if (root.Bokeh !== undefined) {\n",
       "          embed_document(root);\n",
       "        } else {\n",
       "          var attempts = 0;\n",
       "          var timer = setInterval(function(root) {\n",
       "            if (root.Bokeh !== undefined) {\n",
       "              embed_document(root);\n",
       "              clearInterval(timer);\n",
       "            }\n",
       "            attempts++;\n",
       "            if (attempts > 100) {\n",
       "              console.log(\"Bokeh: ERROR: Unable to embed document because BokehJS library is missing\")\n",
       "              clearInterval(timer);\n",
       "            }\n",
       "          }, 10, root)\n",
       "        }\n",
       "      })(window);\n",
       "    });\n",
       "  };\n",
       "  if (document.readyState != \"loading\") fn();\n",
       "  else document.addEventListener(\"DOMContentLoaded\", fn);\n",
       "})();\n",
       "\n",
       "<\\/script>`\n",
       "                                var chartscript = el.childNodes[1]\n",
       "                                var s = document.createElement(\"script\")\n",
       "                                s.innerHTML = chartscript.innerHTML\n",
       "                                d.parentNode.insertBefore(s, d)\n",
       "                            }\n",
       "                        }\n",
       "                    }\n",
       "                    if (!window.Bokeh && !window.autoload){\n",
       "                        window.autoload=true;\n",
       "                        \n",
       "(function(root) {\n",
       "  function now() {\n",
       "    return new Date();\n",
       "  }\n",
       "\n",
       "  var force = 1;\n",
       "\n",
       "  if (typeof (root._bokeh_onload_callbacks) === \"undefined\" || force === true) {\n",
       "    root._bokeh_onload_callbacks = [];\n",
       "    root._bokeh_is_loading = undefined;\n",
       "  }\n",
       "\n",
       "  \n",
       "\n",
       "  \n",
       "  if (typeof (root._bokeh_timeout) === \"undefined\" || force === true) {\n",
       "    root._bokeh_timeout = Date.now() + 5000;\n",
       "    root._bokeh_failed_load = false;\n",
       "  }\n",
       "\n",
       "  var NB_LOAD_WARNING = {'data': {'text/html':\n",
       "     \"<div style='background-color: #fdd'>\\n\"+\n",
       "     \"<p>\\n\"+\n",
       "     \"BokehJS does not appear to have successfully loaded. If loading BokehJS from CDN, this \\n\"+\n",
       "     \"may be due to a slow or bad network connection. Possible fixes:\\n\"+\n",
       "     \"</p>\\n\"+\n",
       "     \"<ul>\\n\"+\n",
       "     \"<li>re-rerun `output_notebook()` to attempt to load from CDN again, or</li>\\n\"+\n",
       "     \"<li>use INLINE resources instead, as so:</li>\\n\"+\n",
       "     \"</ul>\\n\"+\n",
       "     \"<code>\\n\"+\n",
       "     \"from bokeh.resources import INLINE\\n\"+\n",
       "     \"output_notebook(resources=INLINE)\\n\"+\n",
       "     \"</code>\\n\"+\n",
       "     \"</div>\"}};\n",
       "\n",
       "  function display_loaded() {\n",
       "    var el = document.getElementById(\"\");\n",
       "    if (el != null) {\n",
       "      el.textContent = \"BokehJS is loading...\";\n",
       "    }\n",
       "    if (root.Bokeh !== undefined) {\n",
       "      if (el != null) {\n",
       "        el.textContent = \"BokehJS \" + root.Bokeh.version + \" successfully loaded.\";\n",
       "      }\n",
       "    } else if (Date.now() < root._bokeh_timeout) {\n",
       "      setTimeout(display_loaded, 100)\n",
       "    }\n",
       "  }\n",
       "\n",
       "\n",
       "  function run_callbacks() {\n",
       "    try {\n",
       "      root._bokeh_onload_callbacks.forEach(function(callback) { callback() });\n",
       "    }\n",
       "    finally {\n",
       "      delete root._bokeh_onload_callbacks\n",
       "    }\n",
       "    console.info(\"Bokeh: all callbacks have finished\");\n",
       "  }\n",
       "\n",
       "  function load_libs(js_urls, callback) {\n",
       "    root._bokeh_onload_callbacks.push(callback);\n",
       "    if (root._bokeh_is_loading > 0) {\n",
       "      console.log(\"Bokeh: BokehJS is being loaded, scheduling callback at\", now());\n",
       "      return null;\n",
       "    }\n",
       "    if (js_urls == null || js_urls.length === 0) {\n",
       "      run_callbacks();\n",
       "      return null;\n",
       "    }\n",
       "    console.log(\"Bokeh: BokehJS not loaded, scheduling load and callback at\", now());\n",
       "    root._bokeh_is_loading = js_urls.length;\n",
       "    for (var i = 0; i < js_urls.length; i++) {\n",
       "      var url = js_urls[i];\n",
       "      var s = document.createElement('script');\n",
       "      s.src = url;\n",
       "      s.async = false;\n",
       "      s.onreadystatechange = s.onload = function() {\n",
       "        root._bokeh_is_loading--;\n",
       "        if (root._bokeh_is_loading === 0) {\n",
       "          console.log(\"Bokeh: all BokehJS libraries loaded\");\n",
       "          run_callbacks()\n",
       "        }\n",
       "      };\n",
       "      s.onerror = function() {\n",
       "        console.warn(\"failed to load library \" + url);\n",
       "      };\n",
       "      console.log(\"Bokeh: injecting script tag for BokehJS library: \", url);\n",
       "      document.getElementsByTagName(\"head\")[0].appendChild(s);\n",
       "    }\n",
       "  };\n",
       "\n",
       "  var js_urls = [\"https://cdn.pydata.org/bokeh/release/bokeh-0.12.10.min.js\", \"https://cdn.pydata.org/bokeh/release/bokeh-widgets-0.12.10.min.js\", \"https://cdn.pydata.org/bokeh/release/bokeh-tables-0.12.10.min.js\", \"https://cdn.pydata.org/bokeh/release/bokeh-gl-0.12.10.min.js\"];\n",
       "\n",
       "  var inline_js = [\n",
       "    function(Bokeh) {\n",
       "      Bokeh.set_log_level(\"info\");\n",
       "    },\n",
       "    function(Bokeh) {\n",
       "      console.log(\"Bokeh: injecting CSS: https://cdn.pydata.org/bokeh/release/bokeh-0.12.10.min.css\");\n",
       "      Bokeh.embed.inject_css(\"https://cdn.pydata.org/bokeh/release/bokeh-0.12.10.min.css\");\n",
       "      console.log(\"Bokeh: injecting CSS: https://cdn.pydata.org/bokeh/release/bokeh-widgets-0.12.10.min.css\");\n",
       "      Bokeh.embed.inject_css(\"https://cdn.pydata.org/bokeh/release/bokeh-widgets-0.12.10.min.css\");\n",
       "      console.log(\"Bokeh: injecting CSS: https://cdn.pydata.org/bokeh/release/bokeh-tables-0.12.10.min.css\");\n",
       "      Bokeh.embed.inject_css(\"https://cdn.pydata.org/bokeh/release/bokeh-tables-0.12.10.min.css\");\n",
       "    }\n",
       "  ];\n",
       "\n",
       "  function run_inline_js() {\n",
       "    \n",
       "    if ((root.Bokeh !== undefined) || (force === true)) {\n",
       "      for (var i = 0; i < inline_js.length; i++) {\n",
       "        inline_js[i].call(root, root.Bokeh);\n",
       "      }} else if (Date.now() < root._bokeh_timeout) {\n",
       "      setTimeout(run_inline_js, 100);\n",
       "    } else if (!root._bokeh_failed_load) {\n",
       "      console.log(\"Bokeh: BokehJS failed to load within specified timeout.\");\n",
       "      root._bokeh_failed_load = true;\n",
       "    } else if (force !== true) {\n",
       "      var cell = $(document.getElementById(\"\")).parents('.cell').data().cell;\n",
       "      cell.output_area.append_execute_result(NB_LOAD_WARNING)\n",
       "    }\n",
       "\n",
       "  }\n",
       "\n",
       "  if (root._bokeh_is_loading === 0) {\n",
       "    console.log(\"Bokeh: BokehJS loaded, going straight to plotting\");\n",
       "    run_inline_js();\n",
       "  } else {\n",
       "    load_libs(js_urls, function() {\n",
       "      console.log(\"Bokeh: BokehJS plotting callback run at\", now());\n",
       "      run_inline_js();\n",
       "    });\n",
       "  }\n",
       "}(window));\n",
       "                    }\n",
       "                    setChartScript()\n",
       "                    </script>\n",
       "                    <script>\n",
       "    (function() {\n",
       "  var fn = function() {\n",
       "    Bokeh.safely(function() {\n",
       "      (function(root) {\n",
       "        function embed_document(root) {\n",
       "          var docs_json = {\"a412791f-ab07-4297-b661-8f17b58ea315\":{\"roots\":{\"references\":[{\"attributes\":{\"bottom_units\":\"screen\",\"fill_alpha\":{\"value\":0.5},\"fill_color\":{\"value\":\"lightgrey\"},\"left_units\":\"screen\",\"level\":\"overlay\",\"line_alpha\":{\"value\":1.0},\"line_color\":{\"value\":\"black\"},\"line_dash\":[4,4],\"line_width\":{\"value\":2},\"plot\":null,\"render_mode\":\"css\",\"right_units\":\"screen\",\"top_units\":\"screen\"},\"id\":\"f59b2e77-7cc9-4b13-825c-2ea3910d155e\",\"type\":\"BoxAnnotation\"},{\"attributes\":{\"fill_alpha\":{\"value\":0.5},\"fill_color\":{\"value\":\"#2ca02c\"},\"line_color\":{\"value\":\"#2ca02c\"},\"size\":{\"units\":\"screen\",\"value\":8},\"x\":{\"field\":\"x\"},\"y\":{\"field\":\"y\"}},\"id\":\"b0ca289f-0f98-4bba-9840-ecaaa65dae78\",\"type\":\"Circle\"},{\"attributes\":{},\"id\":\"b589dad9-6964-413f-8330-72a55930118b\",\"type\":\"BasicTickFormatter\"},{\"attributes\":{},\"id\":\"be24b74e-3f91-4db8-a0db-6491f348393c\",\"type\":\"BasicTicker\"},{\"attributes\":{\"data_source\":{\"id\":\"06671877-2b3e-4ff0-adc4-f23aa7565692\",\"type\":\"ColumnDataSource\"},\"glyph\":{\"id\":\"a82ac95e-3ecd-4065-93ac-4b54c736dc6e\",\"type\":\"Circle\"},\"hover_glyph\":null,\"muted_glyph\":null,\"nonselection_glyph\":{\"id\":\"8729902f-f0ab-4c86-b23f-dadcbc2fd367\",\"type\":\"Circle\"},\"selection_glyph\":null,\"view\":{\"id\":\"561269c6-5ae1-46c7-8e31-b8832664e244\",\"type\":\"CDSView\"}},\"id\":\"bf0f1419-b6be-4315-bff1-f4b4d05ba5ca\",\"type\":\"GlyphRenderer\"},{\"attributes\":{},\"id\":\"b9490e74-42dd-41d4-88da-7db39ca99458\",\"type\":\"ResetTool\"},{\"attributes\":{\"fill_alpha\":{\"value\":0.1},\"fill_color\":{\"value\":\"#1f77b4\"},\"line_alpha\":{\"value\":0.1},\"line_color\":{\"value\":\"#1f77b4\"},\"size\":{\"units\":\"screen\",\"value\":8},\"x\":{\"field\":\"x\"},\"y\":{\"field\":\"y\"}},\"id\":\"2c5f1511-e891-4cb0-8803-7498ee3fbfec\",\"type\":\"Circle\"},{\"attributes\":{\"data_source\":{\"id\":\"39d82ce0-0ba9-4dbb-ac74-dcaeaba909cf\",\"type\":\"ColumnDataSource\"},\"glyph\":{\"id\":\"1d76d7f5-fa60-4dbc-84a5-72b7ba123c51\",\"type\":\"Circle\"},\"hover_glyph\":null,\"muted_glyph\":null,\"nonselection_glyph\":{\"id\":\"2c5f1511-e891-4cb0-8803-7498ee3fbfec\",\"type\":\"Circle\"},\"selection_glyph\":null,\"view\":{\"id\":\"a99b3776-35f6-4617-b655-e072b99bcab4\",\"type\":\"CDSView\"}},\"id\":\"097c6788-9c3b-42be-a6d5-4467b5f9a400\",\"type\":\"GlyphRenderer\"},{\"attributes\":{},\"id\":\"eacd6ccf-c8d9-4206-98b4-38f6b590d194\",\"type\":\"WheelZoomTool\"},{\"attributes\":{},\"id\":\"2f453ec2-67f3-4cbc-9796-2a14c704932f\",\"type\":\"BasicTickFormatter\"},{\"attributes\":{},\"id\":\"276d15a4-8407-46cc-8268-0beab99a69cf\",\"type\":\"LinearScale\"},{\"attributes\":{},\"id\":\"1ba67376-61b8-461c-aa4e-706cd0ab2eb5\",\"type\":\"LinearScale\"},{\"attributes\":{},\"id\":\"26839069-f236-461f-aefd-65290aadee98\",\"type\":\"BasicTicker\"},{\"attributes\":{},\"id\":\"5df3dfd0-989c-4587-9de3-da4a313ff7fb\",\"type\":\"SaveTool\"},{\"attributes\":{\"fill_alpha\":{\"value\":0.5},\"fill_color\":{\"value\":\"#ff7f0e\"},\"line_color\":{\"value\":\"#ff7f0e\"},\"size\":{\"units\":\"screen\",\"value\":8},\"x\":{\"field\":\"x\"},\"y\":{\"field\":\"y\"}},\"id\":\"1d76d7f5-fa60-4dbc-84a5-72b7ba123c51\",\"type\":\"Circle\"},{\"attributes\":{\"callback\":null,\"column_names\":[\"x\",\"y\"],\"data\":{\"x\":[20.0,21.0,22.0,38.0,47.0,49.0,50.0,51.0,52.0,53.0,56.0,59.0,60.0,61.0,62.0,64.0,67.0,68.0,69.0,70.0,72.0,75.0,77.0,80.0,81.0,82.0,85.0,89.0,90.0,91.0,93.0,94.0,97.0,98.0,99.0,102.0,103.0,104.0,105.0,107.0,108.0,110.0,111.0,112.0,113.0,114.0,115.0,116.0,117.0,121.0,124.0,125.0,126.0,129.0,131.0,134.0,137.0,138.0,140.0,141.0,143.0,144.0,145.0,146.0,148.0,149.0,150.0,151.0,152.0,153.0,154.0,155.0,156.0,158.0,159.0,160.0,161.0,164.0,166.0,167.0,170.0,171.0,174.0,175.0,176.0,177.0,179.0,180.0,184.0,186.0,188.0,189.0,190.0,192.0,193.0,196.0,201.0,205.0,207.0,209.0,210.0,212.0,217.0,218.0,221.0,222.0,223.0,225.0,226.0,227.0,228.0,229.0,232.0,233.0,235.0,236.0,239.0,241.0,242.0,243.0,244.0,246.0,247.0,248.0,249.0,250.0,252.0,267.0,268.0,269.0,270.0,271.0,272.0,274.0,276.0,277.0,279.0,280.0,282.0,285.0,286.0,287.0,288.0,289.0,290.0,291.0,292.0,293.0,294.0,295.0,296.0,297.0,299.0,300.0,302.0,304.0,305.0,306.0,307.0,308.0,309.0,310.0,311.0,312.0,313.0,314.0,315.0,316.0,317.0,319.0,320.0,321.0,323.0,325.0,326.0,327.0,328.0,332.0,333.0,334.0,335.0,337.0,339.0,341.0,342.0,343.0,345.0,346.0,347.0,348.0,349.0,350.0,351.0,355.0,356.0,357.0,358.0,359.0,360.0,361.0,362.0,363.0,364.0,365.0,368.0,372.0,375.0,376.0,377.0,378.0,379.0,381.0,382.0,383.0,384.0,385.0,387.0,388.0,389.0,391.0,392.0,395.0,396.0,397.0,398.0,399.0,400.0,402.0,403.0,404.0,405.0,406.0,407.0,408.0,410.0,411.0,412.0,413.0,414.0,416.0,417.0,419.0,420.0,421.0,422.0,423.0,424.0,425.0,426.0,427.0,428.0,429.0,430.0,432.0,435.0,437.0,438.0,439.0,440.0,441.0,443.0,444.0,446.0,448.0,449.0,451.0,453.0,454.0,455.0,456.0,457.0,458.0,459.0,460.0,463.0,464.0,465.0,466.0,467.0,468.0,470.0,471.0,472.0,473.0,474.0,475.0,476.0,477.0,478.0,479.0,481.0,482.0,483.0,484.0,485.0,486.0,487.0,489.0,491.0,492.0,494.0,495.0,496.0,497.0,498.0],\"y\":[566.3,520.0,273.9,523.8,201.9,449.3,561.0,427.9,571.8,437.6,409.0,527.2,224.5,311.9,221.8,260.9,269.4,394.1,250.5,502.5,244.0,470.9,559.2,506.3,401.5,520.0,443.3,466.1,651.9,662.7,551.7,555.1,451.1,294.5,412.6,143.5,458.7,298.3,336.1,412.5,466.7,396.5,290.2,480.4,629.9,334.2,230.9,438.6,245.2,403.3,640.7,553.5,588.7,674.5,455.8,761.7,423.6,399.8,384.8,288.5,398.0,512.2,355.3,432.8,689.5,640.1,585.0,519.4,203.9,300.2,381.9,538.9,460.3,880.2,448.6,366.8,419.8,464.5,690.2,357.6,685.9,464.1,372.7,349.6,227.2,302.4,526.4,508.8,402.0,317.5,420.3,428.9,463.7,507.4,288.1,516.4,461.0,481.9,295.4,529.4,725.5,428.0,432.2,321.2,568.9,561.3,313.1,546.4,641.2,329.6,684.5,496.4,395.7,386.8,279.6,603.4,623.9,575.3,476.5,389.4,590.0,337.7,541.6,512.2,347.0,406.3,407.4,346.4,561.0,512.2,344.9,632.6,388.0,289.9,435.6,396.6,572.3,587.4,427.3,516.6,489.0,441.0,515.9,394.1,396.0,651.0,687.3,513.7,432.7,492.1,582.7,363.7,633.1,334.2,471.3,334.3,403.1,417.2,537.3,246.3,566.2,530.6,418.7,664.9,504.1,409.1,221.2,481.6,461.4,244.5,477.3,324.2,504.8,457.9,489.9,616.5,446.0,514.0,387.3,390.0,464.4,514.3,310.8,641.2,280.5,373.9,420.3,321.6,445.3,668.7,402.7,426.7,421.0,384.6,485.8,512.0,593.7,241.0,278.6,491.9,546.1,496.6,838.1,552.4,458.4,711.8,579.1,788.5,338.3,562.1,580.6,386.3,372.7,447.8,462.9,541.8,462.0,596.6,392.0,321.6,234.3,446.2,609.1,558.1,508.3,378.2,431.9,442.7,525.2,507.6,469.1,370.0,800.0,514.5,466.1,399.8,373.2,268.8,693.7,433.8,271.2,495.0,380.3,409.7,656.1,408.2,575.3,289.7,307.3,333.6,359.9,381.1,501.3,467.8,673.7,509.2,611.2,592.6,606.5,371.5,585.9,340.9,441.3,674.8,659.7,432.0,442.5,644.2,492.9,557.2,415.1,537.9,520.2,290.9,646.1,412.7,537.3,542.9,536.9,286.3,408.8,289.1,449.9,686.9,465.4,358.9,506.9,618.4,599.4,404.9,455.3,602.9,546.3,571.1,747.2,476.7,666.0,420.5,466.5,992.1,477.3,538.7,680.9,485.6,480.1]}},\"id\":\"39d82ce0-0ba9-4dbb-ac74-dcaeaba909cf\",\"type\":\"ColumnDataSource\"},{\"attributes\":{\"items\":[{\"id\":\"3b3774b3-072d-40cd-abbd-deaca3a0ec17\",\"type\":\"LegendItem\"},{\"id\":\"80c8752d-4cd1-4602-8cf8-334de590bf59\",\"type\":\"LegendItem\"},{\"id\":\"f6b2b45b-5ce2-4c38-ae53-8b4574be84b2\",\"type\":\"LegendItem\"}],\"location\":\"top_left\",\"plot\":{\"id\":\"f6b9ce0e-671e-44ef-906d-e82635dd1122\",\"subtype\":\"Figure\",\"type\":\"Plot\"}},\"id\":\"6adf621f-c92d-41d9-bef1-a4efdf605df7\",\"type\":\"Legend\"},{\"attributes\":{\"axis_label\":\"area_mean\",\"formatter\":{\"id\":\"b589dad9-6964-413f-8330-72a55930118b\",\"type\":\"BasicTickFormatter\"},\"plot\":{\"id\":\"f6b9ce0e-671e-44ef-906d-e82635dd1122\",\"subtype\":\"Figure\",\"type\":\"Plot\"},\"ticker\":{\"id\":\"be24b74e-3f91-4db8-a0db-6491f348393c\",\"type\":\"BasicTicker\"}},\"id\":\"69dea204-31d5-416c-a38a-c0992b9d2f99\",\"type\":\"LinearAxis\"},{\"attributes\":{\"label\":{\"value\":\"U\"},\"renderers\":[{\"id\":\"45446081-e0e6-46bf-b8fe-9207fc7b426f\",\"type\":\"GlyphRenderer\"}]},\"id\":\"f6b2b45b-5ce2-4c38-ae53-8b4574be84b2\",\"type\":\"LegendItem\"},{\"attributes\":{\"grid_line_alpha\":{\"value\":0.3},\"plot\":{\"id\":\"f6b9ce0e-671e-44ef-906d-e82635dd1122\",\"subtype\":\"Figure\",\"type\":\"Plot\"},\"ticker\":{\"id\":\"26839069-f236-461f-aefd-65290aadee98\",\"type\":\"BasicTicker\"}},\"id\":\"432b7f76-6abe-43e8-9b3f-8e1e41fb08b1\",\"type\":\"Grid\"},{\"attributes\":{\"callback\":null,\"column_names\":[\"x\",\"y\"],\"data\":{\"x\":[499.0,500.0,501.0,502.0,503.0,504.0,505.0,506.0,507.0,508.0,509.0,510.0,511.0,512.0,513.0,514.0,515.0,516.0,517.0,518.0,519.0,520.0,521.0,522.0,523.0,524.0,525.0,526.0,527.0,528.0,529.0,530.0,531.0,532.0,533.0,534.0,535.0,536.0,537.0,538.0,539.0,540.0,541.0,542.0,543.0,544.0,545.0,546.0,547.0,548.0,549.0,550.0,551.0,552.0,553.0,554.0,555.0,556.0,557.0,558.0,559.0,560.0,561.0,562.0,563.0,564.0,565.0,566.0,567.0,568.0,569.0],\"y\":[1068.0,1320.0,689.4,595.9,476.3,1682.0,248.7,272.5,453.1,366.5,819.8,731.3,426.0,680.7,556.7,658.8,701.9,391.2,1052.0,1214.0,493.1,493.8,257.8,1841.0,388.1,571.0,293.2,221.3,551.1,468.5,594.2,445.2,422.9,416.2,575.5,1299.0,365.6,1308.0,629.8,406.4,178.8,170.4,402.9,656.4,668.6,538.4,584.8,573.2,324.9,320.8,285.7,361.6,360.5,378.4,507.9,264.0,514.3,321.4,311.7,271.3,657.1,403.5,600.4,386.0,716.9,1347.0,1479.0,1261.0,858.1,1265.0,181.0]}},\"id\":\"a016c892-f6c5-493e-a621-2647383b80ad\",\"type\":\"ColumnDataSource\"},{\"attributes\":{\"data_source\":{\"id\":\"a016c892-f6c5-493e-a621-2647383b80ad\",\"type\":\"ColumnDataSource\"},\"glyph\":{\"id\":\"b0ca289f-0f98-4bba-9840-ecaaa65dae78\",\"type\":\"Circle\"},\"hover_glyph\":null,\"muted_glyph\":null,\"nonselection_glyph\":{\"id\":\"ffecbf6a-c567-4366-aa11-ec36c454acf7\",\"type\":\"Circle\"},\"selection_glyph\":null,\"view\":{\"id\":\"9a39ccec-3248-4e96-898b-486f03d9b88c\",\"type\":\"CDSView\"}},\"id\":\"45446081-e0e6-46bf-b8fe-9207fc7b426f\",\"type\":\"GlyphRenderer\"},{\"attributes\":{\"source\":{\"id\":\"39d82ce0-0ba9-4dbb-ac74-dcaeaba909cf\",\"type\":\"ColumnDataSource\"}},\"id\":\"a99b3776-35f6-4617-b655-e072b99bcab4\",\"type\":\"CDSView\"},{\"attributes\":{},\"id\":\"fbd78345-8d1e-43e4-ac5d-f9ac1d3c4e31\",\"type\":\"HelpTool\"},{\"attributes\":{\"source\":{\"id\":\"06671877-2b3e-4ff0-adc4-f23aa7565692\",\"type\":\"ColumnDataSource\"}},\"id\":\"561269c6-5ae1-46c7-8e31-b8832664e244\",\"type\":\"CDSView\"},{\"attributes\":{\"below\":[{\"id\":\"a08f02ca-d9b6-40ec-bf15-212916f5b6b3\",\"type\":\"LinearAxis\"}],\"left\":[{\"id\":\"69dea204-31d5-416c-a38a-c0992b9d2f99\",\"type\":\"LinearAxis\"}],\"plot_height\":490,\"plot_width\":996,\"renderers\":[{\"id\":\"a08f02ca-d9b6-40ec-bf15-212916f5b6b3\",\"type\":\"LinearAxis\"},{\"id\":\"432b7f76-6abe-43e8-9b3f-8e1e41fb08b1\",\"type\":\"Grid\"},{\"id\":\"69dea204-31d5-416c-a38a-c0992b9d2f99\",\"type\":\"LinearAxis\"},{\"id\":\"8101dcbf-e87f-45d3-9d0d-77dd505a830c\",\"type\":\"Grid\"},{\"id\":\"f59b2e77-7cc9-4b13-825c-2ea3910d155e\",\"type\":\"BoxAnnotation\"},{\"id\":\"6adf621f-c92d-41d9-bef1-a4efdf605df7\",\"type\":\"Legend\"},{\"id\":\"bf0f1419-b6be-4315-bff1-f4b4d05ba5ca\",\"type\":\"GlyphRenderer\"},{\"id\":\"097c6788-9c3b-42be-a6d5-4467b5f9a400\",\"type\":\"GlyphRenderer\"},{\"id\":\"45446081-e0e6-46bf-b8fe-9207fc7b426f\",\"type\":\"GlyphRenderer\"}],\"title\":{\"id\":\"451b9c58-3684-4bf5-b093-9b2120131a57\",\"type\":\"Title\"},\"toolbar\":{\"id\":\"15395c40-0f4f-42a6-ae65-29eeb83bcafa\",\"type\":\"Toolbar\"},\"x_range\":{\"id\":\"d78c745a-f595-4cb4-9aa1-64813682afe0\",\"type\":\"DataRange1d\"},\"x_scale\":{\"id\":\"1ba67376-61b8-461c-aa4e-706cd0ab2eb5\",\"type\":\"LinearScale\"},\"y_range\":{\"id\":\"d9b4a34e-13af-4604-903f-8c53bf75dbc9\",\"type\":\"DataRange1d\"},\"y_scale\":{\"id\":\"276d15a4-8407-46cc-8268-0beab99a69cf\",\"type\":\"LinearScale\"}},\"id\":\"f6b9ce0e-671e-44ef-906d-e82635dd1122\",\"subtype\":\"Figure\",\"type\":\"Plot\"},{\"attributes\":{\"callback\":null},\"id\":\"d78c745a-f595-4cb4-9aa1-64813682afe0\",\"type\":\"DataRange1d\"},{\"attributes\":{\"active_drag\":\"auto\",\"active_inspect\":\"auto\",\"active_scroll\":\"auto\",\"active_tap\":\"auto\",\"tools\":[{\"id\":\"71e11ad3-4652-41fd-8777-53565770c6c0\",\"type\":\"PanTool\"},{\"id\":\"eacd6ccf-c8d9-4206-98b4-38f6b590d194\",\"type\":\"WheelZoomTool\"},{\"id\":\"45214951-1d24-47c5-b70d-2bde157909cf\",\"type\":\"BoxZoomTool\"},{\"id\":\"5df3dfd0-989c-4587-9de3-da4a313ff7fb\",\"type\":\"SaveTool\"},{\"id\":\"b9490e74-42dd-41d4-88da-7db39ca99458\",\"type\":\"ResetTool\"},{\"id\":\"fbd78345-8d1e-43e4-ac5d-f9ac1d3c4e31\",\"type\":\"HelpTool\"}]},\"id\":\"15395c40-0f4f-42a6-ae65-29eeb83bcafa\",\"type\":\"Toolbar\"},{\"attributes\":{\"dimension\":1,\"grid_line_alpha\":{\"value\":0.3},\"plot\":{\"id\":\"f6b9ce0e-671e-44ef-906d-e82635dd1122\",\"subtype\":\"Figure\",\"type\":\"Plot\"},\"ticker\":{\"id\":\"be24b74e-3f91-4db8-a0db-6491f348393c\",\"type\":\"BasicTicker\"}},\"id\":\"8101dcbf-e87f-45d3-9d0d-77dd505a830c\",\"type\":\"Grid\"},{\"attributes\":{\"label\":{\"value\":\"B\"},\"renderers\":[{\"id\":\"097c6788-9c3b-42be-a6d5-4467b5f9a400\",\"type\":\"GlyphRenderer\"}]},\"id\":\"80c8752d-4cd1-4602-8cf8-334de590bf59\",\"type\":\"LegendItem\"},{\"attributes\":{\"source\":{\"id\":\"a016c892-f6c5-493e-a621-2647383b80ad\",\"type\":\"ColumnDataSource\"}},\"id\":\"9a39ccec-3248-4e96-898b-486f03d9b88c\",\"type\":\"CDSView\"},{\"attributes\":{\"label\":{\"value\":\"M\"},\"renderers\":[{\"id\":\"bf0f1419-b6be-4315-bff1-f4b4d05ba5ca\",\"type\":\"GlyphRenderer\"}]},\"id\":\"3b3774b3-072d-40cd-abbd-deaca3a0ec17\",\"type\":\"LegendItem\"},{\"attributes\":{\"overlay\":{\"id\":\"f59b2e77-7cc9-4b13-825c-2ea3910d155e\",\"type\":\"BoxAnnotation\"}},\"id\":\"45214951-1d24-47c5-b70d-2bde157909cf\",\"type\":\"BoxZoomTool\"},{\"attributes\":{\"fill_alpha\":{\"value\":0.5},\"fill_color\":{\"value\":\"#1f77b4\"},\"line_color\":{\"value\":\"#1f77b4\"},\"size\":{\"units\":\"screen\",\"value\":8},\"x\":{\"field\":\"x\"},\"y\":{\"field\":\"y\"}},\"id\":\"a82ac95e-3ecd-4065-93ac-4b54c736dc6e\",\"type\":\"Circle\"},{\"attributes\":{\"fill_alpha\":{\"value\":0.1},\"fill_color\":{\"value\":\"#1f77b4\"},\"line_alpha\":{\"value\":0.1},\"line_color\":{\"value\":\"#1f77b4\"},\"size\":{\"units\":\"screen\",\"value\":8},\"x\":{\"field\":\"x\"},\"y\":{\"field\":\"y\"}},\"id\":\"ffecbf6a-c567-4366-aa11-ec36c454acf7\",\"type\":\"Circle\"},{\"attributes\":{\"fill_alpha\":{\"value\":0.1},\"fill_color\":{\"value\":\"#1f77b4\"},\"line_alpha\":{\"value\":0.1},\"line_color\":{\"value\":\"#1f77b4\"},\"size\":{\"units\":\"screen\",\"value\":8},\"x\":{\"field\":\"x\"},\"y\":{\"field\":\"y\"}},\"id\":\"8729902f-f0ab-4c86-b23f-dadcbc2fd367\",\"type\":\"Circle\"},{\"attributes\":{\"plot\":null,\"text\":\"\"},\"id\":\"451b9c58-3684-4bf5-b093-9b2120131a57\",\"type\":\"Title\"},{\"attributes\":{\"callback\":null,\"column_names\":[\"x\",\"y\"],\"data\":{\"x\":[1.0,2.0,3.0,4.0,5.0,6.0,7.0,8.0,9.0,10.0,11.0,12.0,13.0,14.0,15.0,16.0,17.0,18.0,19.0,23.0,24.0,25.0,26.0,27.0,28.0,29.0,30.0,31.0,32.0,33.0,34.0,35.0,36.0,37.0,39.0,40.0,41.0,42.0,43.0,44.0,45.0,46.0,48.0,54.0,55.0,57.0,58.0,63.0,65.0,66.0,71.0,73.0,74.0,76.0,78.0,79.0,83.0,84.0,86.0,87.0,88.0,92.0,95.0,96.0,100.0,101.0,106.0,109.0,118.0,119.0,120.0,122.0,123.0,127.0,128.0,130.0,132.0,133.0,135.0,136.0,139.0,142.0,147.0,157.0,162.0,163.0,165.0,168.0,169.0,172.0,173.0,178.0,181.0,182.0,183.0,185.0,187.0,191.0,194.0,195.0,197.0,198.0,199.0,200.0,202.0,203.0,204.0,206.0,208.0,211.0,213.0,214.0,215.0,216.0,219.0,220.0,224.0,230.0,231.0,234.0,237.0,238.0,240.0,245.0,251.0,253.0,254.0,255.0,256.0,257.0,258.0,259.0,260.0,261.0,262.0,263.0,264.0,265.0,266.0,273.0,275.0,278.0,281.0,283.0,284.0,298.0,301.0,303.0,318.0,322.0,324.0,329.0,330.0,331.0,336.0,338.0,340.0,344.0,352.0,353.0,354.0,366.0,367.0,369.0,370.0,371.0,373.0,374.0,380.0,386.0,390.0,393.0,394.0,401.0,409.0,415.0,418.0,431.0,433.0,434.0,436.0,442.0,445.0,447.0,450.0,452.0,461.0,462.0,469.0,480.0,488.0,490.0,493.0],\"y\":[1001.0,1326.0,1203.0,386.1,1297.0,477.1,1040.0,577.9,519.8,475.9,797.8,781.0,1123.0,782.7,578.3,658.8,684.5,798.8,1260.0,704.4,1404.0,904.6,912.7,644.8,1094.0,732.4,955.1,1088.0,440.6,899.3,1162.0,807.2,869.5,633.0,698.8,559.2,563.0,371.1,1104.0,545.2,531.5,1076.0,534.6,1033.0,712.8,1152.0,656.9,645.7,499.0,668.3,1130.0,929.4,584.1,817.7,1006.0,1245.0,1878.0,1132.0,1075.0,648.2,1076.0,728.2,705.6,1264.0,642.5,582.7,530.2,1509.0,682.5,782.6,982.0,1077.0,1761.0,572.6,1138.0,1192.0,748.9,809.8,1075.0,506.3,678.1,813.0,432.0,963.7,1157.0,1214.0,1686.0,886.3,984.6,565.4,736.9,832.9,2250.0,1311.0,766.6,710.6,1041.0,609.9,477.4,671.4,588.9,1024.0,1148.0,642.7,951.6,1685.0,597.8,716.6,904.3,1290.0,2499.0,948.0,610.7,578.9,1230.0,1223.0,761.3,503.2,895.0,1319.0,1670.0,1306.0,920.6,1155.0,1364.0,1206.0,928.2,1169.0,602.4,1207.0,713.3,773.5,744.9,1288.0,933.1,947.8,758.6,928.3,1419.0,1491.0,998.9,1102.0,1138.0,1145.0,805.1,431.1,1217.0,1247.0,1027.0,1274.0,1264.0,813.7,826.8,793.2,918.6,1092.0,1747.0,1194.0,758.6,2010.0,716.6,1293.0,1234.0,1546.0,1482.0,840.4,1386.0,1335.0,361.6,664.7,1174.0,744.7,1407.0,994.0,991.7,719.5,803.1,685.0,1250.0,1110.0,599.5,928.8,990.0,981.6,1384.0,1191.0,930.9,2501.0,980.5,815.8,1167.0,857.6,1007.0]}},\"id\":\"06671877-2b3e-4ff0-adc4-f23aa7565692\",\"type\":\"ColumnDataSource\"},{\"attributes\":{},\"id\":\"71e11ad3-4652-41fd-8777-53565770c6c0\",\"type\":\"PanTool\"},{\"attributes\":{\"callback\":null},\"id\":\"d9b4a34e-13af-4604-903f-8c53bf75dbc9\",\"type\":\"DataRange1d\"},{\"attributes\":{\"axis_label\":\"id\",\"formatter\":{\"id\":\"2f453ec2-67f3-4cbc-9796-2a14c704932f\",\"type\":\"BasicTickFormatter\"},\"plot\":{\"id\":\"f6b9ce0e-671e-44ef-906d-e82635dd1122\",\"subtype\":\"Figure\",\"type\":\"Plot\"},\"ticker\":{\"id\":\"26839069-f236-461f-aefd-65290aadee98\",\"type\":\"BasicTicker\"}},\"id\":\"a08f02ca-d9b6-40ec-bf15-212916f5b6b3\",\"type\":\"LinearAxis\"}],\"root_ids\":[\"f6b9ce0e-671e-44ef-906d-e82635dd1122\"]},\"title\":\"Bokeh Application\",\"version\":\"0.12.10\"}};\n",
       "          var render_items = [{\"docid\":\"a412791f-ab07-4297-b661-8f17b58ea315\",\"elementid\":\"ef71392e-ece6-4fca-99ac-23511eba3333\",\"modelid\":\"f6b9ce0e-671e-44ef-906d-e82635dd1122\"}];\n",
       "      \n",
       "          root.Bokeh.embed.embed_items(docs_json, render_items);\n",
       "        }\n",
       "      \n",
       "        if (root.Bokeh !== undefined) {\n",
       "          embed_document(root);\n",
       "        } else {\n",
       "          var attempts = 0;\n",
       "          var timer = setInterval(function(root) {\n",
       "            if (root.Bokeh !== undefined) {\n",
       "              embed_document(root);\n",
       "              clearInterval(timer);\n",
       "            }\n",
       "            attempts++;\n",
       "            if (attempts > 100) {\n",
       "              console.log(\"Bokeh: ERROR: Unable to embed document because BokehJS library is missing\")\n",
       "              clearInterval(timer);\n",
       "            }\n",
       "          }, 10, root)\n",
       "        }\n",
       "      })(window);\n",
       "    });\n",
       "  };\n",
       "  if (document.readyState != \"loading\") fn();\n",
       "  else document.addEventListener(\"DOMContentLoaded\", fn);\n",
       "})();\n",
       "\n",
       "</script><div style=\"padding:5px\" id=\"pd-bkchartdiv-de9824f7\">\n",
       "<div class=\"bk-root\">\n",
       "    <div id=\"514863F2AF2D4070AE79231961EC5620\" class=\"bk-plot-layout bk-layout-fixed\" style=\"position: relative; width: 996px; height: 490px;\"><div id=\"0EC4E9A045954756A5518E8FB3B150A2\" class=\"bk-toolbar-wrapper\" style=\"left: 966px; top: 5px; width: 30px; height: 485px;\"><div class=\"bk-toolbar-right bk-toolbar-sticky\"><a href=\"https://bokeh.pydata.org/\" target=\"_blank\" class=\"bk-logo bk-logo-small\"></a><div class=\"bk-button-bar\"><div class=\"bk-button-bar-list\" type=\"pan\"><div id=\"4347ACC99F8A432FBDAD6063E8D2F869\" class=\"bk-toolbar-button bk-active\"><div class=\"bk-btn-icon bk-tool-icon-pan\"></div><span class=\"bk-tip\">Pan</span></div><div id=\"B3ABDE5A611E4944A6978B952B17BFD8\" class=\"bk-toolbar-button\"><div class=\"bk-btn-icon bk-tool-icon-box-zoom\"></div><span class=\"bk-tip\">Box Zoom</span></div></div><div class=\"bk-button-bar-list\" type=\"scroll\"><div id=\"EED29E6ED0DD4A588439A58C3CA6C34E\" class=\"bk-toolbar-button\"><div class=\"bk-btn-icon bk-tool-icon-wheel-zoom\"></div><span class=\"bk-tip\">Wheel Zoom</span></div></div><div class=\"bk-button-bar-list\" type=\"pinch\"></div><div class=\"bk-button-bar-list\" type=\"tap\"></div><div class=\"bk-button-bar-list\" type=\"press\"></div><div class=\"bk-button-bar-list\" type=\"rotate\"></div><div class=\"bk-button-bar-list\" type=\"actions\"><div id=\"0EC85C86278A4FF9AD9F474CD6823826\" class=\"bk-toolbar-button\"><div class=\"bk-btn-icon bk-tool-icon-save\"></div><span class=\"bk-tip\">Save</span></div><div id=\"FE7280A8E3A94C67AC5D8666B97801D9\" class=\"bk-toolbar-button\"><div class=\"bk-btn-icon bk-tool-icon-reset\"></div><span class=\"bk-tip\">Reset</span></div></div><div class=\"bk-button-bar-list\" type=\"inspectors\"></div><div class=\"bk-button-bar-list\" type=\"help\"><div id=\"C27B70C3D16D4AA39FDD8FA68B025E2B\" class=\"bk-toolbar-button\"><div class=\"bk-btn-icon bk-tool-icon-help\"></div><span class=\"bk-tip\">Click the question mark to learn more about Bokeh plot tools.</span></div></div></div></div></div><div id=\"FDAC6F294F9E4270A9E5A64ADD36AF2A\" class=\"bk-plot-wrapper\" style=\"position: absolute; left: 0px; top: 0px; width: 996px; height: 490px;\"><div id=\"A550AFD58AA340B29C5B9C891F0F660A\" class=\"bk-canvas-wrapper\" style=\"touch-action: none; user-select: none; -webkit-user-drag: none; -webkit-tap-highlight-color: rgba(0, 0, 0, 0);\"><div class=\"bk-canvas-events\"></div><div class=\"bk-canvas-overlays\"><div id=\"7DAEBD4C9ACA4EBB9945AB56A85C1D6A\" class=\"bk-shading\" style=\"display: none;\"></div></div><canvas class=\"bk-canvas\"></canvas></div></div></div>\n",
       "</div></div>\n",
       "                    \n",
       "                \n",
       "        </div>"
      ],
      "text/plain": [
       "<IPython.core.display.HTML object>"
      ]
     },
     "metadata": {},
     "output_type": "display_data"
    }
   ],
   "source": [
    "display(cancer_nums)"
   ]
  },
  {
   "cell_type": "markdown",
   "metadata": {},
   "source": [
    "We can also use PixieDust to observe the composition of the data. \n",
    "Below we group the data by diagnosis so that we can get a count of the number of each diagnosis (M-malignant, B-benign, U-unlabeled). \n",
    "\n",
    "Using the table feature we can see that the data has 305 benign tumors, 193 malignant tumors, and 71 unlabeled tumors. \n",
    "\n",
    "We can also use a pie chart, created using the drop down menu used to make the scatterplot above, to see the percentages of each diagnosis."
   ]
  },
  {
   "cell_type": "code",
   "execution_count": 6,
   "metadata": {
    "pixiedust": {
     "displayParams": {
      "aggregation": "SUM",
      "handlerId": "pieChart",
      "keyFields": "diagnosis",
      "rowCount": "1000",
      "valueFields": "count"
     }
    },
    "scrolled": false
   },
   "outputs": [
    {
     "data": {
      "text/html": [
       "<style type=\"text/css\">.pd_warning{display:none;}</style><div class=\"pd_warning\"><em>Hey, there's something awesome here! To see it, open this notebook outside GitHub, in a viewer like Jupyter</em></div>\n",
       "        <div class=\"pd_save is-viewer-good\" style=\"padding-right:10px;text-align: center;line-height:initial !important;font-size: xx-large;font-weight: 500;color: coral;\">\n",
       "            \n",
       "        </div>\n",
       "    <div id=\"chartFiguree6d19901\" class=\"pd_save is-viewer-good\" style=\"overflow-x:auto\">\n",
       "            \n",
       "                    \n",
       "                            <center><img style=\"max-width:initial !important\" src=\"data:image/png;base64,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\" class=\"pd_save\"></center>\n",
       "                        \n",
       "                    \n",
       "                \n",
       "        </div>"
      ],
      "text/plain": [
       "<IPython.core.display.HTML object>"
      ]
     },
     "metadata": {},
     "output_type": "display_data"
    }
   ],
   "source": [
    "cancer = cancer_nums.groupby(\"diagnosis\").count()\n",
    "display(cancer)"
   ]
  },
  {
   "cell_type": "markdown",
   "metadata": {},
   "source": [
    "Because some of our data points are unlabeled we need to filter them out before we train our model."
   ]
  },
  {
   "cell_type": "code",
   "execution_count": 7,
   "metadata": {},
   "outputs": [],
   "source": [
    "LabeledData = cancer_nums.filter(\"diagnosis != 'U'\")"
   ]
  },
  {
   "cell_type": "markdown",
   "metadata": {},
   "source": [
    "<a id=\"engineer\"></a>\n",
    "## Feature Engineering \n",
    "We need to change our label, **diagnosis**, into a form that SparkML can use. We can do so by using StringIndexer which converts textual data into numeric data while keeping the context categorical. It encodes the input column, in our case the diagnosis column, to a column of indices between 0 and the number of labels where the most frequent label has index 0.\n",
    "\n",
    "To turn the label back into a human readable form we can use the converter that we define below using IndexToString. IndexToString maps the column of indices back to the original labels of the column."
   ]
  },
  {
   "cell_type": "markdown",
   "metadata": {},
   "source": [
    "<a id=\"engineer\"></a>\n",
    "## Feature Engineering \n",
    "We need to change our label, **diagnosis**, into a form that SparkML can use. We can do so by using StringIndexer which encodes the input column, in our case the diagnosis column, to a column of indices that are representative of the frequency of the input string.\n",
    "\n",
    "To turn the label back into a human readable form we can use the converter that we define below using IndexToString. IndexToString maps the column of indices back to the original labels of the column."
   ]
  },
  {
   "cell_type": "code",
   "execution_count": 8,
   "metadata": {},
   "outputs": [],
   "source": [
    "labelIndexer = StringIndexer(inputCol=\"diagnosis\", outputCol=\"label\", handleInvalid=\"error\")\n",
    "labelModel = labelIndexer.fit(LabeledData)\n",
    "converter = IndexToString(inputCol=\"prediction\", outputCol=\"predCategory\", labels=labelModel.labels)"
   ]
  },
  {
   "cell_type": "markdown",
   "metadata": {},
   "source": [
    "Now we must put all feature columns into an array using VectorAssembler which combines a list of columns into a single vector column that can be used in training the model."
   ]
  },
  {
   "cell_type": "code",
   "execution_count": 9,
   "metadata": {},
   "outputs": [],
   "source": [
    "vecAssembler = VectorAssembler(inputCols=[\"radius_mean\",\"texture_mean\",\"perimeter_mean\",\"area_mean\",\"smoothness_mean\",\"compactness_mean\",\"concavity_mean\",\"concave points_mean\",\"symmetry_mean\",\"fractal_dimension_mean\",\"radius_se\",\"texture_se\",\"perimeter_se\",\"area_se\",\"smoothness_se\",\"compactness_se\",\"concavity_se\",\"concave points_se\",\"symmetry_se\",\"fractal_dimension_se\",\"radius_worst\",\"texture_worst\",\"perimeter_worst\",\"area_worst\",\"smoothness_worst\",\"compactness_worst\",\"concavity_worst\",\"concave points_worst\",\"symmetry_worst\",\"fractal_dimension_worst\"], outputCol=\"features\")"
   ]
  },
  {
   "cell_type": "markdown",
   "metadata": {},
   "source": [
    "We use a normalizer to normalize each vector to have a standard form to improve the algorithm."
   ]
  },
  {
   "cell_type": "code",
   "execution_count": 10,
   "metadata": {},
   "outputs": [],
   "source": [
    "normalizer = Normalizer(inputCol=\"features\", outputCol=\"normFeatures\", p=2.0)"
   ]
  },
  {
   "cell_type": "markdown",
   "metadata": {},
   "source": [
    "<a id=\"model\"></a>\n",
    "## State the model to be used \n",
    "There are many different types of models that can be used with Spark from Naïve Bayes to Random Forest. For our dataset a Logistic Regression model is most appropriate since they are often used for models of binary categorical outcome. The model will output its prediction into the **prediction** column.\n",
    "\n",
    "For more information on the models that can be used with Spark and how to determine which model to use for your dataset see: https://spark.apache.org/docs/2.2.0/ml-classification-regression.html"
   ]
  },
  {
   "cell_type": "code",
   "execution_count": 11,
   "metadata": {},
   "outputs": [],
   "source": [
    "lr = LogisticRegression(maxIter=10, regParam=0.3, elasticNetParam=0.8)"
   ]
  },
  {
   "cell_type": "markdown",
   "metadata": {},
   "source": [
    "<a id=\"pipeline\"></a>\n",
    "## Create a pipeline\n",
    "A pipeline is a sequence of stages that are to be run in a specific order where each stage is either a transformer or an estimator. Transformers convert dataframes into other dataframes, usually by appending a column, while estimators, such as LogisticRegression, call fit() and train a Logistic Regression Model which is a transformer since it adds a **predictions** column. A pipeline chains together multiple tranformers to specify a specific ML workflow. \n",
    "\n",
    "In our case, we first want to tranform the label into a usable form for the algorithm, then we create a combined vector, normalize the vector, fit the model, and finally convert the results back into the original label format.\n",
    "\n",
    "For more information on Pipelines visit https://spark.apache.org/docs/latest/ml-pipeline.html#pipeline-components"
   ]
  },
  {
   "cell_type": "code",
   "execution_count": 12,
   "metadata": {},
   "outputs": [],
   "source": [
    "pipeline = Pipeline(stages=[labelIndexer, vecAssembler, normalizer, lr, converter])"
   ]
  },
  {
   "cell_type": "markdown",
   "metadata": {},
   "source": [
    "<a id=\"train\"></a>\n",
    "## Divide data into a training and testing set \n",
    "We should split the data randomly with 70% going to the training set and 30% going to the testing set."
   ]
  },
  {
   "cell_type": "code",
   "execution_count": 13,
   "metadata": {},
   "outputs": [
    {
     "name": "stdout",
     "output_type": "stream",
     "text": [
      "The number of records in the training data set is 357.\n",
      "The number of rows labeled M is 138.\n",
      "The number of rows labeled B is 219.\n",
      "\n",
      "The number of records in the test data set is 141.\n",
      "The number of rows labeled M is 55.\n",
      "The number of rows labeled B is 86.\n"
     ]
    }
   ],
   "source": [
    "train, test = LabeledData.randomSplit([70.0,30.0], seed=1)\n",
    "train.cache()\n",
    "test.cache()\n",
    "print('The number of records in the training data set is {}.'.format(train.count()))\n",
    "print('The number of rows labeled M is {}.'.format(train.filter(train['diagnosis'] == \"M\").count()))\n",
    "print('The number of rows labeled B is {}.'.format(train.filter(train['diagnosis'] == \"B\").count()))\n",
    "\n",
    "print()\n",
    "\n",
    "print('The number of records in the test data set is {}.'.format(test.count()))\n",
    "print('The number of rows labeled M is {}.'.format(test.filter(train['diagnosis'] == \"M\").count()))\n",
    "print('The number of rows labeled B is {}.'.format(test.filter(train['diagnosis'] == \"B\").count()))"
   ]
  },
  {
   "cell_type": "markdown",
   "metadata": {},
   "source": [
    "## Fit the model and make predictions \n",
    "Next, we need to fit the pipeline to the model and make predictions using the model."
   ]
  },
  {
   "cell_type": "code",
   "execution_count": 14,
   "metadata": {},
   "outputs": [
    {
     "data": {
      "text/plain": [
       "141"
      ]
     },
     "execution_count": 14,
     "metadata": {},
     "output_type": "execute_result"
    }
   ],
   "source": [
    "model = pipeline.fit(train)\n",
    "predictions = model.transform(test)\n",
    "predictions.count()"
   ]
  },
  {
   "cell_type": "markdown",
   "metadata": {},
   "source": [
    "<a id=\"evaluate\"></a>\n",
    "## Evaluate the accuracy of the model \n",
    "We can use the Receiver Operator Characteristic (ROC) curve for binary classifiers which assess the models diagnositc ability. The ROC is useful for comparing models and choosing the best one for the data. An ROC value close to 1 performs very well, whereas a model with an ROC value close to 0.5 is as good as flipping a coin. The value is calculated by plotting the true positive rate (recall / probability of detection) against the false positive rate (fall-out / probability of a false alarm) at various levels."
   ]
  },
  {
   "cell_type": "code",
   "execution_count": 15,
   "metadata": {},
   "outputs": [
    {
     "name": "stdout",
     "output_type": "stream",
     "text": [
      "Area under the ROC curve = 0.9890063424947146.\n"
     ]
    }
   ],
   "source": [
    "evaluator = BinaryClassificationEvaluator().setLabelCol(\"label\").setMetricName(\"areaUnderROC\")\n",
    "print('Area under the ROC curve = {}.'.format(evaluator.evaluate(predictions)))"
   ]
  },
  {
   "cell_type": "markdown",
   "metadata": {},
   "source": [
    "<a id=\"tuning\"></a>\n",
    "## Hyperparameter Tuning\n",
    "To find the best possible model we can use model selection tools that:\n",
    "\n",
    "1. Split the data into training and testing datasets\n",
    "2. For each (training, test) pair, iterate through the set of ParamMaps\n",
    "3. For each ParamMap, fit the pipeline using those parameters, get a fitted Model, and evaluate the Model’s performance\n",
    "4. Select the Model found using the best-performing set of parameters\n",
    "\n",
    "We must first specify which parameter values we would like the tool to test in order to find the best model. For our model we have the option to test different values for normalizer and/or any of the parameters of the Logistic Regression Model (maxIter, elasticNetParam, regParam, etc). \n",
    "\n",
    "One of the parameters being adjusted below is elasticNetParam, which must be between 0 and 1. If you would like your model to be closer to a Lasso regression and therefore set coefficients that are not relevant equal to 0, you can choose a value close to 1. If you'd like your model to be closer to a Ridge regression and therefore minimize the impact of irrelevant coefficients without setting them to 0 and regularize the model, you can choose a value close to 0.\n",
    "\n",
    "The second parameter in the paramGrid below is the normalizer, which is important because it ensures that the algorithm runs correctly. The value that you set for the normalizer represents the p-norm used for normalization. \n",
    "\n",
    "To tune our model we will use cross-validation.\n",
    "A CrossValidator splits the dataset into folds which are used as separate training and testing datasets. We will use 10 folds, so the CrossValidator will generate 10 dataset pairs for training and testing. It will use the average evaluation of the 10 models found using each dataset pair to identify the best ParamMaps and re-fit the pipeline using the best ParamMap for the entire dataset.\n",
    "\n",
    "When working with Spark you also have the option to do hyperparameter tuning using a train-validation split which evaluates each ParamMap once, as opposed to k times like cross-validaition. The benefit of train-validation is that it is less expensive but it can be much less reliable if the training dataset isn't sufficiently large."
   ]
  },
  {
   "cell_type": "code",
   "execution_count": 16,
   "metadata": {},
   "outputs": [],
   "source": [
    "paramGrid = (ParamGridBuilder().addGrid(lr.elasticNetParam, [0, 0.5, 1.0])\n",
    "                 .addGrid(normalizer.p, [1.0, 3.0]).build())"
   ]
  },
  {
   "cell_type": "code",
   "execution_count": 17,
   "metadata": {},
   "outputs": [],
   "source": [
    "cv = CrossValidator().setEstimator(pipeline).setEvaluator(evaluator).setEstimatorParamMaps(paramGrid).setNumFolds(10)"
   ]
  },
  {
   "cell_type": "code",
   "execution_count": 18,
   "metadata": {},
   "outputs": [
    {
     "name": "stdout",
     "output_type": "stream",
     "text": [
      "Area under the ROC curve for best fitted model = 0.9947145877378436.\n"
     ]
    }
   ],
   "source": [
    "cvModel = cv.fit(train)\n",
    "print('Area under the ROC curve for best fitted model = {}.'.format(evaluator.evaluate(cvModel.transform(test))))"
   ]
  },
  {
   "cell_type": "markdown",
   "metadata": {},
   "source": [
    "Our cross-validated model was 0.58% better at predicting a diagnosis than our original model so we will use the new model for our final predictions. "
   ]
  },
  {
   "cell_type": "code",
   "execution_count": 19,
   "metadata": {},
   "outputs": [
    {
     "name": "stdout",
     "output_type": "stream",
     "text": [
      "Area under the ROC curve for non-tuned model = 0.9890063424947146.\n",
      "Area under the ROC curve for best fitted model = 0.9947145877378436.\n",
      "Improvement = 0.58%\n"
     ]
    }
   ],
   "source": [
    "print('Area under the ROC curve for non-tuned model = {}.'.format(evaluator.evaluate(predictions)))\n",
    "print('Area under the ROC curve for best fitted model = {}.'.format(evaluator.evaluate(cvModel.transform(test))))\n",
    "print('Improvement = {0:0.2f}%'.format((evaluator.evaluate(cvModel.transform(test)) - evaluator.evaluate(predictions)) *100 / evaluator.evaluate(predictions)))"
   ]
  },
  {
   "cell_type": "markdown",
   "metadata": {},
   "source": [
    "<a id=\"best\"></a>\n",
    "## Finalizing and making predictions using the best model\n",
    "First we must filter the data to have only the points that are unlabeled so that we can make predictions on diagnoses for those points."
   ]
  },
  {
   "cell_type": "code",
   "execution_count": 20,
   "metadata": {},
   "outputs": [],
   "source": [
    "UnlabeledData=cancer_nums.filter(\"diagnosis == 'U'\")"
   ]
  },
  {
   "cell_type": "code",
   "execution_count": 21,
   "metadata": {},
   "outputs": [],
   "source": [
    "newPreds = cvModel.transform(UnlabeledData)"
   ]
  },
  {
   "cell_type": "code",
   "execution_count": 22,
   "metadata": {},
   "outputs": [
    {
     "name": "stdout",
     "output_type": "stream",
     "text": [
      "+-----+----------+------------+-----------+------------+--------------+---------+---------------+----------------+--------------+-------------------+-------------+----------------------+---------+----------+------------+-------+-------------+--------------+------------+-----------------+-----------+--------------------+------------+-------------+---------------+----------+----------------+-----------------+---------------+--------------------+--------------+-----------------------+\n",
      "|   id|prediction|predCategory|radius_mean|texture_mean|perimeter_mean|area_mean|smoothness_mean|compactness_mean|concavity_mean|concave points_mean|symmetry_mean|fractal_dimension_mean|radius_se|texture_se|perimeter_se|area_se|smoothness_se|compactness_se|concavity_se|concave points_se|symmetry_se|fractal_dimension_se|radius_worst|texture_worst|perimeter_worst|area_worst|smoothness_worst|compactness_worst|concavity_worst|concave points_worst|symmetry_worst|fractal_dimension_worst|\n",
      "+-----+----------+------------+-----------+------------+--------------+---------+---------------+----------------+--------------+-------------------+-------------+----------------------+---------+----------+------------+-------+-------------+--------------+------------+-----------------+-----------+--------------------+------------+-------------+---------------+----------+----------------+-----------------+---------------+--------------------+--------------+-----------------------+\n",
      "|499.0|       1.0|           M|      18.49|       17.52|         121.3|   1068.0|         0.1012|          0.1317|        0.1491|            0.09183|       0.1832|               0.06697|   0.7923|     1.045|       4.851|  95.77|     0.007974|       0.03214|     0.04435|          0.01573|    0.01617|            0.005255|       22.75|        22.88|          146.4|    1600.0|          0.1412|           0.3089|         0.3533|              0.1663|         0.251|                0.09445|\n",
      "|500.0|       1.0|           M|      20.59|       21.24|         137.8|   1320.0|         0.1085|          0.1644|        0.2188|             0.1121|       0.1848|               0.06222|   0.5904|     1.216|       4.206|  75.09|     0.006666|       0.02791|     0.04062|          0.01479|    0.01117|            0.003727|       23.86|        30.76|          163.2|    1760.0|          0.1464|           0.3597|         0.5179|              0.2113|         0.248|                0.08999|\n",
      "|501.0|       0.0|           B|      15.04|       16.74|         98.73|    689.4|        0.09883|          0.1364|       0.07721|            0.06142|       0.1668|               0.06869|    0.372|    0.8423|       2.304|  34.84|     0.004123|       0.01819|     0.01996|          0.01004|    0.01055|            0.003237|       16.76|        20.43|          109.7|     856.9|          0.1135|           0.2176|         0.1856|              0.1018|        0.2177|                0.08549|\n",
      "|502.0|       1.0|           M|      13.82|       24.49|         92.33|    595.9|         0.1162|          0.1681|        0.1357|            0.06759|       0.2275|               0.07237|   0.4751|     1.528|       2.974|  39.05|      0.00968|       0.03856|     0.03476|          0.01616|    0.02434|            0.006995|       16.01|        32.94|          106.0|     788.0|          0.1794|           0.3966|         0.3381|              0.1521|        0.3651|                 0.1183|\n",
      "|503.0|       0.0|           B|      12.54|       16.32|         81.25|    476.3|         0.1158|          0.1085|       0.05928|            0.03279|       0.1943|               0.06612|   0.2577|     1.095|       1.566|  18.49|     0.009702|       0.01567|     0.02575|          0.01161|    0.02801|             0.00248|       13.57|         21.4|          86.67|     552.0|           0.158|           0.1751|         0.1889|             0.08411|        0.3155|                0.07538|\n",
      "|504.0|       1.0|           M|      23.09|       19.83|         152.1|   1682.0|        0.09342|          0.1275|        0.1676|             0.1003|       0.1505|               0.05484|    1.291|    0.7452|       9.635|  180.2|     0.005753|       0.03356|     0.03976|          0.02156|    0.02201|            0.002897|       30.79|        23.87|          211.5|    2782.0|          0.1199|           0.3625|         0.3794|              0.2264|        0.2908|                0.07277|\n",
      "|505.0|       0.0|           B|      9.268|       12.87|         61.49|    248.7|         0.1634|          0.2239|        0.0973|            0.05252|       0.2378|               0.09502|   0.4076|     1.093|       3.014|  20.04|     0.009783|       0.04542|     0.03483|          0.02188|    0.02542|             0.01045|       10.28|        16.38|          69.05|     300.2|          0.1902|           0.3441|         0.2099|              0.1025|        0.3038|                 0.1252|\n",
      "|506.0|       0.0|           B|      9.676|       13.14|         64.12|    272.5|         0.1255|          0.2204|        0.1188|            0.07038|       0.2057|               0.09575|   0.2744|      1.39|       1.787|  17.67|      0.02177|       0.04888|     0.05189|           0.0145|    0.02632|             0.01148|        10.6|        18.04|          69.47|     328.1|          0.2006|           0.3663|         0.2913|              0.1075|        0.2848|                 0.1364|\n",
      "|507.0|       0.0|           B|      12.22|       20.04|         79.47|    453.1|         0.1096|          0.1152|       0.08175|            0.02166|       0.2124|               0.06894|   0.1811|    0.7959|      0.9857|  12.58|     0.006272|       0.02198|     0.03966|         0.009894|     0.0132|            0.003813|       13.16|        24.17|          85.13|     515.3|          0.1402|           0.2315|         0.3535|             0.08088|        0.2709|                0.08839|\n",
      "|508.0|       0.0|           B|      11.06|       17.12|         71.25|    366.5|         0.1194|          0.1071|       0.04063|            0.04268|       0.1954|               0.07976|   0.1779|      1.03|       1.318|   12.3|      0.01262|       0.02348|       0.018|          0.01285|     0.0222|            0.008313|       11.69|        20.74|          76.08|     411.1|          0.1662|           0.2031|         0.1256|             0.09514|         0.278|                 0.1168|\n",
      "|509.0|       0.0|           B|       16.3|        15.7|         104.7|    819.8|        0.09427|         0.06712|       0.05526|            0.04563|       0.1711|               0.05657|   0.2067|    0.4706|       1.146|  20.67|     0.007394|       0.01203|      0.0247|          0.01431|    0.01344|            0.002569|       17.32|        17.76|          109.8|     928.2|          0.1354|           0.1361|         0.1947|              0.1357|          0.23|                 0.0723|\n",
      "|510.0|       1.0|           M|      15.46|       23.95|         103.8|    731.3|         0.1183|           0.187|         0.203|             0.0852|       0.1807|               0.07083|   0.3331|     1.961|       2.937|  32.52|     0.009538|        0.0494|     0.06019|          0.02041|    0.02105|               0.006|       17.11|        36.33|          117.7|     909.4|          0.1732|           0.4967|         0.5911|              0.2163|        0.3013|                 0.1067|\n",
      "|511.0|       0.0|           B|      11.74|       14.69|         76.31|    426.0|        0.08099|         0.09661|       0.06726|            0.02639|       0.1499|               0.06758|   0.1924|    0.6417|       1.345|  13.04|     0.006982|       0.03916|     0.04017|          0.01528|     0.0226|            0.006822|       12.45|         17.6|          81.25|     473.8|          0.1073|           0.2793|          0.269|              0.1056|        0.2604|                0.09879|\n",
      "|512.0|       0.0|           B|      14.81|        14.7|         94.66|    680.7|        0.08472|         0.05016|       0.03416|            0.02541|       0.1659|               0.05348|   0.2182|    0.6232|       1.677|  20.72|     0.006708|       0.01197|     0.01482|          0.01056|     0.0158|            0.001779|       15.61|        17.58|          101.7|     760.2|          0.1139|           0.1011|         0.1101|             0.07955|        0.2334|                0.06142|\n",
      "|513.0|       1.0|           M|       13.4|       20.52|         88.64|    556.7|         0.1106|          0.1469|        0.1445|            0.08172|       0.2116|               0.07325|   0.3906|    0.9306|       3.093|  33.67|     0.005414|       0.02265|     0.03452|          0.01334|    0.01705|            0.004005|       16.41|        29.66|          113.3|     844.4|          0.1574|           0.3856|         0.5106|              0.2051|        0.3585|                 0.1109|\n",
      "|514.0|       0.0|           B|      14.58|       13.66|         94.29|    658.8|        0.09832|         0.08918|       0.08222|            0.04349|       0.1739|                0.0564|   0.4165|    0.6237|       2.561|  37.11|     0.004953|       0.01812|     0.03035|         0.008648|    0.01539|            0.002281|       16.76|        17.24|          108.5|     862.0|          0.1223|           0.1928|         0.2492|             0.09186|        0.2626|                0.07048|\n",
      "|515.0|       0.0|           B|      15.05|       19.07|         97.26|    701.9|        0.09215|         0.08597|       0.07486|            0.04335|       0.1561|               0.05915|    0.386|     1.198|        2.63|  38.49|     0.004952|        0.0163|     0.02967|         0.009423|    0.01152|            0.001718|       17.58|        28.06|          113.8|     967.0|          0.1246|           0.2101|         0.2866|               0.112|        0.2282|                0.06954|\n",
      "|516.0|       0.0|           B|      11.34|       18.61|         72.76|    391.2|         0.1049|         0.08499|       0.04302|            0.02594|       0.1927|               0.06211|    0.243|      1.01|       1.491|  18.19|     0.008577|       0.01641|     0.02099|          0.01107|    0.02434|            0.001217|       12.47|        23.03|          79.15|     478.6|          0.1483|           0.1574|         0.1624|             0.08542|         0.306|                0.06783|\n",
      "|517.0|       1.0|           M|      18.31|       20.58|         120.8|   1052.0|         0.1068|          0.1248|        0.1569|            0.09451|        0.186|               0.05941|   0.5449|    0.9225|       3.218|  67.36|     0.006176|       0.01877|     0.02913|          0.01046|    0.01559|            0.002725|       21.86|         26.2|          142.2|    1493.0|          0.1492|           0.2536|         0.3759|               0.151|        0.3074|                0.07863|\n",
      "|518.0|       1.0|           M|      19.89|       20.26|         130.5|   1214.0|         0.1037|           0.131|        0.1411|            0.09431|       0.1802|               0.06188|   0.5079|    0.8737|       3.654|   59.7|     0.005089|       0.02303|     0.03052|          0.01178|    0.01057|            0.003391|       23.73|        25.23|          160.5|    1646.0|          0.1417|           0.3309|         0.4185|              0.1613|        0.2549|                0.09136|\n",
      "+-----+----------+------------+-----------+------------+--------------+---------+---------------+----------------+--------------+-------------------+-------------+----------------------+---------+----------+------------+-------+-------------+--------------+------------+-----------------+-----------+--------------------+------------+-------------+---------------+----------+----------------+-----------------+---------------+--------------------+--------------+-----------------------+\n",
      "only showing top 20 rows\n",
      "\n"
     ]
    }
   ],
   "source": [
    "newPreds.select(\"id\",\"prediction\",\"predCategory\",\"radius_mean\",\"texture_mean\",\"perimeter_mean\",\"area_mean\",\"smoothness_mean\",\"compactness_mean\",\"concavity_mean\",\"concave points_mean\",\"symmetry_mean\",\"fractal_dimension_mean\",\"radius_se\",\"texture_se\",\"perimeter_se\",\"area_se\",\"smoothness_se\",\"compactness_se\",\"concavity_se\",\"concave points_se\",\"symmetry_se\",\"fractal_dimension_se\",\"radius_worst\",\"texture_worst\",\"perimeter_worst\",\"area_worst\",\"smoothness_worst\",\"compactness_worst\",\"concavity_worst\",\"concave points_worst\",\"symmetry_worst\",\"fractal_dimension_worst\").show()"
   ]
  },
  {
   "cell_type": "markdown",
   "metadata": {},
   "source": [
    "Below we can see the overall prediction count for diagnoses"
   ]
  },
  {
   "cell_type": "code",
   "execution_count": 23,
   "metadata": {
    "scrolled": true
   },
   "outputs": [
    {
     "name": "stdout",
     "output_type": "stream",
     "text": [
      "The number of records in the unlabeled data set is 71.\n",
      "The number of rows labeled malignant is 18.\n",
      "The number of rows labeled benign is 53.\n"
     ]
    }
   ],
   "source": [
    "print('The number of records in the unlabeled data set is {}.'.format(newPreds.count()))\n",
    "print('The number of rows labeled malignant is {}.'.format(newPreds.filter(newPreds['predCategory'] == \"M\").count()))\n",
    "print('The number of rows labeled benign is {}.'.format(newPreds.filter(newPreds['predCategory'] == \"B\").count()))"
   ]
  },
  {
   "cell_type": "markdown",
   "metadata": {},
   "source": [
    "<a id=\"credentials\"></a>\n",
    "## Insert the object storage credentials\n",
    "\n",
    "Click on the cell below, then on the notebook toolbar, click the box of 1's and 0's, which is the <b>Find and Add Data</b> icon.\n",
    "\n",
    "<img alt=\"IBM Bluemix.Get started now\" src=\"https://raw.githubusercontent.com/bleonardb3/WatsonStudio/master/Lab-1/images/onezeroicon.png\" >\n",
    "\n",
    "Under the cancer_data.csv file, click <b>Insert to code</b> then select the <b>Insert Credentials</b> link to have a credentials dictionary added to the notebook.  \n",
    "\n",
    "\n",
    "\n",
    "Connecting to Cloud Object Storage requires the following information which are provided by the credentials dictionary inserted. \n",
    "\n",
    "    IBM_API_KEY\n",
    "    IAM_SERVICE_ID\n",
    "    ENDPOINT\n",
    "    IBM_AUTH_ENDPOINT\n",
    "\n",
    "We will upload the results file to the same bucket that contains the cancer_data.csv file.  \n",
    "   \n",
    "The @hidden_cell directive tells DSX not to export credentials when sharing."
   ]
  },
  {
   "cell_type": "code",
   "execution_count": 24,
   "metadata": {},
   "outputs": [],
   "source": [
    "# Insert object storage credentials below\n",
    "# Make sure the name that is used is credentials. If credentials_1 is shown, please change to credentials. \n",
    "# @hidden_cell\n",
    "# The following code contains the credentials for a file in your IBM Cloud Object Storage.\n",
    "# You might want to remove those credentials before you share your notebook.\n",
    "credentials = {\n",
    "    'IBM_API_KEY_ID': '54eK5hQft9uVYbrpsxfWs4Tdgw8sbc8weZndKdj8iwhj',\n",
    "    'IAM_SERVICE_ID': 'iam-ServiceId-e54eecd9-137d-44ca-b6d3-87b14b0ad21a',\n",
    "    'ENDPOINT': 'https://s3-api.us-geo.objectstorage.service.networklayer.com',\n",
    "    'IBM_AUTH_ENDPOINT': 'https://iam.ng.bluemix.net/oidc/token',\n",
    "    'BUCKET': 'mlproject-donotdelete-pr-rwqegunlryj5yq',\n",
    "    'FILE': 'cancer_data.csv'\n",
    "}\n"
   ]
  },
  {
   "cell_type": "code",
   "execution_count": 25,
   "metadata": {},
   "outputs": [],
   "source": [
    "valuesToWrite= newPreds.select(\"id\",  \"predCategory\",\"diagnosis\").toPandas().to_csv(path_or_buf=\"cancer_results.csv\",index=False)"
   ]
  },
  {
   "cell_type": "code",
   "execution_count": 26,
   "metadata": {},
   "outputs": [],
   "source": [
    "import ibm_boto3\n",
    "from ibm_botocore.client import Config\n",
    "service_endpoint=credentials['ENDPOINT']\n",
    "auth_endpoint=credentials['IBM_AUTH_ENDPOINT']\n",
    "cos = ibm_boto3.client('s3',\n",
    "                      ibm_api_key_id=credentials['IBM_API_KEY_ID'],\n",
    "                      ibm_service_instance_id=credentials['IAM_SERVICE_ID'],\n",
    "                      ibm_auth_endpoint=auth_endpoint,\n",
    "                      config=Config(signature_version='oauth'),\n",
    "                      endpoint_url=service_endpoint)"
   ]
  },
  {
   "cell_type": "code",
   "execution_count": 27,
   "metadata": {},
   "outputs": [],
   "source": [
    "file=\"cancer_results.csv\"\n",
    "bucket = credentials['BUCKET']\n",
    "cos.upload_file(Filename=file, Bucket=bucket, Key=file)"
   ]
  },
  {
   "cell_type": "markdown",
   "metadata": {},
   "source": [
    "Now we can look in our Cloud Object Storage on the IBM Cloud for the results of our predictions. Within the bucket specified for this project (found in credentials inserted 4 cells above), we can find a .csv file that contains the results of our models prediction and we are able to state whether a tumor is benign or malignant with confidence."
   ]
  },
  {
   "cell_type": "code",
   "execution_count": null,
   "metadata": {},
   "outputs": [],
   "source": []
  }
 ],
 "metadata": {
  "kernelspec": {
   "display_name": "Python 3.5 with Spark 2.1",
   "language": "python",
   "name": "python3-spark21"
  },
  "language_info": {
   "codemirror_mode": {
    "name": "ipython",
    "version": 3
   },
   "file_extension": ".py",
   "mimetype": "text/x-python",
   "name": "python",
   "nbconvert_exporter": "python",
   "pygments_lexer": "ipython3",
   "version": "3.5.4"
  }
 },
 "nbformat": 4,
 "nbformat_minor": 1
}
